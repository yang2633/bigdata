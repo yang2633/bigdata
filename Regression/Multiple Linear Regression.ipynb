{
 "cells": [
  {
   "cell_type": "markdown",
   "metadata": {},
   "source": [
    "# Multiple Linear Regression\n",
    "\n",
    "In this notebook are some exercises to gain more experience with the material presented in the Multiple Linear Regression lecture. You'll get some practice fitting models, and gain a stronger theoretical understanding of the technique as well. We'll also introduce some new important concepts that weren't explicitly covered in the lecture."
   ]
  },
  {
   "cell_type": "code",
   "execution_count": 4,
   "metadata": {},
   "outputs": [],
   "source": [
    "# import the packages we'll use\n",
    "## For data handling\n",
    "import pandas as pd\n",
    "import numpy as np\n",
    "from numpy import meshgrid\n",
    "\n",
    "## For plotting\n",
    "import matplotlib.pyplot as plt\n",
    "import seaborn as sns\n",
    "\n",
    "## This sets the plot style\n",
    "## to have a grid on a white background\n",
    "sns.set_style(\"whitegrid\")\n",
    "\n",
    "import statsmodels.api as sm"
   ]
  },
  {
   "cell_type": "markdown",
   "metadata": {},
   "source": [
    "## Theoretical Questions"
   ]
  },
  {
   "cell_type": "markdown",
   "metadata": {},
   "source": [
    "##### 1. Gradient Descent\n",
    "\n",
    "While we have the normal equation as the OLS estimate for $\\hat{\\beta}$ it is sometimes not ideal to to use that equation to find the estimate. This is because if there are too many features it can be computationally costly to perform the inverse operation.\n",
    "\n",
    "One alternative to the normal equation is to perform gradient descent.\n",
    "\n",
    "Let $\\ell(\\beta)$ denote a loss function. \n",
    "\n",
    "If we remember some Calculus III we'll remember that for a particular value of $\\beta$, say $\\beta^*$, the direction of greatest descent for $\\ell$ at $\\beta^*$, i.e. how to get to the minimum of $\\ell$ most quickly from $\\beta^*$, is the opposite direction of the gradient, $-\\nabla \\ell(\\beta^*)$. You can thus approach the value of $\\beta$ that minimizes $\\ell$ by iteratively updating $\\beta$ by moving in $\\alpha$ sized steps in the direction of greatest descent.\n",
    "\n",
    "Write out an algorithm (in mathematical symbols not code) that leverages the gradient of the loss function to find the optimal $\\hat{\\beta}$ for multiple linear regression."
   ]
  },
  {
   "cell_type": "markdown",
   "metadata": {},
   "source": [
    "#### answer 1\n",
    "start with $\\beta^*$, calcaulate the loss function $\\ell(\\beta)$ and its gradient $\\nabla \\ell(\\beta^*)$\n",
    "\n",
    "set a satisfied value for loss $\\ell_s$:\n",
    "\n",
    "while ($\\ell(\\beta^*)$ > $\\ell_s$) \n",
    "\n",
    "{\n",
    "    $\\beta^*$ += $\\beta^*$ * ($-\\nabla \\ell(\\beta^*)$)\n",
    "}\n",
    "\n",
    "at the end of the loop, $\\hat{\\beta}$ = $\\beta^*$\n",
    "\n",
    "specificlly:\n",
    " $$\\beta_j = \\beta_j - \\alpha {\\delta \\ell\\over \\delta \\beta_l}(\\beta)$$\n",
    "\n",
    "So the main work here is to calculate the loss function (or cost) and the gradient of loss.\n",
    "define the loss function $\\ell(\\theta)$ as following:\n",
    "$$\\ell(\\beta) = {1\\over{2m}}\\sum_{i=i}^m(h_\\beta^{(i)}-y^{(i)})^2$$\n",
    "where\n",
    "$h_\\beta$ is $$hBeta = np.dot(X,Beta)$$\n",
    "so \n",
    "$$\\ell=np.sum(np.square(\\beta-y))/(2*len(y))$$\n",
    "\n",
    "then we compute the gradient of loss $\\ell(\\beta)$ respect to $\\beta$:\n",
    " $${\\delta \\ell\\over \\delta \\beta_j} = {1\\over{m}}\\sum_{i=i}^m(h_\\beta(X^{(i)})  -y^{(i)})\\cdot X^{(i)}$$\n",
    " now we call ${\\delta \\ell\\over \\delta \\beta}$ \"deltaBeta\"\n",
    " $$deltaBeta = np.dot(X.transpose(),(hBeta-y))$$\n",
    "then divide by the total number m:\n",
    "$$deltaBeta = deltaBeta / len(y)$$\n",
    "\n",
    "\n"
   ]
  },
  {
   "cell_type": "markdown",
   "metadata": {},
   "source": [
    "##### 2. Statistical Significance of the Model\n",
    "\n",
    "One kind of explanatory modeling question we may be interested in is whether or not the model is statistically significant. Assuming that we have $m$ features this corresponds to the following hypothesis test:\n",
    "$$\n",
    "\\text{H}_0: \\beta_1 = \\beta_2 = \\dots = \\beta_m \\text{ vs.}\n",
    "$$\n",
    "\n",
    "$$\n",
    "\\text{H}_1: \\text{ at least one of } \\beta_i \\neq 0.\n",
    "$$\n",
    "This test allows you to say whether any of your predictors are significantly associated with the target $y$, when compared to the baseline model of $y=E(y)$. In non-statistical terms we're asking the question: \"Does my regression model contain at least one feature that helps explain what I see in the target variable?\"\n",
    "\n",
    "Let's see how we can perform this test using `statsmodels`.\n",
    "\n",
    "Suppose I fit a multiple linear regression for the following data:"
   ]
  },
  {
   "cell_type": "code",
   "execution_count": 2,
   "metadata": {},
   "outputs": [],
   "source": [
    "X = np.random.randn(100,2)\n",
    "y = 2 + 3*X[:,0] + np.random.randn(100) "
   ]
  },
  {
   "cell_type": "code",
   "execution_count": 3,
   "metadata": {},
   "outputs": [
    {
     "name": "stdout",
     "output_type": "stream",
     "text": [
      "                            OLS Regression Results                            \n",
      "==============================================================================\n",
      "Dep. Variable:                      y   R-squared:                       0.935\n",
      "Model:                            OLS   Adj. R-squared:                  0.934\n",
      "Method:                 Least Squares   F-statistic:                     699.7\n",
      "Date:                Sun, 04 Oct 2020   Prob (F-statistic):           2.34e-58\n",
      "Time:                        14:12:07   Log-Likelihood:                -124.84\n",
      "No. Observations:                 100   AIC:                             255.7\n",
      "Df Residuals:                      97   BIC:                             263.5\n",
      "Df Model:                           2                                         \n",
      "Covariance Type:            nonrobust                                         \n",
      "==============================================================================\n",
      "                 coef    std err          t      P>|t|      [0.025      0.975]\n",
      "------------------------------------------------------------------------------\n",
      "const          2.0257      0.087     23.319      0.000       1.853       2.198\n",
      "x1             3.1064      0.083     37.403      0.000       2.942       3.271\n",
      "x2            -0.0531      0.086     -0.615      0.540      -0.224       0.118\n",
      "==============================================================================\n",
      "Omnibus:                        1.460   Durbin-Watson:                   1.704\n",
      "Prob(Omnibus):                  0.482   Jarque-Bera (JB):                1.187\n",
      "Skew:                           0.008   Prob(JB):                        0.552\n",
      "Kurtosis:                       2.466   Cond. No.                         1.19\n",
      "==============================================================================\n",
      "\n",
      "Warnings:\n",
      "[1] Standard Errors assume that the covariance matrix of the errors is correctly specified.\n"
     ]
    }
   ],
   "source": [
    "fit = sm.OLS(y, sm.add_constant(X)).fit()\n",
    "\n",
    "print(fit.summary())"
   ]
  },
  {
   "cell_type": "markdown",
   "metadata": {},
   "source": [
    "Let's take a closer look at the table.\n",
    "\n",
    "<img src = \"F_stat.png\" style=\"width:60%\"></img>\n",
    "\n",
    "The circled portion of the table is the $F$-statistic of the above hypothesis test and the $p$-value associated with said test. As we should expect here the $p$-value is incredibly low meaning that we would reject the null hypothesis in favor of the alternative.\n",
    "\n",
    "Now return to the beer data and use `statsmodels` to fit a multiple linear regression for the following model:\n",
    "$$\n",
    "\\text{IBU} = \\beta_0 + \\beta_1 \\text{ABV} + \\beta_2 \\text{Stout} + \\beta_3 \\text{Stout} \\times \\text{ABV}.\n",
    "$$\n",
    "\n",
    "Perform the above hypothesis test and interpret the resultst."
   ]
  },
  {
   "cell_type": "code",
   "execution_count": 14,
   "metadata": {},
   "outputs": [
    {
     "name": "stdout",
     "output_type": "stream",
     "text": [
      "beers data length:  347\n",
      "the columns are:  Index(['Beer_Name', 'IBU', 'ABV', 'Rating', 'Beer_Type', 'Stout', 'Stout_ABV'], dtype='object')\n"
     ]
    },
    {
     "data": {
      "text/html": [
       "<div>\n",
       "<style scoped>\n",
       "    .dataframe tbody tr th:only-of-type {\n",
       "        vertical-align: middle;\n",
       "    }\n",
       "\n",
       "    .dataframe tbody tr th {\n",
       "        vertical-align: top;\n",
       "    }\n",
       "\n",
       "    .dataframe thead th {\n",
       "        text-align: right;\n",
       "    }\n",
       "</style>\n",
       "<table border=\"1\" class=\"dataframe\">\n",
       "  <thead>\n",
       "    <tr style=\"text-align: right;\">\n",
       "      <th></th>\n",
       "      <th>Beer_Name</th>\n",
       "      <th>IBU</th>\n",
       "      <th>ABV</th>\n",
       "      <th>Rating</th>\n",
       "      <th>Beer_Type</th>\n",
       "      <th>Stout</th>\n",
       "      <th>Stout_ABV</th>\n",
       "    </tr>\n",
       "  </thead>\n",
       "  <tbody>\n",
       "    <tr>\n",
       "      <th>0</th>\n",
       "      <td>Guinness Draught</td>\n",
       "      <td>45</td>\n",
       "      <td>4.2</td>\n",
       "      <td>3.792</td>\n",
       "      <td>Stout</td>\n",
       "      <td>1</td>\n",
       "      <td>4.2</td>\n",
       "    </tr>\n",
       "    <tr>\n",
       "      <th>1</th>\n",
       "      <td>Breakfast Stout</td>\n",
       "      <td>60</td>\n",
       "      <td>8.3</td>\n",
       "      <td>4.145</td>\n",
       "      <td>Stout</td>\n",
       "      <td>1</td>\n",
       "      <td>8.3</td>\n",
       "    </tr>\n",
       "    <tr>\n",
       "      <th>2</th>\n",
       "      <td>Milk Stout Nitro</td>\n",
       "      <td>25</td>\n",
       "      <td>6.0</td>\n",
       "      <td>3.951</td>\n",
       "      <td>Stout</td>\n",
       "      <td>1</td>\n",
       "      <td>6.0</td>\n",
       "    </tr>\n",
       "    <tr>\n",
       "      <th>3</th>\n",
       "      <td>Dragon’s Milk</td>\n",
       "      <td>31</td>\n",
       "      <td>11.0</td>\n",
       "      <td>4.062</td>\n",
       "      <td>Stout</td>\n",
       "      <td>1</td>\n",
       "      <td>11.0</td>\n",
       "    </tr>\n",
       "    <tr>\n",
       "      <th>4</th>\n",
       "      <td>Old Rasputin</td>\n",
       "      <td>75</td>\n",
       "      <td>9.0</td>\n",
       "      <td>4.018</td>\n",
       "      <td>Stout</td>\n",
       "      <td>1</td>\n",
       "      <td>9.0</td>\n",
       "    </tr>\n",
       "  </tbody>\n",
       "</table>\n",
       "</div>"
      ],
      "text/plain": [
       "          Beer_Name  IBU   ABV  Rating Beer_Type  Stout  Stout_ABV\n",
       "0  Guinness Draught   45   4.2   3.792     Stout      1        4.2\n",
       "1   Breakfast Stout   60   8.3   4.145     Stout      1        8.3\n",
       "2  Milk Stout Nitro   25   6.0   3.951     Stout      1        6.0\n",
       "3     Dragon’s Milk   31  11.0   4.062     Stout      1       11.0\n",
       "4      Old Rasputin   75   9.0   4.018     Stout      1        9.0"
      ]
     },
     "execution_count": 14,
     "metadata": {},
     "output_type": "execute_result"
    }
   ],
   "source": [
    "beers = pd.read_csv(\"beer.csv\")\n",
    "beers['Stout'] = pd.get_dummies(beers['Beer_Type'])['Stout']\n",
    "beers['Stout_ABV'] = beers['Stout']*beers['ABV']\n",
    "print(\"beers data length: \", len(beers))\n",
    "print(\"the columns are: \", beers.columns)\n",
    "beers.head()"
   ]
  },
  {
   "cell_type": "code",
   "execution_count": 15,
   "metadata": {},
   "outputs": [
    {
     "name": "stdout",
     "output_type": "stream",
     "text": [
      "length of training data:  260\n",
      "length of testing data:  87\n"
     ]
    }
   ],
   "source": [
    "beers_copy = beers.copy()\n",
    "beers_train  = beers_copy.sample(frac = 0.75, random_state=404)\n",
    "beers_test = beers_copy.drop(beers_train.index)\n",
    "print(\"length of training data: \", len(beers_train))\n",
    "print(\"length of testing data: \", len(beers_test))"
   ]
  },
  {
   "cell_type": "code",
   "execution_count": 17,
   "metadata": {},
   "outputs": [],
   "source": [
    "def get_X_y(df, features, target):\n",
    "    return np.array(df[features]), np.array(df[target])"
   ]
  },
  {
   "cell_type": "code",
   "execution_count": 19,
   "metadata": {},
   "outputs": [],
   "source": [
    "beers_features = ['ABV', 'Stout', 'Stout_ABV']\n",
    "beers_X_train, beers_y_train = get_X_y(beers_train, beers_features, 'IBU')"
   ]
  },
  {
   "cell_type": "code",
   "execution_count": 21,
   "metadata": {},
   "outputs": [
    {
     "name": "stdout",
     "output_type": "stream",
     "text": [
      "                            OLS Regression Results                            \n",
      "==============================================================================\n",
      "Dep. Variable:                      y   R-squared:                       0.459\n",
      "Model:                            OLS   Adj. R-squared:                  0.453\n",
      "Method:                 Least Squares   F-statistic:                     72.48\n",
      "Date:                Sun, 04 Oct 2020   Prob (F-statistic):           5.79e-34\n",
      "Time:                        14:28:45   Log-Likelihood:                -1121.3\n",
      "No. Observations:                 260   AIC:                             2251.\n",
      "Df Residuals:                     256   BIC:                             2265.\n",
      "Df Model:                           3                                         \n",
      "Covariance Type:            nonrobust                                         \n",
      "==============================================================================\n",
      "                 coef    std err          t      P>|t|      [0.025      0.975]\n",
      "------------------------------------------------------------------------------\n",
      "const         17.8688      7.533      2.372      0.018       3.035      32.703\n",
      "x1             7.0655      1.025      6.893      0.000       5.047       9.084\n",
      "x2            -9.5057      9.186     -1.035      0.302     -27.595       8.584\n",
      "x3            -2.7153      1.192     -2.278      0.024      -5.063      -0.368\n",
      "==============================================================================\n",
      "Omnibus:                      262.951   Durbin-Watson:                   1.855\n",
      "Prob(Omnibus):                  0.000   Jarque-Bera (JB):            15554.553\n",
      "Skew:                           3.815   Prob(JB):                         0.00\n",
      "Kurtosis:                      40.116   Cond. No.                         94.9\n",
      "==============================================================================\n",
      "\n",
      "Warnings:\n",
      "[1] Standard Errors assume that the covariance matrix of the errors is correctly specified.\n"
     ]
    }
   ],
   "source": [
    "fit = sm.OLS(beers_y_train, sm.add_constant(beers_X_train)).fit()\n",
    "print(fit.summary())"
   ]
  },
  {
   "cell_type": "markdown",
   "metadata": {},
   "source": [
    "### Don't get the meaning of F-statistic and p-F-statistic"
   ]
  },
  {
   "cell_type": "markdown",
   "metadata": {},
   "source": [
    "##### 3. The General Linear $F$-Test or Partial $F$-Test\n",
    "\n",
    "The statistical test we showed in problem 2. is not all that useful for determining if specific variables are useful for explaining the variance we see in the target data.\n",
    "\n",
    "You can always perform a hypothesis test for a single coefficient ($\\text{H}_0: \\beta_i = 0$ vs. $\\text{H}_1: \\beta_i \\neq 0$) by examining the confidence interval associated with that coefficient. If the interval contains $0$ you know that the variable is not statistically significant at that confidence level (standard level is $95\\%$).\n",
    "\n",
    "Another test you may wish to perform is the General Linear $F$-Test (also called partial $F$-Test). In this test you are asking the question \"Is my target related to this collection of variables?\". For example suppose you're interested in testing $\\beta_3$, $\\beta_4$, and $\\beta_5$:\n",
    "$$\n",
    "\\text{H}_0: \\beta_3 = \\beta_4 = \\beta_5 = 0 \\text{ vs.}\n",
    "$$\n",
    "\n",
    "$$\n",
    "\\text{H}_1: \\text{ at least one of } \\beta_i, \\ i = 3,4,5 \\text{ are nonzero}\n",
    "$$\n",
    "\n",
    "This test is useful when you're interested in the effects of a categorical variable with more than one category. In that setting you can't just test if one of the categories has a significant effect, you must test all categories concurrently. Thus the confidence interval procedure mentioned above doesn't work.\n",
    "\n",
    "In order to perform this test you need two models, a <i>full model</i> that must at least contain the variables you're interested in testing, and a <i>reduced model</i> that is the full model with the variables you're interested in removed.\n",
    "\n",
    "We'll now show how to do this test with `statsmodels`. \n",
    "\n",
    "For this example the full model is:\n",
    "$$\n",
    "y = \\beta_0 + \\beta_1 x_1 + \\beta_2 \\text{a} + \\beta_2 \\text{b}.\n",
    "$$\n",
    "\n",
    "The reduced model is:\n",
    "$$\n",
    "y = \\beta_0 + \\beta_1 x_1.\n",
    "$$"
   ]
  },
  {
   "cell_type": "code",
   "execution_count": 23,
   "metadata": {},
   "outputs": [],
   "source": [
    "# Here I create some fake data\n",
    "X = np.zeros((600,2))\n",
    "np.random.seed(440)\n",
    "\n",
    "# The first column is a continuous feature\n",
    "X[:,0] = 2*np.random.randn(600)-1\n",
    "\n",
    "# The second is categorical\n",
    "X[:200,1] = 1\n",
    "X[200:400,1] = 2\n",
    "X[400:,1] = 3\n",
    "\n",
    "# y = 1 + 2x_1 + - 2*1_{x_2 == 1} + epsilon\n",
    "y = 1 + 2*X[:,0] + np.random.randn(600)\n",
    "y[X[:,1] == 1] = y[X[:,1] == 1] - 2"
   ]
  },
  {
   "cell_type": "code",
   "execution_count": 24,
   "metadata": {},
   "outputs": [],
   "source": [
    "# Now I put it in a dataframe\n",
    "df = pd.DataFrame({'y':y,'x1':X[:,0],'x2':X[:,1]})\n",
    "\n",
    "df.loc[df.x2 == 1,'x2'] = 'a'\n",
    "df.loc[df.x2 == 2,'x2'] = 'b'\n",
    "df.loc[df.x2 == 3,'x2'] = 'c'\n",
    "\n",
    "# Make dummy variables\n",
    "df[['a','b']] = pd.get_dummies(df['x2'])[['a','b']]"
   ]
  },
  {
   "cell_type": "code",
   "execution_count": 25,
   "metadata": {},
   "outputs": [
    {
     "name": "stdout",
     "output_type": "stream",
     "text": [
      "The F-statistic is [[244.13578899]] which has an associate p-value of 3.566476961458617e-78\n"
     ]
    },
    {
     "name": "stderr",
     "output_type": "stream",
     "text": [
      "C:\\Users\\ywayn\\Anaconda3\\lib\\site-packages\\numpy\\core\\fromnumeric.py:2389: FutureWarning: Method .ptp is deprecated and will be removed in a future version. Use numpy.ptp instead.\n",
      "  return ptp(axis=axis, out=out, **kwargs)\n"
     ]
    }
   ],
   "source": [
    "# First you fit the full model\n",
    "fit = sm.OLS(df['y'],sm.add_constant(df[['x1','a','b']])).fit()\n",
    "\n",
    "# Then we type out the specific hypothesis we're\n",
    "# testing for the reduced model as a string\n",
    "hypotheses = 'a=b=0'\n",
    "\n",
    "# You can then call the f_test with that hypothesis\n",
    "f_test = fit.f_test(hypotheses)\n",
    "\n",
    "print(\"The F-statistic is\",f_test.fvalue, \n",
    "      \"which has an associate p-value of\", f_test.pvalue)\n"
   ]
  },
  {
   "cell_type": "markdown",
   "metadata": {},
   "source": [
    "The results of this test inform us that there is very strong statistical evidence of the categorical variable having an effect on the target `y`. Thus it would be wise to leave it in the model for explanatory purposes.\n",
    "\n",
    "Return to the `carseats` data set and build a full model that includes the `ShelveLoc` variable. Then perform a partial $F$-test to see if there is evidence that shelve location has an effect on `Sales`."
   ]
  },
  {
   "cell_type": "code",
   "execution_count": 29,
   "metadata": {},
   "outputs": [
    {
     "data": {
      "text/html": [
       "<div>\n",
       "<style scoped>\n",
       "    .dataframe tbody tr th:only-of-type {\n",
       "        vertical-align: middle;\n",
       "    }\n",
       "\n",
       "    .dataframe tbody tr th {\n",
       "        vertical-align: top;\n",
       "    }\n",
       "\n",
       "    .dataframe thead th {\n",
       "        text-align: right;\n",
       "    }\n",
       "</style>\n",
       "<table border=\"1\" class=\"dataframe\">\n",
       "  <thead>\n",
       "    <tr style=\"text-align: right;\">\n",
       "      <th></th>\n",
       "      <th>Sales</th>\n",
       "      <th>CompPrice</th>\n",
       "      <th>Income</th>\n",
       "      <th>Advertising</th>\n",
       "      <th>Population</th>\n",
       "      <th>Price</th>\n",
       "      <th>ShelveLoc</th>\n",
       "      <th>Age</th>\n",
       "      <th>Education</th>\n",
       "      <th>Urban</th>\n",
       "      <th>US</th>\n",
       "      <th>Loc_good</th>\n",
       "      <th>Loc_bad</th>\n",
       "    </tr>\n",
       "  </thead>\n",
       "  <tbody>\n",
       "    <tr>\n",
       "      <th>0</th>\n",
       "      <td>9.50</td>\n",
       "      <td>138</td>\n",
       "      <td>73</td>\n",
       "      <td>11</td>\n",
       "      <td>276</td>\n",
       "      <td>120</td>\n",
       "      <td>Bad</td>\n",
       "      <td>42</td>\n",
       "      <td>17</td>\n",
       "      <td>Yes</td>\n",
       "      <td>Yes</td>\n",
       "      <td>0</td>\n",
       "      <td>1</td>\n",
       "    </tr>\n",
       "    <tr>\n",
       "      <th>1</th>\n",
       "      <td>11.22</td>\n",
       "      <td>111</td>\n",
       "      <td>48</td>\n",
       "      <td>16</td>\n",
       "      <td>260</td>\n",
       "      <td>83</td>\n",
       "      <td>Good</td>\n",
       "      <td>65</td>\n",
       "      <td>10</td>\n",
       "      <td>Yes</td>\n",
       "      <td>Yes</td>\n",
       "      <td>1</td>\n",
       "      <td>0</td>\n",
       "    </tr>\n",
       "    <tr>\n",
       "      <th>2</th>\n",
       "      <td>10.06</td>\n",
       "      <td>113</td>\n",
       "      <td>35</td>\n",
       "      <td>10</td>\n",
       "      <td>269</td>\n",
       "      <td>80</td>\n",
       "      <td>Medium</td>\n",
       "      <td>59</td>\n",
       "      <td>12</td>\n",
       "      <td>Yes</td>\n",
       "      <td>Yes</td>\n",
       "      <td>0</td>\n",
       "      <td>0</td>\n",
       "    </tr>\n",
       "    <tr>\n",
       "      <th>3</th>\n",
       "      <td>7.40</td>\n",
       "      <td>117</td>\n",
       "      <td>100</td>\n",
       "      <td>4</td>\n",
       "      <td>466</td>\n",
       "      <td>97</td>\n",
       "      <td>Medium</td>\n",
       "      <td>55</td>\n",
       "      <td>14</td>\n",
       "      <td>Yes</td>\n",
       "      <td>Yes</td>\n",
       "      <td>0</td>\n",
       "      <td>0</td>\n",
       "    </tr>\n",
       "    <tr>\n",
       "      <th>4</th>\n",
       "      <td>4.15</td>\n",
       "      <td>141</td>\n",
       "      <td>64</td>\n",
       "      <td>3</td>\n",
       "      <td>340</td>\n",
       "      <td>128</td>\n",
       "      <td>Bad</td>\n",
       "      <td>38</td>\n",
       "      <td>13</td>\n",
       "      <td>Yes</td>\n",
       "      <td>No</td>\n",
       "      <td>0</td>\n",
       "      <td>1</td>\n",
       "    </tr>\n",
       "  </tbody>\n",
       "</table>\n",
       "</div>"
      ],
      "text/plain": [
       "   Sales  CompPrice  Income  Advertising  Population  Price ShelveLoc  Age  \\\n",
       "0   9.50        138      73           11         276    120       Bad   42   \n",
       "1  11.22        111      48           16         260     83      Good   65   \n",
       "2  10.06        113      35           10         269     80    Medium   59   \n",
       "3   7.40        117     100            4         466     97    Medium   55   \n",
       "4   4.15        141      64            3         340    128       Bad   38   \n",
       "\n",
       "   Education Urban   US  Loc_good  Loc_bad  \n",
       "0         17   Yes  Yes         0        1  \n",
       "1         10   Yes  Yes         1        0  \n",
       "2         12   Yes  Yes         0        0  \n",
       "3         14   Yes  Yes         0        0  \n",
       "4         13   Yes   No         0        1  "
      ]
     },
     "execution_count": 29,
     "metadata": {},
     "output_type": "execute_result"
    }
   ],
   "source": [
    "carseats = pd.read_csv(\"carseats.csv\")\n",
    "carseats[['Loc_good', 'Loc_bad']] = pd.get_dummies(carseats['ShelveLoc'])[['Good', 'Bad']]\n",
    "carseats.head()"
   ]
  },
  {
   "cell_type": "code",
   "execution_count": 35,
   "metadata": {},
   "outputs": [],
   "source": [
    "car_copy = carseats.copy()\n",
    "car_train = car_copy.sample(frac=0.75, random_state=404)\n",
    "car_test = car_copy.drop(car_train.index)"
   ]
  },
  {
   "cell_type": "markdown",
   "metadata": {},
   "source": [
    "#### from previous work, it is known that ['Advertising', 'Age', 'Income', 'Price', 'Loc_good', 'Loc_medium'] are the features gives best pridiction, but for simplicity, here only choose ['Advertising, 'Loc_good', 'Loc_bad'] as features"
   ]
  },
  {
   "cell_type": "code",
   "execution_count": 31,
   "metadata": {},
   "outputs": [],
   "source": [
    "car_features = ['Advertising', 'Loc_good', 'Loc_bad']"
   ]
  },
  {
   "cell_type": "code",
   "execution_count": 37,
   "metadata": {},
   "outputs": [
    {
     "name": "stdout",
     "output_type": "stream",
     "text": [
      "The F-statistic is [[72.74559468]] which has an associate p-value of 2.0077571090480923e-26\n"
     ]
    }
   ],
   "source": [
    "fit = sm.OLS(car_train['Sales'],sm.add_constant(car_train[car_features])).fit()\n",
    "hypotheses = 'Loc_good=Loc_bad=0'\n",
    "f_test = fit.f_test(hypotheses)\n",
    "print(\"The F-statistic is\",f_test.fvalue, \n",
    "      \"which has an associate p-value of\", f_test.pvalue)"
   ]
  },
  {
   "cell_type": "markdown",
   "metadata": {},
   "source": [
    "### Still no idea what are the meanings of F-statistic and p-F-statistic"
   ]
  },
  {
   "cell_type": "markdown",
   "metadata": {},
   "source": [
    "##### 4. Sum of Squares Table\n",
    "\n",
    "Recall that the goal of explanatory modeling is to help explain the target data. This means trying to explain the variance of the target data.\n",
    "\n",
    "One way we can examine this is by looking at the <i>Sum of Squares Table</i>.\n",
    "\n",
    "Recall the variance of $y$ is how much it deviates from $\\overline{y}$, i.e.\n",
    "$$\n",
    "\\sum_{i=1}^n \\left(y_i - \\overline{y}\\right)^2 = \\text{SST},\n",
    "$$\n",
    "the total sum of squares, it can be shown that:\n",
    "$$\n",
    "\\text{SST} = \\sum_{i=1}^n \\left(\\hat{y}_i - \\overline{y} \\right)^2 + \\sum_{i=1}^n\\left(\\hat{y}_i - y_i\\right)^2 = \\text{SSM} + \\text{SSR},\n",
    "$$\n",
    "where $\\text{SSM}$ denotes the model sum of squares and $\\text{SSR}$ denotes the residual sum of squares.\n",
    "\n",
    "Note the $\\text{SSR}$ is $n \\text{MSE}$, and thus estimates $\\sigma^2$. The $\\text{SSM}$ term estimates the variance in $y$ that is explained by the model.\n",
    "\n",
    "Further for multiple linear regression $\\text{SSM}$ can be broken down into contributions to the variance from each individual variable.\n",
    "\n",
    "Let's demonstrate how to get the sum of squares table using `statsmodels`.\n"
   ]
  },
  {
   "cell_type": "code",
   "execution_count": 38,
   "metadata": {},
   "outputs": [],
   "source": [
    "# Here I create some fake data\n",
    "np.random.seed(440)\n",
    "X = np.zeros((600,2))\n",
    "\n",
    "# The first column is a continuous feature\n",
    "X[:,0] = 2*np.random.randn(600)-1\n",
    "\n",
    "# The second is categorical\n",
    "X[:200,1] = 1\n",
    "X[200:400,1] = 2\n",
    "X[400:,1] = 3\n",
    "\n",
    "# y = 1 + 2x_1 + - 2*1_{x_2 == 1} + epsilon\n",
    "y = 1 + 2*X[:,0] + np.random.randn(600)\n",
    "y[X[:,1] == 1] = y[X[:,1] == 1] - 2"
   ]
  },
  {
   "cell_type": "code",
   "execution_count": 39,
   "metadata": {},
   "outputs": [],
   "source": [
    "# Now I put it in a dataframe\n",
    "df = pd.DataFrame({'y':y,'x1':X[:,0],'x2':X[:,1]})\n",
    "\n",
    "df.loc[df.x2 == 1,'x2'] = 'a'\n",
    "df.loc[df.x2 == 2,'x2'] = 'b'\n",
    "df.loc[df.x2 == 3,'x2'] = 'c'\n",
    "\n",
    "# Make dummy variables\n",
    "df[['a','b']] = pd.get_dummies(df['x2'])[['a','b']]"
   ]
  },
  {
   "cell_type": "code",
   "execution_count": 40,
   "metadata": {},
   "outputs": [
    {
     "data": {
      "text/html": [
       "<div>\n",
       "<style scoped>\n",
       "    .dataframe tbody tr th:only-of-type {\n",
       "        vertical-align: middle;\n",
       "    }\n",
       "\n",
       "    .dataframe tbody tr th {\n",
       "        vertical-align: top;\n",
       "    }\n",
       "\n",
       "    .dataframe thead th {\n",
       "        text-align: right;\n",
       "    }\n",
       "</style>\n",
       "<table border=\"1\" class=\"dataframe\">\n",
       "  <thead>\n",
       "    <tr style=\"text-align: right;\">\n",
       "      <th></th>\n",
       "      <th>df</th>\n",
       "      <th>sum_sq</th>\n",
       "      <th>mean_sq</th>\n",
       "      <th>F</th>\n",
       "      <th>PR(&gt;F)</th>\n",
       "    </tr>\n",
       "  </thead>\n",
       "  <tbody>\n",
       "    <tr>\n",
       "      <th>x1</th>\n",
       "      <td>1.0</td>\n",
       "      <td>9821.083158</td>\n",
       "      <td>9821.083158</td>\n",
       "      <td>9566.082414</td>\n",
       "      <td>0.000000e+00</td>\n",
       "    </tr>\n",
       "    <tr>\n",
       "      <th>a</th>\n",
       "      <td>1.0</td>\n",
       "      <td>500.690058</td>\n",
       "      <td>500.690058</td>\n",
       "      <td>487.689829</td>\n",
       "      <td>2.033895e-79</td>\n",
       "    </tr>\n",
       "    <tr>\n",
       "      <th>b</th>\n",
       "      <td>1.0</td>\n",
       "      <td>0.597257</td>\n",
       "      <td>0.597257</td>\n",
       "      <td>0.581749</td>\n",
       "      <td>4.459292e-01</td>\n",
       "    </tr>\n",
       "    <tr>\n",
       "      <th>Residual</th>\n",
       "      <td>596.0</td>\n",
       "      <td>611.887428</td>\n",
       "      <td>1.026657</td>\n",
       "      <td>NaN</td>\n",
       "      <td>NaN</td>\n",
       "    </tr>\n",
       "  </tbody>\n",
       "</table>\n",
       "</div>"
      ],
      "text/plain": [
       "             df       sum_sq      mean_sq            F        PR(>F)\n",
       "x1          1.0  9821.083158  9821.083158  9566.082414  0.000000e+00\n",
       "a           1.0   500.690058   500.690058   487.689829  2.033895e-79\n",
       "b           1.0     0.597257     0.597257     0.581749  4.459292e-01\n",
       "Residual  596.0   611.887428     1.026657          NaN           NaN"
      ]
     },
     "execution_count": 40,
     "metadata": {},
     "output_type": "execute_result"
    }
   ],
   "source": [
    "# First you fit the model\n",
    "# note that we use ols instead of sm.OLS\n",
    "from statsmodels.formula.api import ols\n",
    "\n",
    "# for ols you write the regression formula\n",
    "# as a string\n",
    "fit = ols('y ~ x1 + a + b', df).fit()\n",
    "\n",
    "\n",
    "sm.stats.anova_lm(fit)"
   ]
  },
  {
   "cell_type": "markdown",
   "metadata": {},
   "source": [
    "In the above table you can sum up the `sum_sq` column to get $\\text{SST}$. Each entry in the `sum_sq` column is that variable's (or the residual's) contribution to the $\\text{SST}$.\n",
    "\n",
    "<b>Note: Sums of squares are quite susceptible to the scale of the data. So a variable with a very large scale (say the 1000s) may seem more important than another variable with a very small scale (say 1/10s). Thus it is important to scale your data before fitting the model.</b>\n",
    "\n",
    "Return to the `beer` data, then create the sum of squares table for the following model:\n",
    "$$\n",
    "\\text{IBU} = \\beta_0 + \\beta_1 \\text{ABV} + \\beta_2 \\text{Stout} + \\beta_3 \\text{ABV} \\times \\text{Stout} + \\epsilon.\n",
    "$$"
   ]
  },
  {
   "cell_type": "code",
   "execution_count": 41,
   "metadata": {},
   "outputs": [
    {
     "data": {
      "text/html": [
       "<div>\n",
       "<style scoped>\n",
       "    .dataframe tbody tr th:only-of-type {\n",
       "        vertical-align: middle;\n",
       "    }\n",
       "\n",
       "    .dataframe tbody tr th {\n",
       "        vertical-align: top;\n",
       "    }\n",
       "\n",
       "    .dataframe thead th {\n",
       "        text-align: right;\n",
       "    }\n",
       "</style>\n",
       "<table border=\"1\" class=\"dataframe\">\n",
       "  <thead>\n",
       "    <tr style=\"text-align: right;\">\n",
       "      <th></th>\n",
       "      <th>df</th>\n",
       "      <th>sum_sq</th>\n",
       "      <th>mean_sq</th>\n",
       "      <th>F</th>\n",
       "      <th>PR(&gt;F)</th>\n",
       "    </tr>\n",
       "  </thead>\n",
       "  <tbody>\n",
       "    <tr>\n",
       "      <th>ABV</th>\n",
       "      <td>1.0</td>\n",
       "      <td>16045.924112</td>\n",
       "      <td>16045.924112</td>\n",
       "      <td>48.426641</td>\n",
       "      <td>2.864470e-11</td>\n",
       "    </tr>\n",
       "    <tr>\n",
       "      <th>Stout</th>\n",
       "      <td>1.0</td>\n",
       "      <td>54277.891361</td>\n",
       "      <td>54277.891361</td>\n",
       "      <td>163.810819</td>\n",
       "      <td>2.529359e-29</td>\n",
       "    </tr>\n",
       "    <tr>\n",
       "      <th>Stout_ABV</th>\n",
       "      <td>1.0</td>\n",
       "      <td>1719.256084</td>\n",
       "      <td>1719.256084</td>\n",
       "      <td>5.188719</td>\n",
       "      <td>2.355873e-02</td>\n",
       "    </tr>\n",
       "    <tr>\n",
       "      <th>Residual</th>\n",
       "      <td>256.0</td>\n",
       "      <td>84824.313058</td>\n",
       "      <td>331.344973</td>\n",
       "      <td>NaN</td>\n",
       "      <td>NaN</td>\n",
       "    </tr>\n",
       "  </tbody>\n",
       "</table>\n",
       "</div>"
      ],
      "text/plain": [
       "              df        sum_sq       mean_sq           F        PR(>F)\n",
       "ABV          1.0  16045.924112  16045.924112   48.426641  2.864470e-11\n",
       "Stout        1.0  54277.891361  54277.891361  163.810819  2.529359e-29\n",
       "Stout_ABV    1.0   1719.256084   1719.256084    5.188719  2.355873e-02\n",
       "Residual   256.0  84824.313058    331.344973         NaN           NaN"
      ]
     },
     "execution_count": 41,
     "metadata": {},
     "output_type": "execute_result"
    }
   ],
   "source": [
    "beer_fit = ols('IBU ~ ABV + Stout + Stout_ABV', beers_train).fit()\n",
    "sm.stats.anova_lm(beer_fit)"
   ]
  },
  {
   "cell_type": "markdown",
   "metadata": {},
   "source": [
    "### now try to scale beers"
   ]
  },
  {
   "cell_type": "code",
   "execution_count": 43,
   "metadata": {},
   "outputs": [
    {
     "data": {
      "text/html": [
       "<div>\n",
       "<style scoped>\n",
       "    .dataframe tbody tr th:only-of-type {\n",
       "        vertical-align: middle;\n",
       "    }\n",
       "\n",
       "    .dataframe tbody tr th {\n",
       "        vertical-align: top;\n",
       "    }\n",
       "\n",
       "    .dataframe thead th {\n",
       "        text-align: right;\n",
       "    }\n",
       "</style>\n",
       "<table border=\"1\" class=\"dataframe\">\n",
       "  <thead>\n",
       "    <tr style=\"text-align: right;\">\n",
       "      <th></th>\n",
       "      <th>Beer_Name</th>\n",
       "      <th>IBU</th>\n",
       "      <th>ABV</th>\n",
       "      <th>Rating</th>\n",
       "      <th>Beer_Type</th>\n",
       "      <th>Stout</th>\n",
       "      <th>Stout_ABV</th>\n",
       "    </tr>\n",
       "  </thead>\n",
       "  <tbody>\n",
       "    <tr>\n",
       "      <th>0</th>\n",
       "      <td>Guinness Draught</td>\n",
       "      <td>45</td>\n",
       "      <td>4.2</td>\n",
       "      <td>3.792</td>\n",
       "      <td>Stout</td>\n",
       "      <td>1</td>\n",
       "      <td>4.2</td>\n",
       "    </tr>\n",
       "    <tr>\n",
       "      <th>1</th>\n",
       "      <td>Breakfast Stout</td>\n",
       "      <td>60</td>\n",
       "      <td>8.3</td>\n",
       "      <td>4.145</td>\n",
       "      <td>Stout</td>\n",
       "      <td>1</td>\n",
       "      <td>8.3</td>\n",
       "    </tr>\n",
       "    <tr>\n",
       "      <th>2</th>\n",
       "      <td>Milk Stout Nitro</td>\n",
       "      <td>25</td>\n",
       "      <td>6.0</td>\n",
       "      <td>3.951</td>\n",
       "      <td>Stout</td>\n",
       "      <td>1</td>\n",
       "      <td>6.0</td>\n",
       "    </tr>\n",
       "    <tr>\n",
       "      <th>3</th>\n",
       "      <td>Dragon’s Milk</td>\n",
       "      <td>31</td>\n",
       "      <td>11.0</td>\n",
       "      <td>4.062</td>\n",
       "      <td>Stout</td>\n",
       "      <td>1</td>\n",
       "      <td>11.0</td>\n",
       "    </tr>\n",
       "    <tr>\n",
       "      <th>4</th>\n",
       "      <td>Old Rasputin</td>\n",
       "      <td>75</td>\n",
       "      <td>9.0</td>\n",
       "      <td>4.018</td>\n",
       "      <td>Stout</td>\n",
       "      <td>1</td>\n",
       "      <td>9.0</td>\n",
       "    </tr>\n",
       "  </tbody>\n",
       "</table>\n",
       "</div>"
      ],
      "text/plain": [
       "          Beer_Name  IBU   ABV  Rating Beer_Type  Stout  Stout_ABV\n",
       "0  Guinness Draught   45   4.2   3.792     Stout      1        4.2\n",
       "1   Breakfast Stout   60   8.3   4.145     Stout      1        8.3\n",
       "2  Milk Stout Nitro   25   6.0   3.951     Stout      1        6.0\n",
       "3     Dragon’s Milk   31  11.0   4.062     Stout      1       11.0\n",
       "4      Old Rasputin   75   9.0   4.018     Stout      1        9.0"
      ]
     },
     "execution_count": 43,
     "metadata": {},
     "output_type": "execute_result"
    }
   ],
   "source": [
    "beers.head()"
   ]
  },
  {
   "cell_type": "code",
   "execution_count": 45,
   "metadata": {},
   "outputs": [],
   "source": [
    "# function to scale a column of dp\n",
    "def scaleCol(col, l_max, l_min):\n",
    "    interval = l_max-l_min\n",
    "    return (col/interval) * 100\n",
    "    \n",
    "def scaleDF(df, features):\n",
    "    res_df = df\n",
    "    for f in features:\n",
    "        l_max, l_min = max(res_df[f]), min(res_df[f])\n",
    "        res_df[f] = scaleCol(res_df[f], l_max, l_min)\n",
    "    return res_df"
   ]
  },
  {
   "cell_type": "code",
   "execution_count": 49,
   "metadata": {},
   "outputs": [],
   "source": [
    "features_to_scale = ['ABV', 'Stout', 'Stout_ABV']\n",
    "beers_scaled = scaleDF(beers, features_to_scale)\n",
    "#beers_scaled.sample(50)"
   ]
  },
  {
   "cell_type": "code",
   "execution_count": 47,
   "metadata": {},
   "outputs": [
    {
     "data": {
      "text/html": [
       "<div>\n",
       "<style scoped>\n",
       "    .dataframe tbody tr th:only-of-type {\n",
       "        vertical-align: middle;\n",
       "    }\n",
       "\n",
       "    .dataframe tbody tr th {\n",
       "        vertical-align: top;\n",
       "    }\n",
       "\n",
       "    .dataframe thead th {\n",
       "        text-align: right;\n",
       "    }\n",
       "</style>\n",
       "<table border=\"1\" class=\"dataframe\">\n",
       "  <thead>\n",
       "    <tr style=\"text-align: right;\">\n",
       "      <th></th>\n",
       "      <th>df</th>\n",
       "      <th>sum_sq</th>\n",
       "      <th>mean_sq</th>\n",
       "      <th>F</th>\n",
       "      <th>PR(&gt;F)</th>\n",
       "    </tr>\n",
       "  </thead>\n",
       "  <tbody>\n",
       "    <tr>\n",
       "      <th>ABV</th>\n",
       "      <td>1.0</td>\n",
       "      <td>26296.501488</td>\n",
       "      <td>26296.501488</td>\n",
       "      <td>88.578529</td>\n",
       "      <td>7.299234e-19</td>\n",
       "    </tr>\n",
       "    <tr>\n",
       "      <th>Stout</th>\n",
       "      <td>1.0</td>\n",
       "      <td>68707.203261</td>\n",
       "      <td>68707.203261</td>\n",
       "      <td>231.436983</td>\n",
       "      <td>2.644882e-40</td>\n",
       "    </tr>\n",
       "    <tr>\n",
       "      <th>Stout_ABV</th>\n",
       "      <td>1.0</td>\n",
       "      <td>4143.705912</td>\n",
       "      <td>4143.705912</td>\n",
       "      <td>13.957879</td>\n",
       "      <td>2.188972e-04</td>\n",
       "    </tr>\n",
       "    <tr>\n",
       "      <th>Residual</th>\n",
       "      <td>343.0</td>\n",
       "      <td>101827.159944</td>\n",
       "      <td>296.872186</td>\n",
       "      <td>NaN</td>\n",
       "      <td>NaN</td>\n",
       "    </tr>\n",
       "  </tbody>\n",
       "</table>\n",
       "</div>"
      ],
      "text/plain": [
       "              df         sum_sq       mean_sq           F        PR(>F)\n",
       "ABV          1.0   26296.501488  26296.501488   88.578529  7.299234e-19\n",
       "Stout        1.0   68707.203261  68707.203261  231.436983  2.644882e-40\n",
       "Stout_ABV    1.0    4143.705912   4143.705912   13.957879  2.188972e-04\n",
       "Residual   343.0  101827.159944    296.872186         NaN           NaN"
      ]
     },
     "execution_count": 47,
     "metadata": {},
     "output_type": "execute_result"
    }
   ],
   "source": [
    "beer_scaled_fit = ols('IBU ~ ABV + Stout + Stout_ABV', beers_scaled).fit()\n",
    "sm.stats.anova_lm(beer_scaled_fit)"
   ]
  },
  {
   "cell_type": "markdown",
   "metadata": {},
   "source": [
    "### there is clear increase in ABV's contribution to sum_sq"
   ]
  },
  {
   "cell_type": "markdown",
   "metadata": {},
   "source": [
    "##### 5. Interpreting Interaction Terms.\n",
    "\n",
    "Look at the model you just fit for the `beer` data. Try to interpret the estimates of the various coefficients."
   ]
  },
  {
   "cell_type": "code",
   "execution_count": null,
   "metadata": {},
   "outputs": [],
   "source": [
    "## Code here or write here\n",
    "\n",
    "\n",
    "\n",
    "\n"
   ]
  },
  {
   "cell_type": "markdown",
   "metadata": {},
   "source": [
    "##### 6. Model Selection Algorithms\n",
    "\n",
    "Here we'll describe two additional model selection algorithms.\n",
    "\n",
    "##### Forwards Selection\n",
    "\n",
    "Say you have $m$ predictors $X_1,\\dots,X_m$, and a target $y$. \n",
    "\n",
    "Starting with an empty model you build $m$ simple linear regression models and then choose the one with lowest testing error (for instance by looking at the average cv error). Call this model $1$. \n",
    "\n",
    "Take model $1$ and go through the remaining $m-1$ features and add them one at a time to model $1$. This will give you $m-1$ two feature models. Look at the one with lowest testing error, call it model $2$. If model $2$ has lower testing error than model $1$ continue in this way and look at the remaining $m-2$ predictors. If model $1$ has the lower testing error you stop and model $1$ is the model you choose.\n",
    "\n",
    "You continue until you either find a model with lowest testing error (for example if model $3$ had lower testing error than model $4$ you chose model $3$), or until you have built the model regressing $y$ on all of $X_1,\\dots,X_m$.\n",
    "\n",
    "##### Backwards Selection\n",
    "\n",
    "This algorithm is sort of the opposite of forwards selection.\n",
    "\n",
    "Again say you have $m$ predictors $X_1,\\dots,X_m$ and a target $y$.\n",
    "\n",
    "Starting with the model regressing $y$ on all of $X_1,\\dots,X_m$, remove each of the $X_i$ predictors one at a time, regressing $y$ on the remaining $m-1$ features. If one of these models has lower testing error than the full model take it and call it model $1$. If none of those models has lower testing error than the full model stick with the full model.\n",
    "\n",
    "Take model $1$ and remove each of the $m-1$ predictors one at a time, regressing $y$ on the remaining $m-2$ features. If one of those models has lower testing error than model $1$ take it and call it model $2$. If none of those models has lower testing error than model $1$ stick with model $1$.\n",
    "\n",
    "Continue in this way until you have a reduced model with lowest testing error, or until you end up with the model with no predictors, i.e. $y = E(y)$.\n",
    "\n",
    "###### Greedy Algorithms\n",
    "\n",
    "These are both <i>greedy algorithms</i> because at each step you take the move that benefits you the most in the moment, but you don't explore suboptimal paths that may be better in the long run. While you may not get the best model, you're willing to go with a model that is close to correct in a faster time. Both of these algorithms at worst require fitting $m!$ models as opposed to the $2^m$ models required for the brute force approach.\n",
    "\n",
    "#### The Problem\n",
    "\n",
    "Choose one of either forwards or backwards selection and program the algorithm to build a model to predict `Sales` from the `Advertising` data."
   ]
  },
  {
   "cell_type": "code",
   "execution_count": 5,
   "metadata": {},
   "outputs": [
    {
     "name": "stdout",
     "output_type": "stream",
     "text": [
      "the length of Advertsing data set is 200\n",
      "the columns are:  Index(['TV', 'radio', 'newspaper', 'sales'], dtype='object')\n"
     ]
    }
   ],
   "source": [
    "ad = pd.read_csv(\"Advertising.csv\")\n",
    "print(\"the length of Advertsing data set is\", len(ad))\n",
    "print(\"the columns are: \", ad.columns)"
   ]
  },
  {
   "cell_type": "code",
   "execution_count": 6,
   "metadata": {},
   "outputs": [],
   "source": [
    "from sklearn.linear_model import LinearRegression\n",
    "from sklearn.base import clone"
   ]
  },
  {
   "cell_type": "code",
   "execution_count": 13,
   "metadata": {},
   "outputs": [],
   "source": [
    "# features are ['TV', 'radio', 'newspaper']\n",
    "# target is ['Sales']\n",
    "# three features to choose from, make a function might be a good idea though it's useless for complacated data set\n",
    "def loss(model, X_test, y_test):\n",
    "    pred = model.predict(X_test)\n",
    "    return np.sum(np.power(pred-y_test, 2))/len(y_test)\n",
    "\n",
    "def get_X_y(df, features, target):\n",
    "    return np.array(df[features]), np.array(df[target])\n",
    "    #return np.array(df[features]).reshape(-1, len(features)), np.array(df[target]).reshape(-1, 1)\n",
    "\n",
    "def build_one(df_train, df_test, feature, target):\n",
    "    reg_temp = LinearRegression(copy_X = True)\n",
    "    X_train, y_train = get_X_y(df_train, feature, target)\n",
    "    X_test, y_test = get_X_y(df_test, feature, target)\n",
    "    reg_temp.fit(X_train, y_train)\n",
    "    loss_temp = loss(reg_temp, X_test, y_test)\n",
    "    return reg_temp, loss_temp, feature\n",
    "\n",
    "def build_first(df_train, df_test, features, target):\n",
    "    reg = LinearRegression(copy_X = True)\n",
    "    cur_model, cur_loss, cur_feature = build_one(df_train, df_test, [features[0]], target)\n",
    "    for f in features:\n",
    "        new_model, new_loss, new_feature = build_one(df_train, df_test, [f], target)\n",
    "        if new_loss < cur_loss:\n",
    "            cur_model, cur_loss, cur_feature = new_model, new_loss, new_feature\n",
    "    return cur_model, cur_loss, cur_feature\n",
    "\n",
    "def build_new(cur_model, cur_loss, df_train, df_test, cur_features, new_features, target, flag):\n",
    "    previous_loss = cur_loss\n",
    "    \n",
    "    for new_f in new_features:\n",
    "        temp_features = cur_features + [new_f]\n",
    "        reg_temp = LinearRegression(copy_X = True)\n",
    "        X_train, y_train = get_X_y(df_train, temp_features, target)\n",
    "        X_test, y_test = get_X_y(df_test, temp_features, target)\n",
    "        reg_temp.fit(X_train, y_train)\n",
    "        loss_temp = loss(reg_temp, X_test, y_test)\n",
    "        if loss_temp < cur_loss:\n",
    "            cur_model, cur_loss, cur_features = reg_temp, loss_temp, temp_features\n",
    "    if cur_loss == previous_loss:\n",
    "        flag = False\n",
    "    return cur_model, cur_loss, cur_features, flag\n",
    "        \n",
    "def greedyForwards(df, features,target):\n",
    "    # function loss(model, X_test, y_test) to compute the loss function of model \n",
    "    # first build new Model for each feature and select the best one -- build_one(features)\n",
    "    # function build new Model build_new(cur_features, features_to_add, cur_model)\n",
    "    # for each feature_to_add f, add f to cur_features, and build a ne multi linear regression model new_model, compare its loss with \n",
    "    # the current model by comparing loss(new_model, test_X, test_y) and loss(model, test_X, test_y) \n",
    "    # continue if the new model is better else stop and use the current model\n",
    "    \n",
    "    # first split the data into train and test sets\n",
    "    df_copy = df.copy()\n",
    "    df_train = df_copy.sample(frac = 0.75, random_state=404)\n",
    "    #print(\"length,\",len(df_train))\n",
    "    df_test = df_copy.drop(df_train.index)\n",
    "    # build first model with one feature\n",
    "    model0, loss0, f0 = build_first(df_train, df_test, features, target)\n",
    "    #build_new(cur_model, cur_loss, df_train, df_test, cur_features, new_features target, flag)\n",
    "    flag = True\n",
    "    model, loss, fs, flag = model0, loss0, f0, flag\n",
    "    while flag:\n",
    "        new_features = list(set(features)-set(fs))\n",
    "        model, loss, fs, flag = build_new(model, loss, df_train, df_test, fs, new_features, target, flag)\n",
    "    return model, fs, loss"
   ]
  },
  {
   "cell_type": "code",
   "execution_count": 14,
   "metadata": {},
   "outputs": [
    {
     "name": "stdout",
     "output_type": "stream",
     "text": [
      "the selected features for multi-linear model are:  ['TV', 'newspaper', 'radio']\n",
      "the loss is  2.620169676732149\n"
     ]
    }
   ],
   "source": [
    "ad_features = ['TV', 'radio', 'newspaper']\n",
    "ad_target = 'sales'\n",
    "ad_model, selected_features, ad_loss = greedyForwards(ad,ad_features, ad_target)\n",
    "print(\"the selected features for multi-linear model are: \", selected_features)\n",
    "print(\"the loss is \", ad_loss)"
   ]
  },
  {
   "cell_type": "code",
   "execution_count": 15,
   "metadata": {},
   "outputs": [
    {
     "name": "stdout",
     "output_type": "stream",
     "text": [
      "the length of training data is  300\n",
      "the length of testing data is  100\n"
     ]
    },
    {
     "data": {
      "text/html": [
       "<div>\n",
       "<style scoped>\n",
       "    .dataframe tbody tr th:only-of-type {\n",
       "        vertical-align: middle;\n",
       "    }\n",
       "\n",
       "    .dataframe tbody tr th {\n",
       "        vertical-align: top;\n",
       "    }\n",
       "\n",
       "    .dataframe thead th {\n",
       "        text-align: right;\n",
       "    }\n",
       "</style>\n",
       "<table border=\"1\" class=\"dataframe\">\n",
       "  <thead>\n",
       "    <tr style=\"text-align: right;\">\n",
       "      <th></th>\n",
       "      <th>Sales</th>\n",
       "      <th>CompPrice</th>\n",
       "      <th>Income</th>\n",
       "      <th>Advertising</th>\n",
       "      <th>Population</th>\n",
       "      <th>Price</th>\n",
       "      <th>ShelveLoc</th>\n",
       "      <th>Age</th>\n",
       "      <th>Education</th>\n",
       "      <th>Urban</th>\n",
       "      <th>US</th>\n",
       "      <th>Loc_good</th>\n",
       "      <th>Loc_medium</th>\n",
       "      <th>Loc_bad</th>\n",
       "    </tr>\n",
       "  </thead>\n",
       "  <tbody>\n",
       "    <tr>\n",
       "      <th>35</th>\n",
       "      <td>11.07</td>\n",
       "      <td>131</td>\n",
       "      <td>84</td>\n",
       "      <td>11</td>\n",
       "      <td>29</td>\n",
       "      <td>96</td>\n",
       "      <td>Medium</td>\n",
       "      <td>44</td>\n",
       "      <td>17</td>\n",
       "      <td>No</td>\n",
       "      <td>Yes</td>\n",
       "      <td>0</td>\n",
       "      <td>1</td>\n",
       "      <td>0</td>\n",
       "    </tr>\n",
       "    <tr>\n",
       "      <th>213</th>\n",
       "      <td>8.23</td>\n",
       "      <td>149</td>\n",
       "      <td>84</td>\n",
       "      <td>5</td>\n",
       "      <td>220</td>\n",
       "      <td>139</td>\n",
       "      <td>Medium</td>\n",
       "      <td>33</td>\n",
       "      <td>10</td>\n",
       "      <td>Yes</td>\n",
       "      <td>Yes</td>\n",
       "      <td>0</td>\n",
       "      <td>1</td>\n",
       "      <td>0</td>\n",
       "    </tr>\n",
       "    <tr>\n",
       "      <th>2</th>\n",
       "      <td>10.06</td>\n",
       "      <td>113</td>\n",
       "      <td>35</td>\n",
       "      <td>10</td>\n",
       "      <td>269</td>\n",
       "      <td>80</td>\n",
       "      <td>Medium</td>\n",
       "      <td>59</td>\n",
       "      <td>12</td>\n",
       "      <td>Yes</td>\n",
       "      <td>Yes</td>\n",
       "      <td>0</td>\n",
       "      <td>1</td>\n",
       "      <td>0</td>\n",
       "    </tr>\n",
       "    <tr>\n",
       "      <th>379</th>\n",
       "      <td>5.81</td>\n",
       "      <td>125</td>\n",
       "      <td>111</td>\n",
       "      <td>0</td>\n",
       "      <td>404</td>\n",
       "      <td>107</td>\n",
       "      <td>Bad</td>\n",
       "      <td>54</td>\n",
       "      <td>15</td>\n",
       "      <td>Yes</td>\n",
       "      <td>No</td>\n",
       "      <td>0</td>\n",
       "      <td>0</td>\n",
       "      <td>1</td>\n",
       "    </tr>\n",
       "    <tr>\n",
       "      <th>382</th>\n",
       "      <td>4.95</td>\n",
       "      <td>121</td>\n",
       "      <td>28</td>\n",
       "      <td>19</td>\n",
       "      <td>315</td>\n",
       "      <td>121</td>\n",
       "      <td>Medium</td>\n",
       "      <td>66</td>\n",
       "      <td>14</td>\n",
       "      <td>Yes</td>\n",
       "      <td>Yes</td>\n",
       "      <td>0</td>\n",
       "      <td>1</td>\n",
       "      <td>0</td>\n",
       "    </tr>\n",
       "  </tbody>\n",
       "</table>\n",
       "</div>"
      ],
      "text/plain": [
       "     Sales  CompPrice  Income  Advertising  Population  Price ShelveLoc  Age  \\\n",
       "35   11.07        131      84           11          29     96    Medium   44   \n",
       "213   8.23        149      84            5         220    139    Medium   33   \n",
       "2    10.06        113      35           10         269     80    Medium   59   \n",
       "379   5.81        125     111            0         404    107       Bad   54   \n",
       "382   4.95        121      28           19         315    121    Medium   66   \n",
       "\n",
       "     Education Urban   US  Loc_good  Loc_medium  Loc_bad  \n",
       "35          17    No  Yes         0           1        0  \n",
       "213         10   Yes  Yes         0           1        0  \n",
       "2           12   Yes  Yes         0           1        0  \n",
       "379         15   Yes   No         0           0        1  \n",
       "382         14   Yes  Yes         0           1        0  "
      ]
     },
     "execution_count": 15,
     "metadata": {},
     "output_type": "execute_result"
    }
   ],
   "source": [
    "# test greedyForwards on carseats\n",
    "carseats = pd.read_csv(\"carseats.csv\")\n",
    "carseats['Loc_good'] = pd.get_dummies(carseats['ShelveLoc'])['Good']\n",
    "carseats['Loc_medium'] = pd.get_dummies(carseats['ShelveLoc'])['Medium']\n",
    "carseats['Loc_bad'] = pd.get_dummies(carseats['ShelveLoc'])['Bad']\n",
    "car_copy =  carseats.copy()\n",
    "car_train = car_copy.sample(frac=0.75, random_state=520)\n",
    "car_test = car_copy.drop(car_train.index)\n",
    "print(\"the length of training data is \", len(car_train))\n",
    "print(\"the length of testing data is \", len(car_test))\n",
    "car_train.head()"
   ]
  },
  {
   "cell_type": "code",
   "execution_count": 16,
   "metadata": {},
   "outputs": [
    {
     "name": "stdout",
     "output_type": "stream",
     "text": [
      "['CompPrice', 'Income', 'Advertising', 'Population', 'Price', 'Age', 'Education', 'Loc_good', 'Loc_medium', 'Loc_bad']\n"
     ]
    }
   ],
   "source": [
    "car_features = list(carseats.columns)[1:]\n",
    "for w in ['ShelveLoc', 'Urban', 'US']:\n",
    "    car_features.remove(w)\n",
    "print(car_features)"
   ]
  },
  {
   "cell_type": "code",
   "execution_count": 17,
   "metadata": {},
   "outputs": [
    {
     "name": "stdout",
     "output_type": "stream",
     "text": [
      "the selected features for multi-linear model are:  ['Loc_bad', 'Price', 'Advertising', 'Income', 'CompPrice', 'Loc_good', 'Age', 'Loc_medium']\n",
      "the loss is  0.873932977868392\n"
     ]
    }
   ],
   "source": [
    "car_target = 'Sales'\n",
    "car_model, car_selected_features, car_loss = greedyForwards(carseats,car_features, car_target)\n",
    "print(\"the selected features for multi-linear model are: \", car_selected_features)\n",
    "print(\"the loss is \", car_loss)"
   ]
  },
  {
   "cell_type": "markdown",
   "metadata": {},
   "source": [
    "## Applied Questions"
   ]
  },
  {
   "cell_type": "markdown",
   "metadata": {},
   "source": [
    "##### 1. Gradient Descent in Action\n",
    "\n",
    "Using your answer to question 1. under Theoretical Questions use `numpy` to perform gradient descent to fit the multiple linear regression model for the following data. "
   ]
  },
  {
   "cell_type": "code",
   "execution_count": 18,
   "metadata": {},
   "outputs": [],
   "source": [
    "X = np.random.randn(5000,1000)\n",
    "\n",
    "y = X.dot(np.random.randint(-5,5,1000)) + 2*np.random.randn(5000)"
   ]
  },
  {
   "cell_type": "code",
   "execution_count": 94,
   "metadata": {},
   "outputs": [],
   "source": [
    "import numpy as np\n",
    "# function to calculate loss or cost\n",
    "def calc_cost(Beta,Xp,y):\n",
    "    hBeta = np.dot(Xp,Beta)\n",
    "    cost=np.sum(np.square(hBeta-y))/(2*len(y))\n",
    "    return cost\n",
    "# function to calculate gradient descent\n",
    "def calc_gradient_descent(Beta,Xp,yp):\n",
    "    hBeta = np.dot(Xp,Beta)\n",
    "    delBeta = np.dot(Xp.transpose(),(hBeta-yp))\n",
    "    delBeta /= (2*len(y))\n",
    "    return delBeta\n",
    "\n",
    "def fit_data(Xp,yp,learningRate,max_iterations,scale=True,delta=0.001):\n",
    "\n",
    "    m,features = Xp.shape\n",
    "    print(\"number of features is:\", features,m)\n",
    "    Beta = np.zeros((features,1))\n",
    "    costList = []\n",
    "    cost = calc_cost(Beta,Xp,yp)\n",
    "    cost_change = delta+0.01\n",
    "    iterations = 0\n",
    "\n",
    "    while (iterations<iterations_max) and (cost_change>delta):\n",
    "        last_cost = cost\n",
    "# Update the parameters all at once\n",
    "        Beta = Beta - learningRate*calc_gradient_descent(Beta,Xp,yp)\n",
    "# Calculate the new cost, and see how much it has changed from the previous cost\n",
    "        cost = calc_cost(Beta,Xp,yp)\n",
    "        cost_change = last_cost - cost\n",
    "\n",
    "        costList.append(cost)\n",
    "        iterations += 1\n",
    "    \n",
    "    return Beta,iterations,costList"
   ]
  },
  {
   "cell_type": "code",
   "execution_count": 95,
   "metadata": {},
   "outputs": [
    {
     "name": "stdout",
     "output_type": "stream",
     "text": [
      "Features shapes:  (5000, 1001)\n",
      "Labels shapes:    (5000, 1)\n",
      "number of features is: 1001 5000\n",
      "Iterations: 4867\n",
      "Final cost: 1142.1376119109486\n",
      "fit Beta  [[  3.89757158]\n",
      " [ -5.1571605 ]\n",
      " [-14.70814297]\n",
      " ...\n",
      " [  2.93055974]\n",
      " [  6.84202162]\n",
      " [ -2.67938055]]\n"
     ]
    }
   ],
   "source": [
    "from sklearn.preprocessing import MinMaxScaler\n",
    "scl = MinMaxScaler()\n",
    "\n",
    "XToFit = np.array(X)\n",
    "yToFit = y\n",
    "#print(XToFit.shape,yToFit.shape)\n",
    "\n",
    "XToFit2 = scl.fit_transform(XToFit)\n",
    "\n",
    "ones = np.ones((len(XToFit2),1))\n",
    "XToFit2 = np.append(ones,XToFit2,axis=1)\n",
    "yToFit2 = yToFit.reshape(len(yToFit),1)\n",
    "\n",
    "print(\"Features shapes: \",XToFit2.shape)\n",
    "print(\"Labels shapes:   \",yToFit2.shape)\n",
    "\n",
    "iterations_max = 50000\n",
    "#learningRate = 0.01592\n",
    "learningRate = 0.015905\n",
    "Beta,iterations,costList = fit_data(XToFit2,yToFit2,learningRate,iterations_max,delta=0.0001)\n",
    "#Theta,costList = fit_data_minimize(XToFit,yToFit,learningRate,iterations)\n",
    "print(\"Iterations:\",iterations)\n",
    "print(\"Final cost:\",costList[-1])\n",
    "print(\"fit Beta \",Beta)"
   ]
  },
  {
   "cell_type": "markdown",
   "metadata": {},
   "source": [
    "Now compare the output of your code to the model you get using `SGDRegressor`, <a href=\"https://scikit-learn.org/stable/modules/generated/sklearn.linear_model.SGDRegressor.html\">https://scikit-learn.org/stable/modules/generated/sklearn.linear_model.SGDRegressor.html</a>."
   ]
  },
  {
   "cell_type": "code",
   "execution_count": 43,
   "metadata": {},
   "outputs": [
    {
     "data": {
      "text/plain": [
       "Pipeline(memory=None,\n",
       "         steps=[('standardscaler',\n",
       "                 StandardScaler(copy=True, with_mean=True, with_std=True)),\n",
       "                ('sgdregressor',\n",
       "                 SGDRegressor(alpha=0.0001, average=False, early_stopping=False,\n",
       "                              epsilon=0.1, eta0=0.01, fit_intercept=True,\n",
       "                              l1_ratio=0.15, learning_rate='invscaling',\n",
       "                              loss='squared_loss', max_iter=1000,\n",
       "                              n_iter_no_change=5, penalty='l2', power_t=0.25,\n",
       "                              random_state=None, shuffle=True, tol=0.001,\n",
       "                              validation_fraction=0.1, verbose=0,\n",
       "                              warm_start=False))],\n",
       "         verbose=False)"
      ]
     },
     "execution_count": 43,
     "metadata": {},
     "output_type": "execute_result"
    }
   ],
   "source": [
    "import numpy as np\n",
    "from sklearn.linear_model import SGDRegressor\n",
    "from sklearn.pipeline import make_pipeline\n",
    "from sklearn.preprocessing import StandardScaler\n",
    "reg = make_pipeline(StandardScaler(), SGDRegressor(max_iter=1000, tol=1e-3))\n",
    "reg.fit(X, y)"
   ]
  },
  {
   "cell_type": "code",
   "execution_count": 44,
   "metadata": {},
   "outputs": [
    {
     "data": {
      "text/plain": [
       "0.9995706704993521"
      ]
     },
     "execution_count": 44,
     "metadata": {},
     "output_type": "execute_result"
    }
   ],
   "source": [
    "reg.score(X,y)"
   ]
  },
  {
   "cell_type": "code",
   "execution_count": 45,
   "metadata": {},
   "outputs": [
    {
     "data": {
      "text/plain": [
       "{'memory': None,\n",
       " 'steps': [('standardscaler',\n",
       "   StandardScaler(copy=True, with_mean=True, with_std=True)),\n",
       "  ('sgdregressor',\n",
       "   SGDRegressor(alpha=0.0001, average=False, early_stopping=False, epsilon=0.1,\n",
       "                eta0=0.01, fit_intercept=True, l1_ratio=0.15,\n",
       "                learning_rate='invscaling', loss='squared_loss', max_iter=1000,\n",
       "                n_iter_no_change=5, penalty='l2', power_t=0.25, random_state=None,\n",
       "                shuffle=True, tol=0.001, validation_fraction=0.1, verbose=0,\n",
       "                warm_start=False))],\n",
       " 'verbose': False,\n",
       " 'standardscaler': StandardScaler(copy=True, with_mean=True, with_std=True),\n",
       " 'sgdregressor': SGDRegressor(alpha=0.0001, average=False, early_stopping=False, epsilon=0.1,\n",
       "              eta0=0.01, fit_intercept=True, l1_ratio=0.15,\n",
       "              learning_rate='invscaling', loss='squared_loss', max_iter=1000,\n",
       "              n_iter_no_change=5, penalty='l2', power_t=0.25, random_state=None,\n",
       "              shuffle=True, tol=0.001, validation_fraction=0.1, verbose=0,\n",
       "              warm_start=False),\n",
       " 'standardscaler__copy': True,\n",
       " 'standardscaler__with_mean': True,\n",
       " 'standardscaler__with_std': True,\n",
       " 'sgdregressor__alpha': 0.0001,\n",
       " 'sgdregressor__average': False,\n",
       " 'sgdregressor__early_stopping': False,\n",
       " 'sgdregressor__epsilon': 0.1,\n",
       " 'sgdregressor__eta0': 0.01,\n",
       " 'sgdregressor__fit_intercept': True,\n",
       " 'sgdregressor__l1_ratio': 0.15,\n",
       " 'sgdregressor__learning_rate': 'invscaling',\n",
       " 'sgdregressor__loss': 'squared_loss',\n",
       " 'sgdregressor__max_iter': 1000,\n",
       " 'sgdregressor__n_iter_no_change': 5,\n",
       " 'sgdregressor__penalty': 'l2',\n",
       " 'sgdregressor__power_t': 0.25,\n",
       " 'sgdregressor__random_state': None,\n",
       " 'sgdregressor__shuffle': True,\n",
       " 'sgdregressor__tol': 0.001,\n",
       " 'sgdregressor__validation_fraction': 0.1,\n",
       " 'sgdregressor__verbose': 0,\n",
       " 'sgdregressor__warm_start': False}"
      ]
     },
     "execution_count": 45,
     "metadata": {},
     "output_type": "execute_result"
    }
   ],
   "source": [
    "reg.get_params()"
   ]
  },
  {
   "cell_type": "markdown",
   "metadata": {},
   "source": [
    "##### 2. Build the Best Predictive Model You Can\n",
    "\n",
    "Return to the data set from `PredictiveModelingAssessmentData.csv`. Use cross-validation to build the best predictive model you can to predict the `y` variable. As a hint theoretically the best you can do is a mean root mean square error of $1$."
   ]
  },
  {
   "cell_type": "code",
   "execution_count": 60,
   "metadata": {},
   "outputs": [
    {
     "data": {
      "text/html": [
       "<div>\n",
       "<style scoped>\n",
       "    .dataframe tbody tr th:only-of-type {\n",
       "        vertical-align: middle;\n",
       "    }\n",
       "\n",
       "    .dataframe tbody tr th {\n",
       "        vertical-align: top;\n",
       "    }\n",
       "\n",
       "    .dataframe thead th {\n",
       "        text-align: right;\n",
       "    }\n",
       "</style>\n",
       "<table border=\"1\" class=\"dataframe\">\n",
       "  <thead>\n",
       "    <tr style=\"text-align: right;\">\n",
       "      <th></th>\n",
       "      <th>y</th>\n",
       "      <th>x1</th>\n",
       "      <th>x2</th>\n",
       "    </tr>\n",
       "  </thead>\n",
       "  <tbody>\n",
       "    <tr>\n",
       "      <th>0</th>\n",
       "      <td>1.300215</td>\n",
       "      <td>-0.054425</td>\n",
       "      <td>0.738897</td>\n",
       "    </tr>\n",
       "    <tr>\n",
       "      <th>1</th>\n",
       "      <td>-0.805025</td>\n",
       "      <td>0.130174</td>\n",
       "      <td>0.977855</td>\n",
       "    </tr>\n",
       "    <tr>\n",
       "      <th>2</th>\n",
       "      <td>2.801926</td>\n",
       "      <td>1.749007</td>\n",
       "      <td>1.352562</td>\n",
       "    </tr>\n",
       "    <tr>\n",
       "      <th>3</th>\n",
       "      <td>3.123490</td>\n",
       "      <td>-0.979458</td>\n",
       "      <td>1.664484</td>\n",
       "    </tr>\n",
       "    <tr>\n",
       "      <th>4</th>\n",
       "      <td>3.445728</td>\n",
       "      <td>0.300521</td>\n",
       "      <td>2.988848</td>\n",
       "    </tr>\n",
       "  </tbody>\n",
       "</table>\n",
       "</div>"
      ],
      "text/plain": [
       "          y        x1        x2\n",
       "0  1.300215 -0.054425  0.738897\n",
       "1 -0.805025  0.130174  0.977855\n",
       "2  2.801926  1.749007  1.352562\n",
       "3  3.123490 -0.979458  1.664484\n",
       "4  3.445728  0.300521  2.988848"
      ]
     },
     "execution_count": 60,
     "metadata": {},
     "output_type": "execute_result"
    }
   ],
   "source": [
    "pmDF = pd.read_csv(\"PredictiveModelingAssessmentData.csv\")\n",
    "pmDF.head()"
   ]
  },
  {
   "cell_type": "code",
   "execution_count": 61,
   "metadata": {},
   "outputs": [],
   "source": [
    "from pandas.plotting import scatter_matrix"
   ]
  },
  {
   "cell_type": "code",
   "execution_count": 62,
   "metadata": {},
   "outputs": [
    {
     "data": {
      "image/png": "[encoded data removed]",
      "text/plain": [
       "<Figure size 720x576 with 9 Axes>"
      ]
     },
     "metadata": {
      "needs_background": "light"
     },
     "output_type": "display_data"
    }
   ],
   "source": [
    "scatter_matrix(pmDF, figsize = (10,8), alpha = 1)\n",
    "plt.show()"
   ]
  },
  {
   "cell_type": "markdown",
   "metadata": {},
   "source": [
    "## looks like y depends on $x_1^i$ where i is an even number and on $x_2^{1/2}$\n",
    "\n",
    "\n",
    "\n",
    "\n",
    "\n",
    "\n",
    "\n",
    "\n"
   ]
  },
  {
   "cell_type": "code",
   "execution_count": 63,
   "metadata": {},
   "outputs": [],
   "source": [
    "# make x1^2 and sqrt(x2) columns\n",
    "pmDF['sq_x1'] = pmDF['x1']*pmDF['x1']\n",
    "pmDF['sqrt_x2'] = np.sqrt(pmDF['x2'])\n",
    "pmDF['sqrt_sqrt_x2'] = np.sqrt(pmDF['sqrt_x2'])"
   ]
  },
  {
   "cell_type": "code",
   "execution_count": 64,
   "metadata": {},
   "outputs": [
    {
     "data": {
      "text/html": [
       "<div>\n",
       "<style scoped>\n",
       "    .dataframe tbody tr th:only-of-type {\n",
       "        vertical-align: middle;\n",
       "    }\n",
       "\n",
       "    .dataframe tbody tr th {\n",
       "        vertical-align: top;\n",
       "    }\n",
       "\n",
       "    .dataframe thead th {\n",
       "        text-align: right;\n",
       "    }\n",
       "</style>\n",
       "<table border=\"1\" class=\"dataframe\">\n",
       "  <thead>\n",
       "    <tr style=\"text-align: right;\">\n",
       "      <th></th>\n",
       "      <th>y</th>\n",
       "      <th>x1</th>\n",
       "      <th>x2</th>\n",
       "      <th>sq_x1</th>\n",
       "      <th>sqrt_x2</th>\n",
       "      <th>sqrt_sqrt_x2</th>\n",
       "    </tr>\n",
       "  </thead>\n",
       "  <tbody>\n",
       "    <tr>\n",
       "      <th>0</th>\n",
       "      <td>1.300215</td>\n",
       "      <td>-0.054425</td>\n",
       "      <td>0.738897</td>\n",
       "      <td>0.002962</td>\n",
       "      <td>0.859591</td>\n",
       "      <td>0.927141</td>\n",
       "    </tr>\n",
       "    <tr>\n",
       "      <th>1</th>\n",
       "      <td>-0.805025</td>\n",
       "      <td>0.130174</td>\n",
       "      <td>0.977855</td>\n",
       "      <td>0.016945</td>\n",
       "      <td>0.988866</td>\n",
       "      <td>0.994417</td>\n",
       "    </tr>\n",
       "    <tr>\n",
       "      <th>2</th>\n",
       "      <td>2.801926</td>\n",
       "      <td>1.749007</td>\n",
       "      <td>1.352562</td>\n",
       "      <td>3.059024</td>\n",
       "      <td>1.162997</td>\n",
       "      <td>1.078423</td>\n",
       "    </tr>\n",
       "    <tr>\n",
       "      <th>3</th>\n",
       "      <td>3.123490</td>\n",
       "      <td>-0.979458</td>\n",
       "      <td>1.664484</td>\n",
       "      <td>0.959338</td>\n",
       "      <td>1.290149</td>\n",
       "      <td>1.135847</td>\n",
       "    </tr>\n",
       "    <tr>\n",
       "      <th>4</th>\n",
       "      <td>3.445728</td>\n",
       "      <td>0.300521</td>\n",
       "      <td>2.988848</td>\n",
       "      <td>0.090313</td>\n",
       "      <td>1.728829</td>\n",
       "      <td>1.314849</td>\n",
       "    </tr>\n",
       "  </tbody>\n",
       "</table>\n",
       "</div>"
      ],
      "text/plain": [
       "          y        x1        x2     sq_x1   sqrt_x2  sqrt_sqrt_x2\n",
       "0  1.300215 -0.054425  0.738897  0.002962  0.859591      0.927141\n",
       "1 -0.805025  0.130174  0.977855  0.016945  0.988866      0.994417\n",
       "2  2.801926  1.749007  1.352562  3.059024  1.162997      1.078423\n",
       "3  3.123490 -0.979458  1.664484  0.959338  1.290149      1.135847\n",
       "4  3.445728  0.300521  2.988848  0.090313  1.728829      1.314849"
      ]
     },
     "execution_count": 64,
     "metadata": {},
     "output_type": "execute_result"
    }
   ],
   "source": [
    "pmDF.head()"
   ]
  },
  {
   "cell_type": "code",
   "execution_count": 65,
   "metadata": {},
   "outputs": [
    {
     "data": {
      "image/png": "[encoded data removed]",
      "text/plain": [
       "<Figure size 720x576 with 36 Axes>"
      ]
     },
     "metadata": {
      "needs_background": "light"
     },
     "output_type": "display_data"
    }
   ],
   "source": [
    "scatter_matrix(pmDF, figsize = (10,8), alpha = 1)\n",
    "plt.show()"
   ]
  },
  {
   "cell_type": "code",
   "execution_count": 92,
   "metadata": {},
   "outputs": [
    {
     "name": "stdout",
     "output_type": "stream",
     "text": [
      "Index(['y', 'x1', 'x2', 'sq_x1', 'sqrt_x2', 'sqrt_sqrt_x2'], dtype='object')\n"
     ]
    }
   ],
   "source": [
    "pm_copy = pmDF.copy()\n",
    "pm_train = pm_copy.sample(frac=0.75, random_state=404)\n",
    "pm_test = pm_copy.drop(pd_train.index)\n",
    "print(pd_train.columns)"
   ]
  },
  {
   "cell_type": "code",
   "execution_count": 74,
   "metadata": {},
   "outputs": [
    {
     "data": {
      "text/plain": [
       "LinearRegression(copy_X=True, fit_intercept=True, n_jobs=None, normalize=False)"
      ]
     },
     "execution_count": 74,
     "metadata": {},
     "output_type": "execute_result"
    }
   ],
   "source": [
    "pm_reg = LinearRegression(copy_X = True)\n",
    "pm_reg.fit(pm_train[['x1','sq_x1','x2', 'sqrt_sqrt_x2']], pm_train['y'])"
   ]
  },
  {
   "cell_type": "code",
   "execution_count": 76,
   "metadata": {},
   "outputs": [
    {
     "name": "stdout",
     "output_type": "stream",
     "text": [
      "beta_0_hat is -9.09638\n",
      "beta_1_hat is 0.54137\n",
      "beta_2_hat is 0.38665\n",
      "beta_3_hat is -0.57841\n",
      "beta_4_hat is 10.07738\n"
     ]
    }
   ],
   "source": [
    "print(\"beta_0_hat is\",np.round(pm_reg.intercept_,5))\n",
    "print(\"beta_1_hat is\",np.round(pm_reg.coef_[0],5))\n",
    "print(\"beta_2_hat is\",np.round(pm_reg.coef_[1],5))\n",
    "print(\"beta_3_hat is\",np.round(pm_reg.coef_[2],5))\n",
    "print(\"beta_4_hat is\",np.round(pm_reg.coef_[3],5))"
   ]
  },
  {
   "cell_type": "code",
   "execution_count": 79,
   "metadata": {},
   "outputs": [],
   "source": [
    "pred = pm_reg.predict(pm_train[['x1','sq_x1','x2', 'sqrt_sqrt_x2']])\n",
    "res = pm_train['y'] - pred"
   ]
  },
  {
   "cell_type": "code",
   "execution_count": 80,
   "metadata": {},
   "outputs": [
    {
     "data": {
      "image/png": "[encoded data removed]",
      "text/plain": [
       "<Figure size 288x216 with 1 Axes>"
      ]
     },
     "metadata": {
      "needs_background": "light"
     },
     "output_type": "display_data"
    }
   ],
   "source": [
    "plt.figure(figsize = (4,3))\n",
    "plt.scatter(pred,res)\n",
    "plt.xlabel(\"Predicted Values\", fontsize=16)\n",
    "plt.ylabel(\"Residuals\", fontsize=16)\n",
    "plt.show()"
   ]
  },
  {
   "cell_type": "code",
   "execution_count": 81,
   "metadata": {},
   "outputs": [],
   "source": [
    "plt.close()"
   ]
  },
  {
   "cell_type": "markdown",
   "metadata": {},
   "source": [
    "### pretty random"
   ]
  },
  {
   "cell_type": "code",
   "execution_count": null,
   "metadata": {},
   "outputs": [],
   "source": [
    "def loss(model, X_test, y_test):\n",
    "    pred = model.predict(X_test)\n",
    "    return np.sum(np.power(pred-y_test, 2))/len(y_test)"
   ]
  },
  {
   "cell_type": "code",
   "execution_count": 88,
   "metadata": {},
   "outputs": [
    {
     "name": "stdout",
     "output_type": "stream",
     "text": [
      "1.3057447755688276\n"
     ]
    }
   ],
   "source": [
    "pm_X_train, pm_y_train = get_X_y(pm_train, ['x1','sq_x1','x2', 'sqrt_sqrt_x2'], 'y')\n",
    "pm_X_test, pm_y_test = get_X_y(pm_test, ['x1','sq_x1','x2', 'sqrt_sqrt_x2'], 'y')\n",
    "pm_loss1 = loss(pm_reg, pm_X_test, pm_y_test)\n",
    "print(pm_loss1)"
   ]
  },
  {
   "cell_type": "code",
   "execution_count": 84,
   "metadata": {},
   "outputs": [],
   "source": [
    "pmDF['x1_x2'] = pmDF['x1']*pmDF['x2']"
   ]
  },
  {
   "cell_type": "code",
   "execution_count": 85,
   "metadata": {},
   "outputs": [
    {
     "data": {
      "image/png": "[encoded data removed]",
      "text/plain": [
       "<Figure size 288x216 with 4 Axes>"
      ]
     },
     "metadata": {
      "needs_background": "light"
     },
     "output_type": "display_data"
    }
   ],
   "source": [
    "scatter_matrix(pmDF[['x1_x2', 'y']], figsize = (4,3), alpha = 1)\n",
    "plt.show()"
   ]
  },
  {
   "cell_type": "code",
   "execution_count": 87,
   "metadata": {},
   "outputs": [
    {
     "data": {
      "image/png": "[encoded data removed]",
      "text/plain": [
       "<Figure size 288x216 with 9 Axes>"
      ]
     },
     "metadata": {
      "needs_background": "light"
     },
     "output_type": "display_data"
    }
   ],
   "source": [
    "pmDF['pow4_x1'] = pmDF['sq_x1']*pmDF['sq_x1']\n",
    "scatter_matrix(pmDF[['sq_x1','pow4_x1', 'y']], figsize = (4,3), alpha = 1)\n",
    "plt.show()"
   ]
  },
  {
   "cell_type": "code",
   "execution_count": 91,
   "metadata": {},
   "outputs": [
    {
     "name": "stdout",
     "output_type": "stream",
     "text": [
      "1.3167647504618785\n"
     ]
    }
   ],
   "source": [
    "pm_SGD_reg = make_pipeline(StandardScaler(), SGDRegressor(max_iter=1000, tol=1e-3))\n",
    "pm_SGD_reg.fit(pm_X_train, pm_y_train)\n",
    "pm_loss2 = loss(pm_SGD_reg, pm_X_test, pm_y_test)\n",
    "print(pm_loss2)"
   ]
  },
  {
   "cell_type": "code",
   "execution_count": null,
   "metadata": {},
   "outputs": [],
   "source": []
  }
 ],
 "metadata": {
  "kernelspec": {
   "display_name": "Python 3",
   "language": "python",
   "name": "python3"
  },
  "language_info": {
   "codemirror_mode": {
    "name": "ipython",
    "version": 3
   },
   "file_extension": ".py",
   "mimetype": "text/x-python",
   "name": "python",
   "nbconvert_exporter": "python",
   "pygments_lexer": "ipython3",
   "version": "3.7.3"
  }
 },
 "nbformat": 4,
 "nbformat_minor": 2
}
