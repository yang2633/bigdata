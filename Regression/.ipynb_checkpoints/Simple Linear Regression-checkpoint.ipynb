{
 "cells": [
  {
   "cell_type": "markdown",
   "metadata": {},
   "source": [
    "# Simple Linear Regression\n",
    "\n",
    "In this notebook are some exercises to gain more experience with the material presented in the Simple Linear Regression lecture. You'll get some practice fitting models, and gain a stronger theoretical understanding of the technique as well. We'll also introduce some new important concepts that weren't explicitly covered in the lecture."
   ]
  },
  {
   "cell_type": "code",
   "execution_count": 2,
   "metadata": {},
   "outputs": [],
   "source": [
    "# import the packages we'll use\n",
    "## For data handling\n",
    "import pandas as pd\n",
    "import numpy as np\n",
    "from numpy import meshgrid\n",
    "\n",
    "## For plotting\n",
    "import matplotlib.pyplot as plt\n",
    "import seaborn as sns\n",
    "\n",
    "## This sets the plot style\n",
    "## to have a grid on a white background\n",
    "sns.set_style(\"whitegrid\")"
   ]
  },
  {
   "cell_type": "markdown",
   "metadata": {},
   "source": [
    "### Theoretical Questions"
   ]
  },
  {
   "cell_type": "markdown",
   "metadata": {},
   "source": [
    "##### 1. Mixing up $X$ and $y$\n",
    "\n",
    "Explain how simple linear regression works. Suppose we go out and collect some data, $X$ a single feature and $y$ the target variable. If the true relationship between $y$ and $X$ is $y = X + \\epsilon$, what should the output of SLR be?  Now suppose we mistakenly misclassify $X$ as the target and $y$ as the feature and regress $X$ on $y$. What would you expect to happen to the estimate $\\hat{\\beta_1}$? What about in the limit as the variance of $\\epsilon$ goes to $\\infty$?"
   ]
  },
  {
   "cell_type": "markdown",
   "metadata": {},
   "source": [
    "#### answer1\n",
    "1. The output should be $\\hat{\\beta_{1}}$ ~ 1 and $\\hat{\\beta_{0}}$ ~ 0\n",
    "2. becomes to $\\hat{\\beta_1} = \\frac{\\sum_{i=1}^n \\left( X_i - \\overline{X} \\right)\\left( y_i - \\overline{y} \\right)}{\\sum_{i=1}^n \\left( y_i - \\overline{y} \\right)^2}$ \n",
    "3. becomes to $\\hat{\\beta_{1}}\\frac{\\sigma_{y}}{\\sigma_{x}}$\n",
    "\n",
    "\n",
    "\n",
    "\n"
   ]
  },
  {
   "cell_type": "markdown",
   "metadata": {},
   "source": [
    "##### 2. An Introduction to Maximum Likelihood Estimation (MLE)\n",
    "\n",
    "In this question we'll introduce the concept of maximum likelihood estimation to derive the formula for $\\hat{\\beta_1}$. Assume the standard SLR assumptions. Let $y$ denote the target variable, let $X$ denote the feature variable and suppose the true relationship between $y$ and $X$ is $y = \\beta_0 + \\beta_1 X + \\epsilon$. As usual assume there are $n$ observations.\n",
    "\n",
    "For now let's look at the first observation, $(X_1,y_1)$. The likelihood of observing $y_1$ given $X_1$ is\n",
    "$$\n",
    "f\\left(y_1|x_1;\\beta_0,\\beta_1\\right) = \\frac{1}{\\sqrt{2\\pi\\sigma^2}} \\exp\\left(-\\frac{1}{2}\\frac{\\left(y_1 - \\left(\\beta_0 + \\beta_1 x_1\\right)\\right)^2}{\\sigma^2}\\right)\n",
    "$$\n",
    "because we have assumed that $\\epsilon\\sim N(0,\\sigma^2)$. You can think of this as the probability of observing $y_1$ given $x_1$ and our model parameters. The goal of maximum likelihood estimation is to choose the parameters, in this case $\\beta_0$ and $\\beta_1$, that maximize the likelihood. \n",
    "\n",
    "Because we've assumed independence of our observations the likelihood of observing $y$ given $X$ is:\n",
    "$$\n",
    "f\\left(y|X;\\beta_0,\\beta_1\\right) = \\prod_{i=1}^n f\\left(y_i|X_i;\\beta_0,\\beta_1\\right) = \\prod_{i=1}^n \\frac{1}{\\sqrt{2\\pi\\sigma^2}} \\exp\\left(-\\frac{1}{2}\\frac{\\left(y_i - \\left(\\beta_0 + \\beta_1 x_i\\right)\\right)^2}{\\sigma^2}\\right)\n",
    "$$\n",
    "\n",
    "Take the partial derivatives of $f\\left(y|X;\\beta_0,\\beta_1\\right)$ with respect to $\\beta_0$ and $\\beta_1$, then set these equal to $0$ and solve to find the maximum likelihood estimator for simple linear regression.\n",
    "\n",
    "Hint: Try maximizing $\\log\\left(f\\left(y|X;\\beta_0,\\beta_1\\right)\\right)$ instead, because $\\log$ is a strictly increasing function this is the same as maximizing $f\\left(y|X;\\beta_0,\\beta_1\\right)$."
   ]
  },
  {
   "cell_type": "markdown",
   "metadata": {},
   "source": [
    "##### 3. Deriving the Standard Error for $\\hat{\\beta_0}$ and $\\hat{\\beta_1}$\n",
    "\n",
    "For any parameter, $\\theta$, you can find the standard error of the estimate, $\\hat{\\theta}$ by taking the square root of the variance of the estimate.\n",
    "\n",
    "Recall that the formula for $\\hat{\\beta_0}$ and $\\hat{\\beta_1}$ from SLR are:\n",
    "- $\\hat{\\beta_1} = \\frac{\\sum_{i=1}^n \\left( X_i - \\overline{X} \\right)\\left( y_i - \\overline{y} \\right)}{\\sum_{i=1}^n \\left( X_i - \\overline{X} \\right)^2}$ \n",
    "\n",
    "- $\\hat{\\beta_0} = \\overline{y} - \\hat{\\beta_1} \\overline{X}$\n",
    "\n",
    "First find the standard error of $\\hat{\\beta_1}$, then use that to find the standard error of $\\hat{\\beta_0}$. \n",
    "\n",
    "Hint: Recall that $\\overline{y} = \\sum_{i=1}^n y_i/n$ and $y_i = \\beta_0 + \\beta_1 X_i + \\epsilon_i$."
   ]
  },
  {
   "cell_type": "markdown",
   "metadata": {},
   "source": [
    "### answer3\n",
    "$$\n",
    "V\\left(\\beta_{1}\\right) = \\frac{\\sigma^2}{S_{xx}}\n",
    "$$\n",
    "\n",
    "$$\n",
    "V\\left(\\beta_{0}\\right) = \\sigma^2\\left[\\frac{1}{n} + \\frac{\\bar{x}^2}{S_{xx}}\\right]\n",
    "$$\n",
    "\n",
    "\n",
    "\n",
    "\n",
    "\n",
    "\n"
   ]
  },
  {
   "cell_type": "markdown",
   "metadata": {},
   "source": [
    "##### 4. Deriving the Standard Error for $E(y|X=X^*)$\n",
    "\n",
    "Use the solution to 3. to find the standard error of $E(y|X=X^*)$."
   ]
  },
  {
   "cell_type": "markdown",
   "metadata": {},
   "source": [
    "##### 5. Prediction Intervals for SLR\n",
    "\n",
    "Recall our discussion on confidence intervals for $E(y|X=X^*)$.\n",
    "\n",
    "In addition to a confidence interval for the conditional mean, you can also produce what are known as prediction intervals for $y|X=X^*$, which give us a sense of what reasonable lower and upper bounds are for $y|X=X^*$ for a given confidence level, $1-\\alpha$.\n",
    "\n",
    "Recall that the $(1-\\alpha)$ confidence interval formula for $E(y|X=X^*)$ was given by:\n",
    "$$\n",
    "\\hat{y} \\pm t_{n-2,(1-\\alpha/2)}\\sqrt{\\frac{\\sum_{i=1}^n\\left(y_i - \\hat{y_i}\\right)^2}{n-2}}\\sqrt{\\frac{1}{n} + \\frac{\\left(X^* - \\overline{X}\\right)^2}{(n-1)s_X^2}},\n",
    "$$\n",
    "\n",
    "The formula for the $(1-\\alpha)$ prediction interval is quite similar:\n",
    "$$\n",
    "\\hat{y} \\pm t_{n-2,(1-\\alpha/2)}\\sqrt{\\frac{\\sum_{i=1}^n\\left(y_i - \\hat{y_i}\\right)^2}{n-2}}\\sqrt{1 + \\frac{1}{n} + \\frac{\\left(X^* - \\overline{X}\\right)^2}{(n-1)s_X^2}},\n",
    "$$\n",
    "to see a derivation of this formula check out, <a href=\"https://online.stat.psu.edu/stat414/node/298/\">https://online.stat.psu.edu/stat414/node/298/</a>, and note that what they refer to as MSE is $\\sqrt{\\frac{\\sum_{i=1}^n\\left(y_i - \\hat{y_i}\\right)^2}{n-2}}$. The addition of $1$ in the second square root refelects the extra uncertainty involved in predicting the actual $y$ value for a value of $X$, and comes from the error term in the statistical models, $\\epsilon$. This does not show up with the confidence interval because remember $E(\\bullet)$ is linear and $E(\\epsilon)$ is assumed to be $0$.\n",
    "\n",
    "Return to the `baseball` data and produce a $98\\%$ prediction interval around the regression line created by regressing `W` on `RD`."
   ]
  },
  {
   "cell_type": "markdown",
   "metadata": {},
   "source": [
    "## Applied Questions\n",
    "\n",
    "##### 1. Origins of Regression to the Mean.\n",
    "\n",
    "From Wikipedia:\n",
    "\n",
    "<q><i>\n",
    "    The concept of regression comes from genetics and was popularized by Sir Francis Galton during the late 19th century with the publication of Regression towards mediocrity in hereditary stature. Galton observed that extreme characteristics (e.g., height) in parents are not passed on completely to their offspring. Rather, the characteristics in the offspring regress towards a mediocre point (a point which has since been identified as the mean). By measuring the heights of hundreds of people, he was able to quantify regression to the mean, and estimate the size of the effect. Galton wrote that, \"the average regression of the offspring is a constant fraction of their respective mid-parental deviations\". This means that the difference between a child and its parents for some characteristic is proportional to its parents' deviation from typical people in the population. If its parents are each two inches taller than the averages for men and women, then, on average, the offspring will be shorter than its parents by some factor (which, today, we would call one minus the regression coefficient) times two inches. For height, Galton estimated this coefficient to be about 2/3: the height of an individual will measure around a midpoint that is two thirds of the parents' deviation from the population average. \n",
    "    </i></q>\n",
    "\n",
    "Load in the data set `galton.csv`.\n",
    "\n",
    "Create two subsets called `male` and `female`. \n",
    "\n",
    "For the `male` data regress height on the father's height, for the female data regress height on the mother's height.\n",
    "\n",
    "Check the linear regression assumptions in the case of the `male` model.\n",
    "\n",
    "Perform a hypothesis test to check for evidence of a linear relationship between father height and son height.\n",
    "\n",
    "Interpret your output. Does what you find follow from the wikipedia entry?\n",
    "\n",
    "Create prediction intervals around both of the regression lines. Use $\\alpha = 0.05$."
   ]
  },
  {
   "cell_type": "code",
   "execution_count": 3,
   "metadata": {},
   "outputs": [
    {
     "data": {
      "text/html": [
       "<div>\n",
       "<style scoped>\n",
       "    .dataframe tbody tr th:only-of-type {\n",
       "        vertical-align: middle;\n",
       "    }\n",
       "\n",
       "    .dataframe tbody tr th {\n",
       "        vertical-align: top;\n",
       "    }\n",
       "\n",
       "    .dataframe thead th {\n",
       "        text-align: right;\n",
       "    }\n",
       "</style>\n",
       "<table border=\"1\" class=\"dataframe\">\n",
       "  <thead>\n",
       "    <tr style=\"text-align: right;\">\n",
       "      <th></th>\n",
       "      <th>family</th>\n",
       "      <th>father</th>\n",
       "      <th>mother</th>\n",
       "      <th>sex</th>\n",
       "      <th>height</th>\n",
       "      <th>nkids</th>\n",
       "    </tr>\n",
       "  </thead>\n",
       "  <tbody>\n",
       "    <tr>\n",
       "      <th>1</th>\n",
       "      <td>1</td>\n",
       "      <td>78.5</td>\n",
       "      <td>67.0</td>\n",
       "      <td>F</td>\n",
       "      <td>69.2</td>\n",
       "      <td>4</td>\n",
       "    </tr>\n",
       "    <tr>\n",
       "      <th>2</th>\n",
       "      <td>1</td>\n",
       "      <td>78.5</td>\n",
       "      <td>67.0</td>\n",
       "      <td>F</td>\n",
       "      <td>69.0</td>\n",
       "      <td>4</td>\n",
       "    </tr>\n",
       "    <tr>\n",
       "      <th>3</th>\n",
       "      <td>1</td>\n",
       "      <td>78.5</td>\n",
       "      <td>67.0</td>\n",
       "      <td>F</td>\n",
       "      <td>69.0</td>\n",
       "      <td>4</td>\n",
       "    </tr>\n",
       "    <tr>\n",
       "      <th>6</th>\n",
       "      <td>2</td>\n",
       "      <td>75.5</td>\n",
       "      <td>66.5</td>\n",
       "      <td>F</td>\n",
       "      <td>65.5</td>\n",
       "      <td>4</td>\n",
       "    </tr>\n",
       "    <tr>\n",
       "      <th>7</th>\n",
       "      <td>2</td>\n",
       "      <td>75.5</td>\n",
       "      <td>66.5</td>\n",
       "      <td>F</td>\n",
       "      <td>65.5</td>\n",
       "      <td>4</td>\n",
       "    </tr>\n",
       "  </tbody>\n",
       "</table>\n",
       "</div>"
      ],
      "text/plain": [
       "  family  father  mother sex  height  nkids\n",
       "1      1    78.5    67.0   F    69.2      4\n",
       "2      1    78.5    67.0   F    69.0      4\n",
       "3      1    78.5    67.0   F    69.0      4\n",
       "6      2    75.5    66.5   F    65.5      4\n",
       "7      2    75.5    66.5   F    65.5      4"
      ]
     },
     "execution_count": 3,
     "metadata": {},
     "output_type": "execute_result"
    }
   ],
   "source": [
    "galton = pd.read_csv(\"galton.csv\")\n",
    "galton.head(10)\n",
    "male = galton.loc[galton.sex == \"M\", ]\n",
    "female = galton.loc[galton.sex == \"F\", ]\n",
    "female.head()"
   ]
  },
  {
   "cell_type": "code",
   "execution_count": 4,
   "metadata": {},
   "outputs": [],
   "source": [
    "male_copy = male.copy()\n",
    "male_train = male_copy.sample(frac = 0.75, random_state = 440)\n",
    "male_test = male_copy.drop(male_train.index)"
   ]
  },
  {
   "cell_type": "code",
   "execution_count": 5,
   "metadata": {},
   "outputs": [],
   "source": [
    "from sklearn.linear_model import LinearRegression"
   ]
  },
  {
   "cell_type": "code",
   "execution_count": 6,
   "metadata": {},
   "outputs": [
    {
     "data": {
      "text/plain": [
       "LinearRegression(copy_X=True, fit_intercept=True, n_jobs=None, normalize=False)"
      ]
     },
     "execution_count": 6,
     "metadata": {},
     "output_type": "execute_result"
    }
   ],
   "source": [
    "# For the male data regress height on the father's height, for the female data regress height on the mother's height.\n",
    "slr_m = LinearRegression(copy_X = True)\n",
    "slr_m.fit(male_train[\"father\"].values.reshape(-1, 1), male_train[\"height\"].values.ravel())"
   ]
  },
  {
   "cell_type": "code",
   "execution_count": 14,
   "metadata": {},
   "outputs": [
    {
     "name": "stdout",
     "output_type": "stream",
     "text": [
      "0.4136275005706601 40.685936759192955\n"
     ]
    }
   ],
   "source": [
    "m_b1 = slr_m.coef_[0]\n",
    "m_b0 = slr_m.intercept_\n",
    "print(m_b1, m_b0)"
   ]
  },
  {
   "cell_type": "code",
   "execution_count": 12,
   "metadata": {},
   "outputs": [
    {
     "data": {
      "text/plain": [
       "LinearRegression(copy_X=True, fit_intercept=True, n_jobs=None, normalize=False)"
      ]
     },
     "execution_count": 12,
     "metadata": {},
     "output_type": "execute_result"
    }
   ],
   "source": [
    "slr_f = LinearRegression(copy_X = True)\n",
    "slr_f.fit(female[\"mother\"].values.reshape(-1, 1), female[\"height\"].values.ravel())"
   ]
  },
  {
   "cell_type": "code",
   "execution_count": 13,
   "metadata": {},
   "outputs": [
    {
     "name": "stdout",
     "output_type": "stream",
     "text": [
      "0.32655230653888545 43.155458526315144\n"
     ]
    }
   ],
   "source": [
    "f_b1 = slr_f.coef_[0]\n",
    "f_b0 = slr_f.intercept_\n",
    "print(f_b1, f_b0)"
   ]
  },
  {
   "cell_type": "code",
   "execution_count": 10,
   "metadata": {},
   "outputs": [],
   "source": [
    "def mse(y,y_pred,r):\n",
    "    return np.round(np.sum((y-y_pred)**2)/len(y),r)"
   ]
  },
  {
   "cell_type": "code",
   "execution_count": 15,
   "metadata": {},
   "outputs": [
    {
     "name": "stdout",
     "output_type": "stream",
     "text": [
      "The training MSE is  6.1194\n"
     ]
    }
   ],
   "source": [
    "y_m_train = male_train.height.values\n",
    "y_m_train_pred = slr_m.predict(male_train.father.values.reshape(-1,1))\n",
    "print(\"The training MSE is \", mse(y_m_train, y_m_train_pred, 4))"
   ]
  },
  {
   "cell_type": "code",
   "execution_count": 17,
   "metadata": {},
   "outputs": [
    {
     "name": "stdout",
     "output_type": "stream",
     "text": [
      "The testing MSE is  5.0908\n"
     ]
    }
   ],
   "source": [
    "y_m_test = male_test.height.values\n",
    "y_m_test_pred = slr_m.predict(male_test.father.values.reshape(-1,1))\n",
    "print(\"The testing MSE is \", mse(y_m_test, y_m_test_pred, 4))"
   ]
  },
  {
   "cell_type": "markdown",
   "metadata": {},
   "source": [
    "### Assumption 1: linearity"
   ]
  },
  {
   "cell_type": "code",
   "execution_count": 19,
   "metadata": {},
   "outputs": [],
   "source": [
    "def plot_scatter_1(X, y, X_label, y_label):\n",
    "    plt.figure(figsize = (4,4))\n",
    "    plt.scatter(X, y)\n",
    "    plt.xlabel(X_label, fontsize = 16)\n",
    "    plt.ylabel(y_label, fontsize = 16)\n",
    "    plt.show()"
   ]
  },
  {
   "cell_type": "code",
   "execution_count": 20,
   "metadata": {},
   "outputs": [
    {
     "data": {
      "image/png": "[encoded data removed]",
      "text/plain": [
       "<Figure size 288x288 with 1 Axes>"
      ]
     },
     "metadata": {
      "needs_background": "light"
     },
     "output_type": "display_data"
    }
   ],
   "source": [
    "plot_scatter_1(male.father.values, male.height.values, \"sons' height\", \"fathers' height\")"
   ]
  },
  {
   "cell_type": "markdown",
   "metadata": {},
   "source": [
    "### well, sons' heights vs. fathers' heights is not so linear...  (this is from training data set)"
   ]
  },
  {
   "cell_type": "markdown",
   "metadata": {},
   "source": [
    "### Assumption 2: Whether all observations are independent"
   ]
  },
  {
   "cell_type": "code",
   "execution_count": 21,
   "metadata": {},
   "outputs": [],
   "source": [
    "def plot_scatter(data,col, res):\n",
    "    plt.figure(figsize = (4,4))\n",
    "    plt.scatter(data[col],res)\n",
    "    plt.xlabel(col, fontsize = 16)\n",
    "    plt.ylabel(\"Residual\", fontsize = 16)\n",
    "    plt.show()"
   ]
  },
  {
   "cell_type": "code",
   "execution_count": 23,
   "metadata": {},
   "outputs": [
    {
     "data": {
      "image/png": "[encoded data removed]",
      "text/plain": [
       "<Figure size 288x288 with 1 Axes>"
      ]
     },
     "metadata": {
      "needs_background": "light"
     },
     "output_type": "display_data"
    },
    {
     "data": {
      "image/png": "[encoded data removed]",
      "text/plain": [
       "<Figure size 288x288 with 1 Axes>"
      ]
     },
     "metadata": {
      "needs_background": "light"
     },
     "output_type": "display_data"
    },
    {
     "data": {
      "image/png": "[encoded data removed]",
      "text/plain": [
       "<Figure size 288x288 with 1 Axes>"
      ]
     },
     "metadata": {
      "needs_background": "light"
     },
     "output_type": "display_data"
    },
    {
     "data": {
      "image/png": "[encoded data removed]",
      "text/plain": [
       "<Figure size 288x288 with 1 Axes>"
      ]
     },
     "metadata": {
      "needs_background": "light"
     },
     "output_type": "display_data"
    },
    {
     "data": {
      "image/png": "[encoded data removed]",
      "text/plain": [
       "<Figure size 288x288 with 1 Axes>"
      ]
     },
     "metadata": {
      "needs_background": "light"
     },
     "output_type": "display_data"
    },
    {
     "data": {
      "image/png": "[encoded data removed]",
      "text/plain": [
       "<Figure size 288x288 with 1 Axes>"
      ]
     },
     "metadata": {
      "needs_background": "light"
     },
     "output_type": "display_data"
    }
   ],
   "source": [
    "y_m_train_res = y_m_train_pred - y_m_train\n",
    "for col in list(male_train.columns):\n",
    "    plot_scatter(male_train, col, y_m_train_res )"
   ]
  },
  {
   "cell_type": "markdown",
   "metadata": {},
   "source": [
    "### check the distribution of residuals"
   ]
  },
  {
   "cell_type": "code",
   "execution_count": 24,
   "metadata": {},
   "outputs": [],
   "source": [
    "def plot_hist(data):\n",
    "    plt.figure(figsize = (4,4))\n",
    "    plt.hist(data, bins=30)\n",
    "    plt.show"
   ]
  },
  {
   "cell_type": "code",
   "execution_count": 25,
   "metadata": {},
   "outputs": [
    {
     "data": {
      "image/png": "[encoded data removed]",
      "text/plain": [
       "<Figure size 288x288 with 1 Axes>"
      ]
     },
     "metadata": {
      "needs_background": "light"
     },
     "output_type": "display_data"
    }
   ],
   "source": [
    "#print(y_m_train_res)\n",
    "plot_hist(y_m_train_res)"
   ]
  },
  {
   "cell_type": "markdown",
   "metadata": {},
   "source": [
    "### the distribution of residual looks normal"
   ]
  },
  {
   "cell_type": "code",
   "execution_count": 26,
   "metadata": {},
   "outputs": [
    {
     "data": {
      "image/png": "[encoded data removed]",
      "text/plain": [
       "<Figure size 432x432 with 1 Axes>"
      ]
     },
     "metadata": {
      "needs_background": "light"
     },
     "output_type": "display_data"
    }
   ],
   "source": [
    "sns.lmplot(data=male_train, x=\"father\", y = \"height\", height=6, line_kws={'color':'red'}, ci=95)\n",
    "plt.xlabel(\"fathers' heights\", fontsize=14)\n",
    "plt.ylabel(\"sons' height\", fontsize=14)\n",
    "plt.show()"
   ]
  },
  {
   "cell_type": "markdown",
   "metadata": {},
   "source": [
    "### some how the testing mse is even smaller..."
   ]
  },
  {
   "cell_type": "markdown",
   "metadata": {},
   "source": [
    "##### 2. Let's do that Hockey\n",
    "\n",
    "Predicting what teams will do well is a pretty common goal in sports. A common approach is to assume that the hot team will just keep winning (for basketball shooting this is called the <a href=\"https://en.wikipedia.org/wiki/Hot_hand\">hot hand fallacy</a>). While a win may be an indicator of a team's overall skill level, there are some sports where a win is more an indicator of luck, see this Youtube video <a href=\"https://www.youtube.com/watch?v=HNlgISa9Giw&t=123s\">https://www.youtube.com/watch?v=HNlgISa9Giw&t=123s</a>. An example of a more luck based sport is <a href=\"https://www.wired.com/2012/11/luck-and-skill-untangled-qa-with-michael-mauboussin/\">hockey</a>. We'll examine winning trends in hockey in this problem.\n",
    "\n",
    "Load in the data from `hockey.csv`. This data contains the total wins from the first half of the season and the total wins from the second half of the season for each NHL team from 2016-2019. You'll look at this in both the explanatory and predictive sense.\n",
    "\n",
    "Hold out the 2019 season as a test set.\n",
    "\n",
    "Using the training data, plot `second_half_wins` against `first_half_wins`. Does there appear to be a linear relationship? Build an SLR model regressing `second_half_wins` on `first_half_wins`. What is the estimate of the slope? Plot the estimated line over the training data, also include the line $y=x$ for comparison. Calculate the Root Mean Square Error on both the training and test data."
   ]
  },
  {
   "cell_type": "markdown",
   "metadata": {},
   "source": [
    "Examining the article and video I linked to above, basketball is supposed to be more skill based than hockey. Let's explore that!\n",
    "\n",
    "Load in the data from `basketball.csv`. This data contains the total wins from the first half of the season and the total wins from the second half of the season for each NBA team from 2016-2019. Repeat the steps for the NHL data above, but on the NBA data.\n",
    "\n",
    "Compare and contrast your findings. Which line had the higher slope? Which model had better root mse? Make a plot of that contains the regression lines and the line $y=x$, what do you notice?"
   ]
  },
  {
   "cell_type": "code",
   "execution_count": 27,
   "metadata": {},
   "outputs": [
    {
     "name": "stdout",
     "output_type": "stream",
     "text": [
      "data length:  122\n"
     ]
    },
    {
     "data": {
      "text/html": [
       "<div>\n",
       "<style scoped>\n",
       "    .dataframe tbody tr th:only-of-type {\n",
       "        vertical-align: middle;\n",
       "    }\n",
       "\n",
       "    .dataframe tbody tr th {\n",
       "        vertical-align: top;\n",
       "    }\n",
       "\n",
       "    .dataframe thead th {\n",
       "        text-align: right;\n",
       "    }\n",
       "</style>\n",
       "<table border=\"1\" class=\"dataframe\">\n",
       "  <thead>\n",
       "    <tr style=\"text-align: right;\">\n",
       "      <th></th>\n",
       "      <th>season</th>\n",
       "      <th>team</th>\n",
       "      <th>first_half_wins</th>\n",
       "      <th>second_half_wins</th>\n",
       "    </tr>\n",
       "  </thead>\n",
       "  <tbody>\n",
       "    <tr>\n",
       "      <th>0</th>\n",
       "      <td>2016</td>\n",
       "      <td>WSH</td>\n",
       "      <td>31</td>\n",
       "      <td>25</td>\n",
       "    </tr>\n",
       "    <tr>\n",
       "      <th>1</th>\n",
       "      <td>2016</td>\n",
       "      <td>DAL</td>\n",
       "      <td>28</td>\n",
       "      <td>22</td>\n",
       "    </tr>\n",
       "    <tr>\n",
       "      <th>2</th>\n",
       "      <td>2016</td>\n",
       "      <td>STL</td>\n",
       "      <td>23</td>\n",
       "      <td>26</td>\n",
       "    </tr>\n",
       "    <tr>\n",
       "      <th>3</th>\n",
       "      <td>2016</td>\n",
       "      <td>PIT</td>\n",
       "      <td>20</td>\n",
       "      <td>28</td>\n",
       "    </tr>\n",
       "    <tr>\n",
       "      <th>4</th>\n",
       "      <td>2016</td>\n",
       "      <td>ANA</td>\n",
       "      <td>17</td>\n",
       "      <td>29</td>\n",
       "    </tr>\n",
       "  </tbody>\n",
       "</table>\n",
       "</div>"
      ],
      "text/plain": [
       "   season team  first_half_wins  second_half_wins\n",
       "0    2016  WSH               31                25\n",
       "1    2016  DAL               28                22\n",
       "2    2016  STL               23                26\n",
       "3    2016  PIT               20                28\n",
       "4    2016  ANA               17                29"
      ]
     },
     "execution_count": 27,
     "metadata": {},
     "output_type": "execute_result"
    }
   ],
   "source": [
    "hockey =pd.read_csv(\"hockey.csv\")\n",
    "print(\"data length: \", len(hockey))\n",
    "hockey.head()"
   ]
  },
  {
   "cell_type": "code",
   "execution_count": 28,
   "metadata": {},
   "outputs": [
    {
     "name": "stdout",
     "output_type": "stream",
     "text": [
      "length of training set is  91\n",
      "lenght of testing set is  31\n",
      "total number of data set  122\n"
     ]
    }
   ],
   "source": [
    "h_copy = hockey.copy()\n",
    "h_test = h_copy.loc[h_copy.season==2019,]\n",
    "h_train = h_copy.drop(h_test.index)\n",
    "print(\"length of training set is \", len(h_train))\n",
    "print(\"lenght of testing set is \",len(h_test))\n",
    "print(\"total number of data set \", len(h_train)+len(h_test))"
   ]
  },
  {
   "cell_type": "markdown",
   "metadata": {},
   "source": [
    "### Plot second_half_wins vs first_hald_wins for training data set"
   ]
  },
  {
   "cell_type": "code",
   "execution_count": 29,
   "metadata": {},
   "outputs": [
    {
     "data": {
      "image/png": "[encoded data removed]",
      "text/plain": [
       "<Figure size 288x288 with 1 Axes>"
      ]
     },
     "metadata": {
      "needs_background": "light"
     },
     "output_type": "display_data"
    }
   ],
   "source": [
    "plot_scatter_1(h_train.first_half_wins, h_train.second_half_wins, \"first_half wins\", \"second_half_wins\")"
   ]
  },
  {
   "cell_type": "code",
   "execution_count": 30,
   "metadata": {},
   "outputs": [],
   "source": [
    "slr_h = LinearRegression(copy_X=True)"
   ]
  },
  {
   "cell_type": "code",
   "execution_count": 31,
   "metadata": {},
   "outputs": [
    {
     "data": {
      "text/plain": [
       "LinearRegression(copy_X=True, fit_intercept=True, n_jobs=None, normalize=False)"
      ]
     },
     "execution_count": 31,
     "metadata": {},
     "output_type": "execute_result"
    }
   ],
   "source": [
    "slr_h.fit(h_train.first_half_wins.values.reshape(-1, 1), h_train.second_half_wins.ravel())"
   ]
  },
  {
   "cell_type": "code",
   "execution_count": 32,
   "metadata": {},
   "outputs": [
    {
     "name": "stdout",
     "output_type": "stream",
     "text": [
      "the estimate of the slope is:  0.5164471780028944\n",
      "the estimate of the intercept is:  9.87117221418234\n"
     ]
    }
   ],
   "source": [
    "h_b1 = slr_h.coef_[0]\n",
    "h_b0 = slr_h.intercept_\n",
    "print(\"the estimate of the slope is: \", h_b1)\n",
    "print(\"the estimate of the intercept is: \", h_b0)"
   ]
  },
  {
   "cell_type": "markdown",
   "metadata": {},
   "source": [
    "### Plot the estimated line over the training data"
   ]
  },
  {
   "cell_type": "code",
   "execution_count": 33,
   "metadata": {},
   "outputs": [],
   "source": [
    "x_h_train = h_train.first_half_wins.values.reshape(-1,1)\n",
    "y_h_train = h_train.second_half_wins.values\n",
    "y_h_train_pred = slr_h.predict(x_h_train)"
   ]
  },
  {
   "cell_type": "code",
   "execution_count": 37,
   "metadata": {
    "scrolled": true
   },
   "outputs": [
    {
     "data": {
      "image/png": "[encoded data removed]",
      "text/plain": [
       "<Figure size 360x360 with 1 Axes>"
      ]
     },
     "metadata": {
      "needs_background": "light"
     },
     "output_type": "display_data"
    }
   ],
   "source": [
    "min_fhw = h_train.first_half_wins.min()\n",
    "max_fhw = h_train.first_half_wins.max()\n",
    "padding = 20\n",
    "x = np.linspace(min_fhw - padding, max_fhw + padding, 1000)\n",
    "plt.figure(figsize=(5,5))\n",
    "plt.scatter(h_train.first_half_wins, h_train.second_half_wins, label=\"samples\")\n",
    "plt.plot(x_h_train, y_h_train_pred, \"k\", label=\"SLR line\", linewidth = 3)\n",
    "plt.plot(x_h_train, x_h_train, \"r\", label=\"y = x line\", linewidth = 3)\n",
    "plt.xlabel(\"first half wins\", fontsize=14)\n",
    "plt.ylabel(\"second half wins\", fontsize=14)\n",
    "plt.legend(fontsize = 12)\n",
    "plt.show()"
   ]
  },
  {
   "cell_type": "code",
   "execution_count": 35,
   "metadata": {},
   "outputs": [
    {
     "name": "stdout",
     "output_type": "stream",
     "text": [
      "the mse of training data set is:  17.2046\n",
      "the mse of testing data set is:  15.9621\n"
     ]
    }
   ],
   "source": [
    "x_h_test = h_test.first_half_wins.values.reshape(-1,1)\n",
    "y_h_test = h_test.second_half_wins.values\n",
    "y_h_test_pred = slr_h.predict(x_h_test)\n",
    "mse_h_train = mse(y_h_train,y_h_train_pred, 4)\n",
    "mse_h_test = mse(y_h_test,y_h_test_pred, 4)\n",
    "print(\"the mse of training data set is: \", mse_h_train)\n",
    "print(\"the mse of testing data set is: \", mse_h_test)"
   ]
  },
  {
   "cell_type": "markdown",
   "metadata": {},
   "source": [
    "## basketball data set"
   ]
  },
  {
   "cell_type": "code",
   "execution_count": 38,
   "metadata": {},
   "outputs": [],
   "source": [
    "basketball = pd.read_csv(\"basketball.csv\")"
   ]
  },
  {
   "cell_type": "code",
   "execution_count": 39,
   "metadata": {},
   "outputs": [
    {
     "data": {
      "text/html": [
       "<div>\n",
       "<style scoped>\n",
       "    .dataframe tbody tr th:only-of-type {\n",
       "        vertical-align: middle;\n",
       "    }\n",
       "\n",
       "    .dataframe tbody tr th {\n",
       "        vertical-align: top;\n",
       "    }\n",
       "\n",
       "    .dataframe thead th {\n",
       "        text-align: right;\n",
       "    }\n",
       "</style>\n",
       "<table border=\"1\" class=\"dataframe\">\n",
       "  <thead>\n",
       "    <tr style=\"text-align: right;\">\n",
       "      <th></th>\n",
       "      <th>season</th>\n",
       "      <th>team</th>\n",
       "      <th>first_half_wins</th>\n",
       "      <th>second_half_wins</th>\n",
       "    </tr>\n",
       "  </thead>\n",
       "  <tbody>\n",
       "    <tr>\n",
       "      <th>0</th>\n",
       "      <td>2016</td>\n",
       "      <td>GSW</td>\n",
       "      <td>37</td>\n",
       "      <td>36</td>\n",
       "    </tr>\n",
       "    <tr>\n",
       "      <th>1</th>\n",
       "      <td>2016</td>\n",
       "      <td>OKC</td>\n",
       "      <td>29</td>\n",
       "      <td>26</td>\n",
       "    </tr>\n",
       "    <tr>\n",
       "      <th>2</th>\n",
       "      <td>2016</td>\n",
       "      <td>SAC</td>\n",
       "      <td>18</td>\n",
       "      <td>15</td>\n",
       "    </tr>\n",
       "    <tr>\n",
       "      <th>3</th>\n",
       "      <td>2016</td>\n",
       "      <td>HOU</td>\n",
       "      <td>21</td>\n",
       "      <td>20</td>\n",
       "    </tr>\n",
       "    <tr>\n",
       "      <th>4</th>\n",
       "      <td>2016</td>\n",
       "      <td>BOS</td>\n",
       "      <td>22</td>\n",
       "      <td>26</td>\n",
       "    </tr>\n",
       "  </tbody>\n",
       "</table>\n",
       "</div>"
      ],
      "text/plain": [
       "   season team  first_half_wins  second_half_wins\n",
       "0    2016  GSW               37                36\n",
       "1    2016  OKC               29                26\n",
       "2    2016  SAC               18                15\n",
       "3    2016  HOU               21                20\n",
       "4    2016  BOS               22                26"
      ]
     },
     "execution_count": 39,
     "metadata": {},
     "output_type": "execute_result"
    }
   ],
   "source": [
    "basketball.head()"
   ]
  },
  {
   "cell_type": "code",
   "execution_count": 40,
   "metadata": {},
   "outputs": [
    {
     "name": "stdout",
     "output_type": "stream",
     "text": [
      "length of training set is  90\n",
      "lenght of testing set is  30\n",
      "total number of data set  120\n"
     ]
    }
   ],
   "source": [
    "b_copy = basketball.copy()\n",
    "b_test = b_copy.loc[b_copy.season==2019,]\n",
    "b_train = b_copy.drop(b_test.index)\n",
    "print(\"length of training set is \", len(b_train))\n",
    "print(\"lenght of testing set is \",len(b_test))\n",
    "print(\"total number of data set \", len(b_train)+len(b_test))"
   ]
  },
  {
   "cell_type": "code",
   "execution_count": 41,
   "metadata": {},
   "outputs": [
    {
     "data": {
      "image/png": "[encoded data removed]",
      "text/plain": [
       "<Figure size 288x288 with 1 Axes>"
      ]
     },
     "metadata": {
      "needs_background": "light"
     },
     "output_type": "display_data"
    }
   ],
   "source": [
    "plot_scatter_1(b_train.first_half_wins, b_train.second_half_wins, \"first_half wins\", \"second_half_wins\")"
   ]
  },
  {
   "cell_type": "code",
   "execution_count": 42,
   "metadata": {},
   "outputs": [
    {
     "name": "stdout",
     "output_type": "stream",
     "text": [
      "the estimate of the slope is:  0.7382714901628104\n",
      "the estimate of the intercept is:  5.34612032399391\n"
     ]
    }
   ],
   "source": [
    "slr_b = LinearRegression(copy_X=True)\n",
    "slr_b.fit(b_train.first_half_wins.values.reshape(-1, 1), b_train.second_half_wins.ravel())\n",
    "b_b1 = slr_b.coef_[0]\n",
    "b_b0 = slr_b.intercept_\n",
    "print(\"the estimate of the slope is: \", b_b1)\n",
    "print(\"the estimate of the intercept is: \", b_b0)"
   ]
  },
  {
   "cell_type": "markdown",
   "metadata": {},
   "source": [
    "### Plot the estimated line over the training data"
   ]
  },
  {
   "cell_type": "code",
   "execution_count": 43,
   "metadata": {},
   "outputs": [],
   "source": [
    "x_b_train = b_train.first_half_wins.values.reshape(-1,1)\n",
    "y_b_train = b_train.second_half_wins.values\n",
    "y_b_train_pred = slr_b.predict(x_b_train)"
   ]
  },
  {
   "cell_type": "code",
   "execution_count": 44,
   "metadata": {},
   "outputs": [
    {
     "data": {
      "image/png": "[encoded data removed]",
      "text/plain": [
       "<Figure size 360x360 with 1 Axes>"
      ]
     },
     "metadata": {
      "needs_background": "light"
     },
     "output_type": "display_data"
    }
   ],
   "source": [
    "bmin_fhw = b_train.first_half_wins.min()\n",
    "bmax_fhw = b_train.first_half_wins.max()\n",
    "x_b = np.linspace(bmin_fhw - padding, bmax_fhw + padding, 1000)\n",
    "plt.figure(figsize=(5,5))\n",
    "plt.scatter(b_train.first_half_wins, b_train.second_half_wins, label=\"samples\")\n",
    "plt.plot(x_b_train, y_b_train_pred, \"k\", label=\"SLR line\", linewidth = 3)\n",
    "plt.xlabel(\"first half wins\", fontsize=14)\n",
    "plt.ylabel(\"second half wins\", fontsize=14)\n",
    "plt.show()"
   ]
  },
  {
   "cell_type": "code",
   "execution_count": 45,
   "metadata": {},
   "outputs": [
    {
     "name": "stdout",
     "output_type": "stream",
     "text": [
      "the mse of training data set is:  22.1775\n",
      "the mse of testing data set is:  17.0542\n"
     ]
    }
   ],
   "source": [
    "x_b_test = b_test.first_half_wins.values.reshape(-1,1)\n",
    "y_b_test = b_test.second_half_wins.values\n",
    "y_b_test_pred = slr_b.predict(x_b_test)\n",
    "mse_b_train = mse(y_b_train,y_b_train_pred, 4)\n",
    "mse_b_test = mse(y_b_test,y_b_test_pred, 4)\n",
    "print(\"the mse of training data set is: \", mse_b_train)\n",
    "print(\"the mse of testing data set is: \", mse_b_test)"
   ]
  },
  {
   "cell_type": "code",
   "execution_count": null,
   "metadata": {},
   "outputs": [],
   "source": []
  }
 ],
 "metadata": {
  "kernelspec": {
   "display_name": "Python 3",
   "language": "python",
   "name": "python3"
  },
  "language_info": {
   "codemirror_mode": {
    "name": "ipython",
    "version": 3
   },
   "file_extension": ".py",
   "mimetype": "text/x-python",
   "name": "python",
   "nbconvert_exporter": "python",
   "pygments_lexer": "ipython3",
   "version": "3.7.3"
  }
 },
 "nbformat": 4,
 "nbformat_minor": 2
}
