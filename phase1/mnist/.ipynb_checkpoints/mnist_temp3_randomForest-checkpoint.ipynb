{
 "cells": [
  {
   "cell_type": "code",
   "execution_count": 2,
   "metadata": {},
   "outputs": [],
   "source": [
    "import pandas as pd\n",
    "import numpy as np\n",
    "import matplotlib.pyplot as plt\n",
    "import seaborn as sns\n",
    "sns.set_style(\"whitegrid\")"
   ]
  },
  {
   "cell_type": "code",
   "execution_count": 3,
   "metadata": {},
   "outputs": [],
   "source": [
    "from collections import defaultdict\n",
    "from functools import partial\n",
    "from itertools import repeat\n",
    "def nested_defaultdict(default_factory, depth=1):\n",
    "    result = partial(defaultdict, default_factory)\n",
    "    for _ in repeat(None, depth-1):\n",
    "        result = partial(defaultdict, result)\n",
    "    return result()\n",
    "\n",
    "def getDecisionTreeGraphic(estimator,feature_names,class_names):\n",
    "    from sklearn import tree\n",
    "    from io import StringIO\n",
    "    import pydot_ng as pydot \n",
    "    import graphviz\n",
    "    import matplotlib.pyplot as plt\n",
    "    \n",
    "    dot_data = StringIO()\n",
    "    \n",
    "      #                         class_names=classColumn,\n",
    "    out = tree.export_graphviz(estimator,out_file=None,\n",
    "                               feature_names=feature_names,\n",
    "                               class_names=class_names,\n",
    "                               filled=True, rounded=True,\n",
    "                               special_characters=True,\n",
    "                                node_ids=1,)\n",
    "    import pydotplus\n",
    "    pydot_graph = pydotplus.graph_from_dot_data(out)\n",
    "    pydot_graph.set_size('\"7,7!\"')\n",
    "    #print(pydot_graph.getvalue())\n",
    "    #graph = graphviz.Source( out)\n",
    "    graph = graphviz.Source(pydot_graph.to_string())\n",
    "    return graph"
   ]
  },
  {
   "cell_type": "code",
   "execution_count": 5,
   "metadata": {},
   "outputs": [
    {
     "name": "stdout",
     "output_type": "stream",
     "text": [
      "processing digit:  0\n",
      "processing digit:  1\n",
      "processing digit:  2\n",
      "processing digit:  3\n",
      "processing digit:  4\n",
      "processing digit:  5\n",
      "processing digit:  6\n",
      "processing digit:  7\n",
      "processing digit:  8\n",
      "processing digit:  9\n",
      "length of dfCombined:  10000\n"
     ]
    },
    {
     "data": {
      "text/html": [
       "<div>\n",
       "<style scoped>\n",
       "    .dataframe tbody tr th:only-of-type {\n",
       "        vertical-align: middle;\n",
       "    }\n",
       "\n",
       "    .dataframe tbody tr th {\n",
       "        vertical-align: top;\n",
       "    }\n",
       "\n",
       "    .dataframe thead th {\n",
       "        text-align: right;\n",
       "    }\n",
       "</style>\n",
       "<table border=\"1\" class=\"dataframe\">\n",
       "  <thead>\n",
       "    <tr style=\"text-align: right;\">\n",
       "      <th></th>\n",
       "      <th>0</th>\n",
       "      <th>1</th>\n",
       "      <th>2</th>\n",
       "      <th>3</th>\n",
       "      <th>4</th>\n",
       "      <th>5</th>\n",
       "      <th>6</th>\n",
       "      <th>7</th>\n",
       "      <th>8</th>\n",
       "      <th>9</th>\n",
       "      <th>...</th>\n",
       "      <th>775</th>\n",
       "      <th>776</th>\n",
       "      <th>777</th>\n",
       "      <th>778</th>\n",
       "      <th>779</th>\n",
       "      <th>780</th>\n",
       "      <th>781</th>\n",
       "      <th>782</th>\n",
       "      <th>783</th>\n",
       "      <th>digit</th>\n",
       "    </tr>\n",
       "  </thead>\n",
       "  <tbody>\n",
       "    <tr>\n",
       "      <th>0</th>\n",
       "      <td>0</td>\n",
       "      <td>0</td>\n",
       "      <td>0</td>\n",
       "      <td>0</td>\n",
       "      <td>0</td>\n",
       "      <td>0</td>\n",
       "      <td>0</td>\n",
       "      <td>0</td>\n",
       "      <td>0</td>\n",
       "      <td>0</td>\n",
       "      <td>...</td>\n",
       "      <td>0</td>\n",
       "      <td>0</td>\n",
       "      <td>0</td>\n",
       "      <td>0</td>\n",
       "      <td>0</td>\n",
       "      <td>0</td>\n",
       "      <td>0</td>\n",
       "      <td>0</td>\n",
       "      <td>0</td>\n",
       "      <td>0</td>\n",
       "    </tr>\n",
       "    <tr>\n",
       "      <th>1</th>\n",
       "      <td>0</td>\n",
       "      <td>0</td>\n",
       "      <td>0</td>\n",
       "      <td>0</td>\n",
       "      <td>0</td>\n",
       "      <td>0</td>\n",
       "      <td>0</td>\n",
       "      <td>0</td>\n",
       "      <td>0</td>\n",
       "      <td>0</td>\n",
       "      <td>...</td>\n",
       "      <td>0</td>\n",
       "      <td>0</td>\n",
       "      <td>0</td>\n",
       "      <td>0</td>\n",
       "      <td>0</td>\n",
       "      <td>0</td>\n",
       "      <td>0</td>\n",
       "      <td>0</td>\n",
       "      <td>0</td>\n",
       "      <td>0</td>\n",
       "    </tr>\n",
       "    <tr>\n",
       "      <th>2</th>\n",
       "      <td>0</td>\n",
       "      <td>0</td>\n",
       "      <td>0</td>\n",
       "      <td>0</td>\n",
       "      <td>0</td>\n",
       "      <td>0</td>\n",
       "      <td>0</td>\n",
       "      <td>0</td>\n",
       "      <td>0</td>\n",
       "      <td>0</td>\n",
       "      <td>...</td>\n",
       "      <td>0</td>\n",
       "      <td>0</td>\n",
       "      <td>0</td>\n",
       "      <td>0</td>\n",
       "      <td>0</td>\n",
       "      <td>0</td>\n",
       "      <td>0</td>\n",
       "      <td>0</td>\n",
       "      <td>0</td>\n",
       "      <td>0</td>\n",
       "    </tr>\n",
       "    <tr>\n",
       "      <th>3</th>\n",
       "      <td>0</td>\n",
       "      <td>0</td>\n",
       "      <td>0</td>\n",
       "      <td>0</td>\n",
       "      <td>0</td>\n",
       "      <td>0</td>\n",
       "      <td>0</td>\n",
       "      <td>0</td>\n",
       "      <td>0</td>\n",
       "      <td>0</td>\n",
       "      <td>...</td>\n",
       "      <td>0</td>\n",
       "      <td>0</td>\n",
       "      <td>0</td>\n",
       "      <td>0</td>\n",
       "      <td>0</td>\n",
       "      <td>0</td>\n",
       "      <td>0</td>\n",
       "      <td>0</td>\n",
       "      <td>0</td>\n",
       "      <td>0</td>\n",
       "    </tr>\n",
       "    <tr>\n",
       "      <th>4</th>\n",
       "      <td>0</td>\n",
       "      <td>0</td>\n",
       "      <td>0</td>\n",
       "      <td>0</td>\n",
       "      <td>0</td>\n",
       "      <td>0</td>\n",
       "      <td>0</td>\n",
       "      <td>0</td>\n",
       "      <td>0</td>\n",
       "      <td>0</td>\n",
       "      <td>...</td>\n",
       "      <td>0</td>\n",
       "      <td>0</td>\n",
       "      <td>0</td>\n",
       "      <td>0</td>\n",
       "      <td>0</td>\n",
       "      <td>0</td>\n",
       "      <td>0</td>\n",
       "      <td>0</td>\n",
       "      <td>0</td>\n",
       "      <td>0</td>\n",
       "    </tr>\n",
       "  </tbody>\n",
       "</table>\n",
       "<p>5 rows × 785 columns</p>\n",
       "</div>"
      ],
      "text/plain": [
       "   0  1  2  3  4  5  6  7  8  9  ...  775  776  777  778  779  780  781  782  \\\n",
       "0  0  0  0  0  0  0  0  0  0  0  ...    0    0    0    0    0    0    0    0   \n",
       "1  0  0  0  0  0  0  0  0  0  0  ...    0    0    0    0    0    0    0    0   \n",
       "2  0  0  0  0  0  0  0  0  0  0  ...    0    0    0    0    0    0    0    0   \n",
       "3  0  0  0  0  0  0  0  0  0  0  ...    0    0    0    0    0    0    0    0   \n",
       "4  0  0  0  0  0  0  0  0  0  0  ...    0    0    0    0    0    0    0    0   \n",
       "\n",
       "   783  digit  \n",
       "0    0      0  \n",
       "1    0      0  \n",
       "2    0      0  \n",
       "3    0      0  \n",
       "4    0      0  \n",
       "\n",
       "[5 rows x 785 columns]"
      ]
     },
     "execution_count": 5,
     "metadata": {},
     "output_type": "execute_result"
    }
   ],
   "source": [
    "short = \"short_\"\n",
    "dfCombined = pd.DataFrame()\n",
    "for d in range(10):\n",
    "    print(\"processing digit: \", d)\n",
    "    fname = \"/home/wayne/main/git/data/ch3/digit_\"+short+str(d)+\".csv\"\n",
    "    df = pd.read_csv(fname, header=None)\n",
    "    df['digit'] = d\n",
    "    dfCombined = pd.concat([dfCombined, df])\n",
    "print(\"length of dfCombined: \", len(dfCombined))\n",
    "dfCombined.head()"
   ]
  },
  {
   "cell_type": "code",
   "execution_count": 6,
   "metadata": {},
   "outputs": [],
   "source": [
    "# function performance method\n",
    "#def multiPerformance(y,y_pred,y_score,debug=False):\n",
    "def multiPerformance(y,y_pred, debug=False):\n",
    "#\n",
    "# Make our matrix\n",
    "    confusionMatrix = nested_defaultdict(int,2)\n",
    "    classes = set()\n",
    "    totalTrue = defaultdict(int)\n",
    "    totalPred = defaultdict(int)\n",
    "    for i in range(len(y_pred)):\n",
    "        trueClass = y[i]\n",
    "        classes.add(trueClass)\n",
    "        predClass = y_pred[i]\n",
    "        totalTrue[trueClass] += 1\n",
    "        totalPred[predClass] += 1\n",
    "        confusionMatrix[trueClass][predClass] += 1\n",
    "\n",
    "    if debug:\n",
    "        for trueClass in classes:\n",
    "            print(\"True: \",trueClass,end=\"\")\n",
    "            for predClass in classes:\n",
    "                print(\"\\t\",confusionMatrix[trueClass][predClass],end=\"\")\n",
    "            print()\n",
    "        print()\n",
    "    \n",
    "    accMicro = 0.0\n",
    "    accMacro = 0.0\n",
    "    for cl in classes:\n",
    "        accMicro += confusionMatrix[cl][cl]\n",
    "        accMacro += confusionMatrix[cl][cl]/totalTrue[cl]\n",
    "    accMicro /= len(y)\n",
    "    accMacro = accMacro / len(classes)\n",
    "    \n",
    "    \"\"\"\n",
    "# add the \"macro\" averaged precision and recall\n",
    "    TP = 0.0\n",
    "    TF = 0.0\n",
    "    FP = 0.0\n",
    "    FN = 0.0\n",
    "    precisionTotal = 0.0\n",
    "    recallTotal = 0.0\n",
    "    for i in range(len(classes)):\n",
    "        TP_1 = 0.0\n",
    "        TN_1 = 0.0\n",
    "        FP_1 = 0.0\n",
    "        FN_1 = 0.0\n",
    "        TP_1 += confusionMatrix[i][i]\n",
    "        for j in range(len(classes)):\n",
    "            if j != i:\n",
    "                TN_1 += confusionMatrix[j][j]\n",
    "                FP_1 += confusionMatrix[i][j]\n",
    "                FN_1 += confusionMatrix[j][i]\n",
    "        precision_1 = TP_1/(TP_1 + FN_1)\n",
    "        recall_1 = TP_1/(TP_1 + FP_1)\n",
    "        precisionTotal += precision_1\n",
    "        recallTotal += recall_1\n",
    "\n",
    "    precisionMacro = precisionTotal/len(classes)\n",
    "    recallMacro = recallTotal/len(classes)\n",
    "    \"\"\"\n",
    "    results = {\"confusionMatrix\":confusionMatrix,\"accuracyMicro\":accMicro,\"accuracyMacro\":accMacro } #, \"precisionMacro\": precisionMacro, \"recallMacro\": recallMacro}\n",
    "    return results"
   ]
  },
  {
   "cell_type": "code",
   "execution_count": 7,
   "metadata": {},
   "outputs": [],
   "source": [
    "# function runFitter\n",
    "def runFitter(estimator,X_train,y_train,X_test,y_test,debug=False):\n",
    "\n",
    "    estimator.fit(X_train,y_train)\n",
    "\n",
    "    y_train_pred = estimator.predict(X_train)\n",
    "    #y_train_score = estimator.decision_function(X_train)   \n",
    "\n",
    "    y_test_pred = estimator.predict(X_test)\n",
    "    #y_test_score = estimator.decision_function(X_test)\n",
    "\n",
    "    results_test = multiPerformance(y_test,y_test_pred,debug=False)\n",
    "    results_train = multiPerformance(y_train,y_train_pred,debug=False)\n",
    "\n",
    "    results = {\n",
    "        'cf_test':results_test['confusionMatrix'],\n",
    "        'cf_train':results_train['confusionMatrix'],\n",
    "        'accuracyMicro_test':results_test['accuracyMicro'],\n",
    "        'accuracyMacro_test':results_test['accuracyMacro'],\n",
    "        'accuracyMicro_train':results_train['accuracyMicro'],\n",
    "        'accuracyMacro_train':results_train['accuracyMacro'],\n",
    "    }\n",
    "\n",
    "    return results"
   ]
  },
  {
   "cell_type": "code",
   "execution_count": 10,
   "metadata": {},
   "outputs": [
    {
     "name": "stdout",
     "output_type": "stream",
     "text": [
      "10000\n",
      "10000\n"
     ]
    }
   ],
   "source": [
    "# prepare data\n",
    "from sklearn.utils import shuffle\n",
    "df_shuffled = shuffle(dfCombined, random_state=404)\n",
    "X = df_shuffled.to_numpy()[:,:784]\n",
    "y = df_shuffled['digit'].values\n",
    "print(len(X))\n",
    "print(len(y))"
   ]
  },
  {
   "cell_type": "code",
   "execution_count": 11,
   "metadata": {},
   "outputs": [],
   "source": [
    "# run fiiter with kfolds\n",
    "from sklearn.model_selection import StratifiedKFold\n",
    "kfolds = 5\n",
    "skf = StratifiedKFold(n_splits=kfolds)"
   ]
  },
  {
   "cell_type": "code",
   "execution_count": 13,
   "metadata": {},
   "outputs": [
    {
     "name": "stdout",
     "output_type": "stream",
     "text": [
      "data split  1.0\n",
      "data split  2.0\n",
      "data split  3.0\n",
      "data split  4.0\n",
      "data split  5.0\n",
      "Micro Accuracy train       0.877\n",
      "Micro Accuracy test        0.863\n",
      "Macro Accuracy train       0.877\n",
      "Macro Accuracy test        0.863\n",
      "\n"
     ]
    }
   ],
   "source": [
    "from sklearn.ensemble import RandomForestClassifier\n",
    "clf = RandomForestClassifier(n_estimators=100, \n",
    "                             max_depth=5, \n",
    "                             random_state=404)\n",
    "avg_accMicro_train = 0.0\n",
    "avg_accMicro_test = 0.0\n",
    "avg_accMacro_train = 0.0\n",
    "avg_accMacro_test = 0.0\n",
    "numSplits = 0.0\n",
    "\n",
    "for train_index, test_index in skf.split(X, y):\n",
    "    numSplits += 1\n",
    "    print(\"data split \", numSplits)\n",
    "    X_train, y_train = X[train_index], y[train_index]\n",
    "    X_test, y_test = X[test_index], y[test_index]\n",
    "    results = runFitter(clf, X_train, y_train, X_test, y_test, debug=False)\n",
    "    avg_accMicro_train += results['accuracyMicro_train']\n",
    "    avg_accMacro_train += results['accuracyMacro_train']\n",
    "    avg_accMicro_test += results['accuracyMicro_test']\n",
    "    avg_accMacro_test += results['accuracyMacro_test']\n",
    "avg_accMicro_train /= numSplits\n",
    "avg_accMicro_test /= numSplits\n",
    "avg_accMacro_train /= numSplits\n",
    "avg_accMacro_test /= numSplits\n",
    "\n",
    "print(\"Micro Accuracy train      \",round(avg_accMicro_train,3))\n",
    "print(\"Micro Accuracy test       \",round(avg_accMicro_test,3))\n",
    "print(\"Macro Accuracy train      \",round(avg_accMacro_train,3))\n",
    "print(\"Macro Accuracy test       \",round(avg_accMacro_test,3))\n",
    "print(\"\")\n"
   ]
  },
  {
   "cell_type": "markdown",
   "metadata": {},
   "source": [
    "### finding the optimal max_depth"
   ]
  },
  {
   "cell_type": "code",
   "execution_count": 15,
   "metadata": {},
   "outputs": [
    {
     "name": "stdout",
     "output_type": "stream",
     "text": [
      "training with max_depth =  1\n",
      "training with max_depth =  2\n",
      "training with max_depth =  3\n",
      "training with max_depth =  4\n",
      "training with max_depth =  5\n",
      "training with max_depth =  6\n",
      "training with max_depth =  7\n",
      "training with max_depth =  8\n",
      "training with max_depth =  9\n",
      "training with max_depth =  10\n",
      "training with max_depth =  11\n",
      "training with max_depth =  12\n",
      "training with max_depth =  13\n",
      "training with max_depth =  14\n",
      "training with max_depth =  15\n",
      "training with max_depth =  16\n",
      "training with max_depth =  17\n",
      "training with max_depth =  18\n",
      "training with max_depth =  19\n",
      "training with max_depth =  20\n",
      "training with max_depth =  21\n",
      "training with max_depth =  22\n",
      "training with max_depth =  23\n",
      "training with max_depth =  24\n",
      "training with max_depth =  25\n"
     ]
    },
    {
     "data": {
      "text/html": [
       "<div>\n",
       "<style scoped>\n",
       "    .dataframe tbody tr th:only-of-type {\n",
       "        vertical-align: middle;\n",
       "    }\n",
       "\n",
       "    .dataframe tbody tr th {\n",
       "        vertical-align: top;\n",
       "    }\n",
       "\n",
       "    .dataframe thead th {\n",
       "        text-align: right;\n",
       "    }\n",
       "</style>\n",
       "<table border=\"1\" class=\"dataframe\">\n",
       "  <thead>\n",
       "    <tr style=\"text-align: right;\">\n",
       "      <th></th>\n",
       "      <th>max_depth</th>\n",
       "      <th>trainError_accMicro</th>\n",
       "      <th>testError_accMicro</th>\n",
       "      <th>trainError_accMacro</th>\n",
       "      <th>testError_accMacro</th>\n",
       "    </tr>\n",
       "  </thead>\n",
       "  <tbody>\n",
       "    <tr>\n",
       "      <th>0</th>\n",
       "      <td>1.0</td>\n",
       "      <td>0.382725</td>\n",
       "      <td>0.3897</td>\n",
       "      <td>0.382725</td>\n",
       "      <td>0.3897</td>\n",
       "    </tr>\n",
       "    <tr>\n",
       "      <th>1</th>\n",
       "      <td>2.0</td>\n",
       "      <td>0.287950</td>\n",
       "      <td>0.2956</td>\n",
       "      <td>0.287950</td>\n",
       "      <td>0.2956</td>\n",
       "    </tr>\n",
       "    <tr>\n",
       "      <th>2</th>\n",
       "      <td>3.0</td>\n",
       "      <td>0.219400</td>\n",
       "      <td>0.2275</td>\n",
       "      <td>0.219400</td>\n",
       "      <td>0.2275</td>\n",
       "    </tr>\n",
       "    <tr>\n",
       "      <th>3</th>\n",
       "      <td>4.0</td>\n",
       "      <td>0.166125</td>\n",
       "      <td>0.1776</td>\n",
       "      <td>0.166125</td>\n",
       "      <td>0.1776</td>\n",
       "    </tr>\n",
       "    <tr>\n",
       "      <th>4</th>\n",
       "      <td>5.0</td>\n",
       "      <td>0.122900</td>\n",
       "      <td>0.1371</td>\n",
       "      <td>0.122900</td>\n",
       "      <td>0.1371</td>\n",
       "    </tr>\n",
       "  </tbody>\n",
       "</table>\n",
       "</div>"
      ],
      "text/plain": [
       "   max_depth  trainError_accMicro  testError_accMicro  trainError_accMacro  \\\n",
       "0        1.0             0.382725              0.3897             0.382725   \n",
       "1        2.0             0.287950              0.2956             0.287950   \n",
       "2        3.0             0.219400              0.2275             0.219400   \n",
       "3        4.0             0.166125              0.1776             0.166125   \n",
       "4        5.0             0.122900              0.1371             0.122900   \n",
       "\n",
       "   testError_accMacro  \n",
       "0              0.3897  \n",
       "1              0.2956  \n",
       "2              0.2275  \n",
       "3              0.1776  \n",
       "4              0.1371  "
      ]
     },
     "execution_count": 15,
     "metadata": {},
     "output_type": "execute_result"
    }
   ],
   "source": [
    "# loop up to max_depth = 25\n",
    "dfError = pd.DataFrame(columns=['max_depth',\n",
    "                               'trainError_accMicro',\n",
    "                               'testError_accMicro',\n",
    "                               'trainError_accMacro',\n",
    "                               'testError_accMacro'])\n",
    "for max_depth in range(1, 26):\n",
    "    print(\"training with max_depth = \", max_depth)\n",
    "    clf = RandomForestClassifier(n_estimators=100, \n",
    "                                 random_state=404,\n",
    "                                max_depth = max_depth)\n",
    "    avg_accMicro_train = 0.0\n",
    "    avg_accMicro_test = 0.0\n",
    "    avg_accMacro_train = 0.0\n",
    "    avg_accMacro_test = 0.0\n",
    "    numSplits = 0.0\n",
    "#\n",
    "\n",
    "    for train_index, test_index in skf.split(X, y):\n",
    "        numSplits += 1\n",
    "        X_train = X[train_index]\n",
    "        y_train = y[train_index]\n",
    "        X_test = X[test_index]\n",
    "        y_test = y[test_index]\n",
    "\n",
    "\n",
    "        results = runFitter(clf,X_train,y_train,X_test,y_test,debug=False)\n",
    "\n",
    "        avg_accMicro_train += results['accuracyMicro_train']\n",
    "        avg_accMacro_train += results['accuracyMacro_train']\n",
    "        avg_accMicro_test += results['accuracyMicro_test']\n",
    "        avg_accMacro_test += results['accuracyMacro_test']\n",
    "\n",
    "    avg_accMicro_train /= numSplits\n",
    "    avg_accMacro_train /= numSplits\n",
    "    avg_accMicro_test /= numSplits\n",
    "    avg_accMacro_test /= numSplits\n",
    "#\n",
    "# Fill dataframe\n",
    "    dfError = dfError.append({\n",
    "        'max_depth':max_depth,\n",
    "        'trainError_accMicro':1.0-avg_accMicro_train,'testError_accMicro':1.0-avg_accMicro_test,\n",
    "        'trainError_accMacro':1.0-avg_accMacro_train,'testError_accMacro':1.0-avg_accMacro_test,\n",
    "          }, ignore_index=True)\n",
    "dfError.head()"
   ]
  },
  {
   "cell_type": "markdown",
   "metadata": {},
   "source": [
    "### plot the accuracy vs max_depth"
   ]
  },
  {
   "cell_type": "code",
   "execution_count": 19,
   "metadata": {},
   "outputs": [
    {
     "data": {
      "application/vnd.plotly.v1+json": {
       "config": {
        "linkText": "Export to plot.ly",
        "plotlyServerURL": "https://plot.ly",
        "showLink": false
       },
       "data": [
        {
         "mode": "lines",
         "name": "Training error",
         "type": "scatter",
         "x": [
          1,
          2,
          3,
          4,
          5,
          6,
          7,
          8,
          9,
          10,
          11,
          12,
          13,
          14,
          15,
          16,
          17,
          18,
          19,
          20,
          21,
          22,
          23,
          24,
          25
         ],
         "y": [
          0.382725,
          0.28794999999999993,
          0.21939999999999993,
          0.16612499999999986,
          0.12290000000000012,
          0.09024999999999994,
          0.062325000000000075,
          0.03842499999999993,
          0.020550000000000068,
          0.010175000000000045,
          0.004724999999999979,
          0.0022249999999999215,
          0.0010499999999999954,
          0.00045000000000006146,
          0.00014999999999987246,
          4.999999999988347e-05,
          2.4999999999941735e-05,
          0,
          0,
          0,
          0,
          0,
          0,
          0,
          0
         ]
        },
        {
         "mode": "lines",
         "name": "Testing error",
         "type": "scatter",
         "x": [
          1,
          2,
          3,
          4,
          5,
          6,
          7,
          8,
          9,
          10,
          11,
          12,
          13,
          14,
          15,
          16,
          17,
          18,
          19,
          20,
          21,
          22,
          23,
          24,
          25
         ],
         "y": [
          0.38970000000000005,
          0.2956000000000001,
          0.22750000000000004,
          0.17759999999999998,
          0.1371,
          0.1099,
          0.09360000000000002,
          0.0786,
          0.06769999999999998,
          0.06229999999999991,
          0.06019999999999981,
          0.057700000000000196,
          0.05369999999999986,
          0.054200000000000026,
          0.05420000000000014,
          0.05249999999999999,
          0.05349999999999999,
          0.05180000000000007,
          0.05249999999999999,
          0.055499999999999994,
          0.05399999999999994,
          0.05289999999999995,
          0.05439999999999989,
          0.052999999999999936,
          0.05389999999999995
         ]
        }
       ],
       "layout": {
        "title": "Error (Macro accuracy) vs Model Complexity",
        "xaxis": {
         "title": "max_depth"
        },
        "yaxis": {
         "title": "Error (fraction)"
        }
       }
      },
      "text/html": [
       "<div>\n",
       "        \n",
       "        \n",
       "            <div id=\"2b095ca3-df43-470d-84e8-cd932de62ccb\" class=\"plotly-graph-div\" style=\"height:525px; width:100%;\"></div>\n",
       "            <script type=\"text/javascript\">\n",
       "                require([\"plotly\"], function(Plotly) {\n",
       "                    window.PLOTLYENV=window.PLOTLYENV || {};\n",
       "                    \n",
       "                if (document.getElementById(\"2b095ca3-df43-470d-84e8-cd932de62ccb\")) {\n",
       "                    Plotly.newPlot(\n",
       "                        '2b095ca3-df43-470d-84e8-cd932de62ccb',\n",
       "                        [{\"mode\": \"lines\", \"name\": \"Training error\", \"type\": \"scatter\", \"x\": [1.0, 2.0, 3.0, 4.0, 5.0, 6.0, 7.0, 8.0, 9.0, 10.0, 11.0, 12.0, 13.0, 14.0, 15.0, 16.0, 17.0, 18.0, 19.0, 20.0, 21.0, 22.0, 23.0, 24.0, 25.0], \"y\": [0.382725, 0.28794999999999993, 0.21939999999999993, 0.16612499999999986, 0.12290000000000012, 0.09024999999999994, 0.062325000000000075, 0.03842499999999993, 0.020550000000000068, 0.010175000000000045, 0.004724999999999979, 0.0022249999999999215, 0.0010499999999999954, 0.00045000000000006146, 0.00014999999999987246, 4.999999999988347e-05, 2.4999999999941735e-05, 0.0, 0.0, 0.0, 0.0, 0.0, 0.0, 0.0, 0.0]}, {\"mode\": \"lines\", \"name\": \"Testing error\", \"type\": \"scatter\", \"x\": [1.0, 2.0, 3.0, 4.0, 5.0, 6.0, 7.0, 8.0, 9.0, 10.0, 11.0, 12.0, 13.0, 14.0, 15.0, 16.0, 17.0, 18.0, 19.0, 20.0, 21.0, 22.0, 23.0, 24.0, 25.0], \"y\": [0.38970000000000005, 0.2956000000000001, 0.22750000000000004, 0.17759999999999998, 0.1371, 0.1099, 0.09360000000000002, 0.0786, 0.06769999999999998, 0.06229999999999991, 0.06019999999999981, 0.057700000000000196, 0.05369999999999986, 0.054200000000000026, 0.05420000000000014, 0.05249999999999999, 0.05349999999999999, 0.05180000000000007, 0.05249999999999999, 0.055499999999999994, 0.05399999999999994, 0.05289999999999995, 0.05439999999999989, 0.052999999999999936, 0.05389999999999995]}],\n",
       "                        {\"title\": \"Error (Macro accuracy) vs Model Complexity\", \"xaxis\": {\"title\": \"max_depth\"}, \"yaxis\": {\"title\": \"Error (fraction)\"}},\n",
       "                        {\"responsive\": true}\n",
       "                    ).then(function(){\n",
       "                            \n",
       "var gd = document.getElementById('2b095ca3-df43-470d-84e8-cd932de62ccb');\n",
       "var x = new MutationObserver(function (mutations, observer) {{\n",
       "        var display = window.getComputedStyle(gd).display;\n",
       "        if (!display || display === 'none') {{\n",
       "            console.log([gd, 'removed!']);\n",
       "            Plotly.purge(gd);\n",
       "            observer.disconnect();\n",
       "        }}\n",
       "}});\n",
       "\n",
       "// Listen for the removal of the full notebook cells\n",
       "var notebookContainer = gd.closest('#notebook-container');\n",
       "if (notebookContainer) {{\n",
       "    x.observe(notebookContainer, {childList: true});\n",
       "}}\n",
       "\n",
       "// Listen for the clearing of the current output cell\n",
       "var outputEl = gd.closest('.output');\n",
       "if (outputEl) {{\n",
       "    x.observe(outputEl, {childList: true});\n",
       "}}\n",
       "\n",
       "                        })\n",
       "                };\n",
       "                });\n",
       "            </script>\n",
       "        </div>"
      ]
     },
     "metadata": {},
     "output_type": "display_data"
    },
    {
     "data": {
      "application/vnd.plotly.v1+json": {
       "config": {
        "linkText": "Export to plot.ly",
        "plotlyServerURL": "https://plot.ly",
        "showLink": false
       },
       "data": [
        {
         "mode": "lines",
         "name": "Training error",
         "type": "scatter",
         "x": [
          1,
          2,
          3,
          4,
          5,
          6,
          7,
          8,
          9,
          10,
          11,
          12,
          13,
          14,
          15,
          16,
          17,
          18,
          19,
          20,
          21,
          22,
          23,
          24,
          25
         ],
         "y": [
          0.382725,
          0.28795000000000004,
          0.21940000000000004,
          0.16612499999999986,
          0.1228999999999999,
          0.09024999999999994,
          0.062325000000000075,
          0.03842499999999993,
          0.020550000000000068,
          0.010175000000000045,
          0.004724999999999979,
          0.0022249999999999215,
          0.0010499999999999954,
          0.00045000000000006146,
          0.00014999999999998348,
          5.0000000000105516e-05,
          2.500000000016378e-05,
          0,
          0,
          0,
          0,
          0,
          0,
          0,
          0
         ]
        },
        {
         "mode": "lines",
         "name": "Testing error",
         "type": "scatter",
         "x": [
          1,
          2,
          3,
          4,
          5,
          6,
          7,
          8,
          9,
          10,
          11,
          12,
          13,
          14,
          15,
          16,
          17,
          18,
          19,
          20,
          21,
          22,
          23,
          24,
          25
         ],
         "y": [
          0.38970000000000005,
          0.2956000000000001,
          0.22750000000000004,
          0.17759999999999998,
          0.1371,
          0.1099,
          0.09360000000000002,
          0.0786,
          0.06769999999999998,
          0.06229999999999991,
          0.06020000000000003,
          0.057700000000000196,
          0.05370000000000008,
          0.054200000000000026,
          0.054200000000000026,
          0.05249999999999999,
          0.05349999999999999,
          0.05180000000000007,
          0.05249999999999999,
          0.055499999999999994,
          0.05399999999999994,
          0.05289999999999995,
          0.054400000000000004,
          0.05300000000000016,
          0.05390000000000017
         ]
        }
       ],
       "layout": {
        "title": "Error (Micro accuracy) vs Model Complexity",
        "xaxis": {
         "title": "max_depth"
        },
        "yaxis": {
         "title": "Error (fraction)"
        }
       }
      },
      "text/html": [
       "<div>\n",
       "        \n",
       "        \n",
       "            <div id=\"50d69457-bd16-4c40-b065-bbcd5503658d\" class=\"plotly-graph-div\" style=\"height:525px; width:100%;\"></div>\n",
       "            <script type=\"text/javascript\">\n",
       "                require([\"plotly\"], function(Plotly) {\n",
       "                    window.PLOTLYENV=window.PLOTLYENV || {};\n",
       "                    \n",
       "                if (document.getElementById(\"50d69457-bd16-4c40-b065-bbcd5503658d\")) {\n",
       "                    Plotly.newPlot(\n",
       "                        '50d69457-bd16-4c40-b065-bbcd5503658d',\n",
       "                        [{\"mode\": \"lines\", \"name\": \"Training error\", \"type\": \"scatter\", \"x\": [1.0, 2.0, 3.0, 4.0, 5.0, 6.0, 7.0, 8.0, 9.0, 10.0, 11.0, 12.0, 13.0, 14.0, 15.0, 16.0, 17.0, 18.0, 19.0, 20.0, 21.0, 22.0, 23.0, 24.0, 25.0], \"y\": [0.382725, 0.28795000000000004, 0.21940000000000004, 0.16612499999999986, 0.1228999999999999, 0.09024999999999994, 0.062325000000000075, 0.03842499999999993, 0.020550000000000068, 0.010175000000000045, 0.004724999999999979, 0.0022249999999999215, 0.0010499999999999954, 0.00045000000000006146, 0.00014999999999998348, 5.0000000000105516e-05, 2.500000000016378e-05, 0.0, 0.0, 0.0, 0.0, 0.0, 0.0, 0.0, 0.0]}, {\"mode\": \"lines\", \"name\": \"Testing error\", \"type\": \"scatter\", \"x\": [1.0, 2.0, 3.0, 4.0, 5.0, 6.0, 7.0, 8.0, 9.0, 10.0, 11.0, 12.0, 13.0, 14.0, 15.0, 16.0, 17.0, 18.0, 19.0, 20.0, 21.0, 22.0, 23.0, 24.0, 25.0], \"y\": [0.38970000000000005, 0.2956000000000001, 0.22750000000000004, 0.17759999999999998, 0.1371, 0.1099, 0.09360000000000002, 0.0786, 0.06769999999999998, 0.06229999999999991, 0.06020000000000003, 0.057700000000000196, 0.05370000000000008, 0.054200000000000026, 0.054200000000000026, 0.05249999999999999, 0.05349999999999999, 0.05180000000000007, 0.05249999999999999, 0.055499999999999994, 0.05399999999999994, 0.05289999999999995, 0.054400000000000004, 0.05300000000000016, 0.05390000000000017]}],\n",
       "                        {\"title\": \"Error (Micro accuracy) vs Model Complexity\", \"xaxis\": {\"title\": \"max_depth\"}, \"yaxis\": {\"title\": \"Error (fraction)\"}},\n",
       "                        {\"responsive\": true}\n",
       "                    ).then(function(){\n",
       "                            \n",
       "var gd = document.getElementById('50d69457-bd16-4c40-b065-bbcd5503658d');\n",
       "var x = new MutationObserver(function (mutations, observer) {{\n",
       "        var display = window.getComputedStyle(gd).display;\n",
       "        if (!display || display === 'none') {{\n",
       "            console.log([gd, 'removed!']);\n",
       "            Plotly.purge(gd);\n",
       "            observer.disconnect();\n",
       "        }}\n",
       "}});\n",
       "\n",
       "// Listen for the removal of the full notebook cells\n",
       "var notebookContainer = gd.closest('#notebook-container');\n",
       "if (notebookContainer) {{\n",
       "    x.observe(notebookContainer, {childList: true});\n",
       "}}\n",
       "\n",
       "// Listen for the clearing of the current output cell\n",
       "var outputEl = gd.closest('.output');\n",
       "if (outputEl) {{\n",
       "    x.observe(outputEl, {childList: true});\n",
       "}}\n",
       "\n",
       "                        })\n",
       "                };\n",
       "                });\n",
       "            </script>\n",
       "        </div>"
      ]
     },
     "metadata": {},
     "output_type": "display_data"
    }
   ],
   "source": [
    "import chart_studio.plotly as py\n",
    "import numpy as np\n",
    "from plotly.offline import iplot\n",
    "import plotly.graph_objs as go\n",
    "\n",
    "trace1 = go.Scatter(\n",
    "    x = dfError['max_depth'],\n",
    "    y = dfError['trainError_accMacro'],\n",
    "    mode = 'lines',\n",
    "    name = 'Training error'\n",
    ")\n",
    "\n",
    "trace2 = go.Scatter(\n",
    "    x = dfError['max_depth'],\n",
    "    y = dfError['testError_accMacro'],\n",
    "    mode = 'lines',\n",
    "    name = 'Testing error'\n",
    ")\n",
    "\n",
    "layout = dict(\n",
    "    title='Error (Macro accuracy) vs Model Complexity',\n",
    "    xaxis = dict(title='max_depth'),\n",
    "    yaxis = dict(title='Error (fraction)')\n",
    ")\n",
    "\n",
    "data = [trace1, trace2]\n",
    "iplot(dict(data=data, layout=layout), validate=False)\n",
    "\n",
    "trace3 = go.Scatter(\n",
    "    x = dfError['max_depth'],\n",
    "    y = dfError['trainError_accMicro'],\n",
    "    mode = 'lines',\n",
    "    name = 'Training error'\n",
    ")\n",
    "\n",
    "trace4 = go.Scatter(\n",
    "    x = dfError['max_depth'],\n",
    "    y = dfError['testError_accMicro'],\n",
    "    mode = 'lines',\n",
    "    name = 'Testing error'\n",
    ")\n",
    "\n",
    "layout = dict(\n",
    "    title='Error (Micro accuracy) vs Model Complexity',\n",
    "    xaxis = dict(title='max_depth'),\n",
    "    yaxis = dict(title='Error (fraction)')\n",
    ")\n",
    "\n",
    "data = [trace3, trace4]\n",
    "iplot(dict(data=data, layout=layout), validate=False)"
   ]
  },
  {
   "cell_type": "markdown",
   "metadata": {},
   "source": [
    "###  max_depth = 12 is a good choice"
   ]
  },
  {
   "cell_type": "code",
   "execution_count": 28,
   "metadata": {},
   "outputs": [
    {
     "name": "stdout",
     "output_type": "stream",
     "text": [
      "data split  1.0\n",
      "data split  2.0\n",
      "data split  3.0\n",
      "data split  4.0\n",
      "data split  5.0\n",
      "Micro Accuracy train       0.877\n",
      "Micro Accuracy test        0.863\n",
      "Macro Accuracy train       0.877\n",
      "Macro Accuracy test        0.863\n",
      "\n"
     ]
    }
   ],
   "source": [
    "from sklearn.ensemble import RandomForestClassifier\n",
    "final_clf = RandomForestClassifier(n_estimators=100, \n",
    "                             max_depth=5, \n",
    "                             random_state=404)\n",
    "avg_accMicro_train = 0.0\n",
    "avg_accMicro_test = 0.0\n",
    "avg_accMacro_train = 0.0\n",
    "avg_accMacro_test = 0.0\n",
    "numSplits = 0.0\n",
    "\n",
    "for train_index, test_index in skf.split(X, y):\n",
    "    numSplits += 1\n",
    "    print(\"data split \", numSplits)\n",
    "    X_train, y_train = X[train_index], y[train_index]\n",
    "    X_test, y_test = X[test_index], y[test_index]\n",
    "    results = runFitter(final_clf, X_train, y_train, X_test, y_test, debug=False)\n",
    "    avg_accMicro_train += results['accuracyMicro_train']\n",
    "    avg_accMacro_train += results['accuracyMacro_train']\n",
    "    avg_accMicro_test += results['accuracyMicro_test']\n",
    "    avg_accMacro_test += results['accuracyMacro_test']\n",
    "avg_accMicro_train /= numSplits\n",
    "avg_accMicro_test /= numSplits\n",
    "avg_accMacro_train /= numSplits\n",
    "avg_accMacro_test /= numSplits\n",
    "\n",
    "print(\"Micro Accuracy train      \",round(avg_accMicro_train,3))\n",
    "print(\"Micro Accuracy test       \",round(avg_accMicro_test,3))\n",
    "print(\"Macro Accuracy train      \",round(avg_accMacro_train,3))\n",
    "print(\"Macro Accuracy test       \",round(avg_accMacro_test,3))\n",
    "print(\"\")\n"
   ]
  },
  {
   "cell_type": "markdown",
   "metadata": {},
   "source": [
    "### Feature importance"
   ]
  },
  {
   "cell_type": "code",
   "execution_count": 29,
   "metadata": {},
   "outputs": [
    {
     "name": "stdout",
     "output_type": "stream",
     "text": [
      "Name 155 importance 0.016\n",
      "Name 378 importance 0.016\n",
      "Name 462 importance 0.015\n",
      "Name 405 importance 0.014\n",
      "Name 433 importance 0.014\n",
      "Name 154 importance 0.014\n",
      "Name 377 importance 0.011\n",
      "Name 596 importance 0.011\n",
      "Name 437 importance 0.011\n",
      "Name 409 importance 0.01\n",
      "Name 568 importance 0.01\n",
      "Name 569 importance 0.01\n",
      "Name 542 importance 0.009\n",
      "Name 567 importance 0.009\n",
      "Name 408 importance 0.009\n",
      "Name 374 importance 0.009\n",
      "Name 461 importance 0.009\n",
      "Name 350 importance 0.009\n",
      "Name 239 importance 0.009\n",
      "Name 99 importance 0.009\n",
      "Name 346 importance 0.008\n",
      "Name 487 importance 0.008\n",
      "Name 318 importance 0.008\n",
      "Name 515 importance 0.008\n",
      "Name 541 importance 0.008\n",
      "Name 381 importance 0.008\n",
      "Name 156 importance 0.008\n",
      "Name 406 importance 0.007\n",
      "Name 319 importance 0.007\n",
      "Name 358 importance 0.007\n",
      "Name 488 importance 0.007\n",
      "Name 290 importance 0.007\n",
      "Name 434 importance 0.007\n",
      "Name 429 importance 0.007\n",
      "Name 595 importance 0.007\n",
      "Name 100 importance 0.007\n",
      "Name 455 importance 0.007\n",
      "Name 375 importance 0.007\n",
      "Name 597 importance 0.007\n",
      "Name 543 importance 0.007\n",
      "Name 489 importance 0.006\n",
      "Name 263 importance 0.006\n",
      "Name 379 importance 0.006\n",
      "Name 436 importance 0.006\n",
      "Name 270 importance 0.006\n",
      "Name 457 importance 0.006\n",
      "Name 401 importance 0.006\n",
      "Name 540 importance 0.006\n",
      "Name 656 importance 0.006\n",
      "Name 347 importance 0.006\n",
      "Name 212 importance 0.006\n",
      "Name 407 importance 0.006\n",
      "Name 271 importance 0.006\n",
      "Name 351 importance 0.006\n",
      "Name 299 importance 0.006\n",
      "Name 322 importance 0.005\n",
      "Name 441 importance 0.005\n",
      "Name 431 importance 0.005\n",
      "Name 486 importance 0.005\n",
      "Name 624 importance 0.005\n",
      "Name 101 importance 0.005\n",
      "Name 386 importance 0.005\n",
      "Name 352 importance 0.005\n",
      "Name 517 importance 0.005\n",
      "Name 323 importance 0.005\n",
      "Name 427 importance 0.005\n",
      "Name 238 importance 0.005\n",
      "Name 430 importance 0.005\n",
      "Name 157 importance 0.005\n",
      "Name 400 importance 0.005\n",
      "Name 402 importance 0.005\n",
      "Name 514 importance 0.005\n",
      "Name 654 importance 0.005\n",
      "Name 183 importance 0.005\n",
      "Name 262 importance 0.005\n",
      "Name 483 importance 0.005\n",
      "Name 493 importance 0.005\n",
      "Name 655 importance 0.005\n",
      "Name 459 importance 0.005\n",
      "Name 428 importance 0.005\n",
      "Name 298 importance 0.005\n",
      "Name 490 importance 0.004\n",
      "Name 513 importance 0.004\n",
      "Name 211 importance 0.004\n",
      "Name 410 importance 0.004\n",
      "Name 657 importance 0.004\n",
      "Name 404 importance 0.004\n",
      "Name 432 importance 0.004\n",
      "Name 210 importance 0.004\n",
      "Name 485 importance 0.004\n",
      "Name 539 importance 0.004\n",
      "Name 297 importance 0.004\n",
      "Name 460 importance 0.004\n",
      "Name 373 importance 0.004\n",
      "Name 102 importance 0.004\n",
      "Name 625 importance 0.004\n",
      "Name 127 importance 0.004\n",
      "Name 376 importance 0.004\n",
      "Name 435 importance 0.004\n",
      "Name 240 importance 0.004\n",
      "Name 349 importance 0.004\n",
      "Name 353 importance 0.004\n",
      "Name 180 importance 0.004\n",
      "Name 465 importance 0.004\n",
      "Name 458 importance 0.004\n",
      "Name 242 importance 0.003\n",
      "Name 354 importance 0.003\n",
      "Name 414 importance 0.003\n",
      "Name 320 importance 0.003\n",
      "Name 570 importance 0.003\n",
      "Name 295 importance 0.003\n",
      "Name 380 importance 0.003\n",
      "Name 549 importance 0.003\n",
      "Name 207 importance 0.003\n",
      "Name 463 importance 0.003\n",
      "Name 317 importance 0.003\n",
      "Name 184 importance 0.003\n",
      "Name 464 importance 0.003\n",
      "Name 266 importance 0.003\n",
      "Name 399 importance 0.003\n",
      "Name 484 importance 0.003\n",
      "Name 272 importance 0.003\n",
      "Name 355 importance 0.003\n",
      "Name 244 importance 0.003\n",
      "Name 158 importance 0.003\n",
      "Name 544 importance 0.003\n",
      "Name 345 importance 0.003\n",
      "Name 382 importance 0.003\n",
      "Name 243 importance 0.003\n",
      "Name 326 importance 0.003\n",
      "Name 348 importance 0.003\n",
      "Name 482 importance 0.003\n",
      "Name 233 importance 0.003\n",
      "Name 516 importance 0.003\n",
      "Name 594 importance 0.003\n",
      "Name 324 importance 0.003\n",
      "Name 182 importance 0.003\n",
      "Name 330 importance 0.003\n",
      "Name 268 importance 0.003\n",
      "Name 598 importance 0.003\n",
      "Name 385 importance 0.003\n",
      "Name 152 importance 0.002\n",
      "Name 524 importance 0.002\n",
      "Name 658 importance 0.002\n",
      "Name 468 importance 0.002\n",
      "Name 577 importance 0.002\n",
      "Name 237 importance 0.002\n",
      "Name 292 importance 0.002\n",
      "Name 159 importance 0.002\n",
      "Name 329 importance 0.002\n",
      "Name 659 importance 0.002\n",
      "Name 302 importance 0.002\n",
      "Name 623 importance 0.002\n",
      "Name 209 importance 0.002\n",
      "Name 241 importance 0.002\n",
      "Name 291 importance 0.002\n",
      "Name 566 importance 0.002\n",
      "Name 248 importance 0.002\n",
      "Name 234 importance 0.002\n",
      "Name 215 importance 0.002\n",
      "Name 126 importance 0.002\n",
      "Name 219 importance 0.002\n",
      "Name 235 importance 0.002\n",
      "Name 578 importance 0.002\n",
      "Name 357 importance 0.002\n",
      "Name 206 importance 0.002\n",
      "Name 403 importance 0.002\n",
      "Name 247 importance 0.002\n",
      "Name 684 importance 0.002\n",
      "Name 178 importance 0.002\n",
      "Name 343 importance 0.002\n",
      "Name 511 importance 0.002\n",
      "Name 129 importance 0.002\n",
      "Name 491 importance 0.002\n",
      "Name 413 importance 0.002\n",
      "Name 456 importance 0.002\n",
      "Name 301 importance 0.002\n",
      "Name 605 importance 0.002\n",
      "Name 265 importance 0.002\n",
      "Name 550 importance 0.002\n",
      "Name 245 importance 0.002\n",
      "Name 321 importance 0.002\n",
      "Name 518 importance 0.002\n",
      "Name 572 importance 0.002\n",
      "Name 545 importance 0.002\n",
      "Name 260 importance 0.002\n",
      "Name 327 importance 0.002\n",
      "Name 454 importance 0.002\n",
      "Name 626 importance 0.002\n",
      "Name 264 importance 0.002\n",
      "Name 150 importance 0.002\n",
      "Name 580 importance 0.002\n",
      "Name 289 importance 0.002\n",
      "Name 628 importance 0.002\n",
      "Name 512 importance 0.002\n",
      "Name 523 importance 0.001\n",
      "Name 128 importance 0.001\n",
      "Name 492 importance 0.001\n",
      "Name 325 importance 0.001\n",
      "Name 267 importance 0.001\n",
      "Name 153 importance 0.001\n",
      "Name 510 importance 0.001\n",
      "Name 520 importance 0.001\n",
      "Name 551 importance 0.001\n",
      "Name 151 importance 0.001\n",
      "Name 273 importance 0.001\n",
      "Name 574 importance 0.001\n",
      "Name 208 importance 0.001\n",
      "Name 185 importance 0.001\n",
      "Name 98 importance 0.001\n",
      "Name 521 importance 0.001\n",
      "Name 497 importance 0.001\n",
      "Name 269 importance 0.001\n",
      "Name 216 importance 0.001\n",
      "Name 179 importance 0.001\n",
      "Name 316 importance 0.001\n",
      "Name 356 importance 0.001\n",
      "Name 344 importance 0.001\n",
      "Name 125 importance 0.001\n",
      "Name 627 importance 0.001\n",
      "Name 205 importance 0.001\n",
      "Name 181 importance 0.001\n",
      "Name 103 importance 0.001\n",
      "Name 124 importance 0.001\n",
      "Name 214 importance 0.001\n",
      "Name 293 importance 0.001\n",
      "Name 575 importance 0.001\n",
      "Name 288 importance 0.001\n",
      "Name 538 importance 0.001\n",
      "Name 259 importance 0.001\n",
      "Name 246 importance 0.001\n",
      "Name 519 importance 0.001\n",
      "Name 526 importance 0.001\n",
      "Name 177 importance 0.001\n",
      "Name 213 importance 0.001\n",
      "Name 571 importance 0.001\n",
      "Name 494 importance 0.001\n",
      "Name 372 importance 0.001\n",
      "Name 685 importance 0.001\n",
      "Name 328 importance 0.001\n",
      "Name 398 importance 0.001\n",
      "Name 442 importance 0.001\n",
      "Name 660 importance 0.001\n",
      "Name 236 importance 0.001\n",
      "Name 387 importance 0.001\n",
      "Name 187 importance 0.001\n",
      "Name 296 importance 0.001\n",
      "Name 123 importance 0.001\n",
      "Name 565 importance 0.001\n",
      "Name 220 importance 0.001\n",
      "Name 496 importance 0.001\n",
      "Name 71 importance 0.001\n",
      "Name 439 importance 0.001\n",
      "Name 599 importance 0.001\n",
      "Name 440 importance 0.001\n",
      "Name 186 importance 0.001\n",
      "Name 188 importance 0.001\n",
      "Name 495 importance 0.001\n",
      "Name 686 importance 0.001\n",
      "Name 581 importance 0.001\n",
      "Name 653 importance 0.001\n",
      "Name 522 importance 0.001\n",
      "Name 714 importance 0.001\n",
      "Name 72 importance 0.001\n",
      "Name 412 importance 0.001\n",
      "Name 383 importance 0.001\n",
      "Name 682 importance 0.001\n",
      "Name 190 importance 0.001\n",
      "Name 371 importance 0.001\n",
      "Name 711 importance 0.001\n",
      "Name 274 importance 0.001\n",
      "Name 384 importance 0.001\n",
      "Name 97 importance 0.001\n",
      "Name 710 importance 0.001\n",
      "Name 683 importance 0.001\n",
      "Name 73 importance 0.001\n",
      "Name 160 importance 0.001\n",
      "Name 438 importance 0.001\n",
      "Name 359 importance 0.001\n",
      "Name 192 importance 0.001\n",
      "Name 261 importance 0.001\n",
      "Name 232 importance 0.001\n",
      "Name 579 importance 0.001\n",
      "Name 553 importance 0.001\n",
      "Name 294 importance 0.001\n",
      "Name 633 importance 0.001\n",
      "Name 622 importance 0.0\n",
      "Name 713 importance 0.0\n",
      "Name 466 importance 0.0\n",
      "Name 715 importance 0.0\n",
      "Name 546 importance 0.0\n",
      "Name 652 importance 0.0\n",
      "Name 548 importance 0.0\n",
      "Name 287 importance 0.0\n",
      "Name 609 importance 0.0\n",
      "Name 582 importance 0.0\n",
      "Name 149 importance 0.0\n",
      "Name 275 importance 0.0\n",
      "Name 96 importance 0.0\n",
      "Name 573 importance 0.0\n",
      "Name 629 importance 0.0\n",
      "Name 175 importance 0.0\n",
      "Name 631 importance 0.0\n",
      "Name 121 importance 0.0\n",
      "Name 709 importance 0.0\n",
      "Name 370 importance 0.0\n",
      "Name 249 importance 0.0\n",
      "Name 95 importance 0.0\n",
      "Name 286 importance 0.0\n",
      "Name 218 importance 0.0\n",
      "Name 576 importance 0.0\n",
      "Name 415 importance 0.0\n",
      "Name 342 importance 0.0\n",
      "Name 217 importance 0.0\n",
      "Name 537 importance 0.0\n",
      "Name 303 importance 0.0\n",
      "Name 708 importance 0.0\n",
      "Name 498 importance 0.0\n",
      "Name 630 importance 0.0\n",
      "Name 426 importance 0.0\n",
      "Name 369 importance 0.0\n",
      "Name 525 importance 0.0\n",
      "Name 661 importance 0.0\n",
      "Name 411 importance 0.0\n",
      "Name 162 importance 0.0\n",
      "Name 189 importance 0.0\n",
      "Name 315 importance 0.0\n",
      "Name 425 importance 0.0\n",
      "Name 481 importance 0.0\n",
      "Name 467 importance 0.0\n",
      "Name 621 importance 0.0\n",
      "Name 300 importance 0.0\n",
      "Name 508 importance 0.0\n",
      "Name 480 importance 0.0\n",
      "Name 341 importance 0.0\n",
      "Name 604 importance 0.0\n",
      "Name 741 importance 0.0\n",
      "Name 554 importance 0.0\n",
      "Name 681 importance 0.0\n",
      "Name 163 importance 0.0\n",
      "Name 593 importance 0.0\n",
      "Name 528 importance 0.0\n",
      "Name 689 importance 0.0\n",
      "Name 469 importance 0.0\n",
      "Name 680 importance 0.0\n",
      "Name 564 importance 0.0\n",
      "Name 499 importance 0.0\n",
      "Name 739 importance 0.0\n",
      "Name 70 importance 0.0\n",
      "Name 687 importance 0.0\n",
      "Name 688 importance 0.0\n",
      "Name 258 importance 0.0\n",
      "Name 202 importance 0.0\n",
      "Name 164 importance 0.0\n",
      "Name 509 importance 0.0\n",
      "Name 717 importance 0.0\n",
      "Name 314 importance 0.0\n",
      "Name 707 importance 0.0\n",
      "Name 535 importance 0.0\n",
      "Name 718 importance 0.0\n",
      "Name 527 importance 0.0\n",
      "Name 221 importance 0.0\n",
      "Name 174 importance 0.0\n",
      "Name 471 importance 0.0\n",
      "Name 663 importance 0.0\n",
      "Name 332 importance 0.0\n",
      "Name 529 importance 0.0\n",
      "Name 67 importance 0.0\n",
      "Name 620 importance 0.0\n",
      "Name 712 importance 0.0\n",
      "Name 470 importance 0.0\n",
      "Name 161 importance 0.0\n",
      "Name 443 importance 0.0\n",
      "Name 716 importance 0.0\n",
      "Name 173 importance 0.0\n",
      "Name 74 importance 0.0\n",
      "Name 610 importance 0.0\n",
      "Name 607 importance 0.0\n",
      "Name 600 importance 0.0\n",
      "Name 204 importance 0.0\n",
      "Name 254 importance 0.0\n",
      "Name 144 importance 0.0\n",
      "Name 635 importance 0.0\n",
      "Name 676 importance 0.0\n",
      "Name 106 importance 0.0\n",
      "Name 473 importance 0.0\n",
      "Name 507 importance 0.0\n",
      "Name 601 importance 0.0\n",
      "Name 602 importance 0.0\n",
      "Name 0 importance 0.0\n",
      "Name 1 importance 0.0\n",
      "Name 2 importance 0.0\n",
      "Name 3 importance 0.0\n",
      "Name 4 importance 0.0\n",
      "Name 5 importance 0.0\n",
      "Name 6 importance 0.0\n",
      "Name 7 importance 0.0\n",
      "Name 8 importance 0.0\n",
      "Name 9 importance 0.0\n",
      "Name 10 importance 0.0\n",
      "Name 11 importance 0.0\n",
      "Name 12 importance 0.0\n",
      "Name 13 importance 0.0\n",
      "Name 14 importance 0.0\n",
      "Name 15 importance 0.0\n",
      "Name 16 importance 0.0\n",
      "Name 17 importance 0.0\n",
      "Name 18 importance 0.0\n",
      "Name 19 importance 0.0\n",
      "Name 20 importance 0.0\n",
      "Name 21 importance 0.0\n",
      "Name 22 importance 0.0\n",
      "Name 23 importance 0.0\n",
      "Name 24 importance 0.0\n",
      "Name 25 importance 0.0\n",
      "Name 26 importance 0.0\n",
      "Name 27 importance 0.0\n",
      "Name 28 importance 0.0\n",
      "Name 29 importance 0.0\n",
      "Name 30 importance 0.0\n",
      "Name 31 importance 0.0\n",
      "Name 32 importance 0.0\n",
      "Name 33 importance 0.0\n",
      "Name 34 importance 0.0\n",
      "Name 35 importance 0.0\n",
      "Name 36 importance 0.0\n",
      "Name 37 importance 0.0\n",
      "Name 38 importance 0.0\n",
      "Name 39 importance 0.0\n",
      "Name 40 importance 0.0\n",
      "Name 41 importance 0.0\n",
      "Name 42 importance 0.0\n",
      "Name 43 importance 0.0\n",
      "Name 44 importance 0.0\n",
      "Name 45 importance 0.0\n",
      "Name 46 importance 0.0\n",
      "Name 47 importance 0.0\n",
      "Name 48 importance 0.0\n",
      "Name 49 importance 0.0\n",
      "Name 50 importance 0.0\n",
      "Name 51 importance 0.0\n",
      "Name 52 importance 0.0\n",
      "Name 53 importance 0.0\n",
      "Name 54 importance 0.0\n",
      "Name 55 importance 0.0\n",
      "Name 56 importance 0.0\n",
      "Name 57 importance 0.0\n",
      "Name 58 importance 0.0\n",
      "Name 59 importance 0.0\n",
      "Name 60 importance 0.0\n",
      "Name 61 importance 0.0\n",
      "Name 62 importance 0.0\n",
      "Name 63 importance 0.0\n",
      "Name 64 importance 0.0\n",
      "Name 65 importance 0.0\n",
      "Name 66 importance 0.0\n",
      "Name 68 importance 0.0\n",
      "Name 69 importance 0.0\n",
      "Name 75 importance 0.0\n",
      "Name 76 importance 0.0\n",
      "Name 77 importance 0.0\n",
      "Name 78 importance 0.0\n",
      "Name 79 importance 0.0\n",
      "Name 80 importance 0.0\n",
      "Name 81 importance 0.0\n",
      "Name 82 importance 0.0\n",
      "Name 83 importance 0.0\n",
      "Name 84 importance 0.0\n",
      "Name 85 importance 0.0\n",
      "Name 86 importance 0.0\n",
      "Name 87 importance 0.0\n",
      "Name 88 importance 0.0\n",
      "Name 89 importance 0.0\n",
      "Name 90 importance 0.0\n",
      "Name 91 importance 0.0\n",
      "Name 92 importance 0.0\n",
      "Name 93 importance 0.0\n",
      "Name 94 importance 0.0\n",
      "Name 104 importance 0.0\n",
      "Name 105 importance 0.0\n",
      "Name 107 importance 0.0\n",
      "Name 108 importance 0.0\n",
      "Name 109 importance 0.0\n",
      "Name 110 importance 0.0\n",
      "Name 111 importance 0.0\n",
      "Name 112 importance 0.0\n",
      "Name 113 importance 0.0\n",
      "Name 114 importance 0.0\n",
      "Name 115 importance 0.0\n",
      "Name 116 importance 0.0\n",
      "Name 117 importance 0.0\n",
      "Name 118 importance 0.0\n",
      "Name 119 importance 0.0\n",
      "Name 120 importance 0.0\n",
      "Name 122 importance 0.0\n",
      "Name 130 importance 0.0\n",
      "Name 131 importance 0.0\n",
      "Name 132 importance 0.0\n",
      "Name 133 importance 0.0\n",
      "Name 134 importance 0.0\n",
      "Name 135 importance 0.0\n",
      "Name 136 importance 0.0\n",
      "Name 137 importance 0.0\n",
      "Name 138 importance 0.0\n",
      "Name 139 importance 0.0\n",
      "Name 140 importance 0.0\n",
      "Name 141 importance 0.0\n",
      "Name 142 importance 0.0\n",
      "Name 143 importance 0.0\n",
      "Name 145 importance 0.0\n",
      "Name 146 importance 0.0\n",
      "Name 147 importance 0.0\n",
      "Name 148 importance 0.0\n",
      "Name 165 importance 0.0\n",
      "Name 166 importance 0.0\n",
      "Name 167 importance 0.0\n",
      "Name 168 importance 0.0\n",
      "Name 169 importance 0.0\n",
      "Name 170 importance 0.0\n",
      "Name 171 importance 0.0\n",
      "Name 172 importance 0.0\n",
      "Name 176 importance 0.0\n",
      "Name 191 importance 0.0\n",
      "Name 193 importance 0.0\n",
      "Name 194 importance 0.0\n",
      "Name 195 importance 0.0\n",
      "Name 196 importance 0.0\n",
      "Name 197 importance 0.0\n",
      "Name 198 importance 0.0\n",
      "Name 199 importance 0.0\n",
      "Name 200 importance 0.0\n",
      "Name 201 importance 0.0\n",
      "Name 203 importance 0.0\n",
      "Name 222 importance 0.0\n",
      "Name 223 importance 0.0\n",
      "Name 224 importance 0.0\n",
      "Name 225 importance 0.0\n",
      "Name 226 importance 0.0\n",
      "Name 227 importance 0.0\n",
      "Name 228 importance 0.0\n",
      "Name 229 importance 0.0\n",
      "Name 230 importance 0.0\n",
      "Name 231 importance 0.0\n",
      "Name 250 importance 0.0\n",
      "Name 251 importance 0.0\n",
      "Name 252 importance 0.0\n",
      "Name 253 importance 0.0\n",
      "Name 255 importance 0.0\n",
      "Name 256 importance 0.0\n",
      "Name 257 importance 0.0\n",
      "Name 276 importance 0.0\n",
      "Name 277 importance 0.0\n",
      "Name 278 importance 0.0\n",
      "Name 279 importance 0.0\n",
      "Name 280 importance 0.0\n",
      "Name 281 importance 0.0\n",
      "Name 282 importance 0.0\n",
      "Name 283 importance 0.0\n",
      "Name 284 importance 0.0\n",
      "Name 285 importance 0.0\n",
      "Name 304 importance 0.0\n",
      "Name 305 importance 0.0\n",
      "Name 306 importance 0.0\n",
      "Name 307 importance 0.0\n",
      "Name 308 importance 0.0\n",
      "Name 309 importance 0.0\n",
      "Name 310 importance 0.0\n",
      "Name 311 importance 0.0\n",
      "Name 312 importance 0.0\n",
      "Name 313 importance 0.0\n",
      "Name 331 importance 0.0\n",
      "Name 333 importance 0.0\n",
      "Name 334 importance 0.0\n",
      "Name 335 importance 0.0\n",
      "Name 336 importance 0.0\n",
      "Name 337 importance 0.0\n",
      "Name 338 importance 0.0\n",
      "Name 339 importance 0.0\n",
      "Name 340 importance 0.0\n",
      "Name 360 importance 0.0\n",
      "Name 361 importance 0.0\n",
      "Name 362 importance 0.0\n",
      "Name 363 importance 0.0\n",
      "Name 364 importance 0.0\n",
      "Name 365 importance 0.0\n",
      "Name 366 importance 0.0\n",
      "Name 367 importance 0.0\n",
      "Name 368 importance 0.0\n",
      "Name 388 importance 0.0\n",
      "Name 389 importance 0.0\n",
      "Name 390 importance 0.0\n",
      "Name 391 importance 0.0\n",
      "Name 392 importance 0.0\n",
      "Name 393 importance 0.0\n",
      "Name 394 importance 0.0\n",
      "Name 395 importance 0.0\n",
      "Name 396 importance 0.0\n",
      "Name 397 importance 0.0\n",
      "Name 416 importance 0.0\n",
      "Name 417 importance 0.0\n",
      "Name 418 importance 0.0\n",
      "Name 419 importance 0.0\n",
      "Name 420 importance 0.0\n",
      "Name 421 importance 0.0\n",
      "Name 422 importance 0.0\n",
      "Name 423 importance 0.0\n",
      "Name 424 importance 0.0\n",
      "Name 444 importance 0.0\n",
      "Name 445 importance 0.0\n",
      "Name 446 importance 0.0\n",
      "Name 447 importance 0.0\n",
      "Name 448 importance 0.0\n",
      "Name 449 importance 0.0\n",
      "Name 450 importance 0.0\n",
      "Name 451 importance 0.0\n",
      "Name 452 importance 0.0\n",
      "Name 453 importance 0.0\n",
      "Name 472 importance 0.0\n",
      "Name 474 importance 0.0\n",
      "Name 475 importance 0.0\n",
      "Name 476 importance 0.0\n",
      "Name 477 importance 0.0\n",
      "Name 478 importance 0.0\n",
      "Name 479 importance 0.0\n",
      "Name 500 importance 0.0\n",
      "Name 501 importance 0.0\n",
      "Name 502 importance 0.0\n",
      "Name 503 importance 0.0\n",
      "Name 504 importance 0.0\n",
      "Name 505 importance 0.0\n",
      "Name 506 importance 0.0\n",
      "Name 530 importance 0.0\n",
      "Name 531 importance 0.0\n",
      "Name 532 importance 0.0\n",
      "Name 533 importance 0.0\n",
      "Name 534 importance 0.0\n",
      "Name 536 importance 0.0\n",
      "Name 547 importance 0.0\n",
      "Name 552 importance 0.0\n",
      "Name 555 importance 0.0\n",
      "Name 556 importance 0.0\n",
      "Name 557 importance 0.0\n",
      "Name 558 importance 0.0\n",
      "Name 559 importance 0.0\n",
      "Name 560 importance 0.0\n",
      "Name 561 importance 0.0\n",
      "Name 562 importance 0.0\n",
      "Name 563 importance 0.0\n",
      "Name 583 importance 0.0\n",
      "Name 584 importance 0.0\n",
      "Name 585 importance 0.0\n",
      "Name 586 importance 0.0\n",
      "Name 587 importance 0.0\n",
      "Name 588 importance 0.0\n",
      "Name 589 importance 0.0\n",
      "Name 590 importance 0.0\n",
      "Name 591 importance 0.0\n",
      "Name 592 importance 0.0\n",
      "Name 603 importance 0.0\n",
      "Name 606 importance 0.0\n",
      "Name 608 importance 0.0\n",
      "Name 611 importance 0.0\n",
      "Name 612 importance 0.0\n",
      "Name 613 importance 0.0\n",
      "Name 614 importance 0.0\n",
      "Name 615 importance 0.0\n",
      "Name 616 importance 0.0\n",
      "Name 617 importance 0.0\n",
      "Name 618 importance 0.0\n",
      "Name 619 importance 0.0\n",
      "Name 632 importance 0.0\n",
      "Name 634 importance 0.0\n",
      "Name 636 importance 0.0\n",
      "Name 637 importance 0.0\n",
      "Name 638 importance 0.0\n",
      "Name 639 importance 0.0\n",
      "Name 640 importance 0.0\n",
      "Name 641 importance 0.0\n",
      "Name 642 importance 0.0\n",
      "Name 643 importance 0.0\n",
      "Name 644 importance 0.0\n",
      "Name 645 importance 0.0\n",
      "Name 646 importance 0.0\n",
      "Name 647 importance 0.0\n",
      "Name 648 importance 0.0\n",
      "Name 649 importance 0.0\n",
      "Name 650 importance 0.0\n",
      "Name 651 importance 0.0\n",
      "Name 662 importance 0.0\n",
      "Name 664 importance 0.0\n",
      "Name 665 importance 0.0\n",
      "Name 666 importance 0.0\n",
      "Name 667 importance 0.0\n",
      "Name 668 importance 0.0\n",
      "Name 669 importance 0.0\n",
      "Name 670 importance 0.0\n",
      "Name 671 importance 0.0\n",
      "Name 672 importance 0.0\n",
      "Name 673 importance 0.0\n",
      "Name 674 importance 0.0\n",
      "Name 675 importance 0.0\n",
      "Name 677 importance 0.0\n",
      "Name 678 importance 0.0\n",
      "Name 679 importance 0.0\n",
      "Name 690 importance 0.0\n",
      "Name 691 importance 0.0\n",
      "Name 692 importance 0.0\n",
      "Name 693 importance 0.0\n",
      "Name 694 importance 0.0\n",
      "Name 695 importance 0.0\n",
      "Name 696 importance 0.0\n",
      "Name 697 importance 0.0\n",
      "Name 698 importance 0.0\n",
      "Name 699 importance 0.0\n",
      "Name 700 importance 0.0\n",
      "Name 701 importance 0.0\n",
      "Name 702 importance 0.0\n",
      "Name 703 importance 0.0\n",
      "Name 704 importance 0.0\n",
      "Name 705 importance 0.0\n",
      "Name 706 importance 0.0\n",
      "Name 719 importance 0.0\n",
      "Name 720 importance 0.0\n",
      "Name 721 importance 0.0\n",
      "Name 722 importance 0.0\n",
      "Name 723 importance 0.0\n",
      "Name 724 importance 0.0\n",
      "Name 725 importance 0.0\n",
      "Name 726 importance 0.0\n",
      "Name 727 importance 0.0\n",
      "Name 728 importance 0.0\n",
      "Name 729 importance 0.0\n",
      "Name 730 importance 0.0\n",
      "Name 731 importance 0.0\n",
      "Name 732 importance 0.0\n",
      "Name 733 importance 0.0\n",
      "Name 734 importance 0.0\n",
      "Name 735 importance 0.0\n",
      "Name 736 importance 0.0\n",
      "Name 737 importance 0.0\n",
      "Name 738 importance 0.0\n",
      "Name 740 importance 0.0\n",
      "Name 742 importance 0.0\n",
      "Name 743 importance 0.0\n",
      "Name 744 importance 0.0\n",
      "Name 745 importance 0.0\n",
      "Name 746 importance 0.0\n",
      "Name 747 importance 0.0\n",
      "Name 748 importance 0.0\n",
      "Name 749 importance 0.0\n",
      "Name 750 importance 0.0\n",
      "Name 751 importance 0.0\n",
      "Name 752 importance 0.0\n",
      "Name 753 importance 0.0\n",
      "Name 754 importance 0.0\n",
      "Name 755 importance 0.0\n",
      "Name 756 importance 0.0\n",
      "Name 757 importance 0.0\n",
      "Name 758 importance 0.0\n",
      "Name 759 importance 0.0\n",
      "Name 760 importance 0.0\n",
      "Name 761 importance 0.0\n",
      "Name 762 importance 0.0\n",
      "Name 763 importance 0.0\n",
      "Name 764 importance 0.0\n",
      "Name 765 importance 0.0\n",
      "Name 766 importance 0.0\n",
      "Name 767 importance 0.0\n",
      "Name 768 importance 0.0\n",
      "Name 769 importance 0.0\n",
      "Name 770 importance 0.0\n",
      "Name 771 importance 0.0\n",
      "Name 772 importance 0.0\n",
      "Name 773 importance 0.0\n",
      "Name 774 importance 0.0\n",
      "Name 775 importance 0.0\n",
      "Name 776 importance 0.0\n",
      "Name 777 importance 0.0\n",
      "Name 778 importance 0.0\n",
      "Name 779 importance 0.0\n",
      "Name 780 importance 0.0\n",
      "Name 781 importance 0.0\n",
      "Name 782 importance 0.0\n",
      "Name 783 importance 0.0\n"
     ]
    },
    {
     "data": {
      "text/plain": [
       "'\\nimportanceByName = {}\\n#print(\"unsorted importance\")\\nfor name,importance in zip(df_shuffled.columns[:784],clf.feature_importances_):\\n    importanceByName[name] = importance\\n    #print(\"Name,importance\",name,round(importance,3))   \\n'"
      ]
     },
     "execution_count": 29,
     "metadata": {},
     "output_type": "execute_result"
    }
   ],
   "source": [
    "importanceByName = {}\n",
    "for name, importance in zip(df_shuffled.columns[:784], final_clf.feature_importances_):\n",
    "    importanceByName[name] = importance\n",
    "#    print(\"Name,importance\",name,round(importance,3))   \n",
    "\n",
    "for name in sorted(importanceByName, key=importanceByName.get, reverse=True):\n",
    "    print(\"Name\", name, \"importance\", np.round(importanceByName[name], 3))\n",
    "\"\"\"\n",
    "importanceByName = {}\n",
    "#print(\"unsorted importance\")\n",
    "for name,importance in zip(df_shuffled.columns[:784],clf.feature_importances_):\n",
    "    importanceByName[name] = importance\n",
    "    #print(\"Name,importance\",name,round(importance,3))   \n",
    "\"\"\""
   ]
  },
  {
   "cell_type": "markdown",
   "metadata": {},
   "source": [
    "### plot the importances of all pixels"
   ]
  },
  {
   "cell_type": "code",
   "execution_count": 32,
   "metadata": {},
   "outputs": [
    {
     "name": "stdout",
     "output_type": "stream",
     "text": [
      "plot with matplotlib\n"
     ]
    },
    {
     "data": {
      "image/png": "[encoded data removed]",
      "text/plain": [
       "<Figure size 432x432 with 1 Axes>"
      ]
     },
     "metadata": {},
     "output_type": "display_data"
    },
    {
     "name": "stdout",
     "output_type": "stream",
     "text": [
      "\n",
      "plot with plotly\n"
     ]
    },
    {
     "data": {
      "application/vnd.plotly.v1+json": {
       "config": {
        "linkText": "Export to plot.ly",
        "plotlyServerURL": "https://plot.ly",
        "showLink": false
       },
       "data": [
        {
         "colorscale": [
          [
           0,
           "#440154"
          ],
          [
           0.1111111111111111,
           "#482878"
          ],
          [
           0.2222222222222222,
           "#3e4989"
          ],
          [
           0.3333333333333333,
           "#31688e"
          ],
          [
           0.4444444444444444,
           "#26828e"
          ],
          [
           0.5555555555555556,
           "#1f9e89"
          ],
          [
           0.6666666666666666,
           "#35b779"
          ],
          [
           0.7777777777777778,
           "#6ece58"
          ],
          [
           0.8888888888888888,
           "#b5de2b"
          ],
          [
           1,
           "#fde725"
          ]
         ],
         "type": "heatmap",
         "x": [
          0,
          1,
          2,
          3,
          4,
          5,
          6,
          7,
          8,
          9,
          10,
          11,
          12,
          13,
          14,
          15,
          16,
          17,
          18,
          19,
          20,
          21,
          22,
          23,
          24,
          25,
          26,
          27
         ],
         "y": [
          27,
          26,
          25,
          24,
          23,
          22,
          21,
          20,
          19,
          18,
          17,
          16,
          15,
          14,
          13,
          12,
          11,
          10,
          9,
          8,
          7,
          6,
          5,
          4,
          3,
          2,
          1,
          0
         ],
         "z": [
          [
           0,
           0,
           0,
           0,
           0,
           0,
           0,
           0,
           0,
           0,
           0,
           0,
           0,
           0,
           0,
           0,
           0,
           0,
           0,
           0,
           0,
           0,
           0,
           0,
           0,
           0,
           0,
           0
          ],
          [
           0,
           0,
           0,
           0,
           0,
           0,
           0,
           0,
           0,
           0,
           0,
           0,
           0,
           0,
           0,
           0,
           0,
           0,
           0,
           0,
           0,
           0,
           0,
           0,
           0,
           0,
           0,
           0
          ],
          [
           0,
           0,
           0,
           0,
           0,
           0,
           0,
           0,
           0,
           0,
           0,
           7.43949399843439e-05,
           0,
           0,
           0.00013326445555807964,
           0.0007871646396428375,
           0.00066112152023156,
           0.0005733977208011218,
           4.089706212182804e-05,
           0,
           0,
           0,
           0,
           0,
           0,
           0,
           0,
           0
          ],
          [
           0,
           0,
           0,
           0,
           0,
           0,
           0,
           0,
           0,
           0,
           0,
           0.00034257618994246473,
           0.00038802250369703717,
           0.0006164064621882809,
           0.001286254472920816,
           0.008758084817914602,
           0.006665895012957564,
           0.005119799332780308,
           0.003866789053849175,
           0.001086039628364308,
           0,
           0,
           1.705230024212164e-05,
           0,
           0,
           0,
           0,
           0
          ],
          [
           0,
           0,
           0,
           0,
           0,
           0,
           0,
           0,
           0,
           0.0003615460096527031,
           0,
           0.000832293978191376,
           0.0010826007345361827,
           0.00117482920644639,
           0.0019773076299186816,
           0.0037703109227792725,
           0.0014689671908509395,
           0.0018492297813068282,
           0,
           0,
           0,
           0,
           0,
           0,
           0,
           0,
           0,
           0
          ],
          [
           0,
           0,
           0,
           0,
           2.2642232825845827e-05,
           0,
           0,
           0,
           0,
           0.0003990541789637303,
           0.0015906755005854944,
           0.0013600705989582427,
           0.002467395320535363,
           0.0013891362871708544,
           0.013790793587290913,
           0.016018760322917342,
           0.007565294652426704,
           0.004946206604552846,
           0.0028489155920996003,
           0.002312946604000822,
           0.0005577509090485374,
           5.9088994656970544e-05,
           0.00023455369477728112,
           0.0001693540304528407,
           0.00012099973510345091,
           0,
           0,
           0
          ],
          [
           0,
           0,
           0,
           0,
           0,
           4.1140165065191024e-05,
           8.414207505929874e-05,
           0.000367925457416993,
           0,
           0.0009536744662009607,
           0.0018857531542236107,
           0.0012271065095383693,
           0.0035739398067140466,
           0.0011101029906655452,
           0.002575937732871198,
           0.0047480298194035216,
           0.0031550503268976304,
           0.0013112921179496042,
           0.0007405547663936685,
           0.0008593129297334583,
           0.0007266913949462712,
           0.00022668204263847296,
           0.0006446440221309576,
           0,
           0.0005443641348944849,
           0,
           0,
           0
          ],
          [
           0,
           0,
           0,
           0,
           0,
           0,
           0.00012394270527390358,
           0,
           2.6161452904085443e-05,
           0.001149901064504697,
           0.0019181579123246184,
           0.003204577782827888,
           0.0013173282859241953,
           0.0022331852565572797,
           0.004227746016006942,
           0.004451062598963249,
           0.00592330514123054,
           0.0009401527080692501,
           0.0010774930385810887,
           0.0019882620259537146,
           0.001233293130029462,
           0.0003228104125301569,
           0.0003337951227416852,
           0.00196115821249684,
           0.0008013680483961285,
           8.68641783887803e-05,
           0,
           0
          ],
          [
           0,
           0,
           0,
           0,
           0,
           0,
           0,
           0,
           0.000541382706670181,
           0.002612279384948124,
           0.002017912300710344,
           0.0019585623447048255,
           0.0008695627315611457,
           0.0023859238951399243,
           0.0050183243755745725,
           0.008872997017956625,
           0.0036931981757501466,
           0.0022083197180099087,
           0.003459928724658896,
           0.002720624611453331,
           0.0028844931425430825,
           0.0017419107172952045,
           0.001017083102767925,
           0.0018986657955762725,
           0.0020375663649820023,
           0.00035005554213163,
           0,
           0
          ],
          [
           0,
           0,
           2.290415472885935e-05,
           0,
           0,
           0,
           0.0001245822961523093,
           0.001025518937449994,
           0.0017005550152534121,
           0.0005423085694657811,
           0.004689412808323863,
           0.006365915706619738,
           0.0016085540762735958,
           0.0017731485322162502,
           0.002979550946339988,
           0.0014053998479735073,
           0.002560425469762287,
           0.0012680735654131484,
           0.006155471600224422,
           0.005884484364959213,
           0.0029070166445036723,
           0.0013183652509042077,
           0.0006251782942988427,
           0.00039386717309664477,
           0,
           0,
           0,
           0
          ],
          [
           0,
           0,
           0,
           0,
           0,
           0,
           0.000336368676269969,
           0.0004094576479933896,
           0.0010516959021737529,
           0.0015789972397549689,
           0.007089708475173159,
           0.002159353174660089,
           0.0023307980704912416,
           0.0010676853168164497,
           0.0005233184650709582,
           0.00324549235483063,
           0.0008351279299421064,
           0.00413969025191197,
           0.004525342495087679,
           0.005525474813649191,
           0.000198870844897285,
           0.0018102041418886538,
           0.0022662733930137353,
           0.00031250258451618793,
           0,
           0,
           0,
           0
          ],
          [
           0,
           0,
           0,
           0,
           0,
           0,
           0.00011456639457251605,
           0.00022634750280943111,
           0.0012219823135078696,
           0.0032005889534458386,
           0.008030736771088589,
           0.007284997261951899,
           0.0033222355253906253,
           0.0017149665152963866,
           0.005472533305639373,
           0.005062543384083189,
           0.002594393519041927,
           0.0014431270254025707,
           0.0027110580245891737,
           0.0016273613366488374,
           0.000885442716425627,
           0.0023088121127272172,
           0.00257533353742983,
           0,
           7.709812764158641e-05,
           0,
           0,
           0
          ],
          [
           0,
           0,
           0,
           0,
           0,
           0.0001901289725271688,
           0.00032629065581776134,
           0.0018773235417242926,
           0.0011850270976813617,
           0.0027969617805538223,
           0.008487060375026771,
           0.005963098983338014,
           0.002648416475115842,
           0.0036461067125872506,
           0.008997280566545382,
           0.005807457017967202,
           0.005088438032472617,
           0.0036317859025403482,
           0.003424051193900618,
           0.0028949940806341713,
           0.0012046297526829021,
           0.0019385257714298293,
           0.007156515622923615,
           0.0005489390685553063,
           0,
           0,
           0,
           0
          ],
          [
           0,
           0,
           0,
           0,
           0,
           0.0002445102245304951,
           0.0003557494214568734,
           0.0006360859771521631,
           0.0008905208378545485,
           0.004030219344932598,
           0.009060416396044118,
           0.0065927263007523286,
           0.0037547094799283832,
           0.01135333880569151,
           0.015816452611643647,
           0.006232759893756404,
           0.0032432626323022685,
           0.007753386485377074,
           0.002784569914831228,
           0.0006532938421160836,
           0.000622685002096402,
           0.0025132279675926417,
           0.005112852847002132,
           0.0008622050099290471,
           0,
           0,
           0,
           0
          ],
          [
           0,
           0,
           0,
           0,
           0,
           0,
           0.0008831951317471066,
           0.002978123262778595,
           0.004937785303301922,
           0.006075873171473936,
           0.004871501841426091,
           0.001914473529592721,
           0.004360316736926748,
           0.014499271892207892,
           0.007354689830208233,
           0.005884954527921043,
           0.00914508050461155,
           0.01014882018526254,
           0.004401163994916583,
           0.00023899840913301073,
           0.0006569771824761903,
           0.0018259031458604952,
           0.0033631249491731406,
           0.00032708011974455096,
           0,
           0,
           0,
           0
          ],
          [
           0,
           0,
           0,
           0,
           0,
           0.00022151903913235883,
           0.00025443553733392,
           0.0050400601026053485,
           0.004535652234323581,
           0.0067568870215884425,
           0.004969136886058868,
           0.00530345637407473,
           0.004339682306542563,
           0.013815053099464195,
           0.006768214462924365,
           0.0037053249449639667,
           0.006167773931188054,
           0.010633469051229034,
           0.0005518222324796997,
           0.0007530200338377837,
           0.0007426816548739712,
           0.005429445517747009,
           0.0008807078817180124,
           5.5137501890552885e-05,
           0,
           0,
           0,
           0
          ],
          [
           0,
           0,
           0,
           0,
           0,
           0,
           0.00162103228359843,
           0.006653421103976499,
           0.0018241722827454013,
           0.006120613572919878,
           0.003546444245993023,
           0.004536959593779165,
           0.004092029817407961,
           0.009052795523674405,
           0.014715989294376041,
           0.0032009331104316946,
           0.003045132521976416,
           0.0035711155724520815,
           0.00048028503559269063,
           0.00021184099504520008,
           0.002437591406870748,
           0.00015208641573064068,
           5.9141632557788845e-05,
           8.007192106518124e-05,
           0,
           1.5839895422006827e-05,
           0,
           0
          ],
          [
           0,
           0,
           0,
           0,
           0.00019292976830115373,
           0.0002195387403609114,
           0.0026349281228898714,
           0.004659959653323301,
           0.002951608868608756,
           0.004173639203458628,
           0.00515923635995083,
           0.008099006602767182,
           0.007145638532277374,
           0.006386638935770188,
           0.004483471384125102,
           0.0018368495549096575,
           0.0014688973446339657,
           0.004614105697323601,
           0.0009176113520442719,
           0.0007176688898075211,
           0.0007890029018227862,
           0.0012804939091294774,
           0.0002656777964473156,
           0.00014131070714255202,
           0,
           0,
           0,
           0
          ],
          [
           0,
           0,
           0,
           9.275696105428833e-06,
           0.00019550140957354738,
           0.00012091731802604,
           0.0013883187600439114,
           0.001850659230539828,
           0.0015487790010975694,
           0.004470663785056086,
           0.004824934787837897,
           0.00787853296545927,
           0.002600042135175814,
           0.005075348923848694,
           0.0017145768594525167,
           0.0010152616542926387,
           0.0013728084247013523,
           0.0012814625603333016,
           0.0006715278033317822,
           0.0014917778460972267,
           0.0024489797739240178,
           0.0002439916315253831,
           0.000982740424539267,
           9.013330573895566e-05,
           0.00016079253058473548,
           7.456119507358735e-05,
           0,
           0
          ],
          [
           0,
           0,
           0,
           0.00010543487602242384,
           0,
           0.00031882874239949936,
           0.001043880505796387,
           0.0041646079728422025,
           0.006065666759242801,
           0.007758156572233708,
           0.009352859279912178,
           0.006538916917546275,
           0.0028409733247593324,
           0.0017012373201434824,
           0.00044437699836188455,
           0,
           0.00043027939397528934,
           0.003240380861280137,
           0.0017548845938933524,
           0.001361442548478626,
           0,
           0.0005363843041499726,
           0.00017721154866214773,
           0,
           0,
           0,
           0,
           0
          ],
          [
           0,
           0,
           0,
           0,
           0.00014661925501360988,
           0.0008037777809479034,
           0.0021076612809045364,
           0.009338874316038309,
           0.010106653571050108,
           0.009732299901226007,
           0.0032541677039993884,
           0.0009390640570230394,
           0.0017133517838732954,
           0.00037784061896713525,
           0.0013177019580945658,
           0.0010645527888700239,
           0.00033143680936000827,
           0.002385972192018704,
           0.0019385815354894126,
           0.000540477447543931,
           0.0015807689780397748,
           0.0007055124968783763,
           0.00040180418332973693,
           0,
           0,
           0,
           0,
           0
          ],
          [
           0,
           0,
           0,
           0,
           0,
           0.00016192993436736535,
           0.0025967083306539895,
           0.00674382141280337,
           0.011088479527360811,
           0.006568196663335495,
           0.002516213853106452,
           0.0007462219932455943,
           3.599877668827768e-05,
           7.102176145865205e-06,
           4.100094571580276e-06,
           0,
           0.00018897632527044062,
           0.0017763655012883479,
           0,
           3.712112674878856e-05,
           0,
           0.00040657885301912793,
           4.011815431987565e-05,
           0,
           0,
           0,
           0,
           0
          ],
          [
           0,
           0,
           0,
           0,
           7.12842221876235e-05,
           0.0002011040623211208,
           0.000497378193346492,
           0.0022659854890441943,
           0.005137269412679165,
           0.0038368326199314795,
           0.001614678479276379,
           0.0011734561842011856,
           0.0015584682099495184,
           0.000374103287286213,
           0.00026365034663289105,
           0.0003648319940251539,
           0,
           0.0005090176522076109,
           0,
           2.075743034624054e-05,
           0,
           0,
           0,
           0,
           0,
           0,
           0,
           0
          ],
          [
           0,
           0,
           0,
           0,
           0,
           0,
           0,
           0,
           0.00044267319014410026,
           0.0006910743972814188,
           0.004753230500080283,
           0.004566084407946924,
           0.006065119211620622,
           0.004381895565347294,
           0.002438363212303793,
           0.0022954315274633834,
           0.0008795841304801106,
           0.00024018929691363411,
           0,
           8.005682785571275e-05,
           0,
           0,
           0,
           0,
           0,
           0,
           0,
           0
          ],
          [
           0,
           0,
           0,
           0,
           2.0048241931425274e-05,
           0,
           0,
           0,
           0.000151527149531212,
           0.0001750020462761421,
           0.000651066407230265,
           0.0005878349780817028,
           0.0018946148944312315,
           0.0008874197625531558,
           0.0007167807760869504,
           0.00012904025561672353,
           0.00012844780092057792,
           0.00015372047129822098,
           0,
           0,
           0,
           0,
           0,
           0,
           0,
           0,
           0,
           0
          ],
          [
           0,
           0,
           0,
           0,
           0,
           0,
           0,
           0.00010877582725550233,
           0.0002809348750682039,
           0.0003589564053114761,
           0.0006113129969281571,
           0.0006332132241569045,
           6.972570007259314e-05,
           0.0004880222581019357,
           0.0006701048304029389,
           0.00045764179874588904,
           4.1223576031109105e-05,
           0.00011694963103417922,
           9.632607330527735e-05,
           0,
           0,
           0,
           0,
           0,
           0,
           0,
           0,
           0
          ],
          [
           0,
           0,
           0,
           0,
           0,
           0,
           0,
           0,
           0,
           0,
           0,
           0.0001368217234046201,
           0,
           0.00018247440731532385,
           0,
           0,
           0,
           0,
           0,
           0,
           0,
           0,
           0,
           0,
           0,
           0,
           0,
           0
          ],
          [
           0,
           0,
           0,
           0,
           0,
           0,
           0,
           0,
           0,
           0,
           0,
           0,
           0,
           0,
           0,
           0,
           0,
           0,
           0,
           0,
           0,
           0,
           0,
           0,
           0,
           0,
           0,
           0
          ]
         ]
        }
       ],
       "layout": {
        "autosize": false,
        "height": 500,
        "template": {
         "data": {
          "bar": [
           {
            "error_x": {
             "color": "#2a3f5f"
            },
            "error_y": {
             "color": "#2a3f5f"
            },
            "marker": {
             "line": {
              "color": "#E5ECF6",
              "width": 0.5
             }
            },
            "type": "bar"
           }
          ],
          "barpolar": [
           {
            "marker": {
             "line": {
              "color": "#E5ECF6",
              "width": 0.5
             }
            },
            "type": "barpolar"
           }
          ],
          "carpet": [
           {
            "aaxis": {
             "endlinecolor": "#2a3f5f",
             "gridcolor": "white",
             "linecolor": "white",
             "minorgridcolor": "white",
             "startlinecolor": "#2a3f5f"
            },
            "baxis": {
             "endlinecolor": "#2a3f5f",
             "gridcolor": "white",
             "linecolor": "white",
             "minorgridcolor": "white",
             "startlinecolor": "#2a3f5f"
            },
            "type": "carpet"
           }
          ],
          "choropleth": [
           {
            "colorbar": {
             "outlinewidth": 0,
             "ticks": ""
            },
            "type": "choropleth"
           }
          ],
          "contour": [
           {
            "colorbar": {
             "outlinewidth": 0,
             "ticks": ""
            },
            "colorscale": [
             [
              0,
              "#0d0887"
             ],
             [
              0.1111111111111111,
              "#46039f"
             ],
             [
              0.2222222222222222,
              "#7201a8"
             ],
             [
              0.3333333333333333,
              "#9c179e"
             ],
             [
              0.4444444444444444,
              "#bd3786"
             ],
             [
              0.5555555555555556,
              "#d8576b"
             ],
             [
              0.6666666666666666,
              "#ed7953"
             ],
             [
              0.7777777777777778,
              "#fb9f3a"
             ],
             [
              0.8888888888888888,
              "#fdca26"
             ],
             [
              1,
              "#f0f921"
             ]
            ],
            "type": "contour"
           }
          ],
          "contourcarpet": [
           {
            "colorbar": {
             "outlinewidth": 0,
             "ticks": ""
            },
            "type": "contourcarpet"
           }
          ],
          "heatmap": [
           {
            "colorbar": {
             "outlinewidth": 0,
             "ticks": ""
            },
            "colorscale": [
             [
              0,
              "#0d0887"
             ],
             [
              0.1111111111111111,
              "#46039f"
             ],
             [
              0.2222222222222222,
              "#7201a8"
             ],
             [
              0.3333333333333333,
              "#9c179e"
             ],
             [
              0.4444444444444444,
              "#bd3786"
             ],
             [
              0.5555555555555556,
              "#d8576b"
             ],
             [
              0.6666666666666666,
              "#ed7953"
             ],
             [
              0.7777777777777778,
              "#fb9f3a"
             ],
             [
              0.8888888888888888,
              "#fdca26"
             ],
             [
              1,
              "#f0f921"
             ]
            ],
            "type": "heatmap"
           }
          ],
          "heatmapgl": [
           {
            "colorbar": {
             "outlinewidth": 0,
             "ticks": ""
            },
            "colorscale": [
             [
              0,
              "#0d0887"
             ],
             [
              0.1111111111111111,
              "#46039f"
             ],
             [
              0.2222222222222222,
              "#7201a8"
             ],
             [
              0.3333333333333333,
              "#9c179e"
             ],
             [
              0.4444444444444444,
              "#bd3786"
             ],
             [
              0.5555555555555556,
              "#d8576b"
             ],
             [
              0.6666666666666666,
              "#ed7953"
             ],
             [
              0.7777777777777778,
              "#fb9f3a"
             ],
             [
              0.8888888888888888,
              "#fdca26"
             ],
             [
              1,
              "#f0f921"
             ]
            ],
            "type": "heatmapgl"
           }
          ],
          "histogram": [
           {
            "marker": {
             "colorbar": {
              "outlinewidth": 0,
              "ticks": ""
             }
            },
            "type": "histogram"
           }
          ],
          "histogram2d": [
           {
            "colorbar": {
             "outlinewidth": 0,
             "ticks": ""
            },
            "colorscale": [
             [
              0,
              "#0d0887"
             ],
             [
              0.1111111111111111,
              "#46039f"
             ],
             [
              0.2222222222222222,
              "#7201a8"
             ],
             [
              0.3333333333333333,
              "#9c179e"
             ],
             [
              0.4444444444444444,
              "#bd3786"
             ],
             [
              0.5555555555555556,
              "#d8576b"
             ],
             [
              0.6666666666666666,
              "#ed7953"
             ],
             [
              0.7777777777777778,
              "#fb9f3a"
             ],
             [
              0.8888888888888888,
              "#fdca26"
             ],
             [
              1,
              "#f0f921"
             ]
            ],
            "type": "histogram2d"
           }
          ],
          "histogram2dcontour": [
           {
            "colorbar": {
             "outlinewidth": 0,
             "ticks": ""
            },
            "colorscale": [
             [
              0,
              "#0d0887"
             ],
             [
              0.1111111111111111,
              "#46039f"
             ],
             [
              0.2222222222222222,
              "#7201a8"
             ],
             [
              0.3333333333333333,
              "#9c179e"
             ],
             [
              0.4444444444444444,
              "#bd3786"
             ],
             [
              0.5555555555555556,
              "#d8576b"
             ],
             [
              0.6666666666666666,
              "#ed7953"
             ],
             [
              0.7777777777777778,
              "#fb9f3a"
             ],
             [
              0.8888888888888888,
              "#fdca26"
             ],
             [
              1,
              "#f0f921"
             ]
            ],
            "type": "histogram2dcontour"
           }
          ],
          "mesh3d": [
           {
            "colorbar": {
             "outlinewidth": 0,
             "ticks": ""
            },
            "type": "mesh3d"
           }
          ],
          "parcoords": [
           {
            "line": {
             "colorbar": {
              "outlinewidth": 0,
              "ticks": ""
             }
            },
            "type": "parcoords"
           }
          ],
          "scatter": [
           {
            "marker": {
             "colorbar": {
              "outlinewidth": 0,
              "ticks": ""
             }
            },
            "type": "scatter"
           }
          ],
          "scatter3d": [
           {
            "line": {
             "colorbar": {
              "outlinewidth": 0,
              "ticks": ""
             }
            },
            "marker": {
             "colorbar": {
              "outlinewidth": 0,
              "ticks": ""
             }
            },
            "type": "scatter3d"
           }
          ],
          "scattercarpet": [
           {
            "marker": {
             "colorbar": {
              "outlinewidth": 0,
              "ticks": ""
             }
            },
            "type": "scattercarpet"
           }
          ],
          "scattergeo": [
           {
            "marker": {
             "colorbar": {
              "outlinewidth": 0,
              "ticks": ""
             }
            },
            "type": "scattergeo"
           }
          ],
          "scattergl": [
           {
            "marker": {
             "colorbar": {
              "outlinewidth": 0,
              "ticks": ""
             }
            },
            "type": "scattergl"
           }
          ],
          "scattermapbox": [
           {
            "marker": {
             "colorbar": {
              "outlinewidth": 0,
              "ticks": ""
             }
            },
            "type": "scattermapbox"
           }
          ],
          "scatterpolar": [
           {
            "marker": {
             "colorbar": {
              "outlinewidth": 0,
              "ticks": ""
             }
            },
            "type": "scatterpolar"
           }
          ],
          "scatterpolargl": [
           {
            "marker": {
             "colorbar": {
              "outlinewidth": 0,
              "ticks": ""
             }
            },
            "type": "scatterpolargl"
           }
          ],
          "scatterternary": [
           {
            "marker": {
             "colorbar": {
              "outlinewidth": 0,
              "ticks": ""
             }
            },
            "type": "scatterternary"
           }
          ],
          "surface": [
           {
            "colorbar": {
             "outlinewidth": 0,
             "ticks": ""
            },
            "colorscale": [
             [
              0,
              "#0d0887"
             ],
             [
              0.1111111111111111,
              "#46039f"
             ],
             [
              0.2222222222222222,
              "#7201a8"
             ],
             [
              0.3333333333333333,
              "#9c179e"
             ],
             [
              0.4444444444444444,
              "#bd3786"
             ],
             [
              0.5555555555555556,
              "#d8576b"
             ],
             [
              0.6666666666666666,
              "#ed7953"
             ],
             [
              0.7777777777777778,
              "#fb9f3a"
             ],
             [
              0.8888888888888888,
              "#fdca26"
             ],
             [
              1,
              "#f0f921"
             ]
            ],
            "type": "surface"
           }
          ],
          "table": [
           {
            "cells": {
             "fill": {
              "color": "#EBF0F8"
             },
             "line": {
              "color": "white"
             }
            },
            "header": {
             "fill": {
              "color": "#C8D4E3"
             },
             "line": {
              "color": "white"
             }
            },
            "type": "table"
           }
          ]
         },
         "layout": {
          "annotationdefaults": {
           "arrowcolor": "#2a3f5f",
           "arrowhead": 0,
           "arrowwidth": 1
          },
          "colorscale": {
           "diverging": [
            [
             0,
             "#8e0152"
            ],
            [
             0.1,
             "#c51b7d"
            ],
            [
             0.2,
             "#de77ae"
            ],
            [
             0.3,
             "#f1b6da"
            ],
            [
             0.4,
             "#fde0ef"
            ],
            [
             0.5,
             "#f7f7f7"
            ],
            [
             0.6,
             "#e6f5d0"
            ],
            [
             0.7,
             "#b8e186"
            ],
            [
             0.8,
             "#7fbc41"
            ],
            [
             0.9,
             "#4d9221"
            ],
            [
             1,
             "#276419"
            ]
           ],
           "sequential": [
            [
             0,
             "#0d0887"
            ],
            [
             0.1111111111111111,
             "#46039f"
            ],
            [
             0.2222222222222222,
             "#7201a8"
            ],
            [
             0.3333333333333333,
             "#9c179e"
            ],
            [
             0.4444444444444444,
             "#bd3786"
            ],
            [
             0.5555555555555556,
             "#d8576b"
            ],
            [
             0.6666666666666666,
             "#ed7953"
            ],
            [
             0.7777777777777778,
             "#fb9f3a"
            ],
            [
             0.8888888888888888,
             "#fdca26"
            ],
            [
             1,
             "#f0f921"
            ]
           ],
           "sequentialminus": [
            [
             0,
             "#0d0887"
            ],
            [
             0.1111111111111111,
             "#46039f"
            ],
            [
             0.2222222222222222,
             "#7201a8"
            ],
            [
             0.3333333333333333,
             "#9c179e"
            ],
            [
             0.4444444444444444,
             "#bd3786"
            ],
            [
             0.5555555555555556,
             "#d8576b"
            ],
            [
             0.6666666666666666,
             "#ed7953"
            ],
            [
             0.7777777777777778,
             "#fb9f3a"
            ],
            [
             0.8888888888888888,
             "#fdca26"
            ],
            [
             1,
             "#f0f921"
            ]
           ]
          },
          "colorway": [
           "#636efa",
           "#EF553B",
           "#00cc96",
           "#ab63fa",
           "#FFA15A",
           "#19d3f3",
           "#FF6692",
           "#B6E880",
           "#FF97FF",
           "#FECB52"
          ],
          "font": {
           "color": "#2a3f5f"
          },
          "geo": {
           "bgcolor": "white",
           "lakecolor": "white",
           "landcolor": "#E5ECF6",
           "showlakes": true,
           "showland": true,
           "subunitcolor": "white"
          },
          "hoverlabel": {
           "align": "left"
          },
          "hovermode": "closest",
          "mapbox": {
           "style": "light"
          },
          "paper_bgcolor": "white",
          "plot_bgcolor": "#E5ECF6",
          "polar": {
           "angularaxis": {
            "gridcolor": "white",
            "linecolor": "white",
            "ticks": ""
           },
           "bgcolor": "#E5ECF6",
           "radialaxis": {
            "gridcolor": "white",
            "linecolor": "white",
            "ticks": ""
           }
          },
          "scene": {
           "xaxis": {
            "backgroundcolor": "#E5ECF6",
            "gridcolor": "white",
            "gridwidth": 2,
            "linecolor": "white",
            "showbackground": true,
            "ticks": "",
            "zerolinecolor": "white"
           },
           "yaxis": {
            "backgroundcolor": "#E5ECF6",
            "gridcolor": "white",
            "gridwidth": 2,
            "linecolor": "white",
            "showbackground": true,
            "ticks": "",
            "zerolinecolor": "white"
           },
           "zaxis": {
            "backgroundcolor": "#E5ECF6",
            "gridcolor": "white",
            "gridwidth": 2,
            "linecolor": "white",
            "showbackground": true,
            "ticks": "",
            "zerolinecolor": "white"
           }
          },
          "shapedefaults": {
           "line": {
            "color": "#2a3f5f"
           }
          },
          "ternary": {
           "aaxis": {
            "gridcolor": "white",
            "linecolor": "white",
            "ticks": ""
           },
           "baxis": {
            "gridcolor": "white",
            "linecolor": "white",
            "ticks": ""
           },
           "bgcolor": "#E5ECF6",
           "caxis": {
            "gridcolor": "white",
            "linecolor": "white",
            "ticks": ""
           }
          },
          "title": {
           "x": 0.05
          },
          "xaxis": {
           "automargin": true,
           "gridcolor": "white",
           "linecolor": "white",
           "ticks": "",
           "zerolinecolor": "white",
           "zerolinewidth": 2
          },
          "yaxis": {
           "automargin": true,
           "gridcolor": "white",
           "linecolor": "white",
           "ticks": "",
           "zerolinecolor": "white",
           "zerolinewidth": 2
          }
         }
        },
        "width": 500
       }
      },
      "text/html": [
       "<div>\n",
       "        \n",
       "        \n",
       "            <div id=\"a6569c38-2f54-4f2c-9e4c-4b81f8df5ed7\" class=\"plotly-graph-div\" style=\"height:500px; width:500px;\"></div>\n",
       "            <script type=\"text/javascript\">\n",
       "                require([\"plotly\"], function(Plotly) {\n",
       "                    window.PLOTLYENV=window.PLOTLYENV || {};\n",
       "                    \n",
       "                if (document.getElementById(\"a6569c38-2f54-4f2c-9e4c-4b81f8df5ed7\")) {\n",
       "                    Plotly.newPlot(\n",
       "                        'a6569c38-2f54-4f2c-9e4c-4b81f8df5ed7',\n",
       "                        [{\"colorscale\": [[0.0, \"#440154\"], [0.1111111111111111, \"#482878\"], [0.2222222222222222, \"#3e4989\"], [0.3333333333333333, \"#31688e\"], [0.4444444444444444, \"#26828e\"], [0.5555555555555556, \"#1f9e89\"], [0.6666666666666666, \"#35b779\"], [0.7777777777777778, \"#6ece58\"], [0.8888888888888888, \"#b5de2b\"], [1.0, \"#fde725\"]], \"type\": \"heatmap\", \"x\": [0, 1, 2, 3, 4, 5, 6, 7, 8, 9, 10, 11, 12, 13, 14, 15, 16, 17, 18, 19, 20, 21, 22, 23, 24, 25, 26, 27], \"y\": [27, 26, 25, 24, 23, 22, 21, 20, 19, 18, 17, 16, 15, 14, 13, 12, 11, 10, 9, 8, 7, 6, 5, 4, 3, 2, 1, 0], \"z\": [[0.0, 0.0, 0.0, 0.0, 0.0, 0.0, 0.0, 0.0, 0.0, 0.0, 0.0, 0.0, 0.0, 0.0, 0.0, 0.0, 0.0, 0.0, 0.0, 0.0, 0.0, 0.0, 0.0, 0.0, 0.0, 0.0, 0.0, 0.0], [0.0, 0.0, 0.0, 0.0, 0.0, 0.0, 0.0, 0.0, 0.0, 0.0, 0.0, 0.0, 0.0, 0.0, 0.0, 0.0, 0.0, 0.0, 0.0, 0.0, 0.0, 0.0, 0.0, 0.0, 0.0, 0.0, 0.0, 0.0], [0.0, 0.0, 0.0, 0.0, 0.0, 0.0, 0.0, 0.0, 0.0, 0.0, 0.0, 7.43949399843439e-05, 0.0, 0.0, 0.00013326445555807964, 0.0007871646396428375, 0.00066112152023156, 0.0005733977208011218, 4.089706212182804e-05, 0.0, 0.0, 0.0, 0.0, 0.0, 0.0, 0.0, 0.0, 0.0], [0.0, 0.0, 0.0, 0.0, 0.0, 0.0, 0.0, 0.0, 0.0, 0.0, 0.0, 0.00034257618994246473, 0.00038802250369703717, 0.0006164064621882809, 0.001286254472920816, 0.008758084817914602, 0.006665895012957564, 0.005119799332780308, 0.003866789053849175, 0.001086039628364308, 0.0, 0.0, 1.705230024212164e-05, 0.0, 0.0, 0.0, 0.0, 0.0], [0.0, 0.0, 0.0, 0.0, 0.0, 0.0, 0.0, 0.0, 0.0, 0.0003615460096527031, 0.0, 0.000832293978191376, 0.0010826007345361827, 0.00117482920644639, 0.0019773076299186816, 0.0037703109227792725, 0.0014689671908509395, 0.0018492297813068282, 0.0, 0.0, 0.0, 0.0, 0.0, 0.0, 0.0, 0.0, 0.0, 0.0], [0.0, 0.0, 0.0, 0.0, 2.2642232825845827e-05, 0.0, 0.0, 0.0, 0.0, 0.0003990541789637303, 0.0015906755005854944, 0.0013600705989582427, 0.002467395320535363, 0.0013891362871708544, 0.013790793587290913, 0.016018760322917342, 0.007565294652426704, 0.004946206604552846, 0.0028489155920996003, 0.002312946604000822, 0.0005577509090485374, 5.9088994656970544e-05, 0.00023455369477728112, 0.0001693540304528407, 0.00012099973510345091, 0.0, 0.0, 0.0], [0.0, 0.0, 0.0, 0.0, 0.0, 4.1140165065191024e-05, 8.414207505929874e-05, 0.000367925457416993, 0.0, 0.0009536744662009607, 0.0018857531542236107, 0.0012271065095383693, 0.0035739398067140466, 0.0011101029906655452, 0.002575937732871198, 0.0047480298194035216, 0.0031550503268976304, 0.0013112921179496042, 0.0007405547663936685, 0.0008593129297334583, 0.0007266913949462712, 0.00022668204263847296, 0.0006446440221309576, 0.0, 0.0005443641348944849, 0.0, 0.0, 0.0], [0.0, 0.0, 0.0, 0.0, 0.0, 0.0, 0.00012394270527390358, 0.0, 2.6161452904085443e-05, 0.001149901064504697, 0.0019181579123246184, 0.003204577782827888, 0.0013173282859241953, 0.0022331852565572797, 0.004227746016006942, 0.004451062598963249, 0.00592330514123054, 0.0009401527080692501, 0.0010774930385810887, 0.0019882620259537146, 0.001233293130029462, 0.0003228104125301569, 0.0003337951227416852, 0.00196115821249684, 0.0008013680483961285, 8.68641783887803e-05, 0.0, 0.0], [0.0, 0.0, 0.0, 0.0, 0.0, 0.0, 0.0, 0.0, 0.000541382706670181, 0.002612279384948124, 0.002017912300710344, 0.0019585623447048255, 0.0008695627315611457, 0.0023859238951399243, 0.0050183243755745725, 0.008872997017956625, 0.0036931981757501466, 0.0022083197180099087, 0.003459928724658896, 0.002720624611453331, 0.0028844931425430825, 0.0017419107172952045, 0.001017083102767925, 0.0018986657955762725, 0.0020375663649820023, 0.00035005554213163, 0.0, 0.0], [0.0, 0.0, 2.290415472885935e-05, 0.0, 0.0, 0.0, 0.0001245822961523093, 0.001025518937449994, 0.0017005550152534121, 0.0005423085694657811, 0.004689412808323863, 0.006365915706619738, 0.0016085540762735958, 0.0017731485322162502, 0.002979550946339988, 0.0014053998479735073, 0.002560425469762287, 0.0012680735654131484, 0.006155471600224422, 0.005884484364959213, 0.0029070166445036723, 0.0013183652509042077, 0.0006251782942988427, 0.00039386717309664477, 0.0, 0.0, 0.0, 0.0], [0.0, 0.0, 0.0, 0.0, 0.0, 0.0, 0.000336368676269969, 0.0004094576479933896, 0.0010516959021737529, 0.0015789972397549689, 0.007089708475173159, 0.002159353174660089, 0.0023307980704912416, 0.0010676853168164497, 0.0005233184650709582, 0.00324549235483063, 0.0008351279299421064, 0.00413969025191197, 0.004525342495087679, 0.005525474813649191, 0.000198870844897285, 0.0018102041418886538, 0.0022662733930137353, 0.00031250258451618793, 0.0, 0.0, 0.0, 0.0], [0.0, 0.0, 0.0, 0.0, 0.0, 0.0, 0.00011456639457251605, 0.00022634750280943111, 0.0012219823135078696, 0.0032005889534458386, 0.008030736771088589, 0.007284997261951899, 0.0033222355253906253, 0.0017149665152963866, 0.005472533305639373, 0.005062543384083189, 0.002594393519041927, 0.0014431270254025707, 0.0027110580245891737, 0.0016273613366488374, 0.000885442716425627, 0.0023088121127272172, 0.00257533353742983, 0.0, 7.709812764158641e-05, 0.0, 0.0, 0.0], [0.0, 0.0, 0.0, 0.0, 0.0, 0.0001901289725271688, 0.00032629065581776134, 0.0018773235417242926, 0.0011850270976813617, 0.0027969617805538223, 0.008487060375026771, 0.005963098983338014, 0.002648416475115842, 0.0036461067125872506, 0.008997280566545382, 0.005807457017967202, 0.005088438032472617, 0.0036317859025403482, 0.003424051193900618, 0.0028949940806341713, 0.0012046297526829021, 0.0019385257714298293, 0.007156515622923615, 0.0005489390685553063, 0.0, 0.0, 0.0, 0.0], [0.0, 0.0, 0.0, 0.0, 0.0, 0.0002445102245304951, 0.0003557494214568734, 0.0006360859771521631, 0.0008905208378545485, 0.004030219344932598, 0.009060416396044118, 0.0065927263007523286, 0.0037547094799283832, 0.01135333880569151, 0.015816452611643647, 0.006232759893756404, 0.0032432626323022685, 0.007753386485377074, 0.002784569914831228, 0.0006532938421160836, 0.000622685002096402, 0.0025132279675926417, 0.005112852847002132, 0.0008622050099290471, 0.0, 0.0, 0.0, 0.0], [0.0, 0.0, 0.0, 0.0, 0.0, 0.0, 0.0008831951317471066, 0.002978123262778595, 0.004937785303301922, 0.006075873171473936, 0.004871501841426091, 0.001914473529592721, 0.004360316736926748, 0.014499271892207892, 0.007354689830208233, 0.005884954527921043, 0.00914508050461155, 0.01014882018526254, 0.004401163994916583, 0.00023899840913301073, 0.0006569771824761903, 0.0018259031458604952, 0.0033631249491731406, 0.00032708011974455096, 0.0, 0.0, 0.0, 0.0], [0.0, 0.0, 0.0, 0.0, 0.0, 0.00022151903913235883, 0.00025443553733392, 0.0050400601026053485, 0.004535652234323581, 0.0067568870215884425, 0.004969136886058868, 0.00530345637407473, 0.004339682306542563, 0.013815053099464195, 0.006768214462924365, 0.0037053249449639667, 0.006167773931188054, 0.010633469051229034, 0.0005518222324796997, 0.0007530200338377837, 0.0007426816548739712, 0.005429445517747009, 0.0008807078817180124, 5.5137501890552885e-05, 0.0, 0.0, 0.0, 0.0], [0.0, 0.0, 0.0, 0.0, 0.0, 0.0, 0.00162103228359843, 0.006653421103976499, 0.0018241722827454013, 0.006120613572919878, 0.003546444245993023, 0.004536959593779165, 0.004092029817407961, 0.009052795523674405, 0.014715989294376041, 0.0032009331104316946, 0.003045132521976416, 0.0035711155724520815, 0.00048028503559269063, 0.00021184099504520008, 0.002437591406870748, 0.00015208641573064068, 5.9141632557788845e-05, 8.007192106518124e-05, 0.0, 1.5839895422006827e-05, 0.0, 0.0], [0.0, 0.0, 0.0, 0.0, 0.00019292976830115373, 0.0002195387403609114, 0.0026349281228898714, 0.004659959653323301, 0.002951608868608756, 0.004173639203458628, 0.00515923635995083, 0.008099006602767182, 0.007145638532277374, 0.006386638935770188, 0.004483471384125102, 0.0018368495549096575, 0.0014688973446339657, 0.004614105697323601, 0.0009176113520442719, 0.0007176688898075211, 0.0007890029018227862, 0.0012804939091294774, 0.0002656777964473156, 0.00014131070714255202, 0.0, 0.0, 0.0, 0.0], [0.0, 0.0, 0.0, 9.275696105428833e-06, 0.00019550140957354738, 0.00012091731802604, 0.0013883187600439114, 0.001850659230539828, 0.0015487790010975694, 0.004470663785056086, 0.004824934787837897, 0.00787853296545927, 0.002600042135175814, 0.005075348923848694, 0.0017145768594525167, 0.0010152616542926387, 0.0013728084247013523, 0.0012814625603333016, 0.0006715278033317822, 0.0014917778460972267, 0.0024489797739240178, 0.0002439916315253831, 0.000982740424539267, 9.013330573895566e-05, 0.00016079253058473548, 7.456119507358735e-05, 0.0, 0.0], [0.0, 0.0, 0.0, 0.00010543487602242384, 0.0, 0.00031882874239949936, 0.001043880505796387, 0.0041646079728422025, 0.006065666759242801, 0.007758156572233708, 0.009352859279912178, 0.006538916917546275, 0.0028409733247593324, 0.0017012373201434824, 0.00044437699836188455, 0.0, 0.00043027939397528934, 0.003240380861280137, 0.0017548845938933524, 0.001361442548478626, 0.0, 0.0005363843041499726, 0.00017721154866214773, 0.0, 0.0, 0.0, 0.0, 0.0], [0.0, 0.0, 0.0, 0.0, 0.00014661925501360988, 0.0008037777809479034, 0.0021076612809045364, 0.009338874316038309, 0.010106653571050108, 0.009732299901226007, 0.0032541677039993884, 0.0009390640570230394, 0.0017133517838732954, 0.00037784061896713525, 0.0013177019580945658, 0.0010645527888700239, 0.00033143680936000827, 0.002385972192018704, 0.0019385815354894126, 0.000540477447543931, 0.0015807689780397748, 0.0007055124968783763, 0.00040180418332973693, 0.0, 0.0, 0.0, 0.0, 0.0], [0.0, 0.0, 0.0, 0.0, 0.0, 0.00016192993436736535, 0.0025967083306539895, 0.00674382141280337, 0.011088479527360811, 0.006568196663335495, 0.002516213853106452, 0.0007462219932455943, 3.599877668827768e-05, 7.102176145865205e-06, 4.100094571580276e-06, 0.0, 0.00018897632527044062, 0.0017763655012883479, 0.0, 3.712112674878856e-05, 0.0, 0.00040657885301912793, 4.011815431987565e-05, 0.0, 0.0, 0.0, 0.0, 0.0], [0.0, 0.0, 0.0, 0.0, 7.12842221876235e-05, 0.0002011040623211208, 0.000497378193346492, 0.0022659854890441943, 0.005137269412679165, 0.0038368326199314795, 0.001614678479276379, 0.0011734561842011856, 0.0015584682099495184, 0.000374103287286213, 0.00026365034663289105, 0.0003648319940251539, 0.0, 0.0005090176522076109, 0.0, 2.075743034624054e-05, 0.0, 0.0, 0.0, 0.0, 0.0, 0.0, 0.0, 0.0], [0.0, 0.0, 0.0, 0.0, 0.0, 0.0, 0.0, 0.0, 0.00044267319014410026, 0.0006910743972814188, 0.004753230500080283, 0.004566084407946924, 0.006065119211620622, 0.004381895565347294, 0.002438363212303793, 0.0022954315274633834, 0.0008795841304801106, 0.00024018929691363411, 0.0, 8.005682785571275e-05, 0.0, 0.0, 0.0, 0.0, 0.0, 0.0, 0.0, 0.0], [0.0, 0.0, 0.0, 0.0, 2.0048241931425274e-05, 0.0, 0.0, 0.0, 0.000151527149531212, 0.0001750020462761421, 0.000651066407230265, 0.0005878349780817028, 0.0018946148944312315, 0.0008874197625531558, 0.0007167807760869504, 0.00012904025561672353, 0.00012844780092057792, 0.00015372047129822098, 0.0, 0.0, 0.0, 0.0, 0.0, 0.0, 0.0, 0.0, 0.0, 0.0], [0.0, 0.0, 0.0, 0.0, 0.0, 0.0, 0.0, 0.00010877582725550233, 0.0002809348750682039, 0.0003589564053114761, 0.0006113129969281571, 0.0006332132241569045, 6.972570007259314e-05, 0.0004880222581019357, 0.0006701048304029389, 0.00045764179874588904, 4.1223576031109105e-05, 0.00011694963103417922, 9.632607330527735e-05, 0.0, 0.0, 0.0, 0.0, 0.0, 0.0, 0.0, 0.0, 0.0], [0.0, 0.0, 0.0, 0.0, 0.0, 0.0, 0.0, 0.0, 0.0, 0.0, 0.0, 0.0001368217234046201, 0.0, 0.00018247440731532385, 0.0, 0.0, 0.0, 0.0, 0.0, 0.0, 0.0, 0.0, 0.0, 0.0, 0.0, 0.0, 0.0, 0.0], [0.0, 0.0, 0.0, 0.0, 0.0, 0.0, 0.0, 0.0, 0.0, 0.0, 0.0, 0.0, 0.0, 0.0, 0.0, 0.0, 0.0, 0.0, 0.0, 0.0, 0.0, 0.0, 0.0, 0.0, 0.0, 0.0, 0.0, 0.0]]}],\n",
       "                        {\"autosize\": false, \"height\": 500, \"template\": {\"data\": {\"bar\": [{\"error_x\": {\"color\": \"#2a3f5f\"}, \"error_y\": {\"color\": \"#2a3f5f\"}, \"marker\": {\"line\": {\"color\": \"#E5ECF6\", \"width\": 0.5}}, \"type\": \"bar\"}], \"barpolar\": [{\"marker\": {\"line\": {\"color\": \"#E5ECF6\", \"width\": 0.5}}, \"type\": \"barpolar\"}], \"carpet\": [{\"aaxis\": {\"endlinecolor\": \"#2a3f5f\", \"gridcolor\": \"white\", \"linecolor\": \"white\", \"minorgridcolor\": \"white\", \"startlinecolor\": \"#2a3f5f\"}, \"baxis\": {\"endlinecolor\": \"#2a3f5f\", \"gridcolor\": \"white\", \"linecolor\": \"white\", \"minorgridcolor\": \"white\", \"startlinecolor\": \"#2a3f5f\"}, \"type\": \"carpet\"}], \"choropleth\": [{\"colorbar\": {\"outlinewidth\": 0, \"ticks\": \"\"}, \"type\": \"choropleth\"}], \"contour\": [{\"colorbar\": {\"outlinewidth\": 0, \"ticks\": \"\"}, \"colorscale\": [[0.0, \"#0d0887\"], [0.1111111111111111, \"#46039f\"], [0.2222222222222222, \"#7201a8\"], [0.3333333333333333, \"#9c179e\"], [0.4444444444444444, \"#bd3786\"], [0.5555555555555556, \"#d8576b\"], [0.6666666666666666, \"#ed7953\"], [0.7777777777777778, \"#fb9f3a\"], [0.8888888888888888, \"#fdca26\"], [1.0, \"#f0f921\"]], \"type\": \"contour\"}], \"contourcarpet\": [{\"colorbar\": {\"outlinewidth\": 0, \"ticks\": \"\"}, \"type\": \"contourcarpet\"}], \"heatmap\": [{\"colorbar\": {\"outlinewidth\": 0, \"ticks\": \"\"}, \"colorscale\": [[0.0, \"#0d0887\"], [0.1111111111111111, \"#46039f\"], [0.2222222222222222, \"#7201a8\"], [0.3333333333333333, \"#9c179e\"], [0.4444444444444444, \"#bd3786\"], [0.5555555555555556, \"#d8576b\"], [0.6666666666666666, \"#ed7953\"], [0.7777777777777778, \"#fb9f3a\"], [0.8888888888888888, \"#fdca26\"], [1.0, \"#f0f921\"]], \"type\": \"heatmap\"}], \"heatmapgl\": [{\"colorbar\": {\"outlinewidth\": 0, \"ticks\": \"\"}, \"colorscale\": [[0.0, \"#0d0887\"], [0.1111111111111111, \"#46039f\"], [0.2222222222222222, \"#7201a8\"], [0.3333333333333333, \"#9c179e\"], [0.4444444444444444, \"#bd3786\"], [0.5555555555555556, \"#d8576b\"], [0.6666666666666666, \"#ed7953\"], [0.7777777777777778, \"#fb9f3a\"], [0.8888888888888888, \"#fdca26\"], [1.0, \"#f0f921\"]], \"type\": \"heatmapgl\"}], \"histogram\": [{\"marker\": {\"colorbar\": {\"outlinewidth\": 0, \"ticks\": \"\"}}, \"type\": \"histogram\"}], \"histogram2d\": [{\"colorbar\": {\"outlinewidth\": 0, \"ticks\": \"\"}, \"colorscale\": [[0.0, \"#0d0887\"], [0.1111111111111111, \"#46039f\"], [0.2222222222222222, \"#7201a8\"], [0.3333333333333333, \"#9c179e\"], [0.4444444444444444, \"#bd3786\"], [0.5555555555555556, \"#d8576b\"], [0.6666666666666666, \"#ed7953\"], [0.7777777777777778, \"#fb9f3a\"], [0.8888888888888888, \"#fdca26\"], [1.0, \"#f0f921\"]], \"type\": \"histogram2d\"}], \"histogram2dcontour\": [{\"colorbar\": {\"outlinewidth\": 0, \"ticks\": \"\"}, \"colorscale\": [[0.0, \"#0d0887\"], [0.1111111111111111, \"#46039f\"], [0.2222222222222222, \"#7201a8\"], [0.3333333333333333, \"#9c179e\"], [0.4444444444444444, \"#bd3786\"], [0.5555555555555556, \"#d8576b\"], [0.6666666666666666, \"#ed7953\"], [0.7777777777777778, \"#fb9f3a\"], [0.8888888888888888, \"#fdca26\"], [1.0, \"#f0f921\"]], \"type\": \"histogram2dcontour\"}], \"mesh3d\": [{\"colorbar\": {\"outlinewidth\": 0, \"ticks\": \"\"}, \"type\": \"mesh3d\"}], \"parcoords\": [{\"line\": {\"colorbar\": {\"outlinewidth\": 0, \"ticks\": \"\"}}, \"type\": \"parcoords\"}], \"scatter\": [{\"marker\": {\"colorbar\": {\"outlinewidth\": 0, \"ticks\": \"\"}}, \"type\": \"scatter\"}], \"scatter3d\": [{\"line\": {\"colorbar\": {\"outlinewidth\": 0, \"ticks\": \"\"}}, \"marker\": {\"colorbar\": {\"outlinewidth\": 0, \"ticks\": \"\"}}, \"type\": \"scatter3d\"}], \"scattercarpet\": [{\"marker\": {\"colorbar\": {\"outlinewidth\": 0, \"ticks\": \"\"}}, \"type\": \"scattercarpet\"}], \"scattergeo\": [{\"marker\": {\"colorbar\": {\"outlinewidth\": 0, \"ticks\": \"\"}}, \"type\": \"scattergeo\"}], \"scattergl\": [{\"marker\": {\"colorbar\": {\"outlinewidth\": 0, \"ticks\": \"\"}}, \"type\": \"scattergl\"}], \"scattermapbox\": [{\"marker\": {\"colorbar\": {\"outlinewidth\": 0, \"ticks\": \"\"}}, \"type\": \"scattermapbox\"}], \"scatterpolar\": [{\"marker\": {\"colorbar\": {\"outlinewidth\": 0, \"ticks\": \"\"}}, \"type\": \"scatterpolar\"}], \"scatterpolargl\": [{\"marker\": {\"colorbar\": {\"outlinewidth\": 0, \"ticks\": \"\"}}, \"type\": \"scatterpolargl\"}], \"scatterternary\": [{\"marker\": {\"colorbar\": {\"outlinewidth\": 0, \"ticks\": \"\"}}, \"type\": \"scatterternary\"}], \"surface\": [{\"colorbar\": {\"outlinewidth\": 0, \"ticks\": \"\"}, \"colorscale\": [[0.0, \"#0d0887\"], [0.1111111111111111, \"#46039f\"], [0.2222222222222222, \"#7201a8\"], [0.3333333333333333, \"#9c179e\"], [0.4444444444444444, \"#bd3786\"], [0.5555555555555556, \"#d8576b\"], [0.6666666666666666, \"#ed7953\"], [0.7777777777777778, \"#fb9f3a\"], [0.8888888888888888, \"#fdca26\"], [1.0, \"#f0f921\"]], \"type\": \"surface\"}], \"table\": [{\"cells\": {\"fill\": {\"color\": \"#EBF0F8\"}, \"line\": {\"color\": \"white\"}}, \"header\": {\"fill\": {\"color\": \"#C8D4E3\"}, \"line\": {\"color\": \"white\"}}, \"type\": \"table\"}]}, \"layout\": {\"annotationdefaults\": {\"arrowcolor\": \"#2a3f5f\", \"arrowhead\": 0, \"arrowwidth\": 1}, \"colorscale\": {\"diverging\": [[0, \"#8e0152\"], [0.1, \"#c51b7d\"], [0.2, \"#de77ae\"], [0.3, \"#f1b6da\"], [0.4, \"#fde0ef\"], [0.5, \"#f7f7f7\"], [0.6, \"#e6f5d0\"], [0.7, \"#b8e186\"], [0.8, \"#7fbc41\"], [0.9, \"#4d9221\"], [1, \"#276419\"]], \"sequential\": [[0.0, \"#0d0887\"], [0.1111111111111111, \"#46039f\"], [0.2222222222222222, \"#7201a8\"], [0.3333333333333333, \"#9c179e\"], [0.4444444444444444, \"#bd3786\"], [0.5555555555555556, \"#d8576b\"], [0.6666666666666666, \"#ed7953\"], [0.7777777777777778, \"#fb9f3a\"], [0.8888888888888888, \"#fdca26\"], [1.0, \"#f0f921\"]], \"sequentialminus\": [[0.0, \"#0d0887\"], [0.1111111111111111, \"#46039f\"], [0.2222222222222222, \"#7201a8\"], [0.3333333333333333, \"#9c179e\"], [0.4444444444444444, \"#bd3786\"], [0.5555555555555556, \"#d8576b\"], [0.6666666666666666, \"#ed7953\"], [0.7777777777777778, \"#fb9f3a\"], [0.8888888888888888, \"#fdca26\"], [1.0, \"#f0f921\"]]}, \"colorway\": [\"#636efa\", \"#EF553B\", \"#00cc96\", \"#ab63fa\", \"#FFA15A\", \"#19d3f3\", \"#FF6692\", \"#B6E880\", \"#FF97FF\", \"#FECB52\"], \"font\": {\"color\": \"#2a3f5f\"}, \"geo\": {\"bgcolor\": \"white\", \"lakecolor\": \"white\", \"landcolor\": \"#E5ECF6\", \"showlakes\": true, \"showland\": true, \"subunitcolor\": \"white\"}, \"hoverlabel\": {\"align\": \"left\"}, \"hovermode\": \"closest\", \"mapbox\": {\"style\": \"light\"}, \"paper_bgcolor\": \"white\", \"plot_bgcolor\": \"#E5ECF6\", \"polar\": {\"angularaxis\": {\"gridcolor\": \"white\", \"linecolor\": \"white\", \"ticks\": \"\"}, \"bgcolor\": \"#E5ECF6\", \"radialaxis\": {\"gridcolor\": \"white\", \"linecolor\": \"white\", \"ticks\": \"\"}}, \"scene\": {\"xaxis\": {\"backgroundcolor\": \"#E5ECF6\", \"gridcolor\": \"white\", \"gridwidth\": 2, \"linecolor\": \"white\", \"showbackground\": true, \"ticks\": \"\", \"zerolinecolor\": \"white\"}, \"yaxis\": {\"backgroundcolor\": \"#E5ECF6\", \"gridcolor\": \"white\", \"gridwidth\": 2, \"linecolor\": \"white\", \"showbackground\": true, \"ticks\": \"\", \"zerolinecolor\": \"white\"}, \"zaxis\": {\"backgroundcolor\": \"#E5ECF6\", \"gridcolor\": \"white\", \"gridwidth\": 2, \"linecolor\": \"white\", \"showbackground\": true, \"ticks\": \"\", \"zerolinecolor\": \"white\"}}, \"shapedefaults\": {\"line\": {\"color\": \"#2a3f5f\"}}, \"ternary\": {\"aaxis\": {\"gridcolor\": \"white\", \"linecolor\": \"white\", \"ticks\": \"\"}, \"baxis\": {\"gridcolor\": \"white\", \"linecolor\": \"white\", \"ticks\": \"\"}, \"bgcolor\": \"#E5ECF6\", \"caxis\": {\"gridcolor\": \"white\", \"linecolor\": \"white\", \"ticks\": \"\"}}, \"title\": {\"x\": 0.05}, \"xaxis\": {\"automargin\": true, \"gridcolor\": \"white\", \"linecolor\": \"white\", \"ticks\": \"\", \"zerolinecolor\": \"white\", \"zerolinewidth\": 2}, \"yaxis\": {\"automargin\": true, \"gridcolor\": \"white\", \"linecolor\": \"white\", \"ticks\": \"\", \"zerolinecolor\": \"white\", \"zerolinewidth\": 2}}}, \"width\": 500},\n",
       "                        {\"responsive\": true}\n",
       "                    ).then(function(){\n",
       "                            \n",
       "var gd = document.getElementById('a6569c38-2f54-4f2c-9e4c-4b81f8df5ed7');\n",
       "var x = new MutationObserver(function (mutations, observer) {{\n",
       "        var display = window.getComputedStyle(gd).display;\n",
       "        if (!display || display === 'none') {{\n",
       "            console.log([gd, 'removed!']);\n",
       "            Plotly.purge(gd);\n",
       "            observer.disconnect();\n",
       "        }}\n",
       "}});\n",
       "\n",
       "// Listen for the removal of the full notebook cells\n",
       "var notebookContainer = gd.closest('#notebook-container');\n",
       "if (notebookContainer) {{\n",
       "    x.observe(notebookContainer, {childList: true});\n",
       "}}\n",
       "\n",
       "// Listen for the clearing of the current output cell\n",
       "var outputEl = gd.closest('.output');\n",
       "if (outputEl) {{\n",
       "    x.observe(outputEl, {childList: true});\n",
       "}}\n",
       "\n",
       "                        })\n",
       "                };\n",
       "                });\n",
       "            </script>\n",
       "        </div>"
      ]
     },
     "metadata": {},
     "output_type": "display_data"
    }
   ],
   "source": [
    "importance = final_clf.feature_importances_\n",
    "print(\"plot with matplotlib\")\n",
    "plt.figure(figsize=(6,6))\n",
    "img = importance.reshape(28,28)\n",
    "im = plt.imshow(img, cmap='hot')\n",
    "plt.show()\n",
    "\n",
    "print()\n",
    "print(\"plot with plotly\")\n",
    "l1 = []\n",
    "l2 = []\n",
    "for i in range(28):\n",
    "    l1.append(i)\n",
    "    l2.append(27-i)\n",
    "trace = go.Heatmap(\n",
    "    z = importance.reshape(28,28),\n",
    "    x = np.array(l1),\n",
    "    y = np.array(l2),\n",
    "    colorscale = 'Viridis'\n",
    ")\n",
    "layout = go.Layout(\n",
    "    autosize = False,\n",
    "    width = 500,\n",
    "    height = 500\n",
    ")\n",
    "data = [trace]\n",
    "fig = go.Figure(data=data, layout = layout)\n",
    "iplot(fig)"
   ]
  },
  {
   "cell_type": "code",
   "execution_count": 41,
   "metadata": {},
   "outputs": [
    {
     "data": {
      "application/vnd.plotly.v1+json": {
       "config": {
        "linkText": "Export to plot.ly",
        "plotlyServerURL": "https://plot.ly",
        "showLink": false
       },
       "data": [
        {
         "colorscale": [
          [
           0,
           "#440154"
          ],
          [
           0.1111111111111111,
           "#482878"
          ],
          [
           0.2222222222222222,
           "#3e4989"
          ],
          [
           0.3333333333333333,
           "#31688e"
          ],
          [
           0.4444444444444444,
           "#26828e"
          ],
          [
           0.5555555555555556,
           "#1f9e89"
          ],
          [
           0.6666666666666666,
           "#35b779"
          ],
          [
           0.7777777777777778,
           "#6ece58"
          ],
          [
           0.8888888888888888,
           "#b5de2b"
          ],
          [
           1,
           "#fde725"
          ]
         ],
         "type": "heatmap",
         "x": [
          0,
          1,
          2,
          3,
          4,
          5,
          6,
          7,
          8,
          9,
          10,
          11,
          12,
          13,
          14,
          15,
          16,
          17,
          18,
          19,
          20,
          21,
          22,
          23,
          24,
          25,
          26,
          27
         ],
         "y": [
          27,
          26,
          25,
          24,
          23,
          22,
          21,
          20,
          19,
          18,
          17,
          16,
          15,
          14,
          13,
          12,
          11,
          10,
          9,
          8,
          7,
          6,
          5,
          4,
          3,
          2,
          1,
          0
         ],
         "z": [
          [
           0,
           0,
           0,
           0,
           0,
           0,
           0,
           0,
           0,
           0,
           0,
           0,
           0,
           0,
           0,
           0,
           0,
           0,
           0,
           0,
           0,
           0,
           0,
           0,
           0,
           0,
           0,
           0
          ],
          [
           0,
           0,
           0,
           0,
           0,
           0,
           0,
           0,
           0,
           0,
           0,
           0,
           0,
           0,
           0,
           0,
           0,
           0,
           0,
           0,
           0,
           0,
           0,
           0,
           0,
           0,
           0,
           0
          ],
          [
           0,
           0,
           0,
           0,
           0,
           0,
           0,
           0,
           0,
           0,
           0,
           0,
           0,
           0,
           0,
           0,
           0,
           0,
           0,
           0,
           0,
           0,
           0,
           0,
           0,
           0,
           0,
           0
          ],
          [
           0,
           0,
           0,
           0,
           0,
           0,
           0,
           0,
           0,
           0,
           0,
           0,
           0,
           0,
           0,
           0,
           0,
           0,
           0,
           0,
           0,
           0,
           0,
           0,
           0,
           0,
           0,
           0
          ],
          [
           0,
           0,
           0,
           0,
           0,
           0,
           0,
           0,
           0,
           0,
           0,
           0,
           0,
           0,
           0,
           0,
           0,
           0,
           0,
           0,
           0,
           0,
           0,
           0,
           0,
           0,
           0,
           0
          ],
          [
           0,
           0,
           0,
           0,
           0,
           0,
           0,
           0,
           0,
           0,
           0,
           0,
           0,
           0,
           0,
           0,
           0,
           0,
           0,
           0,
           0,
           0,
           0,
           0,
           0,
           0,
           0,
           0
          ],
          [
           0,
           0,
           0,
           0,
           0,
           0,
           0,
           0,
           0,
           0,
           0,
           0,
           0,
           23,
           141,
           254,
           254,
           201,
           36,
           0,
           0,
           0,
           0,
           0,
           0,
           0,
           0,
           0
          ],
          [
           0,
           0,
           0,
           0,
           0,
           0,
           0,
           0,
           0,
           0,
           0,
           0,
           4,
           147,
           254,
           253,
           253,
           253,
           185,
           0,
           0,
           0,
           0,
           0,
           0,
           0,
           0,
           0
          ],
          [
           0,
           0,
           0,
           0,
           0,
           0,
           0,
           0,
           0,
           0,
           0,
           0,
           107,
           253,
           254,
           209,
           78,
           240,
           253,
           38,
           0,
           0,
           0,
           0,
           0,
           0,
           0,
           0
          ],
          [
           0,
           0,
           0,
           0,
           0,
           0,
           0,
           0,
           0,
           0,
           0,
           0,
           227,
           253,
           207,
           25,
           0,
           234,
           253,
           0,
           0,
           0,
           0,
           0,
           0,
           0,
           0,
           0
          ],
          [
           0,
           0,
           0,
           0,
           0,
           0,
           0,
           0,
           0,
           0,
           0,
           61,
           248,
           253,
           98,
           8,
           128,
           248,
           139,
           0,
           0,
           0,
           0,
           0,
           0,
           0,
           0,
           0
          ],
          [
           0,
           0,
           0,
           0,
           0,
           0,
           0,
           0,
           0,
           0,
           0,
           79,
           254,
           216,
           0,
           103,
           254,
           169,
           23,
           0,
           0,
           0,
           0,
           0,
           0,
           0,
           0,
           0
          ],
          [
           0,
           0,
           0,
           0,
           0,
           0,
           0,
           0,
           38,
           0,
           0,
           42,
           236,
           253,
           215,
           247,
           253,
           161,
           0,
           0,
           0,
           0,
           0,
           0,
           0,
           0,
           0,
           0
          ],
          [
           0,
           0,
           0,
           0,
           0,
           0,
           0,
           0,
           0,
           0,
           0,
           0,
           95,
           235,
           254,
           253,
           253,
           183,
           0,
           0,
           0,
           0,
           0,
           0,
           0,
           0,
           0,
           0
          ],
          [
           0,
           0,
           0,
           0,
           0,
           0,
           0,
           0,
           0,
           0,
           0,
           0,
           0,
           53,
           254,
           253,
           253,
           26,
           0,
           0,
           0,
           0,
           0,
           0,
           0,
           0,
           0,
           0
          ],
          [
           0,
           0,
           0,
           0,
           0,
           0,
           0,
           0,
           0,
           0,
           0,
           0,
           0,
           38,
           254,
           253,
           192,
           5,
           0,
           0,
           0,
           0,
           0,
           0,
           0,
           0,
           0,
           0
          ],
          [
           0,
           0,
           0,
           0,
           0,
           0,
           0,
           0,
           0,
           0,
           0,
           0,
           0,
           99,
           255,
           249,
           60,
           0,
           0,
           0,
           0,
           0,
           0,
           0,
           0,
           0,
           0,
           0
          ],
          [
           0,
           0,
           0,
           0,
           0,
           0,
           0,
           0,
           0,
           0,
           0,
           0,
           0,
           180,
           254,
           225,
           0,
           0,
           0,
           0,
           0,
           0,
           0,
           0,
           0,
           0,
           0,
           0
          ],
          [
           0,
           0,
           0,
           0,
           0,
           0,
           0,
           0,
           0,
           0,
           0,
           0,
           58,
           235,
           254,
           106,
           0,
           0,
           0,
           0,
           0,
           0,
           0,
           0,
           0,
           0,
           0,
           0
          ],
          [
           0,
           0,
           0,
           0,
           0,
           0,
           0,
           0,
           0,
           0,
           0,
           0,
           136,
           253,
           184,
           3,
           0,
           0,
           0,
           0,
           0,
           0,
           0,
           0,
           0,
           0,
           0,
           0
          ],
          [
           0,
           0,
           0,
           0,
           0,
           0,
           0,
           0,
           0,
           0,
           0,
           0,
           212,
           253,
           98,
           0,
           0,
           0,
           0,
           0,
           0,
           0,
           0,
           0,
           0,
           0,
           0,
           0
          ],
          [
           0,
           0,
           0,
           0,
           0,
           0,
           0,
           0,
           0,
           0,
           0,
           138,
           254,
           231,
           0,
           0,
           0,
           0,
           0,
           0,
           0,
           0,
           0,
           0,
           0,
           0,
           0,
           0
          ],
          [
           0,
           0,
           0,
           0,
           0,
           0,
           0,
           0,
           0,
           0,
           10,
           211,
           253,
           155,
           0,
           0,
           0,
           0,
           0,
           0,
           0,
           0,
           0,
           0,
           0,
           0,
           0,
           0
          ],
          [
           0,
           0,
           0,
           0,
           0,
           0,
           0,
           0,
           0,
           0,
           118,
           253,
           240,
           70,
           0,
           0,
           0,
           0,
           0,
           0,
           0,
           0,
           0,
           0,
           0,
           0,
           0,
           0
          ],
          [
           0,
           0,
           0,
           0,
           0,
           0,
           0,
           0,
           0,
           0,
           214,
           253,
           109,
           0,
           0,
           0,
           0,
           0,
           0,
           0,
           0,
           0,
           0,
           0,
           0,
           0,
           0,
           0
          ],
          [
           0,
           0,
           0,
           0,
           0,
           0,
           0,
           0,
           0,
           23,
           229,
           154,
           5,
           0,
           0,
           0,
           0,
           0,
           0,
           0,
           0,
           0,
           0,
           0,
           0,
           0,
           0,
           0
          ],
          [
           0,
           0,
           0,
           0,
           0,
           0,
           0,
           0,
           0,
           0,
           0,
           0,
           0,
           0,
           0,
           0,
           0,
           0,
           0,
           0,
           0,
           0,
           0,
           0,
           0,
           0,
           0,
           0
          ],
          [
           0,
           0,
           0,
           0,
           0,
           0,
           0,
           0,
           0,
           0,
           0,
           0,
           0,
           0,
           0,
           0,
           0,
           0,
           0,
           0,
           0,
           0,
           0,
           0,
           0,
           0,
           0,
           0
          ]
         ]
        }
       ],
       "layout": {
        "autosize": false,
        "height": 500,
        "template": {
         "data": {
          "bar": [
           {
            "error_x": {
             "color": "#2a3f5f"
            },
            "error_y": {
             "color": "#2a3f5f"
            },
            "marker": {
             "line": {
              "color": "#E5ECF6",
              "width": 0.5
             }
            },
            "type": "bar"
           }
          ],
          "barpolar": [
           {
            "marker": {
             "line": {
              "color": "#E5ECF6",
              "width": 0.5
             }
            },
            "type": "barpolar"
           }
          ],
          "carpet": [
           {
            "aaxis": {
             "endlinecolor": "#2a3f5f",
             "gridcolor": "white",
             "linecolor": "white",
             "minorgridcolor": "white",
             "startlinecolor": "#2a3f5f"
            },
            "baxis": {
             "endlinecolor": "#2a3f5f",
             "gridcolor": "white",
             "linecolor": "white",
             "minorgridcolor": "white",
             "startlinecolor": "#2a3f5f"
            },
            "type": "carpet"
           }
          ],
          "choropleth": [
           {
            "colorbar": {
             "outlinewidth": 0,
             "ticks": ""
            },
            "type": "choropleth"
           }
          ],
          "contour": [
           {
            "colorbar": {
             "outlinewidth": 0,
             "ticks": ""
            },
            "colorscale": [
             [
              0,
              "#0d0887"
             ],
             [
              0.1111111111111111,
              "#46039f"
             ],
             [
              0.2222222222222222,
              "#7201a8"
             ],
             [
              0.3333333333333333,
              "#9c179e"
             ],
             [
              0.4444444444444444,
              "#bd3786"
             ],
             [
              0.5555555555555556,
              "#d8576b"
             ],
             [
              0.6666666666666666,
              "#ed7953"
             ],
             [
              0.7777777777777778,
              "#fb9f3a"
             ],
             [
              0.8888888888888888,
              "#fdca26"
             ],
             [
              1,
              "#f0f921"
             ]
            ],
            "type": "contour"
           }
          ],
          "contourcarpet": [
           {
            "colorbar": {
             "outlinewidth": 0,
             "ticks": ""
            },
            "type": "contourcarpet"
           }
          ],
          "heatmap": [
           {
            "colorbar": {
             "outlinewidth": 0,
             "ticks": ""
            },
            "colorscale": [
             [
              0,
              "#0d0887"
             ],
             [
              0.1111111111111111,
              "#46039f"
             ],
             [
              0.2222222222222222,
              "#7201a8"
             ],
             [
              0.3333333333333333,
              "#9c179e"
             ],
             [
              0.4444444444444444,
              "#bd3786"
             ],
             [
              0.5555555555555556,
              "#d8576b"
             ],
             [
              0.6666666666666666,
              "#ed7953"
             ],
             [
              0.7777777777777778,
              "#fb9f3a"
             ],
             [
              0.8888888888888888,
              "#fdca26"
             ],
             [
              1,
              "#f0f921"
             ]
            ],
            "type": "heatmap"
           }
          ],
          "heatmapgl": [
           {
            "colorbar": {
             "outlinewidth": 0,
             "ticks": ""
            },
            "colorscale": [
             [
              0,
              "#0d0887"
             ],
             [
              0.1111111111111111,
              "#46039f"
             ],
             [
              0.2222222222222222,
              "#7201a8"
             ],
             [
              0.3333333333333333,
              "#9c179e"
             ],
             [
              0.4444444444444444,
              "#bd3786"
             ],
             [
              0.5555555555555556,
              "#d8576b"
             ],
             [
              0.6666666666666666,
              "#ed7953"
             ],
             [
              0.7777777777777778,
              "#fb9f3a"
             ],
             [
              0.8888888888888888,
              "#fdca26"
             ],
             [
              1,
              "#f0f921"
             ]
            ],
            "type": "heatmapgl"
           }
          ],
          "histogram": [
           {
            "marker": {
             "colorbar": {
              "outlinewidth": 0,
              "ticks": ""
             }
            },
            "type": "histogram"
           }
          ],
          "histogram2d": [
           {
            "colorbar": {
             "outlinewidth": 0,
             "ticks": ""
            },
            "colorscale": [
             [
              0,
              "#0d0887"
             ],
             [
              0.1111111111111111,
              "#46039f"
             ],
             [
              0.2222222222222222,
              "#7201a8"
             ],
             [
              0.3333333333333333,
              "#9c179e"
             ],
             [
              0.4444444444444444,
              "#bd3786"
             ],
             [
              0.5555555555555556,
              "#d8576b"
             ],
             [
              0.6666666666666666,
              "#ed7953"
             ],
             [
              0.7777777777777778,
              "#fb9f3a"
             ],
             [
              0.8888888888888888,
              "#fdca26"
             ],
             [
              1,
              "#f0f921"
             ]
            ],
            "type": "histogram2d"
           }
          ],
          "histogram2dcontour": [
           {
            "colorbar": {
             "outlinewidth": 0,
             "ticks": ""
            },
            "colorscale": [
             [
              0,
              "#0d0887"
             ],
             [
              0.1111111111111111,
              "#46039f"
             ],
             [
              0.2222222222222222,
              "#7201a8"
             ],
             [
              0.3333333333333333,
              "#9c179e"
             ],
             [
              0.4444444444444444,
              "#bd3786"
             ],
             [
              0.5555555555555556,
              "#d8576b"
             ],
             [
              0.6666666666666666,
              "#ed7953"
             ],
             [
              0.7777777777777778,
              "#fb9f3a"
             ],
             [
              0.8888888888888888,
              "#fdca26"
             ],
             [
              1,
              "#f0f921"
             ]
            ],
            "type": "histogram2dcontour"
           }
          ],
          "mesh3d": [
           {
            "colorbar": {
             "outlinewidth": 0,
             "ticks": ""
            },
            "type": "mesh3d"
           }
          ],
          "parcoords": [
           {
            "line": {
             "colorbar": {
              "outlinewidth": 0,
              "ticks": ""
             }
            },
            "type": "parcoords"
           }
          ],
          "scatter": [
           {
            "marker": {
             "colorbar": {
              "outlinewidth": 0,
              "ticks": ""
             }
            },
            "type": "scatter"
           }
          ],
          "scatter3d": [
           {
            "line": {
             "colorbar": {
              "outlinewidth": 0,
              "ticks": ""
             }
            },
            "marker": {
             "colorbar": {
              "outlinewidth": 0,
              "ticks": ""
             }
            },
            "type": "scatter3d"
           }
          ],
          "scattercarpet": [
           {
            "marker": {
             "colorbar": {
              "outlinewidth": 0,
              "ticks": ""
             }
            },
            "type": "scattercarpet"
           }
          ],
          "scattergeo": [
           {
            "marker": {
             "colorbar": {
              "outlinewidth": 0,
              "ticks": ""
             }
            },
            "type": "scattergeo"
           }
          ],
          "scattergl": [
           {
            "marker": {
             "colorbar": {
              "outlinewidth": 0,
              "ticks": ""
             }
            },
            "type": "scattergl"
           }
          ],
          "scattermapbox": [
           {
            "marker": {
             "colorbar": {
              "outlinewidth": 0,
              "ticks": ""
             }
            },
            "type": "scattermapbox"
           }
          ],
          "scatterpolar": [
           {
            "marker": {
             "colorbar": {
              "outlinewidth": 0,
              "ticks": ""
             }
            },
            "type": "scatterpolar"
           }
          ],
          "scatterpolargl": [
           {
            "marker": {
             "colorbar": {
              "outlinewidth": 0,
              "ticks": ""
             }
            },
            "type": "scatterpolargl"
           }
          ],
          "scatterternary": [
           {
            "marker": {
             "colorbar": {
              "outlinewidth": 0,
              "ticks": ""
             }
            },
            "type": "scatterternary"
           }
          ],
          "surface": [
           {
            "colorbar": {
             "outlinewidth": 0,
             "ticks": ""
            },
            "colorscale": [
             [
              0,
              "#0d0887"
             ],
             [
              0.1111111111111111,
              "#46039f"
             ],
             [
              0.2222222222222222,
              "#7201a8"
             ],
             [
              0.3333333333333333,
              "#9c179e"
             ],
             [
              0.4444444444444444,
              "#bd3786"
             ],
             [
              0.5555555555555556,
              "#d8576b"
             ],
             [
              0.6666666666666666,
              "#ed7953"
             ],
             [
              0.7777777777777778,
              "#fb9f3a"
             ],
             [
              0.8888888888888888,
              "#fdca26"
             ],
             [
              1,
              "#f0f921"
             ]
            ],
            "type": "surface"
           }
          ],
          "table": [
           {
            "cells": {
             "fill": {
              "color": "#EBF0F8"
             },
             "line": {
              "color": "white"
             }
            },
            "header": {
             "fill": {
              "color": "#C8D4E3"
             },
             "line": {
              "color": "white"
             }
            },
            "type": "table"
           }
          ]
         },
         "layout": {
          "annotationdefaults": {
           "arrowcolor": "#2a3f5f",
           "arrowhead": 0,
           "arrowwidth": 1
          },
          "colorscale": {
           "diverging": [
            [
             0,
             "#8e0152"
            ],
            [
             0.1,
             "#c51b7d"
            ],
            [
             0.2,
             "#de77ae"
            ],
            [
             0.3,
             "#f1b6da"
            ],
            [
             0.4,
             "#fde0ef"
            ],
            [
             0.5,
             "#f7f7f7"
            ],
            [
             0.6,
             "#e6f5d0"
            ],
            [
             0.7,
             "#b8e186"
            ],
            [
             0.8,
             "#7fbc41"
            ],
            [
             0.9,
             "#4d9221"
            ],
            [
             1,
             "#276419"
            ]
           ],
           "sequential": [
            [
             0,
             "#0d0887"
            ],
            [
             0.1111111111111111,
             "#46039f"
            ],
            [
             0.2222222222222222,
             "#7201a8"
            ],
            [
             0.3333333333333333,
             "#9c179e"
            ],
            [
             0.4444444444444444,
             "#bd3786"
            ],
            [
             0.5555555555555556,
             "#d8576b"
            ],
            [
             0.6666666666666666,
             "#ed7953"
            ],
            [
             0.7777777777777778,
             "#fb9f3a"
            ],
            [
             0.8888888888888888,
             "#fdca26"
            ],
            [
             1,
             "#f0f921"
            ]
           ],
           "sequentialminus": [
            [
             0,
             "#0d0887"
            ],
            [
             0.1111111111111111,
             "#46039f"
            ],
            [
             0.2222222222222222,
             "#7201a8"
            ],
            [
             0.3333333333333333,
             "#9c179e"
            ],
            [
             0.4444444444444444,
             "#bd3786"
            ],
            [
             0.5555555555555556,
             "#d8576b"
            ],
            [
             0.6666666666666666,
             "#ed7953"
            ],
            [
             0.7777777777777778,
             "#fb9f3a"
            ],
            [
             0.8888888888888888,
             "#fdca26"
            ],
            [
             1,
             "#f0f921"
            ]
           ]
          },
          "colorway": [
           "#636efa",
           "#EF553B",
           "#00cc96",
           "#ab63fa",
           "#FFA15A",
           "#19d3f3",
           "#FF6692",
           "#B6E880",
           "#FF97FF",
           "#FECB52"
          ],
          "font": {
           "color": "#2a3f5f"
          },
          "geo": {
           "bgcolor": "white",
           "lakecolor": "white",
           "landcolor": "#E5ECF6",
           "showlakes": true,
           "showland": true,
           "subunitcolor": "white"
          },
          "hoverlabel": {
           "align": "left"
          },
          "hovermode": "closest",
          "mapbox": {
           "style": "light"
          },
          "paper_bgcolor": "white",
          "plot_bgcolor": "#E5ECF6",
          "polar": {
           "angularaxis": {
            "gridcolor": "white",
            "linecolor": "white",
            "ticks": ""
           },
           "bgcolor": "#E5ECF6",
           "radialaxis": {
            "gridcolor": "white",
            "linecolor": "white",
            "ticks": ""
           }
          },
          "scene": {
           "xaxis": {
            "backgroundcolor": "#E5ECF6",
            "gridcolor": "white",
            "gridwidth": 2,
            "linecolor": "white",
            "showbackground": true,
            "ticks": "",
            "zerolinecolor": "white"
           },
           "yaxis": {
            "backgroundcolor": "#E5ECF6",
            "gridcolor": "white",
            "gridwidth": 2,
            "linecolor": "white",
            "showbackground": true,
            "ticks": "",
            "zerolinecolor": "white"
           },
           "zaxis": {
            "backgroundcolor": "#E5ECF6",
            "gridcolor": "white",
            "gridwidth": 2,
            "linecolor": "white",
            "showbackground": true,
            "ticks": "",
            "zerolinecolor": "white"
           }
          },
          "shapedefaults": {
           "line": {
            "color": "#2a3f5f"
           }
          },
          "ternary": {
           "aaxis": {
            "gridcolor": "white",
            "linecolor": "white",
            "ticks": ""
           },
           "baxis": {
            "gridcolor": "white",
            "linecolor": "white",
            "ticks": ""
           },
           "bgcolor": "#E5ECF6",
           "caxis": {
            "gridcolor": "white",
            "linecolor": "white",
            "ticks": ""
           }
          },
          "title": {
           "x": 0.05
          },
          "xaxis": {
           "automargin": true,
           "gridcolor": "white",
           "linecolor": "white",
           "ticks": "",
           "zerolinecolor": "white",
           "zerolinewidth": 2
          },
          "yaxis": {
           "automargin": true,
           "gridcolor": "white",
           "linecolor": "white",
           "ticks": "",
           "zerolinecolor": "white",
           "zerolinewidth": 2
          }
         }
        },
        "width": 500
       }
      },
      "text/html": [
       "<div>\n",
       "        \n",
       "        \n",
       "            <div id=\"5958d023-b8a7-46e9-ab93-1509e053c98a\" class=\"plotly-graph-div\" style=\"height:500px; width:500px;\"></div>\n",
       "            <script type=\"text/javascript\">\n",
       "                require([\"plotly\"], function(Plotly) {\n",
       "                    window.PLOTLYENV=window.PLOTLYENV || {};\n",
       "                    \n",
       "                if (document.getElementById(\"5958d023-b8a7-46e9-ab93-1509e053c98a\")) {\n",
       "                    Plotly.newPlot(\n",
       "                        '5958d023-b8a7-46e9-ab93-1509e053c98a',\n",
       "                        [{\"colorscale\": [[0.0, \"#440154\"], [0.1111111111111111, \"#482878\"], [0.2222222222222222, \"#3e4989\"], [0.3333333333333333, \"#31688e\"], [0.4444444444444444, \"#26828e\"], [0.5555555555555556, \"#1f9e89\"], [0.6666666666666666, \"#35b779\"], [0.7777777777777778, \"#6ece58\"], [0.8888888888888888, \"#b5de2b\"], [1.0, \"#fde725\"]], \"type\": \"heatmap\", \"x\": [0, 1, 2, 3, 4, 5, 6, 7, 8, 9, 10, 11, 12, 13, 14, 15, 16, 17, 18, 19, 20, 21, 22, 23, 24, 25, 26, 27], \"y\": [27, 26, 25, 24, 23, 22, 21, 20, 19, 18, 17, 16, 15, 14, 13, 12, 11, 10, 9, 8, 7, 6, 5, 4, 3, 2, 1, 0], \"z\": [[0, 0, 0, 0, 0, 0, 0, 0, 0, 0, 0, 0, 0, 0, 0, 0, 0, 0, 0, 0, 0, 0, 0, 0, 0, 0, 0, 0], [0, 0, 0, 0, 0, 0, 0, 0, 0, 0, 0, 0, 0, 0, 0, 0, 0, 0, 0, 0, 0, 0, 0, 0, 0, 0, 0, 0], [0, 0, 0, 0, 0, 0, 0, 0, 0, 0, 0, 0, 0, 0, 0, 0, 0, 0, 0, 0, 0, 0, 0, 0, 0, 0, 0, 0], [0, 0, 0, 0, 0, 0, 0, 0, 0, 0, 0, 0, 0, 0, 0, 0, 0, 0, 0, 0, 0, 0, 0, 0, 0, 0, 0, 0], [0, 0, 0, 0, 0, 0, 0, 0, 0, 0, 0, 0, 0, 0, 0, 0, 0, 0, 0, 0, 0, 0, 0, 0, 0, 0, 0, 0], [0, 0, 0, 0, 0, 0, 0, 0, 0, 0, 0, 0, 0, 0, 0, 0, 0, 0, 0, 0, 0, 0, 0, 0, 0, 0, 0, 0], [0, 0, 0, 0, 0, 0, 0, 0, 0, 0, 0, 0, 0, 23, 141, 254, 254, 201, 36, 0, 0, 0, 0, 0, 0, 0, 0, 0], [0, 0, 0, 0, 0, 0, 0, 0, 0, 0, 0, 0, 4, 147, 254, 253, 253, 253, 185, 0, 0, 0, 0, 0, 0, 0, 0, 0], [0, 0, 0, 0, 0, 0, 0, 0, 0, 0, 0, 0, 107, 253, 254, 209, 78, 240, 253, 38, 0, 0, 0, 0, 0, 0, 0, 0], [0, 0, 0, 0, 0, 0, 0, 0, 0, 0, 0, 0, 227, 253, 207, 25, 0, 234, 253, 0, 0, 0, 0, 0, 0, 0, 0, 0], [0, 0, 0, 0, 0, 0, 0, 0, 0, 0, 0, 61, 248, 253, 98, 8, 128, 248, 139, 0, 0, 0, 0, 0, 0, 0, 0, 0], [0, 0, 0, 0, 0, 0, 0, 0, 0, 0, 0, 79, 254, 216, 0, 103, 254, 169, 23, 0, 0, 0, 0, 0, 0, 0, 0, 0], [0, 0, 0, 0, 0, 0, 0, 0, 38, 0, 0, 42, 236, 253, 215, 247, 253, 161, 0, 0, 0, 0, 0, 0, 0, 0, 0, 0], [0, 0, 0, 0, 0, 0, 0, 0, 0, 0, 0, 0, 95, 235, 254, 253, 253, 183, 0, 0, 0, 0, 0, 0, 0, 0, 0, 0], [0, 0, 0, 0, 0, 0, 0, 0, 0, 0, 0, 0, 0, 53, 254, 253, 253, 26, 0, 0, 0, 0, 0, 0, 0, 0, 0, 0], [0, 0, 0, 0, 0, 0, 0, 0, 0, 0, 0, 0, 0, 38, 254, 253, 192, 5, 0, 0, 0, 0, 0, 0, 0, 0, 0, 0], [0, 0, 0, 0, 0, 0, 0, 0, 0, 0, 0, 0, 0, 99, 255, 249, 60, 0, 0, 0, 0, 0, 0, 0, 0, 0, 0, 0], [0, 0, 0, 0, 0, 0, 0, 0, 0, 0, 0, 0, 0, 180, 254, 225, 0, 0, 0, 0, 0, 0, 0, 0, 0, 0, 0, 0], [0, 0, 0, 0, 0, 0, 0, 0, 0, 0, 0, 0, 58, 235, 254, 106, 0, 0, 0, 0, 0, 0, 0, 0, 0, 0, 0, 0], [0, 0, 0, 0, 0, 0, 0, 0, 0, 0, 0, 0, 136, 253, 184, 3, 0, 0, 0, 0, 0, 0, 0, 0, 0, 0, 0, 0], [0, 0, 0, 0, 0, 0, 0, 0, 0, 0, 0, 0, 212, 253, 98, 0, 0, 0, 0, 0, 0, 0, 0, 0, 0, 0, 0, 0], [0, 0, 0, 0, 0, 0, 0, 0, 0, 0, 0, 138, 254, 231, 0, 0, 0, 0, 0, 0, 0, 0, 0, 0, 0, 0, 0, 0], [0, 0, 0, 0, 0, 0, 0, 0, 0, 0, 10, 211, 253, 155, 0, 0, 0, 0, 0, 0, 0, 0, 0, 0, 0, 0, 0, 0], [0, 0, 0, 0, 0, 0, 0, 0, 0, 0, 118, 253, 240, 70, 0, 0, 0, 0, 0, 0, 0, 0, 0, 0, 0, 0, 0, 0], [0, 0, 0, 0, 0, 0, 0, 0, 0, 0, 214, 253, 109, 0, 0, 0, 0, 0, 0, 0, 0, 0, 0, 0, 0, 0, 0, 0], [0, 0, 0, 0, 0, 0, 0, 0, 0, 23, 229, 154, 5, 0, 0, 0, 0, 0, 0, 0, 0, 0, 0, 0, 0, 0, 0, 0], [0, 0, 0, 0, 0, 0, 0, 0, 0, 0, 0, 0, 0, 0, 0, 0, 0, 0, 0, 0, 0, 0, 0, 0, 0, 0, 0, 0], [0, 0, 0, 0, 0, 0, 0, 0, 0, 0, 0, 0, 0, 0, 0, 0, 0, 0, 0, 0, 0, 0, 0, 0, 0, 0, 0, 0]]}],\n",
       "                        {\"autosize\": false, \"height\": 500, \"template\": {\"data\": {\"bar\": [{\"error_x\": {\"color\": \"#2a3f5f\"}, \"error_y\": {\"color\": \"#2a3f5f\"}, \"marker\": {\"line\": {\"color\": \"#E5ECF6\", \"width\": 0.5}}, \"type\": \"bar\"}], \"barpolar\": [{\"marker\": {\"line\": {\"color\": \"#E5ECF6\", \"width\": 0.5}}, \"type\": \"barpolar\"}], \"carpet\": [{\"aaxis\": {\"endlinecolor\": \"#2a3f5f\", \"gridcolor\": \"white\", \"linecolor\": \"white\", \"minorgridcolor\": \"white\", \"startlinecolor\": \"#2a3f5f\"}, \"baxis\": {\"endlinecolor\": \"#2a3f5f\", \"gridcolor\": \"white\", \"linecolor\": \"white\", \"minorgridcolor\": \"white\", \"startlinecolor\": \"#2a3f5f\"}, \"type\": \"carpet\"}], \"choropleth\": [{\"colorbar\": {\"outlinewidth\": 0, \"ticks\": \"\"}, \"type\": \"choropleth\"}], \"contour\": [{\"colorbar\": {\"outlinewidth\": 0, \"ticks\": \"\"}, \"colorscale\": [[0.0, \"#0d0887\"], [0.1111111111111111, \"#46039f\"], [0.2222222222222222, \"#7201a8\"], [0.3333333333333333, \"#9c179e\"], [0.4444444444444444, \"#bd3786\"], [0.5555555555555556, \"#d8576b\"], [0.6666666666666666, \"#ed7953\"], [0.7777777777777778, \"#fb9f3a\"], [0.8888888888888888, \"#fdca26\"], [1.0, \"#f0f921\"]], \"type\": \"contour\"}], \"contourcarpet\": [{\"colorbar\": {\"outlinewidth\": 0, \"ticks\": \"\"}, \"type\": \"contourcarpet\"}], \"heatmap\": [{\"colorbar\": {\"outlinewidth\": 0, \"ticks\": \"\"}, \"colorscale\": [[0.0, \"#0d0887\"], [0.1111111111111111, \"#46039f\"], [0.2222222222222222, \"#7201a8\"], [0.3333333333333333, \"#9c179e\"], [0.4444444444444444, \"#bd3786\"], [0.5555555555555556, \"#d8576b\"], [0.6666666666666666, \"#ed7953\"], [0.7777777777777778, \"#fb9f3a\"], [0.8888888888888888, \"#fdca26\"], [1.0, \"#f0f921\"]], \"type\": \"heatmap\"}], \"heatmapgl\": [{\"colorbar\": {\"outlinewidth\": 0, \"ticks\": \"\"}, \"colorscale\": [[0.0, \"#0d0887\"], [0.1111111111111111, \"#46039f\"], [0.2222222222222222, \"#7201a8\"], [0.3333333333333333, \"#9c179e\"], [0.4444444444444444, \"#bd3786\"], [0.5555555555555556, \"#d8576b\"], [0.6666666666666666, \"#ed7953\"], [0.7777777777777778, \"#fb9f3a\"], [0.8888888888888888, \"#fdca26\"], [1.0, \"#f0f921\"]], \"type\": \"heatmapgl\"}], \"histogram\": [{\"marker\": {\"colorbar\": {\"outlinewidth\": 0, \"ticks\": \"\"}}, \"type\": \"histogram\"}], \"histogram2d\": [{\"colorbar\": {\"outlinewidth\": 0, \"ticks\": \"\"}, \"colorscale\": [[0.0, \"#0d0887\"], [0.1111111111111111, \"#46039f\"], [0.2222222222222222, \"#7201a8\"], [0.3333333333333333, \"#9c179e\"], [0.4444444444444444, \"#bd3786\"], [0.5555555555555556, \"#d8576b\"], [0.6666666666666666, \"#ed7953\"], [0.7777777777777778, \"#fb9f3a\"], [0.8888888888888888, \"#fdca26\"], [1.0, \"#f0f921\"]], \"type\": \"histogram2d\"}], \"histogram2dcontour\": [{\"colorbar\": {\"outlinewidth\": 0, \"ticks\": \"\"}, \"colorscale\": [[0.0, \"#0d0887\"], [0.1111111111111111, \"#46039f\"], [0.2222222222222222, \"#7201a8\"], [0.3333333333333333, \"#9c179e\"], [0.4444444444444444, \"#bd3786\"], [0.5555555555555556, \"#d8576b\"], [0.6666666666666666, \"#ed7953\"], [0.7777777777777778, \"#fb9f3a\"], [0.8888888888888888, \"#fdca26\"], [1.0, \"#f0f921\"]], \"type\": \"histogram2dcontour\"}], \"mesh3d\": [{\"colorbar\": {\"outlinewidth\": 0, \"ticks\": \"\"}, \"type\": \"mesh3d\"}], \"parcoords\": [{\"line\": {\"colorbar\": {\"outlinewidth\": 0, \"ticks\": \"\"}}, \"type\": \"parcoords\"}], \"scatter\": [{\"marker\": {\"colorbar\": {\"outlinewidth\": 0, \"ticks\": \"\"}}, \"type\": \"scatter\"}], \"scatter3d\": [{\"line\": {\"colorbar\": {\"outlinewidth\": 0, \"ticks\": \"\"}}, \"marker\": {\"colorbar\": {\"outlinewidth\": 0, \"ticks\": \"\"}}, \"type\": \"scatter3d\"}], \"scattercarpet\": [{\"marker\": {\"colorbar\": {\"outlinewidth\": 0, \"ticks\": \"\"}}, \"type\": \"scattercarpet\"}], \"scattergeo\": [{\"marker\": {\"colorbar\": {\"outlinewidth\": 0, \"ticks\": \"\"}}, \"type\": \"scattergeo\"}], \"scattergl\": [{\"marker\": {\"colorbar\": {\"outlinewidth\": 0, \"ticks\": \"\"}}, \"type\": \"scattergl\"}], \"scattermapbox\": [{\"marker\": {\"colorbar\": {\"outlinewidth\": 0, \"ticks\": \"\"}}, \"type\": \"scattermapbox\"}], \"scatterpolar\": [{\"marker\": {\"colorbar\": {\"outlinewidth\": 0, \"ticks\": \"\"}}, \"type\": \"scatterpolar\"}], \"scatterpolargl\": [{\"marker\": {\"colorbar\": {\"outlinewidth\": 0, \"ticks\": \"\"}}, \"type\": \"scatterpolargl\"}], \"scatterternary\": [{\"marker\": {\"colorbar\": {\"outlinewidth\": 0, \"ticks\": \"\"}}, \"type\": \"scatterternary\"}], \"surface\": [{\"colorbar\": {\"outlinewidth\": 0, \"ticks\": \"\"}, \"colorscale\": [[0.0, \"#0d0887\"], [0.1111111111111111, \"#46039f\"], [0.2222222222222222, \"#7201a8\"], [0.3333333333333333, \"#9c179e\"], [0.4444444444444444, \"#bd3786\"], [0.5555555555555556, \"#d8576b\"], [0.6666666666666666, \"#ed7953\"], [0.7777777777777778, \"#fb9f3a\"], [0.8888888888888888, \"#fdca26\"], [1.0, \"#f0f921\"]], \"type\": \"surface\"}], \"table\": [{\"cells\": {\"fill\": {\"color\": \"#EBF0F8\"}, \"line\": {\"color\": \"white\"}}, \"header\": {\"fill\": {\"color\": \"#C8D4E3\"}, \"line\": {\"color\": \"white\"}}, \"type\": \"table\"}]}, \"layout\": {\"annotationdefaults\": {\"arrowcolor\": \"#2a3f5f\", \"arrowhead\": 0, \"arrowwidth\": 1}, \"colorscale\": {\"diverging\": [[0, \"#8e0152\"], [0.1, \"#c51b7d\"], [0.2, \"#de77ae\"], [0.3, \"#f1b6da\"], [0.4, \"#fde0ef\"], [0.5, \"#f7f7f7\"], [0.6, \"#e6f5d0\"], [0.7, \"#b8e186\"], [0.8, \"#7fbc41\"], [0.9, \"#4d9221\"], [1, \"#276419\"]], \"sequential\": [[0.0, \"#0d0887\"], [0.1111111111111111, \"#46039f\"], [0.2222222222222222, \"#7201a8\"], [0.3333333333333333, \"#9c179e\"], [0.4444444444444444, \"#bd3786\"], [0.5555555555555556, \"#d8576b\"], [0.6666666666666666, \"#ed7953\"], [0.7777777777777778, \"#fb9f3a\"], [0.8888888888888888, \"#fdca26\"], [1.0, \"#f0f921\"]], \"sequentialminus\": [[0.0, \"#0d0887\"], [0.1111111111111111, \"#46039f\"], [0.2222222222222222, \"#7201a8\"], [0.3333333333333333, \"#9c179e\"], [0.4444444444444444, \"#bd3786\"], [0.5555555555555556, \"#d8576b\"], [0.6666666666666666, \"#ed7953\"], [0.7777777777777778, \"#fb9f3a\"], [0.8888888888888888, \"#fdca26\"], [1.0, \"#f0f921\"]]}, \"colorway\": [\"#636efa\", \"#EF553B\", \"#00cc96\", \"#ab63fa\", \"#FFA15A\", \"#19d3f3\", \"#FF6692\", \"#B6E880\", \"#FF97FF\", \"#FECB52\"], \"font\": {\"color\": \"#2a3f5f\"}, \"geo\": {\"bgcolor\": \"white\", \"lakecolor\": \"white\", \"landcolor\": \"#E5ECF6\", \"showlakes\": true, \"showland\": true, \"subunitcolor\": \"white\"}, \"hoverlabel\": {\"align\": \"left\"}, \"hovermode\": \"closest\", \"mapbox\": {\"style\": \"light\"}, \"paper_bgcolor\": \"white\", \"plot_bgcolor\": \"#E5ECF6\", \"polar\": {\"angularaxis\": {\"gridcolor\": \"white\", \"linecolor\": \"white\", \"ticks\": \"\"}, \"bgcolor\": \"#E5ECF6\", \"radialaxis\": {\"gridcolor\": \"white\", \"linecolor\": \"white\", \"ticks\": \"\"}}, \"scene\": {\"xaxis\": {\"backgroundcolor\": \"#E5ECF6\", \"gridcolor\": \"white\", \"gridwidth\": 2, \"linecolor\": \"white\", \"showbackground\": true, \"ticks\": \"\", \"zerolinecolor\": \"white\"}, \"yaxis\": {\"backgroundcolor\": \"#E5ECF6\", \"gridcolor\": \"white\", \"gridwidth\": 2, \"linecolor\": \"white\", \"showbackground\": true, \"ticks\": \"\", \"zerolinecolor\": \"white\"}, \"zaxis\": {\"backgroundcolor\": \"#E5ECF6\", \"gridcolor\": \"white\", \"gridwidth\": 2, \"linecolor\": \"white\", \"showbackground\": true, \"ticks\": \"\", \"zerolinecolor\": \"white\"}}, \"shapedefaults\": {\"line\": {\"color\": \"#2a3f5f\"}}, \"ternary\": {\"aaxis\": {\"gridcolor\": \"white\", \"linecolor\": \"white\", \"ticks\": \"\"}, \"baxis\": {\"gridcolor\": \"white\", \"linecolor\": \"white\", \"ticks\": \"\"}, \"bgcolor\": \"#E5ECF6\", \"caxis\": {\"gridcolor\": \"white\", \"linecolor\": \"white\", \"ticks\": \"\"}}, \"title\": {\"x\": 0.05}, \"xaxis\": {\"automargin\": true, \"gridcolor\": \"white\", \"linecolor\": \"white\", \"ticks\": \"\", \"zerolinecolor\": \"white\", \"zerolinewidth\": 2}, \"yaxis\": {\"automargin\": true, \"gridcolor\": \"white\", \"linecolor\": \"white\", \"ticks\": \"\", \"zerolinecolor\": \"white\", \"zerolinewidth\": 2}}}, \"width\": 500},\n",
       "                        {\"responsive\": true}\n",
       "                    ).then(function(){\n",
       "                            \n",
       "var gd = document.getElementById('5958d023-b8a7-46e9-ab93-1509e053c98a');\n",
       "var x = new MutationObserver(function (mutations, observer) {{\n",
       "        var display = window.getComputedStyle(gd).display;\n",
       "        if (!display || display === 'none') {{\n",
       "            console.log([gd, 'removed!']);\n",
       "            Plotly.purge(gd);\n",
       "            observer.disconnect();\n",
       "        }}\n",
       "}});\n",
       "\n",
       "// Listen for the removal of the full notebook cells\n",
       "var notebookContainer = gd.closest('#notebook-container');\n",
       "if (notebookContainer) {{\n",
       "    x.observe(notebookContainer, {childList: true});\n",
       "}}\n",
       "\n",
       "// Listen for the clearing of the current output cell\n",
       "var outputEl = gd.closest('.output');\n",
       "if (outputEl) {{\n",
       "    x.observe(outputEl, {childList: true});\n",
       "}}\n",
       "\n",
       "                        })\n",
       "                };\n",
       "                });\n",
       "            </script>\n",
       "        </div>"
      ]
     },
     "metadata": {},
     "output_type": "display_data"
    },
    {
     "data": {
      "application/vnd.plotly.v1+json": {
       "config": {
        "linkText": "Export to plot.ly",
        "plotlyServerURL": "https://plot.ly",
        "showLink": false
       },
       "data": [
        {
         "colorscale": [
          [
           0,
           "#440154"
          ],
          [
           0.1111111111111111,
           "#482878"
          ],
          [
           0.2222222222222222,
           "#3e4989"
          ],
          [
           0.3333333333333333,
           "#31688e"
          ],
          [
           0.4444444444444444,
           "#26828e"
          ],
          [
           0.5555555555555556,
           "#1f9e89"
          ],
          [
           0.6666666666666666,
           "#35b779"
          ],
          [
           0.7777777777777778,
           "#6ece58"
          ],
          [
           0.8888888888888888,
           "#b5de2b"
          ],
          [
           1,
           "#fde725"
          ]
         ],
         "type": "heatmap",
         "x": [
          0,
          1,
          2,
          3,
          4,
          5,
          6,
          7,
          8,
          9,
          10,
          11,
          12,
          13,
          14,
          15,
          16,
          17,
          18,
          19,
          20,
          21,
          22,
          23,
          24,
          25,
          26,
          27
         ],
         "y": [
          0,
          1,
          2,
          3,
          4,
          5,
          6,
          7,
          8,
          9,
          10,
          11,
          12,
          13,
          14,
          15,
          16,
          17,
          18,
          19,
          20,
          21,
          22,
          23,
          24,
          25,
          26,
          27
         ],
         "z": [
          [
           0,
           0,
           0,
           0,
           0,
           0,
           0,
           0,
           0,
           0,
           0,
           0,
           0,
           0,
           0,
           0,
           0,
           0,
           0,
           0,
           0,
           0,
           0,
           0,
           0,
           0,
           0,
           0
          ],
          [
           0,
           0,
           0,
           0,
           0,
           0,
           0,
           0,
           0,
           0,
           0,
           0,
           0,
           0,
           0,
           0,
           0,
           0,
           0,
           0,
           0,
           0,
           0,
           0,
           0,
           0,
           0,
           0
          ],
          [
           0,
           0,
           0,
           0,
           0,
           0,
           0,
           0,
           0,
           0,
           0,
           0,
           0,
           0,
           0,
           0,
           0,
           0,
           0,
           0,
           0,
           0,
           0,
           0,
           0,
           0,
           0,
           0
          ],
          [
           0,
           0,
           0,
           0,
           0,
           0,
           0,
           0,
           0,
           0,
           0,
           0,
           0,
           0,
           0,
           0,
           0,
           0,
           0,
           0,
           0,
           0,
           0,
           0,
           0,
           0,
           0,
           0
          ],
          [
           0,
           0,
           0,
           0,
           0,
           0,
           0,
           0,
           0,
           0,
           0,
           0,
           0,
           0,
           0,
           0,
           0,
           0,
           0,
           0,
           0,
           0,
           0,
           0,
           0,
           0,
           0,
           0
          ],
          [
           0,
           0,
           0,
           0,
           0,
           0,
           0,
           0,
           0,
           0,
           0,
           0,
           0,
           0,
           0,
           0,
           0,
           0,
           0,
           0,
           0,
           0,
           0,
           0,
           0,
           0,
           0,
           0
          ],
          [
           0,
           0,
           0,
           0,
           0,
           0,
           0,
           0,
           0,
           0,
           0,
           0,
           0,
           23,
           141,
           254,
           254,
           201,
           36,
           0,
           0,
           0,
           0,
           0,
           0,
           0,
           0,
           0
          ],
          [
           0,
           0,
           0,
           0,
           0,
           0,
           0,
           0,
           0,
           0,
           0,
           0,
           4,
           147,
           254,
           253,
           253,
           253,
           185,
           0,
           0,
           0,
           0,
           0,
           0,
           0,
           0,
           0
          ],
          [
           0,
           0,
           0,
           0,
           0,
           0,
           0,
           0,
           0,
           0,
           0,
           0,
           107,
           253,
           254,
           209,
           78,
           240,
           253,
           38,
           0,
           0,
           0,
           0,
           0,
           0,
           0,
           0
          ],
          [
           0,
           0,
           0,
           0,
           0,
           0,
           0,
           0,
           0,
           0,
           0,
           0,
           227,
           253,
           207,
           25,
           0,
           234,
           253,
           0,
           0,
           0,
           0,
           0,
           0,
           0,
           0,
           0
          ],
          [
           0,
           0,
           0,
           0,
           0,
           0,
           0,
           0,
           0,
           0,
           0,
           61,
           248,
           253,
           98,
           8,
           128,
           248,
           139,
           0,
           0,
           0,
           0,
           0,
           0,
           0,
           0,
           0
          ],
          [
           0,
           0,
           0,
           0,
           0,
           0,
           0,
           0,
           0,
           0,
           0,
           79,
           254,
           216,
           0,
           103,
           254,
           169,
           23,
           0,
           0,
           0,
           0,
           0,
           0,
           0,
           0,
           0
          ],
          [
           0,
           0,
           0,
           0,
           0,
           0,
           0,
           0,
           38,
           0,
           0,
           42,
           236,
           253,
           215,
           247,
           253,
           161,
           0,
           0,
           0,
           0,
           0,
           0,
           0,
           0,
           0,
           0
          ],
          [
           0,
           0,
           0,
           0,
           0,
           0,
           0,
           0,
           0,
           0,
           0,
           0,
           95,
           235,
           254,
           253,
           253,
           183,
           0,
           0,
           0,
           0,
           0,
           0,
           0,
           0,
           0,
           0
          ],
          [
           0,
           0,
           0,
           0,
           0,
           0,
           0,
           0,
           0,
           0,
           0,
           0,
           0,
           53,
           254,
           253,
           253,
           26,
           0,
           0,
           0,
           0,
           0,
           0,
           0,
           0,
           0,
           0
          ],
          [
           0,
           0,
           0,
           0,
           0,
           0,
           0,
           0,
           0,
           0,
           0,
           0,
           0,
           38,
           254,
           253,
           192,
           5,
           0,
           0,
           0,
           0,
           0,
           0,
           0,
           0,
           0,
           0
          ],
          [
           0,
           0,
           0,
           0,
           0,
           0,
           0,
           0,
           0,
           0,
           0,
           0,
           0,
           99,
           255,
           249,
           60,
           0,
           0,
           0,
           0,
           0,
           0,
           0,
           0,
           0,
           0,
           0
          ],
          [
           0,
           0,
           0,
           0,
           0,
           0,
           0,
           0,
           0,
           0,
           0,
           0,
           0,
           180,
           254,
           225,
           0,
           0,
           0,
           0,
           0,
           0,
           0,
           0,
           0,
           0,
           0,
           0
          ],
          [
           0,
           0,
           0,
           0,
           0,
           0,
           0,
           0,
           0,
           0,
           0,
           0,
           58,
           235,
           254,
           106,
           0,
           0,
           0,
           0,
           0,
           0,
           0,
           0,
           0,
           0,
           0,
           0
          ],
          [
           0,
           0,
           0,
           0,
           0,
           0,
           0,
           0,
           0,
           0,
           0,
           0,
           136,
           253,
           184,
           3,
           0,
           0,
           0,
           0,
           0,
           0,
           0,
           0,
           0,
           0,
           0,
           0
          ],
          [
           0,
           0,
           0,
           0,
           0,
           0,
           0,
           0,
           0,
           0,
           0,
           0,
           212,
           253,
           98,
           0,
           0,
           0,
           0,
           0,
           0,
           0,
           0,
           0,
           0,
           0,
           0,
           0
          ],
          [
           0,
           0,
           0,
           0,
           0,
           0,
           0,
           0,
           0,
           0,
           0,
           138,
           254,
           231,
           0,
           0,
           0,
           0,
           0,
           0,
           0,
           0,
           0,
           0,
           0,
           0,
           0,
           0
          ],
          [
           0,
           0,
           0,
           0,
           0,
           0,
           0,
           0,
           0,
           0,
           10,
           211,
           253,
           155,
           0,
           0,
           0,
           0,
           0,
           0,
           0,
           0,
           0,
           0,
           0,
           0,
           0,
           0
          ],
          [
           0,
           0,
           0,
           0,
           0,
           0,
           0,
           0,
           0,
           0,
           118,
           253,
           240,
           70,
           0,
           0,
           0,
           0,
           0,
           0,
           0,
           0,
           0,
           0,
           0,
           0,
           0,
           0
          ],
          [
           0,
           0,
           0,
           0,
           0,
           0,
           0,
           0,
           0,
           0,
           214,
           253,
           109,
           0,
           0,
           0,
           0,
           0,
           0,
           0,
           0,
           0,
           0,
           0,
           0,
           0,
           0,
           0
          ],
          [
           0,
           0,
           0,
           0,
           0,
           0,
           0,
           0,
           0,
           23,
           229,
           154,
           5,
           0,
           0,
           0,
           0,
           0,
           0,
           0,
           0,
           0,
           0,
           0,
           0,
           0,
           0,
           0
          ],
          [
           0,
           0,
           0,
           0,
           0,
           0,
           0,
           0,
           0,
           0,
           0,
           0,
           0,
           0,
           0,
           0,
           0,
           0,
           0,
           0,
           0,
           0,
           0,
           0,
           0,
           0,
           0,
           0
          ],
          [
           0,
           0,
           0,
           0,
           0,
           0,
           0,
           0,
           0,
           0,
           0,
           0,
           0,
           0,
           0,
           0,
           0,
           0,
           0,
           0,
           0,
           0,
           0,
           0,
           0,
           0,
           0,
           0
          ]
         ]
        }
       ],
       "layout": {
        "autosize": false,
        "height": 500,
        "template": {
         "data": {
          "bar": [
           {
            "error_x": {
             "color": "#2a3f5f"
            },
            "error_y": {
             "color": "#2a3f5f"
            },
            "marker": {
             "line": {
              "color": "#E5ECF6",
              "width": 0.5
             }
            },
            "type": "bar"
           }
          ],
          "barpolar": [
           {
            "marker": {
             "line": {
              "color": "#E5ECF6",
              "width": 0.5
             }
            },
            "type": "barpolar"
           }
          ],
          "carpet": [
           {
            "aaxis": {
             "endlinecolor": "#2a3f5f",
             "gridcolor": "white",
             "linecolor": "white",
             "minorgridcolor": "white",
             "startlinecolor": "#2a3f5f"
            },
            "baxis": {
             "endlinecolor": "#2a3f5f",
             "gridcolor": "white",
             "linecolor": "white",
             "minorgridcolor": "white",
             "startlinecolor": "#2a3f5f"
            },
            "type": "carpet"
           }
          ],
          "choropleth": [
           {
            "colorbar": {
             "outlinewidth": 0,
             "ticks": ""
            },
            "type": "choropleth"
           }
          ],
          "contour": [
           {
            "colorbar": {
             "outlinewidth": 0,
             "ticks": ""
            },
            "colorscale": [
             [
              0,
              "#0d0887"
             ],
             [
              0.1111111111111111,
              "#46039f"
             ],
             [
              0.2222222222222222,
              "#7201a8"
             ],
             [
              0.3333333333333333,
              "#9c179e"
             ],
             [
              0.4444444444444444,
              "#bd3786"
             ],
             [
              0.5555555555555556,
              "#d8576b"
             ],
             [
              0.6666666666666666,
              "#ed7953"
             ],
             [
              0.7777777777777778,
              "#fb9f3a"
             ],
             [
              0.8888888888888888,
              "#fdca26"
             ],
             [
              1,
              "#f0f921"
             ]
            ],
            "type": "contour"
           }
          ],
          "contourcarpet": [
           {
            "colorbar": {
             "outlinewidth": 0,
             "ticks": ""
            },
            "type": "contourcarpet"
           }
          ],
          "heatmap": [
           {
            "colorbar": {
             "outlinewidth": 0,
             "ticks": ""
            },
            "colorscale": [
             [
              0,
              "#0d0887"
             ],
             [
              0.1111111111111111,
              "#46039f"
             ],
             [
              0.2222222222222222,
              "#7201a8"
             ],
             [
              0.3333333333333333,
              "#9c179e"
             ],
             [
              0.4444444444444444,
              "#bd3786"
             ],
             [
              0.5555555555555556,
              "#d8576b"
             ],
             [
              0.6666666666666666,
              "#ed7953"
             ],
             [
              0.7777777777777778,
              "#fb9f3a"
             ],
             [
              0.8888888888888888,
              "#fdca26"
             ],
             [
              1,
              "#f0f921"
             ]
            ],
            "type": "heatmap"
           }
          ],
          "heatmapgl": [
           {
            "colorbar": {
             "outlinewidth": 0,
             "ticks": ""
            },
            "colorscale": [
             [
              0,
              "#0d0887"
             ],
             [
              0.1111111111111111,
              "#46039f"
             ],
             [
              0.2222222222222222,
              "#7201a8"
             ],
             [
              0.3333333333333333,
              "#9c179e"
             ],
             [
              0.4444444444444444,
              "#bd3786"
             ],
             [
              0.5555555555555556,
              "#d8576b"
             ],
             [
              0.6666666666666666,
              "#ed7953"
             ],
             [
              0.7777777777777778,
              "#fb9f3a"
             ],
             [
              0.8888888888888888,
              "#fdca26"
             ],
             [
              1,
              "#f0f921"
             ]
            ],
            "type": "heatmapgl"
           }
          ],
          "histogram": [
           {
            "marker": {
             "colorbar": {
              "outlinewidth": 0,
              "ticks": ""
             }
            },
            "type": "histogram"
           }
          ],
          "histogram2d": [
           {
            "colorbar": {
             "outlinewidth": 0,
             "ticks": ""
            },
            "colorscale": [
             [
              0,
              "#0d0887"
             ],
             [
              0.1111111111111111,
              "#46039f"
             ],
             [
              0.2222222222222222,
              "#7201a8"
             ],
             [
              0.3333333333333333,
              "#9c179e"
             ],
             [
              0.4444444444444444,
              "#bd3786"
             ],
             [
              0.5555555555555556,
              "#d8576b"
             ],
             [
              0.6666666666666666,
              "#ed7953"
             ],
             [
              0.7777777777777778,
              "#fb9f3a"
             ],
             [
              0.8888888888888888,
              "#fdca26"
             ],
             [
              1,
              "#f0f921"
             ]
            ],
            "type": "histogram2d"
           }
          ],
          "histogram2dcontour": [
           {
            "colorbar": {
             "outlinewidth": 0,
             "ticks": ""
            },
            "colorscale": [
             [
              0,
              "#0d0887"
             ],
             [
              0.1111111111111111,
              "#46039f"
             ],
             [
              0.2222222222222222,
              "#7201a8"
             ],
             [
              0.3333333333333333,
              "#9c179e"
             ],
             [
              0.4444444444444444,
              "#bd3786"
             ],
             [
              0.5555555555555556,
              "#d8576b"
             ],
             [
              0.6666666666666666,
              "#ed7953"
             ],
             [
              0.7777777777777778,
              "#fb9f3a"
             ],
             [
              0.8888888888888888,
              "#fdca26"
             ],
             [
              1,
              "#f0f921"
             ]
            ],
            "type": "histogram2dcontour"
           }
          ],
          "mesh3d": [
           {
            "colorbar": {
             "outlinewidth": 0,
             "ticks": ""
            },
            "type": "mesh3d"
           }
          ],
          "parcoords": [
           {
            "line": {
             "colorbar": {
              "outlinewidth": 0,
              "ticks": ""
             }
            },
            "type": "parcoords"
           }
          ],
          "scatter": [
           {
            "marker": {
             "colorbar": {
              "outlinewidth": 0,
              "ticks": ""
             }
            },
            "type": "scatter"
           }
          ],
          "scatter3d": [
           {
            "line": {
             "colorbar": {
              "outlinewidth": 0,
              "ticks": ""
             }
            },
            "marker": {
             "colorbar": {
              "outlinewidth": 0,
              "ticks": ""
             }
            },
            "type": "scatter3d"
           }
          ],
          "scattercarpet": [
           {
            "marker": {
             "colorbar": {
              "outlinewidth": 0,
              "ticks": ""
             }
            },
            "type": "scattercarpet"
           }
          ],
          "scattergeo": [
           {
            "marker": {
             "colorbar": {
              "outlinewidth": 0,
              "ticks": ""
             }
            },
            "type": "scattergeo"
           }
          ],
          "scattergl": [
           {
            "marker": {
             "colorbar": {
              "outlinewidth": 0,
              "ticks": ""
             }
            },
            "type": "scattergl"
           }
          ],
          "scattermapbox": [
           {
            "marker": {
             "colorbar": {
              "outlinewidth": 0,
              "ticks": ""
             }
            },
            "type": "scattermapbox"
           }
          ],
          "scatterpolar": [
           {
            "marker": {
             "colorbar": {
              "outlinewidth": 0,
              "ticks": ""
             }
            },
            "type": "scatterpolar"
           }
          ],
          "scatterpolargl": [
           {
            "marker": {
             "colorbar": {
              "outlinewidth": 0,
              "ticks": ""
             }
            },
            "type": "scatterpolargl"
           }
          ],
          "scatterternary": [
           {
            "marker": {
             "colorbar": {
              "outlinewidth": 0,
              "ticks": ""
             }
            },
            "type": "scatterternary"
           }
          ],
          "surface": [
           {
            "colorbar": {
             "outlinewidth": 0,
             "ticks": ""
            },
            "colorscale": [
             [
              0,
              "#0d0887"
             ],
             [
              0.1111111111111111,
              "#46039f"
             ],
             [
              0.2222222222222222,
              "#7201a8"
             ],
             [
              0.3333333333333333,
              "#9c179e"
             ],
             [
              0.4444444444444444,
              "#bd3786"
             ],
             [
              0.5555555555555556,
              "#d8576b"
             ],
             [
              0.6666666666666666,
              "#ed7953"
             ],
             [
              0.7777777777777778,
              "#fb9f3a"
             ],
             [
              0.8888888888888888,
              "#fdca26"
             ],
             [
              1,
              "#f0f921"
             ]
            ],
            "type": "surface"
           }
          ],
          "table": [
           {
            "cells": {
             "fill": {
              "color": "#EBF0F8"
             },
             "line": {
              "color": "white"
             }
            },
            "header": {
             "fill": {
              "color": "#C8D4E3"
             },
             "line": {
              "color": "white"
             }
            },
            "type": "table"
           }
          ]
         },
         "layout": {
          "annotationdefaults": {
           "arrowcolor": "#2a3f5f",
           "arrowhead": 0,
           "arrowwidth": 1
          },
          "colorscale": {
           "diverging": [
            [
             0,
             "#8e0152"
            ],
            [
             0.1,
             "#c51b7d"
            ],
            [
             0.2,
             "#de77ae"
            ],
            [
             0.3,
             "#f1b6da"
            ],
            [
             0.4,
             "#fde0ef"
            ],
            [
             0.5,
             "#f7f7f7"
            ],
            [
             0.6,
             "#e6f5d0"
            ],
            [
             0.7,
             "#b8e186"
            ],
            [
             0.8,
             "#7fbc41"
            ],
            [
             0.9,
             "#4d9221"
            ],
            [
             1,
             "#276419"
            ]
           ],
           "sequential": [
            [
             0,
             "#0d0887"
            ],
            [
             0.1111111111111111,
             "#46039f"
            ],
            [
             0.2222222222222222,
             "#7201a8"
            ],
            [
             0.3333333333333333,
             "#9c179e"
            ],
            [
             0.4444444444444444,
             "#bd3786"
            ],
            [
             0.5555555555555556,
             "#d8576b"
            ],
            [
             0.6666666666666666,
             "#ed7953"
            ],
            [
             0.7777777777777778,
             "#fb9f3a"
            ],
            [
             0.8888888888888888,
             "#fdca26"
            ],
            [
             1,
             "#f0f921"
            ]
           ],
           "sequentialminus": [
            [
             0,
             "#0d0887"
            ],
            [
             0.1111111111111111,
             "#46039f"
            ],
            [
             0.2222222222222222,
             "#7201a8"
            ],
            [
             0.3333333333333333,
             "#9c179e"
            ],
            [
             0.4444444444444444,
             "#bd3786"
            ],
            [
             0.5555555555555556,
             "#d8576b"
            ],
            [
             0.6666666666666666,
             "#ed7953"
            ],
            [
             0.7777777777777778,
             "#fb9f3a"
            ],
            [
             0.8888888888888888,
             "#fdca26"
            ],
            [
             1,
             "#f0f921"
            ]
           ]
          },
          "colorway": [
           "#636efa",
           "#EF553B",
           "#00cc96",
           "#ab63fa",
           "#FFA15A",
           "#19d3f3",
           "#FF6692",
           "#B6E880",
           "#FF97FF",
           "#FECB52"
          ],
          "font": {
           "color": "#2a3f5f"
          },
          "geo": {
           "bgcolor": "white",
           "lakecolor": "white",
           "landcolor": "#E5ECF6",
           "showlakes": true,
           "showland": true,
           "subunitcolor": "white"
          },
          "hoverlabel": {
           "align": "left"
          },
          "hovermode": "closest",
          "mapbox": {
           "style": "light"
          },
          "paper_bgcolor": "white",
          "plot_bgcolor": "#E5ECF6",
          "polar": {
           "angularaxis": {
            "gridcolor": "white",
            "linecolor": "white",
            "ticks": ""
           },
           "bgcolor": "#E5ECF6",
           "radialaxis": {
            "gridcolor": "white",
            "linecolor": "white",
            "ticks": ""
           }
          },
          "scene": {
           "xaxis": {
            "backgroundcolor": "#E5ECF6",
            "gridcolor": "white",
            "gridwidth": 2,
            "linecolor": "white",
            "showbackground": true,
            "ticks": "",
            "zerolinecolor": "white"
           },
           "yaxis": {
            "backgroundcolor": "#E5ECF6",
            "gridcolor": "white",
            "gridwidth": 2,
            "linecolor": "white",
            "showbackground": true,
            "ticks": "",
            "zerolinecolor": "white"
           },
           "zaxis": {
            "backgroundcolor": "#E5ECF6",
            "gridcolor": "white",
            "gridwidth": 2,
            "linecolor": "white",
            "showbackground": true,
            "ticks": "",
            "zerolinecolor": "white"
           }
          },
          "shapedefaults": {
           "line": {
            "color": "#2a3f5f"
           }
          },
          "ternary": {
           "aaxis": {
            "gridcolor": "white",
            "linecolor": "white",
            "ticks": ""
           },
           "baxis": {
            "gridcolor": "white",
            "linecolor": "white",
            "ticks": ""
           },
           "bgcolor": "#E5ECF6",
           "caxis": {
            "gridcolor": "white",
            "linecolor": "white",
            "ticks": ""
           }
          },
          "title": {
           "x": 0.05
          },
          "xaxis": {
           "automargin": true,
           "gridcolor": "white",
           "linecolor": "white",
           "ticks": "",
           "zerolinecolor": "white",
           "zerolinewidth": 2
          },
          "yaxis": {
           "automargin": true,
           "gridcolor": "white",
           "linecolor": "white",
           "ticks": "",
           "zerolinecolor": "white",
           "zerolinewidth": 2
          }
         }
        },
        "width": 500
       }
      },
      "text/html": [
       "<div>\n",
       "        \n",
       "        \n",
       "            <div id=\"a43621f7-78ea-4d53-803e-0198dd355493\" class=\"plotly-graph-div\" style=\"height:500px; width:500px;\"></div>\n",
       "            <script type=\"text/javascript\">\n",
       "                require([\"plotly\"], function(Plotly) {\n",
       "                    window.PLOTLYENV=window.PLOTLYENV || {};\n",
       "                    \n",
       "                if (document.getElementById(\"a43621f7-78ea-4d53-803e-0198dd355493\")) {\n",
       "                    Plotly.newPlot(\n",
       "                        'a43621f7-78ea-4d53-803e-0198dd355493',\n",
       "                        [{\"colorscale\": [[0.0, \"#440154\"], [0.1111111111111111, \"#482878\"], [0.2222222222222222, \"#3e4989\"], [0.3333333333333333, \"#31688e\"], [0.4444444444444444, \"#26828e\"], [0.5555555555555556, \"#1f9e89\"], [0.6666666666666666, \"#35b779\"], [0.7777777777777778, \"#6ece58\"], [0.8888888888888888, \"#b5de2b\"], [1.0, \"#fde725\"]], \"type\": \"heatmap\", \"x\": [0, 1, 2, 3, 4, 5, 6, 7, 8, 9, 10, 11, 12, 13, 14, 15, 16, 17, 18, 19, 20, 21, 22, 23, 24, 25, 26, 27], \"y\": [0, 1, 2, 3, 4, 5, 6, 7, 8, 9, 10, 11, 12, 13, 14, 15, 16, 17, 18, 19, 20, 21, 22, 23, 24, 25, 26, 27], \"z\": [[0, 0, 0, 0, 0, 0, 0, 0, 0, 0, 0, 0, 0, 0, 0, 0, 0, 0, 0, 0, 0, 0, 0, 0, 0, 0, 0, 0], [0, 0, 0, 0, 0, 0, 0, 0, 0, 0, 0, 0, 0, 0, 0, 0, 0, 0, 0, 0, 0, 0, 0, 0, 0, 0, 0, 0], [0, 0, 0, 0, 0, 0, 0, 0, 0, 0, 0, 0, 0, 0, 0, 0, 0, 0, 0, 0, 0, 0, 0, 0, 0, 0, 0, 0], [0, 0, 0, 0, 0, 0, 0, 0, 0, 0, 0, 0, 0, 0, 0, 0, 0, 0, 0, 0, 0, 0, 0, 0, 0, 0, 0, 0], [0, 0, 0, 0, 0, 0, 0, 0, 0, 0, 0, 0, 0, 0, 0, 0, 0, 0, 0, 0, 0, 0, 0, 0, 0, 0, 0, 0], [0, 0, 0, 0, 0, 0, 0, 0, 0, 0, 0, 0, 0, 0, 0, 0, 0, 0, 0, 0, 0, 0, 0, 0, 0, 0, 0, 0], [0, 0, 0, 0, 0, 0, 0, 0, 0, 0, 0, 0, 0, 23, 141, 254, 254, 201, 36, 0, 0, 0, 0, 0, 0, 0, 0, 0], [0, 0, 0, 0, 0, 0, 0, 0, 0, 0, 0, 0, 4, 147, 254, 253, 253, 253, 185, 0, 0, 0, 0, 0, 0, 0, 0, 0], [0, 0, 0, 0, 0, 0, 0, 0, 0, 0, 0, 0, 107, 253, 254, 209, 78, 240, 253, 38, 0, 0, 0, 0, 0, 0, 0, 0], [0, 0, 0, 0, 0, 0, 0, 0, 0, 0, 0, 0, 227, 253, 207, 25, 0, 234, 253, 0, 0, 0, 0, 0, 0, 0, 0, 0], [0, 0, 0, 0, 0, 0, 0, 0, 0, 0, 0, 61, 248, 253, 98, 8, 128, 248, 139, 0, 0, 0, 0, 0, 0, 0, 0, 0], [0, 0, 0, 0, 0, 0, 0, 0, 0, 0, 0, 79, 254, 216, 0, 103, 254, 169, 23, 0, 0, 0, 0, 0, 0, 0, 0, 0], [0, 0, 0, 0, 0, 0, 0, 0, 38, 0, 0, 42, 236, 253, 215, 247, 253, 161, 0, 0, 0, 0, 0, 0, 0, 0, 0, 0], [0, 0, 0, 0, 0, 0, 0, 0, 0, 0, 0, 0, 95, 235, 254, 253, 253, 183, 0, 0, 0, 0, 0, 0, 0, 0, 0, 0], [0, 0, 0, 0, 0, 0, 0, 0, 0, 0, 0, 0, 0, 53, 254, 253, 253, 26, 0, 0, 0, 0, 0, 0, 0, 0, 0, 0], [0, 0, 0, 0, 0, 0, 0, 0, 0, 0, 0, 0, 0, 38, 254, 253, 192, 5, 0, 0, 0, 0, 0, 0, 0, 0, 0, 0], [0, 0, 0, 0, 0, 0, 0, 0, 0, 0, 0, 0, 0, 99, 255, 249, 60, 0, 0, 0, 0, 0, 0, 0, 0, 0, 0, 0], [0, 0, 0, 0, 0, 0, 0, 0, 0, 0, 0, 0, 0, 180, 254, 225, 0, 0, 0, 0, 0, 0, 0, 0, 0, 0, 0, 0], [0, 0, 0, 0, 0, 0, 0, 0, 0, 0, 0, 0, 58, 235, 254, 106, 0, 0, 0, 0, 0, 0, 0, 0, 0, 0, 0, 0], [0, 0, 0, 0, 0, 0, 0, 0, 0, 0, 0, 0, 136, 253, 184, 3, 0, 0, 0, 0, 0, 0, 0, 0, 0, 0, 0, 0], [0, 0, 0, 0, 0, 0, 0, 0, 0, 0, 0, 0, 212, 253, 98, 0, 0, 0, 0, 0, 0, 0, 0, 0, 0, 0, 0, 0], [0, 0, 0, 0, 0, 0, 0, 0, 0, 0, 0, 138, 254, 231, 0, 0, 0, 0, 0, 0, 0, 0, 0, 0, 0, 0, 0, 0], [0, 0, 0, 0, 0, 0, 0, 0, 0, 0, 10, 211, 253, 155, 0, 0, 0, 0, 0, 0, 0, 0, 0, 0, 0, 0, 0, 0], [0, 0, 0, 0, 0, 0, 0, 0, 0, 0, 118, 253, 240, 70, 0, 0, 0, 0, 0, 0, 0, 0, 0, 0, 0, 0, 0, 0], [0, 0, 0, 0, 0, 0, 0, 0, 0, 0, 214, 253, 109, 0, 0, 0, 0, 0, 0, 0, 0, 0, 0, 0, 0, 0, 0, 0], [0, 0, 0, 0, 0, 0, 0, 0, 0, 23, 229, 154, 5, 0, 0, 0, 0, 0, 0, 0, 0, 0, 0, 0, 0, 0, 0, 0], [0, 0, 0, 0, 0, 0, 0, 0, 0, 0, 0, 0, 0, 0, 0, 0, 0, 0, 0, 0, 0, 0, 0, 0, 0, 0, 0, 0], [0, 0, 0, 0, 0, 0, 0, 0, 0, 0, 0, 0, 0, 0, 0, 0, 0, 0, 0, 0, 0, 0, 0, 0, 0, 0, 0, 0]]}],\n",
       "                        {\"autosize\": false, \"height\": 500, \"template\": {\"data\": {\"bar\": [{\"error_x\": {\"color\": \"#2a3f5f\"}, \"error_y\": {\"color\": \"#2a3f5f\"}, \"marker\": {\"line\": {\"color\": \"#E5ECF6\", \"width\": 0.5}}, \"type\": \"bar\"}], \"barpolar\": [{\"marker\": {\"line\": {\"color\": \"#E5ECF6\", \"width\": 0.5}}, \"type\": \"barpolar\"}], \"carpet\": [{\"aaxis\": {\"endlinecolor\": \"#2a3f5f\", \"gridcolor\": \"white\", \"linecolor\": \"white\", \"minorgridcolor\": \"white\", \"startlinecolor\": \"#2a3f5f\"}, \"baxis\": {\"endlinecolor\": \"#2a3f5f\", \"gridcolor\": \"white\", \"linecolor\": \"white\", \"minorgridcolor\": \"white\", \"startlinecolor\": \"#2a3f5f\"}, \"type\": \"carpet\"}], \"choropleth\": [{\"colorbar\": {\"outlinewidth\": 0, \"ticks\": \"\"}, \"type\": \"choropleth\"}], \"contour\": [{\"colorbar\": {\"outlinewidth\": 0, \"ticks\": \"\"}, \"colorscale\": [[0.0, \"#0d0887\"], [0.1111111111111111, \"#46039f\"], [0.2222222222222222, \"#7201a8\"], [0.3333333333333333, \"#9c179e\"], [0.4444444444444444, \"#bd3786\"], [0.5555555555555556, \"#d8576b\"], [0.6666666666666666, \"#ed7953\"], [0.7777777777777778, \"#fb9f3a\"], [0.8888888888888888, \"#fdca26\"], [1.0, \"#f0f921\"]], \"type\": \"contour\"}], \"contourcarpet\": [{\"colorbar\": {\"outlinewidth\": 0, \"ticks\": \"\"}, \"type\": \"contourcarpet\"}], \"heatmap\": [{\"colorbar\": {\"outlinewidth\": 0, \"ticks\": \"\"}, \"colorscale\": [[0.0, \"#0d0887\"], [0.1111111111111111, \"#46039f\"], [0.2222222222222222, \"#7201a8\"], [0.3333333333333333, \"#9c179e\"], [0.4444444444444444, \"#bd3786\"], [0.5555555555555556, \"#d8576b\"], [0.6666666666666666, \"#ed7953\"], [0.7777777777777778, \"#fb9f3a\"], [0.8888888888888888, \"#fdca26\"], [1.0, \"#f0f921\"]], \"type\": \"heatmap\"}], \"heatmapgl\": [{\"colorbar\": {\"outlinewidth\": 0, \"ticks\": \"\"}, \"colorscale\": [[0.0, \"#0d0887\"], [0.1111111111111111, \"#46039f\"], [0.2222222222222222, \"#7201a8\"], [0.3333333333333333, \"#9c179e\"], [0.4444444444444444, \"#bd3786\"], [0.5555555555555556, \"#d8576b\"], [0.6666666666666666, \"#ed7953\"], [0.7777777777777778, \"#fb9f3a\"], [0.8888888888888888, \"#fdca26\"], [1.0, \"#f0f921\"]], \"type\": \"heatmapgl\"}], \"histogram\": [{\"marker\": {\"colorbar\": {\"outlinewidth\": 0, \"ticks\": \"\"}}, \"type\": \"histogram\"}], \"histogram2d\": [{\"colorbar\": {\"outlinewidth\": 0, \"ticks\": \"\"}, \"colorscale\": [[0.0, \"#0d0887\"], [0.1111111111111111, \"#46039f\"], [0.2222222222222222, \"#7201a8\"], [0.3333333333333333, \"#9c179e\"], [0.4444444444444444, \"#bd3786\"], [0.5555555555555556, \"#d8576b\"], [0.6666666666666666, \"#ed7953\"], [0.7777777777777778, \"#fb9f3a\"], [0.8888888888888888, \"#fdca26\"], [1.0, \"#f0f921\"]], \"type\": \"histogram2d\"}], \"histogram2dcontour\": [{\"colorbar\": {\"outlinewidth\": 0, \"ticks\": \"\"}, \"colorscale\": [[0.0, \"#0d0887\"], [0.1111111111111111, \"#46039f\"], [0.2222222222222222, \"#7201a8\"], [0.3333333333333333, \"#9c179e\"], [0.4444444444444444, \"#bd3786\"], [0.5555555555555556, \"#d8576b\"], [0.6666666666666666, \"#ed7953\"], [0.7777777777777778, \"#fb9f3a\"], [0.8888888888888888, \"#fdca26\"], [1.0, \"#f0f921\"]], \"type\": \"histogram2dcontour\"}], \"mesh3d\": [{\"colorbar\": {\"outlinewidth\": 0, \"ticks\": \"\"}, \"type\": \"mesh3d\"}], \"parcoords\": [{\"line\": {\"colorbar\": {\"outlinewidth\": 0, \"ticks\": \"\"}}, \"type\": \"parcoords\"}], \"scatter\": [{\"marker\": {\"colorbar\": {\"outlinewidth\": 0, \"ticks\": \"\"}}, \"type\": \"scatter\"}], \"scatter3d\": [{\"line\": {\"colorbar\": {\"outlinewidth\": 0, \"ticks\": \"\"}}, \"marker\": {\"colorbar\": {\"outlinewidth\": 0, \"ticks\": \"\"}}, \"type\": \"scatter3d\"}], \"scattercarpet\": [{\"marker\": {\"colorbar\": {\"outlinewidth\": 0, \"ticks\": \"\"}}, \"type\": \"scattercarpet\"}], \"scattergeo\": [{\"marker\": {\"colorbar\": {\"outlinewidth\": 0, \"ticks\": \"\"}}, \"type\": \"scattergeo\"}], \"scattergl\": [{\"marker\": {\"colorbar\": {\"outlinewidth\": 0, \"ticks\": \"\"}}, \"type\": \"scattergl\"}], \"scattermapbox\": [{\"marker\": {\"colorbar\": {\"outlinewidth\": 0, \"ticks\": \"\"}}, \"type\": \"scattermapbox\"}], \"scatterpolar\": [{\"marker\": {\"colorbar\": {\"outlinewidth\": 0, \"ticks\": \"\"}}, \"type\": \"scatterpolar\"}], \"scatterpolargl\": [{\"marker\": {\"colorbar\": {\"outlinewidth\": 0, \"ticks\": \"\"}}, \"type\": \"scatterpolargl\"}], \"scatterternary\": [{\"marker\": {\"colorbar\": {\"outlinewidth\": 0, \"ticks\": \"\"}}, \"type\": \"scatterternary\"}], \"surface\": [{\"colorbar\": {\"outlinewidth\": 0, \"ticks\": \"\"}, \"colorscale\": [[0.0, \"#0d0887\"], [0.1111111111111111, \"#46039f\"], [0.2222222222222222, \"#7201a8\"], [0.3333333333333333, \"#9c179e\"], [0.4444444444444444, \"#bd3786\"], [0.5555555555555556, \"#d8576b\"], [0.6666666666666666, \"#ed7953\"], [0.7777777777777778, \"#fb9f3a\"], [0.8888888888888888, \"#fdca26\"], [1.0, \"#f0f921\"]], \"type\": \"surface\"}], \"table\": [{\"cells\": {\"fill\": {\"color\": \"#EBF0F8\"}, \"line\": {\"color\": \"white\"}}, \"header\": {\"fill\": {\"color\": \"#C8D4E3\"}, \"line\": {\"color\": \"white\"}}, \"type\": \"table\"}]}, \"layout\": {\"annotationdefaults\": {\"arrowcolor\": \"#2a3f5f\", \"arrowhead\": 0, \"arrowwidth\": 1}, \"colorscale\": {\"diverging\": [[0, \"#8e0152\"], [0.1, \"#c51b7d\"], [0.2, \"#de77ae\"], [0.3, \"#f1b6da\"], [0.4, \"#fde0ef\"], [0.5, \"#f7f7f7\"], [0.6, \"#e6f5d0\"], [0.7, \"#b8e186\"], [0.8, \"#7fbc41\"], [0.9, \"#4d9221\"], [1, \"#276419\"]], \"sequential\": [[0.0, \"#0d0887\"], [0.1111111111111111, \"#46039f\"], [0.2222222222222222, \"#7201a8\"], [0.3333333333333333, \"#9c179e\"], [0.4444444444444444, \"#bd3786\"], [0.5555555555555556, \"#d8576b\"], [0.6666666666666666, \"#ed7953\"], [0.7777777777777778, \"#fb9f3a\"], [0.8888888888888888, \"#fdca26\"], [1.0, \"#f0f921\"]], \"sequentialminus\": [[0.0, \"#0d0887\"], [0.1111111111111111, \"#46039f\"], [0.2222222222222222, \"#7201a8\"], [0.3333333333333333, \"#9c179e\"], [0.4444444444444444, \"#bd3786\"], [0.5555555555555556, \"#d8576b\"], [0.6666666666666666, \"#ed7953\"], [0.7777777777777778, \"#fb9f3a\"], [0.8888888888888888, \"#fdca26\"], [1.0, \"#f0f921\"]]}, \"colorway\": [\"#636efa\", \"#EF553B\", \"#00cc96\", \"#ab63fa\", \"#FFA15A\", \"#19d3f3\", \"#FF6692\", \"#B6E880\", \"#FF97FF\", \"#FECB52\"], \"font\": {\"color\": \"#2a3f5f\"}, \"geo\": {\"bgcolor\": \"white\", \"lakecolor\": \"white\", \"landcolor\": \"#E5ECF6\", \"showlakes\": true, \"showland\": true, \"subunitcolor\": \"white\"}, \"hoverlabel\": {\"align\": \"left\"}, \"hovermode\": \"closest\", \"mapbox\": {\"style\": \"light\"}, \"paper_bgcolor\": \"white\", \"plot_bgcolor\": \"#E5ECF6\", \"polar\": {\"angularaxis\": {\"gridcolor\": \"white\", \"linecolor\": \"white\", \"ticks\": \"\"}, \"bgcolor\": \"#E5ECF6\", \"radialaxis\": {\"gridcolor\": \"white\", \"linecolor\": \"white\", \"ticks\": \"\"}}, \"scene\": {\"xaxis\": {\"backgroundcolor\": \"#E5ECF6\", \"gridcolor\": \"white\", \"gridwidth\": 2, \"linecolor\": \"white\", \"showbackground\": true, \"ticks\": \"\", \"zerolinecolor\": \"white\"}, \"yaxis\": {\"backgroundcolor\": \"#E5ECF6\", \"gridcolor\": \"white\", \"gridwidth\": 2, \"linecolor\": \"white\", \"showbackground\": true, \"ticks\": \"\", \"zerolinecolor\": \"white\"}, \"zaxis\": {\"backgroundcolor\": \"#E5ECF6\", \"gridcolor\": \"white\", \"gridwidth\": 2, \"linecolor\": \"white\", \"showbackground\": true, \"ticks\": \"\", \"zerolinecolor\": \"white\"}}, \"shapedefaults\": {\"line\": {\"color\": \"#2a3f5f\"}}, \"ternary\": {\"aaxis\": {\"gridcolor\": \"white\", \"linecolor\": \"white\", \"ticks\": \"\"}, \"baxis\": {\"gridcolor\": \"white\", \"linecolor\": \"white\", \"ticks\": \"\"}, \"bgcolor\": \"#E5ECF6\", \"caxis\": {\"gridcolor\": \"white\", \"linecolor\": \"white\", \"ticks\": \"\"}}, \"title\": {\"x\": 0.05}, \"xaxis\": {\"automargin\": true, \"gridcolor\": \"white\", \"linecolor\": \"white\", \"ticks\": \"\", \"zerolinecolor\": \"white\", \"zerolinewidth\": 2}, \"yaxis\": {\"automargin\": true, \"gridcolor\": \"white\", \"linecolor\": \"white\", \"ticks\": \"\", \"zerolinecolor\": \"white\", \"zerolinewidth\": 2}}}, \"width\": 500},\n",
       "                        {\"responsive\": true}\n",
       "                    ).then(function(){\n",
       "                            \n",
       "var gd = document.getElementById('a43621f7-78ea-4d53-803e-0198dd355493');\n",
       "var x = new MutationObserver(function (mutations, observer) {{\n",
       "        var display = window.getComputedStyle(gd).display;\n",
       "        if (!display || display === 'none') {{\n",
       "            console.log([gd, 'removed!']);\n",
       "            Plotly.purge(gd);\n",
       "            observer.disconnect();\n",
       "        }}\n",
       "}});\n",
       "\n",
       "// Listen for the removal of the full notebook cells\n",
       "var notebookContainer = gd.closest('#notebook-container');\n",
       "if (notebookContainer) {{\n",
       "    x.observe(notebookContainer, {childList: true});\n",
       "}}\n",
       "\n",
       "// Listen for the clearing of the current output cell\n",
       "var outputEl = gd.closest('.output');\n",
       "if (outputEl) {{\n",
       "    x.observe(outputEl, {childList: true});\n",
       "}}\n",
       "\n",
       "                        })\n",
       "                };\n",
       "                });\n",
       "            </script>\n",
       "        </div>"
      ]
     },
     "metadata": {},
     "output_type": "display_data"
    }
   ],
   "source": [
    "# plotting test\n",
    "l1 = []\n",
    "l2 = []\n",
    "for i in range(28):\n",
    "    l1.append(i)\n",
    "    l2.append(27-i)\n",
    "trace = go.Heatmap(\n",
    "    #z = importance.reshape(28,28),\n",
    "    z = df_shuffled.iloc[3765].values[:784].reshape(28,28),\n",
    "    x = np.array(l1),\n",
    "    y = np.array(l2),\n",
    "    colorscale = 'Viridis'\n",
    ")\n",
    "layout = go.Layout(\n",
    "    autosize = False,\n",
    "    width = 500,\n",
    "    height = 500\n",
    ")\n",
    "data = [trace]\n",
    "fig = go.Figure(data=data, layout = layout)\n",
    "iplot(fig)\n",
    "\n",
    "trace = go.Heatmap(\n",
    "    #z = importance.reshape(28,28),\n",
    "    z = df_shuffled.iloc[3765].values[:784].reshape(28,28),\n",
    "    x = np.array(l1),\n",
    "    y = np.array(l1),\n",
    "    colorscale = 'Viridis'\n",
    ")\n",
    "layout = go.Layout(\n",
    "    autosize = False,\n",
    "    width = 500,\n",
    "    height = 500\n",
    ")\n",
    "data = [trace]\n",
    "fig = go.Figure(data=data, layout = layout)\n",
    "iplot(fig)"
   ]
  },
  {
   "cell_type": "code",
   "execution_count": null,
   "metadata": {},
   "outputs": [],
   "source": []
  }
 ],
 "metadata": {
  "kernelspec": {
   "display_name": "Python 3",
   "language": "python",
   "name": "python3"
  },
  "language_info": {
   "codemirror_mode": {
    "name": "ipython",
    "version": 3
   },
   "file_extension": ".py",
   "mimetype": "text/x-python",
   "name": "python",
   "nbconvert_exporter": "python",
   "pygments_lexer": "ipython3",
   "version": "3.6.9"
  }
 },
 "nbformat": 4,
 "nbformat_minor": 2
}
