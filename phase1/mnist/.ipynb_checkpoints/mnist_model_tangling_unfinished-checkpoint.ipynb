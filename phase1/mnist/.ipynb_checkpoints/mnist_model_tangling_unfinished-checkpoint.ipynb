{
 "cells": [
  {
   "cell_type": "code",
   "execution_count": 1,
   "metadata": {},
   "outputs": [],
   "source": [
    "import pandas as pd\n",
    "import numpy as np\n",
    "import matplotlib.pyplot as plt\n",
    "import seaborn as sns\n",
    "sns.set_style(\"whitegrid\")"
   ]
  },
  {
   "cell_type": "markdown",
   "metadata": {},
   "source": [
    "### load data"
   ]
  },
  {
   "cell_type": "code",
   "execution_count": 5,
   "metadata": {},
   "outputs": [
    {
     "name": "stdout",
     "output_type": "stream",
     "text": [
      "Processing digit  0\n",
      "Processing digit  1\n",
      "Processing digit  2\n",
      "Processing digit  3\n",
      "Processing digit  4\n",
      "Processing digit  5\n",
      "Processing digit  6\n",
      "Processing digit  7\n",
      "Processing digit  8\n",
      "Processing digit  9\n",
      "Total data size 2000\n"
     ]
    }
   ],
   "source": [
    "#short = \"\"\n",
    "short = \"short_\"\n",
    "\n",
    "dfAll = pd.DataFrame()\n",
    "for digit in range(10):\n",
    "    print(\"Processing digit \",digit)\n",
    "    fname = '/home/wayne/main/git/data/ch3/digit_' + short + str(digit) + '.csv'\n",
    "    df = pd.read_csv(fname,header=None)\n",
    "    df['digit'] = digit\n",
    "    dfAll = pd.concat([dfAll, df])\n",
    "    \n",
    "digitSignal = 5\n",
    "dfA = dfAll.loc[dfAll['digit']==digitSignal,:].copy()\n",
    "dfB = dfAll.loc[dfAll['digit']!=digitSignal,:].copy()\n",
    "# Define the signal column\n",
    "dfA['signal'] = 1\n",
    "dfB['signal'] = 0\n",
    "# Shuffle our background\n",
    "from sklearn.utils import shuffle\n",
    "dfB = shuffle(dfB)\n",
    "dfB_use = dfB.head(len(dfA))\n",
    "dfCombined = dfB_use\n",
    "dfCombined = pd.concat([dfCombined, dfA])\n",
    "print(\"Total data size\",len(dfCombined))"
   ]
  },
  {
   "cell_type": "code",
   "execution_count": null,
   "metadata": {},
   "outputs": [],
   "source": []
  }
 ],
 "metadata": {
  "kernelspec": {
   "display_name": "Python 3",
   "language": "python",
   "name": "python3"
  },
  "language_info": {
   "codemirror_mode": {
    "name": "ipython",
    "version": 3
   },
   "file_extension": ".py",
   "mimetype": "text/x-python",
   "name": "python",
   "nbconvert_exporter": "python",
   "pygments_lexer": "ipython3",
   "version": "3.6.9"
  }
 },
 "nbformat": 4,
 "nbformat_minor": 2
}
