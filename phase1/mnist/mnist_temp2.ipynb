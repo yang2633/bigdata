{
 "cells": [
  {
   "cell_type": "markdown",
   "metadata": {},
   "source": [
    "## Multi-class classification"
   ]
  },
  {
   "cell_type": "code",
   "execution_count": 1,
   "metadata": {},
   "outputs": [],
   "source": [
    "import pandas as pd\n",
    "import numpy as np\n",
    "import matplotlib.pyplot as plt\n",
    "import seaborn as sns\n",
    "sns.set_style(\"whitegrid\")"
   ]
  },
  {
   "cell_type": "markdown",
   "metadata": {},
   "source": [
    "### load data\n",
    "in this notebook, use one digit as signal and use all the rest as backgound"
   ]
  },
  {
   "cell_type": "code",
   "execution_count": 2,
   "metadata": {},
   "outputs": [
    {
     "name": "stdout",
     "output_type": "stream",
     "text": [
      "Processing digit  0\n",
      "Processing digit  1\n",
      "Processing digit  2\n",
      "Processing digit  3\n",
      "Processing digit  4\n",
      "Processing digit  5\n",
      "Processing digit  6\n",
      "Processing digit  7\n",
      "Processing digit  8\n",
      "Processing digit  9\n",
      "length of dfAll 10000\n"
     ]
    }
   ],
   "source": [
    "# short = \"\"\n",
    "short = \"short_\"\n",
    "\n",
    "dfAll = pd.DataFrame()\n",
    "for d in range(10):\n",
    "    print(\"Processing digit \", d)\n",
    "    fname = \"/home/wayne/main/git/data/ch3/digit_\"+short+str(d)+\".csv\"\n",
    "    df = pd.read_csv(fname, header=None)\n",
    "    df['digit'] = d\n",
    "    dfAll = pd.concat([dfAll, df])\n",
    "print(\"length of dfAll\", len(dfAll))"
   ]
  },
  {
   "cell_type": "code",
   "execution_count": 3,
   "metadata": {},
   "outputs": [],
   "source": [
    "# a function to plot images\n",
    "def imagePlot(df, row):\n",
    "    row = df.iloc[row]\n",
    "    img = row[:784]\n",
    "    img = img.values.reshape(28,28)\n",
    "    plt.imshow(img)"
   ]
  },
  {
   "cell_type": "code",
   "execution_count": 5,
   "metadata": {},
   "outputs": [
    {
     "name": "stdout",
     "output_type": "stream",
     "text": [
      "shift done\n"
     ]
    }
   ],
   "source": [
    "# shift and rotate the images\n",
    "import random\n",
    "randDirection = random.choice([-1, 1])\n",
    "randShift = random.randint(-6, 6)\n",
    "array_shifted = np.zeros(dfAll.shape)\n",
    "array_shifted[:, -1] = dfAll.iloc[:, -1]\n",
    "for i in range(len(dfAll)):\n",
    "    row = dfAll.iloc[i]\n",
    "    img = row[:784]\n",
    "    img = img.values.reshape(28,28)\n",
    "    img = np.roll(img, randShift, axis=randDirection)\n",
    "    img = img.reshape(-1, 784)\n",
    "    array_shifted[i, :784] = img\n",
    "df_shifted = pd.DataFrame(array_shifted)\n",
    "df_shifted['digit'] = dfAll['digit'].values\n",
    "print(\"shift done\")"
   ]
  },
  {
   "cell_type": "code",
   "execution_count": 6,
   "metadata": {},
   "outputs": [
    {
     "name": "stdout",
     "output_type": "stream",
     "text": [
      "original image\n"
     ]
    },
    {
     "data": {
      "image/png": "[encoded data removed]",
      "text/plain": [
       "<Figure size 432x288 with 1 Axes>"
      ]
     },
     "metadata": {},
     "output_type": "display_data"
    }
   ],
   "source": [
    "print(\"original image\")\n",
    "imagePlot(dfAll, 404)"
   ]
  },
  {
   "cell_type": "code",
   "execution_count": 7,
   "metadata": {},
   "outputs": [
    {
     "name": "stdout",
     "output_type": "stream",
     "text": [
      "after shifting image\n"
     ]
    },
    {
     "data": {
      "image/png": "[encoded data removed]",
      "text/plain": [
       "<Figure size 432x288 with 1 Axes>"
      ]
     },
     "metadata": {},
     "output_type": "display_data"
    }
   ],
   "source": [
    "print(\"after shifting image\")\n",
    "imagePlot(df_shifted, 404)"
   ]
  },
  {
   "cell_type": "code",
   "execution_count": 13,
   "metadata": {},
   "outputs": [
    {
     "name": "stdout",
     "output_type": "stream",
     "text": [
      "<class 'numpy.ndarray'> (28, 28)\n",
      "<class 'numpy.ndarray'> (28, 28)\n"
     ]
    },
    {
     "data": {
      "image/png": "[encoded data removed]",
      "text/plain": [
       "<Figure size 360x144 with 2 Axes>"
      ]
     },
     "metadata": {},
     "output_type": "display_data"
    }
   ],
   "source": [
    "# image rotaion\n",
    "from scipy import ndimage, misc\n",
    "fig = plt.figure(figsize=(5,2))\n",
    "ax1, ax2 = fig.subplots(1,2)\n",
    "row = dfAll.iloc[3333]\n",
    "img = row[:784]\n",
    "img = img.values.reshape(28,28)\n",
    "img_rotated = ndimage.rotate(img, -60, reshape=False)\n",
    "print(type(img), img.shape)\n",
    "print(type(img_rotated), img_rotated.shape)\n",
    "ax1.imshow(img)\n",
    "ax2.imshow(img_rotated)\n",
    "plt.show()"
   ]
  },
  {
   "cell_type": "code",
   "execution_count": 58,
   "metadata": {},
   "outputs": [],
   "source": [
    "def pd_rotate(df):\n",
    "    randAngle = random.randint(-180, 180)\n",
    "    array_rotated = np.zeros(df.shape)\n",
    "    array_rotated[:, -1] = df.iloc[:, -1]\n",
    "    for i in range(len(df)):\n",
    "        row = df.iloc[i]\n",
    "        img = row[:784]\n",
    "        img = img.values.reshape(28,28)\n",
    "        img = ndimage.rotate(img, randAngle, reshape=False)\n",
    "        img = img.reshape(-1, 784)\n",
    "        array_rotated[i, :784] = img\n",
    "    df_rotated = pd.DataFrame(array_rotated)\n",
    "    return df_rotated"
   ]
  },
  {
   "cell_type": "code",
   "execution_count": 61,
   "metadata": {},
   "outputs": [],
   "source": [
    "df_rotated = pd_rotate(dfAll)\n",
    "df_rotated['digit'] = dfAll['digit'].values"
   ]
  },
  {
   "cell_type": "code",
   "execution_count": 36,
   "metadata": {},
   "outputs": [],
   "source": [
    "# funtion multiPerformance\n",
    "# used to implement the multi-dimensional counter\n",
    "\n",
    "# first of all, nested_defaultdict for confusion matrix\n",
    "from collections import defaultdict\n",
    "from functools import partial\n",
    "from itertools import repeat\n",
    "def nested_defaultdict(default_factory,depth=1):\n",
    "    result = partial(defaultdict, default_factory)\n",
    "    for _ in repeat(None, depth-1):\n",
    "        result = partial(defaultdict, result)\n",
    "    return result()\n",
    "\n",
    "def multiPerformance(y, y_pred, y_score, debug=False):\n",
    "    cm = nested_defaultdict(int, 2)\n",
    "    classes = set()\n",
    "    totalTrue = defaultdict(int)\n",
    "    totalPred = defaultdict(int)\n",
    "    for i in range(len(y_pred)):\n",
    "        trueClass = y[i]\n",
    "        classes.add(trueClass)\n",
    "        predClass = y_pred[i]\n",
    "        totalTrue[trueClass] += 1\n",
    "        totalPred[predClass] += 1\n",
    "        cm[trueClass][predClass] += 1\n",
    "    if debug:\n",
    "        for trueClass in classes:\n",
    "            print(\"True: \", trueClass, end=\"\")\n",
    "            for predClass in classes:\n",
    "                print(\"\\t\", cm[trueClass][predClass],end=\"\")\n",
    "            print()\n",
    "        print()\n",
    "    accMicro = 0.0\n",
    "    accMacro = 0.0\n",
    "    for cl in classes:\n",
    "        accMicro += cm[cl][cl]\n",
    "        accMacro += cm[cl][cl]/totalTrue[cl]\n",
    "    accMicro /= len(y)\n",
    "    accMacro = accMacro/len(classes)\n",
    "    \n",
    "    TP = TF = FP = FN = 0.0\n",
    "    precisionTotal = recallTotal = 0.0\n",
    "    for i in range(len(classes)):\n",
    "        TP_1 = 0.0\n",
    "        TN_1 = 0.0\n",
    "        FP_1 = 0.0\n",
    "        FN_1 = 0.0\n",
    "        TP_1 += cm[i][i]\n",
    "        for j in range(len(classes)):\n",
    "            if j != i:\n",
    "                TN_1 += cm[j][j]\n",
    "                FP_1 += cm[i][j]\n",
    "                FN_1 += cm[j][i]\n",
    "        precision_1 = TP_1/(TP_1 + FN_1)\n",
    "        recall_1 = TP_1/(TP_1 + FP_1)\n",
    "        precisionTotal += precision_1\n",
    "        recallTotal += recall_1\n",
    "    \n",
    "    precisionMacro = precisionTotal/len(classes)\n",
    "    recallMacro = recallTotal/len(classes)\n",
    "    results = {\"cm\":cm,\n",
    "               \"accuracyMicro\":accMicro,\n",
    "               \"accuracyMacro\":accMacro, \n",
    "               \"precisionMacro\": precisionMacro, \n",
    "               \"recallMacro\": recallMacro}\n",
    "    return results"
   ]
  },
  {
   "cell_type": "code",
   "execution_count": 45,
   "metadata": {},
   "outputs": [],
   "source": [
    "def runFitter(estimator, X_train, y_train, X_test, y_test, debug=False):\n",
    "    estimator.fit(X_train, y_train)\n",
    "    y_train_pred = estimator.predict(X_train)\n",
    "    y_train_score = estimator.decision_function(X_train)\n",
    "    y_test_pred = estimator.predict(X_test)\n",
    "    y_test_score = estimator.decision_function(X_test)\n",
    "    results_test = multiPerformance(y_test, y_test_pred, y_test_score)\n",
    "    results_train = multiPerformance(y_train, y_train_pred, y_train_score)\n",
    "    results = {\n",
    "        'cf_test':results_test['cm'],\n",
    "        'cf_train':results_train['cm'],\n",
    "        'accuracyMicro_test':results_test['accuracyMicro'],\n",
    "        'accuracyMacro_test':results_test['accuracyMacro'],\n",
    "        'accuracyMicro_train':results_train['accuracyMicro'],\n",
    "        'accuracyMacro_train':results_train['accuracyMacro'],\n",
    "        'precisionMacro_train': results_train['precisionMacro'],\n",
    "        'precisionMacro_test': results_test['precisionMacro'],\n",
    "        'recallMacro_train': results_train['recallMacro'],\n",
    "        'recallMacro_test': results_test['recallMacro'],\n",
    "}\n",
    "\n",
    "    return results"
   ]
  },
  {
   "cell_type": "code",
   "execution_count": 62,
   "metadata": {},
   "outputs": [],
   "source": [
    "# shuffle data\n",
    "from sklearn.utils import shuffle\n",
    "dfAllShuffle = shuffle(dfAll, random_state=42)\n",
    "## using original data\n",
    "#X = dfAllShuffle.to_numpy()[:, :784]\n",
    "#X = X.reshape(-1, 784)\n",
    "#y = dfAllShuffle['digit'].values\n",
    "\n",
    "## using shifted data\n",
    "#df_s_shuffle = shuffle(df_shifted, random_state=404)\n",
    "#X = df_s_shuffle.to_numpy()[:, :784]\n",
    "#y = df_s_shuffle['digit'].values\n",
    "\n",
    "# using rotated data\n",
    "df_r_shuffle = shuffle(df_rotated, random_state=404)\n",
    "X = df_r_shuffle.to_numpy()[:, :784]\n",
    "y = df_r_shuffle['digit'].values"
   ]
  },
  {
   "cell_type": "code",
   "execution_count": 63,
   "metadata": {},
   "outputs": [],
   "source": [
    "# setup kfolds\n",
    "from sklearn.model_selection import StratifiedKFold\n",
    "from sklearn.model_selection import KFold\n",
    "kfolds = 5\n",
    "skf = StratifiedKFold(n_splits=kfolds)"
   ]
  },
  {
   "cell_type": "code",
   "execution_count": 64,
   "metadata": {},
   "outputs": [
    {
     "name": "stdout",
     "output_type": "stream",
     "text": [
      "Training\n",
      "   Split  1.0 ; accuracyMicro test/train 0.8875 0.966 ; accuracyMacro test/train 0.8875 0.9659999999999999\n",
      "Training\n",
      "   Split  2.0 ; accuracyMicro test/train 0.8835 0.963125 ; accuracyMacro test/train 0.8835000000000001 0.9631250000000001\n",
      "Training\n",
      "   Split  3.0 ; accuracyMicro test/train 0.875 0.96825 ; accuracyMacro test/train 0.8750000000000002 0.9682499999999999\n",
      "Training\n",
      "   Split  4.0 ; accuracyMicro test/train 0.8795 0.964625 ; accuracyMacro test/train 0.8795 0.9646250000000001\n",
      "Training\n",
      "   Split  5.0 ; accuracyMicro test/train 0.8895 0.965625 ; accuracyMacro test/train 0.8895 0.9656250000000002\n",
      "average accuracyMicro test:   0.883\n",
      "average accuracyMicro train:  0.9655250000000001\n",
      "average accuracyMacro test:   0.883\n",
      "average accuracyMacro train:  0.9655250000000001\n",
      "average precisonMacro test:  0.8828523402912438\n",
      "average precisonMacro train:  0.9655459924272958\n",
      "average recallMacro test:  0.883\n",
      "average recallMacro train:  0.9655250000000001\n",
      "Test confusion matrix\n",
      "True:  0\t 192\t 0\t 0\t 0\t 0\t 2\t 1\t 0\t 5\t 0\t 0\n",
      "True:  1\t 0\t 193\t 2\t 0\t 0\t 1\t 0\t 0\t 4\t 0\t 0\n",
      "True:  2\t 1\t 4\t 167\t 6\t 5\t 1\t 4\t 1\t 9\t 2\t 0\n",
      "True:  3\t 2\t 1\t 2\t 173\t 0\t 9\t 0\t 7\t 4\t 2\t 0\n",
      "True:  4\t 2\t 0\t 3\t 1\t 175\t 0\t 2\t 2\t 6\t 9\t 0\n",
      "True:  5\t 2\t 1\t 0\t 9\t 9\t 171\t 4\t 0\t 4\t 0\t 0\n",
      "True:  6\t 0\t 1\t 0\t 0\t 2\t 2\t 192\t 0\t 2\t 1\t 0\n",
      "True:  7\t 3\t 1\t 1\t 2\t 4\t 1\t 0\t 180\t 0\t 8\t 0\n",
      "True:  8\t 2\t 8\t 4\t 2\t 4\t 8\t 4\t 1\t 164\t 3\t 0\n",
      "True:  9\t 4\t 0\t 3\t 3\t 4\t 2\t 0\t 7\t 5\t 172\t 0\n",
      "True:  10\t 0\t 0\t 0\t 0\t 0\t 0\t 0\t 0\t 0\t 0\t 0\n",
      "\n",
      "Train confusion matrix\n",
      "True:  0\t 800\t 0\t 0\t 0\t 0\t 0\t 0\t 0\t 0\t 0\t 0\n",
      "True:  1\t 0\t 797\t 1\t 0\t 0\t 0\t 0\t 1\t 1\t 0\t 0\n",
      "True:  2\t 0\t 2\t 762\t 8\t 1\t 1\t 3\t 4\t 18\t 1\t 0\n",
      "True:  3\t 0\t 1\t 10\t 758\t 0\t 12\t 0\t 5\t 6\t 8\t 0\n",
      "True:  4\t 0\t 1\t 0\t 0\t 788\t 0\t 0\t 0\t 1\t 10\t 0\n",
      "True:  5\t 1\t 0\t 3\t 19\t 0\t 746\t 3\t 0\t 22\t 6\t 0\n",
      "True:  6\t 0\t 0\t 0\t 0\t 0\t 3\t 796\t 0\t 1\t 0\t 0\n",
      "True:  7\t 0\t 1\t 4\t 1\t 1\t 0\t 0\t 778\t 1\t 14\t 0\n",
      "True:  8\t 3\t 3\t 12\t 19\t 1\t 10\t 4\t 4\t 738\t 6\t 0\n",
      "True:  9\t 1\t 1\t 2\t 8\t 3\t 2\t 0\t 14\t 7\t 762\t 0\n",
      "True:  10\t 0\t 0\t 0\t 0\t 0\t 0\t 0\t 0\t 0\t 0\t 0\n",
      "\n"
     ]
    }
   ],
   "source": [
    "# from sklearn.svm import LinearSVC\n",
    "from sklearn.linear_model import SGDClassifier\n",
    "\n",
    "estimator = LinearSVC(random_state=404, dual=False, max_iter=500, tol=0.01)\n",
    "#estimator = SGDClassifier(random_state=404, max_iter=500, tol=0.01)\n",
    "avg_accuracyMicro_test = 0.0\n",
    "avg_accuracyMicro_train = 0.0\n",
    "avg_accuracyMacro_test = 0.0\n",
    "avg_accuracyMacro_train = 0.0\n",
    "avg_precisionMacro_test = 0.0\n",
    "avg_precisionMacro_train = 0.0\n",
    "avg_recallMacro_test = 0.0\n",
    "avg_recallMacro_train = 0.0\n",
    "numSplits = 0.0\n",
    "\n",
    "# Now loop\n",
    "lastCF_train = None\n",
    "lastCF_test = None\n",
    "for train_index, test_index in skf.split(X, y):\n",
    "        print(\"Training\")\n",
    "        X_train = X[train_index]\n",
    "        y_train = y[train_index]\n",
    "        X_test = X[test_index]\n",
    "        y_test = y[test_index]\n",
    "  \n",
    "        # Now fit to training set\n",
    "        results = runFitter(estimator,X_train,y_train,X_test,y_test)\n",
    "        avg_accuracyMicro_test += results['accuracyMicro_test']\n",
    "        avg_accuracyMicro_train += results['accuracyMicro_train']\n",
    "        avg_accuracyMacro_test += results['accuracyMacro_test']\n",
    "        avg_accuracyMacro_train += results['accuracyMacro_train']\n",
    "        avg_precisionMacro_test += results['precisionMacro_test']\n",
    "        avg_precisionMacro_train += results['precisionMacro_train']\n",
    "        avg_recallMacro_test += results['recallMacro_test']\n",
    "        avg_recallMacro_train += results['recallMacro_train']\n",
    "        lastCF_train = results['cf_train']\n",
    "        lastCF_test = results['cf_test']\n",
    "        numSplits += 1.0\n",
    "        print(\"   Split \",numSplits,\"; accuracyMicro test/train\",results['accuracyMicro_test'],results['accuracyMicro_train'],\"; accuracyMacro test/train\",results['accuracyMacro_test'],results['accuracyMacro_train'])\n",
    "\n",
    "avg_accuracyMicro_test /= numSplits\n",
    "avg_accuracyMicro_train /= numSplits\n",
    "avg_accuracyMacro_test /= numSplits\n",
    "avg_accuracyMacro_train /= numSplits\n",
    "avg_precisionMacro_train /= numSplits\n",
    "avg_recallMacro_train /= numSplits\n",
    "avg_precisionMacro_test /= numSplits\n",
    "avg_recallMacro_test /= numSplits\n",
    "\n",
    "\n",
    "print(\"average accuracyMicro test:  \",avg_accuracyMicro_test)\n",
    "print(\"average accuracyMicro train: \",avg_accuracyMicro_train)\n",
    "print(\"average accuracyMacro test:  \",avg_accuracyMacro_test)\n",
    "print(\"average accuracyMacro train: \",avg_accuracyMacro_train)\n",
    "print(\"average precisonMacro test: \", avg_precisionMacro_test)\n",
    "print(\"average precisonMacro train: \", avg_precisionMacro_train)\n",
    "print(\"average recallMacro test: \", avg_recallMacro_test)\n",
    "print(\"average recallMacro train: \", avg_recallMacro_train)\n",
    "print(\"Test confusion matrix\")\n",
    "for trueClass in range(11):\n",
    "    print(\"True: \",trueClass,end=\"\")\n",
    "    for predClass in range(11):\n",
    "        print(\"\\t\",lastCF_test[trueClass][predClass],end=\"\")\n",
    "    print()\n",
    "print()\n",
    "print(\"Train confusion matrix\")\n",
    "for trueClass in range(11):\n",
    "    print(\"True: \",trueClass,end=\"\")\n",
    "    for predClass in range(11):\n",
    "        print(\"\\t\",lastCF_train[trueClass][predClass],end=\"\")\n",
    "    print()\n",
    "print()\n"
   ]
  },
  {
   "cell_type": "markdown",
   "metadata": {},
   "source": [
    "### run fitter and check performance for **shifted** data set"
   ]
  },
  {
   "cell_type": "code",
   "execution_count": 49,
   "metadata": {},
   "outputs": [],
   "source": [
    "df_s_shuffle = shuffle(df_shifted, random_state=404)\n",
    "X_s = df_s_shuffle.to_numpy()[:, :784]\n",
    "y_s = df_s_shuffle['digit'].values"
   ]
  },
  {
   "cell_type": "code",
   "execution_count": null,
   "metadata": {},
   "outputs": [],
   "source": [
    "estimator_s = LinearSVC(random_state=404, \n",
    "                        dual=False, \n",
    "                        max_iter=500, \n",
    "                        tol=0.01)\n",
    "results_s = runFitter(estimator_s, X)"
   ]
  }
 ],
 "metadata": {
  "kernelspec": {
   "display_name": "Python 3",
   "language": "python",
   "name": "python3"
  },
  "language_info": {
   "codemirror_mode": {
    "name": "ipython",
    "version": 3
   },
   "file_extension": ".py",
   "mimetype": "text/x-python",
   "name": "python",
   "nbconvert_exporter": "python",
   "pygments_lexer": "ipython3",
   "version": "3.6.9"
  }
 },
 "nbformat": 4,
 "nbformat_minor": 2
}
