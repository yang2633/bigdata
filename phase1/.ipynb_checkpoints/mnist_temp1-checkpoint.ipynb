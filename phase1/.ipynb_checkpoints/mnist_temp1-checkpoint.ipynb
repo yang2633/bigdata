{
 "cells": [
  {
   "cell_type": "code",
   "execution_count": 1,
   "metadata": {},
   "outputs": [],
   "source": [
    "import pandas as pd\n",
    "import numpy as np\n",
    "import matplotlib.pyplot as plt"
   ]
  },
  {
   "cell_type": "markdown",
   "metadata": {},
   "source": [
    "### laod data"
   ]
  },
  {
   "cell_type": "code",
   "execution_count": 2,
   "metadata": {},
   "outputs": [
    {
     "name": "stdout",
     "output_type": "stream",
     "text": [
      "length of dfA  1000\n",
      "length of dfB  1000\n",
      "length of dfCombined  2000\n"
     ]
    }
   ],
   "source": [
    "digitA = 9\n",
    "digitB = 7\n",
    "\n",
    "fnameA = '/home/wayne/main/git/data/ch3/digit_short_' + str(digitA) + '.csv'\n",
    "dfA = pd.read_csv(fnameA, header=None)\n",
    "dfA['label'] = digitA\n",
    "fnameB = '/home/wayne/main/git/data/ch3/digit_short_' + str(digitB) + '.csv'\n",
    "dfB = pd.read_csv(fnameB, header=None)\n",
    "dfB['label'] = digitB\n",
    "\n",
    "dfCombined = pd.concat([dfA, dfB])\n",
    "\n",
    "print(\"length of dfA \", len(dfA))\n",
    "print(\"length of dfB \", len(dfB))\n",
    "print(\"length of dfCombined \", len(dfCombined))"
   ]
  },
  {
   "cell_type": "markdown",
   "metadata": {},
   "source": [
    "### visualize the data"
   ]
  },
  {
   "cell_type": "code",
   "execution_count": 8,
   "metadata": {},
   "outputs": [
    {
     "name": "stdout",
     "output_type": "stream",
     "text": [
      "the type of row is  <class 'pandas.core.series.Series'>\n",
      "length of row  785\n",
      "the last entry (label) is  [9]\n",
      "digit label  9\n",
      "0,0,0,0,0,0,0,0,0,0,0,0,0,0,0,0,0,0,0,0,0,0,0,0,0,0,0,0,\n",
      "0,0,0,0,0,0,0,0,0,0,0,0,0,0,0,0,0,0,0,0,0,0,0,0,0,0,0,0,\n",
      "0,0,0,0,0,0,0,0,0,0,0,0,0,0,0,0,0,0,0,0,0,0,0,0,0,0,0,0,\n",
      "0,0,0,0,0,0,0,0,0,0,0,0,0,0,0,0,0,0,0,0,0,0,0,0,0,0,0,0,\n",
      "0,0,0,0,0,0,0,0,0,0,0,0,0,0,0,0,0,0,0,0,0,0,0,0,0,0,0,0,\n",
      "0,0,0,0,0,0,0,0,0,0,0,0,0,0,0,0,0,0,0,0,0,0,0,0,0,0,0,0,\n",
      "0,0,0,0,0,0,0,0,0,0,0,0,70,194,255,254,254,148,14,0,0,0,0,0,0,0,0,0,\n",
      "0,0,0,0,0,0,0,0,0,0,0,112,247,195,76,84,165,251,58,0,0,0,0,0,0,0,0,0,\n",
      "0,0,0,0,0,0,0,0,0,0,44,229,146,0,0,0,0,234,126,0,0,0,0,0,0,0,0,0,\n",
      "0,0,0,0,0,0,0,0,0,10,213,240,23,0,0,0,0,166,155,0,0,0,0,0,0,0,0,0,\n",
      "0,0,0,0,0,0,0,0,0,134,253,100,0,0,0,0,0,9,148,0,0,0,0,0,0,0,0,0,\n",
      "0,0,0,0,0,0,0,0,0,255,241,30,0,0,0,0,0,123,254,99,0,0,0,0,0,0,0,0,\n",
      "0,0,0,0,0,0,0,0,83,254,188,0,0,0,0,0,0,234,253,98,0,0,0,0,0,0,0,0,\n",
      "0,0,0,0,0,0,0,0,128,254,68,0,0,0,0,0,25,240,253,30,0,0,0,0,0,0,0,0,\n",
      "0,0,0,0,0,0,0,0,195,254,39,0,0,0,0,11,172,253,222,0,0,0,0,0,0,0,0,0,\n",
      "0,0,0,0,0,0,0,0,120,254,39,0,0,0,23,147,253,253,58,0,0,0,0,0,0,0,0,0,\n",
      "0,0,0,0,0,0,0,0,76,255,163,18,0,46,217,254,254,254,58,0,0,0,0,0,0,0,0,0,\n",
      "0,0,0,0,0,0,0,0,0,246,253,226,214,244,254,230,223,253,58,0,0,0,0,0,0,0,0,0,\n",
      "0,0,0,0,0,0,0,0,0,48,166,253,253,222,78,32,253,240,40,0,0,0,0,0,0,0,0,0,\n",
      "0,0,0,0,0,0,0,0,0,0,2,19,19,12,0,20,253,213,0,0,0,0,0,0,0,0,0,0,\n",
      "0,0,0,0,0,0,0,0,0,0,0,0,0,0,0,20,253,213,0,0,0,0,0,0,0,0,0,0,\n",
      "0,0,0,0,0,0,0,0,0,0,0,0,0,0,0,80,254,117,0,0,0,0,0,0,0,0,0,0,\n",
      "0,0,0,0,0,0,0,0,0,0,0,0,0,0,0,118,253,117,0,0,0,0,0,0,0,0,0,0,\n",
      "0,0,0,0,0,0,0,0,0,0,0,0,0,0,0,118,253,117,0,0,0,0,0,0,0,0,0,0,\n",
      "0,0,0,0,0,0,0,0,0,0,0,0,0,0,0,118,253,102,0,0,0,0,0,0,0,0,0,0,\n",
      "0,0,0,0,0,0,0,0,0,0,0,0,0,0,0,80,253,19,0,0,0,0,0,0,0,0,0,0,\n",
      "0,0,0,0,0,0,0,0,0,0,0,0,0,0,0,0,0,0,0,0,0,0,0,0,0,0,0,0,\n",
      "0,0,0,0,0,0,0,0,0,0,0,0,0,0,0,0,0,0,0,0,0,0,0,0,0,0,0,0,\n"
     ]
    }
   ],
   "source": [
    "row = dfCombined.iloc[404]\n",
    "print(\"the type of row is \", type(row))\n",
    "print(\"length of row \", len(row))\n",
    "print(\"the last entry (label) is \", row.values.reshape(-1,1)[-1])\n",
    "print(\"digit label \", row['label'])\n",
    "for i in range(28):\n",
    "    for j in range(28):\n",
    "        print(row[i*28+j], end=\",\")\n",
    "    print()"
   ]
  },
  {
   "cell_type": "code",
   "execution_count": 9,
   "metadata": {
    "scrolled": true
   },
   "outputs": [
    {
     "data": {
      "text/plain": [
       "<matplotlib.image.AxesImage at 0x7f2a8f354c18>"
      ]
     },
     "execution_count": 9,
     "metadata": {},
     "output_type": "execute_result"
    },
    {
     "data": {
      "image/png": "[encoded data removed]",
      "text/plain": [
       "<Figure size 432x288 with 1 Axes>"
      ]
     },
     "metadata": {},
     "output_type": "display_data"
    }
   ],
   "source": [
    "img = row[:784]\n",
    "img = img.values.reshape(28,28)\n",
    "plt.imshow(img)"
   ]
  },
  {
   "cell_type": "markdown",
   "metadata": {},
   "source": [
    "### test and training sets split"
   ]
  },
  {
   "cell_type": "code",
   "execution_count": 10,
   "metadata": {},
   "outputs": [],
   "source": [
    "from sklearn.model_selection import train_test_split\n",
    "train_df, test_df = train_test_split(dfCombined, \n",
    "                                    test_size=0.2,\n",
    "                                    random_state=404)"
   ]
  },
  {
   "cell_type": "code",
   "execution_count": 12,
   "metadata": {},
   "outputs": [],
   "source": [
    "X_train = train_df.to_numpy()[:,:784]\n",
    "X_train = X_train.reshape(-1,784)\n",
    "y_train = train_df['label'].values\n",
    "\n",
    "X_test = test_df.to_numpy()[:,:784]\n",
    "X_test = X_test.reshape(-1,784)\n",
    "y_test = test_df['label'].values"
   ]
  },
  {
   "cell_type": "markdown",
   "metadata": {},
   "source": [
    "### use SVC from sklearn as classifier"
   ]
  },
  {
   "cell_type": "code",
   "execution_count": 13,
   "metadata": {},
   "outputs": [],
   "source": [
    "from sklearn.svm import LinearSVC\n",
    "clf = LinearSVC(random_state=42, dual=False)\n",
    "clf.fit(X_train, y_train)\n",
    "y_train_pred = clf.predict(X_train)\n",
    "y_test_pred = clf.predict(X_test)"
   ]
  },
  {
   "cell_type": "markdown",
   "metadata": {},
   "source": [
    "### Performance"
   ]
  },
  {
   "cell_type": "code",
   "execution_count": 18,
   "metadata": {},
   "outputs": [],
   "source": [
    "from collections import defaultdict\n",
    "from functools import partial\n",
    "from itertools import repeat\n",
    "def nested_defaultdict(default_factory, depth=1):\n",
    "    result = partial(defaultdict, default_factory)\n",
    "    for _ in repeat(None, depth-1):\n",
    "        result = partial(defaultdict, result)\n",
    "    return result()"
   ]
  },
  {
   "cell_type": "code",
   "execution_count": 19,
   "metadata": {},
   "outputs": [
    {
     "name": "stdout",
     "output_type": "stream",
     "text": [
      "defaultdict(..., {7: defaultdict(<class 'int'>, {7: 187, 9: 15}), 9: defaultdict(<class 'int'>, {9: 189, 7: 9})})\n"
     ]
    }
   ],
   "source": [
    "confusionMatrix = nested_defaultdict(int, 2)\n",
    "for i in range(len(y_test_pred)):\n",
    "    trueClass = y_test[i]\n",
    "    predClass = y_test_pred[i]\n",
    "    confusionMatrix[trueClass][predClass] += 1\n",
    "print(confusionMatrix)"
   ]
  },
  {
   "cell_type": "code",
   "execution_count": 22,
   "metadata": {},
   "outputs": [
    {
     "name": "stdout",
     "output_type": "stream",
     "text": [
      "confusionMatrix\n",
      "        pred=A  pred=B\n",
      "true=A     189       9\n",
      "true=B      15     187\n"
     ]
    }
   ],
   "source": [
    "data = [[confusionMatrix[digitA][digitA], confusionMatrix[digitA][digitB]],\n",
    "        [confusionMatrix[digitB][digitA], confusionMatrix[digitB][digitB]]]\n",
    "df = pd.DataFrame(data)\n",
    "df.rename(columns={0:\"pred=A\", 1: \"pred=B\"}, \n",
    "          index={0:'true=A', 1:'true=B'},\n",
    "         inplace=True)\n",
    "print(\"confusionMatrix\")\n",
    "print(df)"
   ]
  },
  {
   "cell_type": "code",
   "execution_count": 23,
   "metadata": {},
   "outputs": [
    {
     "name": "stdout",
     "output_type": "stream",
     "text": [
      "precision:  0.9264705882352942\n",
      "recall:  0.9545454545454546\n",
      "f1_score:  0.9402985074626866\n"
     ]
    }
   ],
   "source": [
    "tp = confusionMatrix[digitA][digitA]\n",
    "fp = confusionMatrix[digitB][digitA]\n",
    "fn = confusionMatrix[digitA][digitB]\n",
    "tn = confusionMatrix[digitB][digitB]\n",
    "\n",
    "precision = tp/(tp+fp)\n",
    "recall = tp/(tp+fn)\n",
    "f1_score = 2.0/((1.0/precision)+(1.0/recall))\n",
    "\n",
    "print(\"precision: \", precision)\n",
    "print(\"recall: \", recall)\n",
    "print(\"f1_score: \", f1_score)"
   ]
  },
  {
   "cell_type": "markdown",
   "metadata": {},
   "source": [
    "### the actual numerical output of estimator"
   ]
  },
  {
   "cell_type": "code",
   "execution_count": 25,
   "metadata": {},
   "outputs": [],
   "source": [
    "y_scores = clf.decision_function(X_test)"
   ]
  },
  {
   "cell_type": "code",
   "execution_count": 34,
   "metadata": {},
   "outputs": [
    {
     "name": "stdout",
     "output_type": "stream",
     "text": [
      "max score 17.1016 ; min score -14.546\n"
     ]
    }
   ],
   "source": [
    "signal_scores = []\n",
    "background_scores = []\n",
    "for i in range(len(y_test_pred)):\n",
    "    if y_test[i] == digitA:\n",
    "        signal_scores.append(y_scores[i])\n",
    "    else:\n",
    "        background_scores.append(y_scores[i])\n",
    "maxScore = max(max(signal_scores), max(background_scores))\n",
    "minScore = min(min(signal_scores), min(background_scores))\n",
    "print(\"max score\", np.round(maxScore,4), \"; min score\", np.round(minScore, 4))"
   ]
  },
  {
   "cell_type": "markdown",
   "metadata": {},
   "source": [
    "### plotting"
   ]
  },
  {
   "cell_type": "code",
   "execution_count": 35,
   "metadata": {
    "scrolled": false
   },
   "outputs": [
    {
     "data": {
      "application/vnd.plotly.v1+json": {
       "config": {
        "linkText": "Export to plot.ly",
        "plotlyServerURL": "https://plot.ly",
        "showLink": false
       },
       "data": [
        {
         "name": "Signal",
         "opacity": 0.6,
         "type": "histogram",
         "x": [
          5.89144956171938,
          4.053152363839874,
          1.2149403778415468,
          2.4584439502792725,
          7.0344657900070695,
          3.2948086827602516,
          5.051835246302807,
          1.991914649907975,
          0.6594883956374074,
          1.278083233030118,
          8.162431097985579,
          2.41239483367031,
          7.617720023887885,
          7.669235821129781,
          3.3304948404359362,
          3.4945711484903033,
          0.38732123715061595,
          1.061161124836741,
          4.238767918002353,
          4.914984779111484,
          6.613363240198326,
          4.662832245498137,
          6.721303397179227,
          3.731807759064104,
          3.16838681921472,
          5.782692473357654,
          3.489848235984028,
          4.353499271293599,
          4.219953025023023,
          2.796909077268965,
          -0.0729914041899993,
          0.053722007858268604,
          2.9260784496733367,
          4.175672156362237,
          5.792345451543227,
          2.023637653121571,
          3.9698059785916735,
          5.688748653149683,
          12.942909823513352,
          1.6198038090971012,
          4.511205998417297,
          4.5391597214035695,
          2.2508109371371843,
          1.6048098145545,
          3.4412586095385853,
          6.728811826518691,
          0.45588233062734757,
          17.101647037533354,
          4.409193962424597,
          6.058525517444636,
          0.5524901254920094,
          11.203526855569235,
          6.267049902826035,
          3.443703686268164,
          2.702849532597922,
          5.088925508913061,
          3.7261798055468107,
          0.707345473968008,
          1.2327030613572305,
          6.315269687886247,
          3.4565114621806865,
          5.353963356408487,
          4.942791569836463,
          4.7312357061714545,
          1.6860448695887806,
          2.7382950602230616,
          5.6649996109346965,
          2.2809217686411873,
          0.6771662934772121,
          14.661002735959102,
          3.3787720198314237,
          -3.656420026750603,
          3.6526807031217663,
          1.7107902373492814,
          6.2346704839369815,
          1.086177569279689,
          5.4229930182976,
          2.979861544310021,
          1.558987277899429,
          5.101415989255044,
          3.533202517646978,
          1.9250003152282589,
          5.157270878567045,
          7.740747673086106,
          0.14896780380947083,
          5.038857397973717,
          4.444848484355148,
          7.913655094674184,
          3.9791521257394185,
          8.122846720228846,
          1.6692335762418347,
          2.696127867428835,
          -0.6690074162070311,
          5.431853145720239,
          8.516995430034266,
          2.7215093040185994,
          1.148835218919169,
          2.727687516268719,
          6.377810873418465,
          5.007540838881666,
          7.686601566329039,
          8.9929642168377,
          8.627713210120042,
          0.45744518136490603,
          -0.7220434906419764,
          3.950602846588629,
          4.237264833474101,
          4.523534012489794,
          7.250743959573895,
          5.602122597094589,
          5.019069963156437,
          6.460988105725795,
          1.3739679340386854,
          5.851733739955156,
          4.182913515371311,
          4.757306756186362,
          4.639026984441599,
          9.209401573018956,
          1.0294545121451735,
          5.042157968310979,
          8.970754589736199,
          9.69216629654185,
          0.5722910050530088,
          2.513616124368349,
          4.710499956557334,
          6.544072287592379,
          2.827423044554871,
          3.4137096206154163,
          3.2188691187257357,
          3.5610017128148943,
          2.545759340173164,
          5.043017690070316,
          -2.3404392268976633,
          9.353731929172838,
          -0.2757177580588953,
          -0.35781857031855774,
          5.549586288733523,
          4.488556304925653,
          6.268624843567216,
          6.531408898036504,
          2.9416725866616336,
          6.055832223642143,
          5.1353151648948545,
          4.626702450127389,
          0.3149158910696896,
          3.6654275750994794,
          2.20445410759471,
          2.586182218598469,
          4.153177759428406,
          4.271952563011446,
          2.7431967502015713,
          -3.0857887904150507,
          3.087233639472675,
          8.478622944807402,
          3.5919753723306367,
          3.1734326337626824,
          3.125120106784998,
          4.905248904719227,
          4.005571359065834,
          0.7661810286202831,
          3.8938135567851466,
          3.109466413964787,
          4.125370320237663,
          8.355969587301692,
          5.210645620574775,
          3.9018485523641537,
          0.6616813913617012,
          5.015198971818857,
          6.927779875588647,
          2.289680715668773,
          3.6818194678276535,
          5.247616919708067,
          3.9088789411904266,
          4.169894543986894,
          5.179852933497921,
          3.7255236573578325,
          1.1135059199779909,
          2.108031260629392,
          5.736495806609189,
          1.2307033357207406,
          2.7823472700377985,
          6.09847915766616,
          5.410575146559046,
          -4.666391928438695,
          8.090639495302305,
          2.4354451265196877,
          5.344538703256164,
          8.423391819034903,
          2.778020472319706,
          1.7758214065131892,
          5.241983221650532,
          10.662028060497422,
          4.063110885396266,
          1.5635683679081436,
          5.561135477176215,
          0.08240474463213429,
          2.197831983826996,
          2.771344215406678
         ]
        },
        {
         "name": "Background",
         "opacity": 0.6,
         "type": "histogram",
         "x": [
          -5.880799871273009,
          -4.354337093832103,
          -8.215162870581526,
          -5.0314084459398085,
          -5.702791114589671,
          -8.64833335154305,
          -3.6809694678999167,
          -2.4884863484144866,
          -2.1278595135317513,
          -5.482301901194575,
          -6.508936925711259,
          -6.322174990792041,
          5.661669430574029,
          -0.5555648436812075,
          -0.9843433811129999,
          -4.110157752410941,
          -3.7571575224727964,
          5.2842476436137655,
          -7.322642033731663,
          -5.748154504938751,
          -8.238430924196178,
          -4.369007692936828,
          -2.0958303564338348,
          -3.303123813398853,
          -5.72309843042065,
          -12.243661748794148,
          -3.9242435955782167,
          0.5069278750312092,
          6.4882480849417075,
          -6.291167018752322,
          -4.515026973461676,
          -1.5483453644573657,
          -6.531869424819079,
          -14.545993880772674,
          -2.7511245279149588,
          -1.676424664945563,
          -1.8643037747121596,
          -0.7290359219777889,
          -3.4074077807930663,
          -5.349222914074876,
          -3.906414825010029,
          -5.903338802043461,
          -3.698350530175363,
          -1.3737413317650224,
          -0.6356529276371237,
          -4.514350416715833,
          -3.2990206855231703,
          -8.288354499248754,
          -4.742151561834426,
          -0.6811846115262712,
          -2.669678226911138,
          -5.478856500056678,
          -3.9284334917245696,
          -5.917511290245625,
          -2.5486837375457947,
          -4.934173001466123,
          -3.1585770910611464,
          -4.468309987286829,
          -6.682094268101763,
          -3.7010677674524337,
          -6.919253170866914,
          -5.387947606983682,
          -3.510779378375774,
          -2.711597217563682,
          -9.03181907204084,
          -8.426666623148,
          -2.932680733100502,
          -2.9723571130729884,
          -7.282240478149709,
          -7.471409664961906,
          -2.8643721743067423,
          -2.9794914959983614,
          -6.829913270216409,
          -6.423272227334275,
          -2.0384973544597638,
          -11.000068979442784,
          -3.7864447820498532,
          -3.455509792307365,
          -4.825086122305186,
          -3.023804264151309,
          -2.1677871080268707,
          -4.455891059771974,
          -0.1865671593250612,
          0.6561714770769249,
          -3.88602436277324,
          -5.060458297986689,
          -8.822399176597916,
          -3.392750938790614,
          -5.1328881891775255,
          -3.562763604854604,
          -6.408253538035046,
          -6.476180157698341,
          -4.307850131623623,
          -2.498849695457962,
          -10.766145779472922,
          -3.223300221186879,
          -2.197022302122731,
          -6.950169671949294,
          -9.55481062946668,
          -5.304224994279528,
          -3.2364235326334647,
          -5.897041268455786,
          8.518884463237304,
          -6.8211164320531905,
          -3.510880126509173,
          -2.3988488830758414,
          4.564287024321529,
          -1.629773403908817,
          -8.791997656015514,
          5.865114822799034,
          1.350565548792846,
          -11.194598694573628,
          -4.010708184921496,
          -3.799379457715857,
          -10.410026637668198,
          -5.563667114287485,
          -5.271140516851152,
          -5.6507243248325585,
          -5.502471984891319,
          -3.1480180462320737,
          -0.8526175097451973,
          -2.42285731473819,
          -3.519843787326434,
          0.8958541320628816,
          -6.196068000320787,
          -3.481917548865367,
          -3.1226739581566485,
          -6.391238152552728,
          -2.74690760321656,
          -4.9377977855037285,
          -5.4438517305983005,
          -3.8330112188650576,
          -9.522002355376912,
          -3.960007541541944,
          -5.475017686545079,
          -2.0237751192152973,
          -6.245851021669968,
          -7.084585296871072,
          -2.212599692977395,
          -0.6583570007418532,
          -9.889239479564043,
          -9.623836709760413,
          -4.637642433066042,
          -0.19404732797884025,
          -6.497128859543129,
          -2.7363750626860255,
          -7.453745466632508,
          -4.847686111229551,
          -0.8331330642845809,
          -2.020537520956037,
          -7.855780258220348,
          -1.8687779149387231,
          -0.24356297140173627,
          -4.664068688721621,
          -13.515936994123038,
          -3.3460275764471894,
          -2.117631067869149,
          -4.15138023879492,
          1.0177873284505763,
          -3.8040286545006636,
          -2.5190935448324767,
          -7.749235273122451,
          -2.4908922394103437,
          -0.5344807315553548,
          5.427615595643607,
          1.8462333402054103,
          -1.5191035299232178,
          -3.2766890473764834,
          -1.9512730176103272,
          -12.511857780431368,
          -3.990780443331637,
          2.646615960347962,
          -0.53175088151161,
          -3.2077825843556136,
          -1.1960079584053958,
          -5.629042760694335,
          -4.747539147036222,
          -5.393001013827554,
          -5.712381416206153,
          -0.7391421123795423,
          -3.406263770124993,
          -4.582906639722568,
          -2.600455970041344,
          -12.485408079711235,
          -6.725558912985901,
          -2.1844421143540513,
          -5.660283572934441,
          -5.724934183006653,
          -4.698429835248636,
          -3.715507225796256,
          2.116456883902324,
          -3.9106830892143813,
          -0.6351838161344305,
          -3.403276822856507,
          -7.166678883194073,
          -2.8176364409465897,
          -0.6896908521955571,
          -2.691668464232054,
          -2.161822587689152,
          -5.391027959524121,
          -5.834692982897081,
          -4.147039114250348
         ]
        }
       ],
       "layout": {
        "barmode": "overlay",
        "template": {
         "data": {
          "bar": [
           {
            "error_x": {
             "color": "#2a3f5f"
            },
            "error_y": {
             "color": "#2a3f5f"
            },
            "marker": {
             "line": {
              "color": "#E5ECF6",
              "width": 0.5
             }
            },
            "type": "bar"
           }
          ],
          "barpolar": [
           {
            "marker": {
             "line": {
              "color": "#E5ECF6",
              "width": 0.5
             }
            },
            "type": "barpolar"
           }
          ],
          "carpet": [
           {
            "aaxis": {
             "endlinecolor": "#2a3f5f",
             "gridcolor": "white",
             "linecolor": "white",
             "minorgridcolor": "white",
             "startlinecolor": "#2a3f5f"
            },
            "baxis": {
             "endlinecolor": "#2a3f5f",
             "gridcolor": "white",
             "linecolor": "white",
             "minorgridcolor": "white",
             "startlinecolor": "#2a3f5f"
            },
            "type": "carpet"
           }
          ],
          "choropleth": [
           {
            "colorbar": {
             "outlinewidth": 0,
             "ticks": ""
            },
            "type": "choropleth"
           }
          ],
          "contour": [
           {
            "colorbar": {
             "outlinewidth": 0,
             "ticks": ""
            },
            "colorscale": [
             [
              0,
              "#0d0887"
             ],
             [
              0.1111111111111111,
              "#46039f"
             ],
             [
              0.2222222222222222,
              "#7201a8"
             ],
             [
              0.3333333333333333,
              "#9c179e"
             ],
             [
              0.4444444444444444,
              "#bd3786"
             ],
             [
              0.5555555555555556,
              "#d8576b"
             ],
             [
              0.6666666666666666,
              "#ed7953"
             ],
             [
              0.7777777777777778,
              "#fb9f3a"
             ],
             [
              0.8888888888888888,
              "#fdca26"
             ],
             [
              1,
              "#f0f921"
             ]
            ],
            "type": "contour"
           }
          ],
          "contourcarpet": [
           {
            "colorbar": {
             "outlinewidth": 0,
             "ticks": ""
            },
            "type": "contourcarpet"
           }
          ],
          "heatmap": [
           {
            "colorbar": {
             "outlinewidth": 0,
             "ticks": ""
            },
            "colorscale": [
             [
              0,
              "#0d0887"
             ],
             [
              0.1111111111111111,
              "#46039f"
             ],
             [
              0.2222222222222222,
              "#7201a8"
             ],
             [
              0.3333333333333333,
              "#9c179e"
             ],
             [
              0.4444444444444444,
              "#bd3786"
             ],
             [
              0.5555555555555556,
              "#d8576b"
             ],
             [
              0.6666666666666666,
              "#ed7953"
             ],
             [
              0.7777777777777778,
              "#fb9f3a"
             ],
             [
              0.8888888888888888,
              "#fdca26"
             ],
             [
              1,
              "#f0f921"
             ]
            ],
            "type": "heatmap"
           }
          ],
          "heatmapgl": [
           {
            "colorbar": {
             "outlinewidth": 0,
             "ticks": ""
            },
            "colorscale": [
             [
              0,
              "#0d0887"
             ],
             [
              0.1111111111111111,
              "#46039f"
             ],
             [
              0.2222222222222222,
              "#7201a8"
             ],
             [
              0.3333333333333333,
              "#9c179e"
             ],
             [
              0.4444444444444444,
              "#bd3786"
             ],
             [
              0.5555555555555556,
              "#d8576b"
             ],
             [
              0.6666666666666666,
              "#ed7953"
             ],
             [
              0.7777777777777778,
              "#fb9f3a"
             ],
             [
              0.8888888888888888,
              "#fdca26"
             ],
             [
              1,
              "#f0f921"
             ]
            ],
            "type": "heatmapgl"
           }
          ],
          "histogram": [
           {
            "marker": {
             "colorbar": {
              "outlinewidth": 0,
              "ticks": ""
             }
            },
            "type": "histogram"
           }
          ],
          "histogram2d": [
           {
            "colorbar": {
             "outlinewidth": 0,
             "ticks": ""
            },
            "colorscale": [
             [
              0,
              "#0d0887"
             ],
             [
              0.1111111111111111,
              "#46039f"
             ],
             [
              0.2222222222222222,
              "#7201a8"
             ],
             [
              0.3333333333333333,
              "#9c179e"
             ],
             [
              0.4444444444444444,
              "#bd3786"
             ],
             [
              0.5555555555555556,
              "#d8576b"
             ],
             [
              0.6666666666666666,
              "#ed7953"
             ],
             [
              0.7777777777777778,
              "#fb9f3a"
             ],
             [
              0.8888888888888888,
              "#fdca26"
             ],
             [
              1,
              "#f0f921"
             ]
            ],
            "type": "histogram2d"
           }
          ],
          "histogram2dcontour": [
           {
            "colorbar": {
             "outlinewidth": 0,
             "ticks": ""
            },
            "colorscale": [
             [
              0,
              "#0d0887"
             ],
             [
              0.1111111111111111,
              "#46039f"
             ],
             [
              0.2222222222222222,
              "#7201a8"
             ],
             [
              0.3333333333333333,
              "#9c179e"
             ],
             [
              0.4444444444444444,
              "#bd3786"
             ],
             [
              0.5555555555555556,
              "#d8576b"
             ],
             [
              0.6666666666666666,
              "#ed7953"
             ],
             [
              0.7777777777777778,
              "#fb9f3a"
             ],
             [
              0.8888888888888888,
              "#fdca26"
             ],
             [
              1,
              "#f0f921"
             ]
            ],
            "type": "histogram2dcontour"
           }
          ],
          "mesh3d": [
           {
            "colorbar": {
             "outlinewidth": 0,
             "ticks": ""
            },
            "type": "mesh3d"
           }
          ],
          "parcoords": [
           {
            "line": {
             "colorbar": {
              "outlinewidth": 0,
              "ticks": ""
             }
            },
            "type": "parcoords"
           }
          ],
          "scatter": [
           {
            "marker": {
             "colorbar": {
              "outlinewidth": 0,
              "ticks": ""
             }
            },
            "type": "scatter"
           }
          ],
          "scatter3d": [
           {
            "line": {
             "colorbar": {
              "outlinewidth": 0,
              "ticks": ""
             }
            },
            "marker": {
             "colorbar": {
              "outlinewidth": 0,
              "ticks": ""
             }
            },
            "type": "scatter3d"
           }
          ],
          "scattercarpet": [
           {
            "marker": {
             "colorbar": {
              "outlinewidth": 0,
              "ticks": ""
             }
            },
            "type": "scattercarpet"
           }
          ],
          "scattergeo": [
           {
            "marker": {
             "colorbar": {
              "outlinewidth": 0,
              "ticks": ""
             }
            },
            "type": "scattergeo"
           }
          ],
          "scattergl": [
           {
            "marker": {
             "colorbar": {
              "outlinewidth": 0,
              "ticks": ""
             }
            },
            "type": "scattergl"
           }
          ],
          "scattermapbox": [
           {
            "marker": {
             "colorbar": {
              "outlinewidth": 0,
              "ticks": ""
             }
            },
            "type": "scattermapbox"
           }
          ],
          "scatterpolar": [
           {
            "marker": {
             "colorbar": {
              "outlinewidth": 0,
              "ticks": ""
             }
            },
            "type": "scatterpolar"
           }
          ],
          "scatterpolargl": [
           {
            "marker": {
             "colorbar": {
              "outlinewidth": 0,
              "ticks": ""
             }
            },
            "type": "scatterpolargl"
           }
          ],
          "scatterternary": [
           {
            "marker": {
             "colorbar": {
              "outlinewidth": 0,
              "ticks": ""
             }
            },
            "type": "scatterternary"
           }
          ],
          "surface": [
           {
            "colorbar": {
             "outlinewidth": 0,
             "ticks": ""
            },
            "colorscale": [
             [
              0,
              "#0d0887"
             ],
             [
              0.1111111111111111,
              "#46039f"
             ],
             [
              0.2222222222222222,
              "#7201a8"
             ],
             [
              0.3333333333333333,
              "#9c179e"
             ],
             [
              0.4444444444444444,
              "#bd3786"
             ],
             [
              0.5555555555555556,
              "#d8576b"
             ],
             [
              0.6666666666666666,
              "#ed7953"
             ],
             [
              0.7777777777777778,
              "#fb9f3a"
             ],
             [
              0.8888888888888888,
              "#fdca26"
             ],
             [
              1,
              "#f0f921"
             ]
            ],
            "type": "surface"
           }
          ],
          "table": [
           {
            "cells": {
             "fill": {
              "color": "#EBF0F8"
             },
             "line": {
              "color": "white"
             }
            },
            "header": {
             "fill": {
              "color": "#C8D4E3"
             },
             "line": {
              "color": "white"
             }
            },
            "type": "table"
           }
          ]
         },
         "layout": {
          "annotationdefaults": {
           "arrowcolor": "#2a3f5f",
           "arrowhead": 0,
           "arrowwidth": 1
          },
          "colorscale": {
           "diverging": [
            [
             0,
             "#8e0152"
            ],
            [
             0.1,
             "#c51b7d"
            ],
            [
             0.2,
             "#de77ae"
            ],
            [
             0.3,
             "#f1b6da"
            ],
            [
             0.4,
             "#fde0ef"
            ],
            [
             0.5,
             "#f7f7f7"
            ],
            [
             0.6,
             "#e6f5d0"
            ],
            [
             0.7,
             "#b8e186"
            ],
            [
             0.8,
             "#7fbc41"
            ],
            [
             0.9,
             "#4d9221"
            ],
            [
             1,
             "#276419"
            ]
           ],
           "sequential": [
            [
             0,
             "#0d0887"
            ],
            [
             0.1111111111111111,
             "#46039f"
            ],
            [
             0.2222222222222222,
             "#7201a8"
            ],
            [
             0.3333333333333333,
             "#9c179e"
            ],
            [
             0.4444444444444444,
             "#bd3786"
            ],
            [
             0.5555555555555556,
             "#d8576b"
            ],
            [
             0.6666666666666666,
             "#ed7953"
            ],
            [
             0.7777777777777778,
             "#fb9f3a"
            ],
            [
             0.8888888888888888,
             "#fdca26"
            ],
            [
             1,
             "#f0f921"
            ]
           ],
           "sequentialminus": [
            [
             0,
             "#0d0887"
            ],
            [
             0.1111111111111111,
             "#46039f"
            ],
            [
             0.2222222222222222,
             "#7201a8"
            ],
            [
             0.3333333333333333,
             "#9c179e"
            ],
            [
             0.4444444444444444,
             "#bd3786"
            ],
            [
             0.5555555555555556,
             "#d8576b"
            ],
            [
             0.6666666666666666,
             "#ed7953"
            ],
            [
             0.7777777777777778,
             "#fb9f3a"
            ],
            [
             0.8888888888888888,
             "#fdca26"
            ],
            [
             1,
             "#f0f921"
            ]
           ]
          },
          "colorway": [
           "#636efa",
           "#EF553B",
           "#00cc96",
           "#ab63fa",
           "#FFA15A",
           "#19d3f3",
           "#FF6692",
           "#B6E880",
           "#FF97FF",
           "#FECB52"
          ],
          "font": {
           "color": "#2a3f5f"
          },
          "geo": {
           "bgcolor": "white",
           "lakecolor": "white",
           "landcolor": "#E5ECF6",
           "showlakes": true,
           "showland": true,
           "subunitcolor": "white"
          },
          "hoverlabel": {
           "align": "left"
          },
          "hovermode": "closest",
          "mapbox": {
           "style": "light"
          },
          "paper_bgcolor": "white",
          "plot_bgcolor": "#E5ECF6",
          "polar": {
           "angularaxis": {
            "gridcolor": "white",
            "linecolor": "white",
            "ticks": ""
           },
           "bgcolor": "#E5ECF6",
           "radialaxis": {
            "gridcolor": "white",
            "linecolor": "white",
            "ticks": ""
           }
          },
          "scene": {
           "xaxis": {
            "backgroundcolor": "#E5ECF6",
            "gridcolor": "white",
            "gridwidth": 2,
            "linecolor": "white",
            "showbackground": true,
            "ticks": "",
            "zerolinecolor": "white"
           },
           "yaxis": {
            "backgroundcolor": "#E5ECF6",
            "gridcolor": "white",
            "gridwidth": 2,
            "linecolor": "white",
            "showbackground": true,
            "ticks": "",
            "zerolinecolor": "white"
           },
           "zaxis": {
            "backgroundcolor": "#E5ECF6",
            "gridcolor": "white",
            "gridwidth": 2,
            "linecolor": "white",
            "showbackground": true,
            "ticks": "",
            "zerolinecolor": "white"
           }
          },
          "shapedefaults": {
           "line": {
            "color": "#2a3f5f"
           }
          },
          "ternary": {
           "aaxis": {
            "gridcolor": "white",
            "linecolor": "white",
            "ticks": ""
           },
           "baxis": {
            "gridcolor": "white",
            "linecolor": "white",
            "ticks": ""
           },
           "bgcolor": "#E5ECF6",
           "caxis": {
            "gridcolor": "white",
            "linecolor": "white",
            "ticks": ""
           }
          },
          "title": {
           "x": 0.05
          },
          "xaxis": {
           "automargin": true,
           "gridcolor": "white",
           "linecolor": "white",
           "ticks": "",
           "zerolinecolor": "white",
           "zerolinewidth": 2
          },
          "yaxis": {
           "automargin": true,
           "gridcolor": "white",
           "linecolor": "white",
           "ticks": "",
           "zerolinecolor": "white",
           "zerolinewidth": 2
          }
         }
        }
       }
      },
      "text/html": [
       "<div>\n",
       "        \n",
       "        \n",
       "            <div id=\"d9e560b3-4ed1-44eb-802b-ba8686bf716a\" class=\"plotly-graph-div\" style=\"height:525px; width:100%;\"></div>\n",
       "            <script type=\"text/javascript\">\n",
       "                require([\"plotly\"], function(Plotly) {\n",
       "                    window.PLOTLYENV=window.PLOTLYENV || {};\n",
       "                    \n",
       "                if (document.getElementById(\"d9e560b3-4ed1-44eb-802b-ba8686bf716a\")) {\n",
       "                    Plotly.newPlot(\n",
       "                        'd9e560b3-4ed1-44eb-802b-ba8686bf716a',\n",
       "                        [{\"name\": \"Signal\", \"opacity\": 0.6, \"type\": \"histogram\", \"x\": [5.89144956171938, 4.053152363839874, 1.2149403778415468, 2.4584439502792725, 7.0344657900070695, 3.2948086827602516, 5.051835246302807, 1.991914649907975, 0.6594883956374074, 1.278083233030118, 8.162431097985579, 2.41239483367031, 7.617720023887885, 7.669235821129781, 3.3304948404359362, 3.4945711484903033, 0.38732123715061595, 1.061161124836741, 4.238767918002353, 4.914984779111484, 6.613363240198326, 4.662832245498137, 6.721303397179227, 3.731807759064104, 3.16838681921472, 5.782692473357654, 3.489848235984028, 4.353499271293599, 4.219953025023023, 2.796909077268965, -0.0729914041899993, 0.053722007858268604, 2.9260784496733367, 4.175672156362237, 5.792345451543227, 2.023637653121571, 3.9698059785916735, 5.688748653149683, 12.942909823513352, 1.6198038090971012, 4.511205998417297, 4.5391597214035695, 2.2508109371371843, 1.6048098145545, 3.4412586095385853, 6.728811826518691, 0.45588233062734757, 17.101647037533354, 4.409193962424597, 6.058525517444636, 0.5524901254920094, 11.203526855569235, 6.267049902826035, 3.443703686268164, 2.702849532597922, 5.088925508913061, 3.7261798055468107, 0.707345473968008, 1.2327030613572305, 6.315269687886247, 3.4565114621806865, 5.353963356408487, 4.942791569836463, 4.7312357061714545, 1.6860448695887806, 2.7382950602230616, 5.6649996109346965, 2.2809217686411873, 0.6771662934772121, 14.661002735959102, 3.3787720198314237, -3.656420026750603, 3.6526807031217663, 1.7107902373492814, 6.2346704839369815, 1.086177569279689, 5.4229930182976, 2.979861544310021, 1.558987277899429, 5.101415989255044, 3.533202517646978, 1.9250003152282589, 5.157270878567045, 7.740747673086106, 0.14896780380947083, 5.038857397973717, 4.444848484355148, 7.913655094674184, 3.9791521257394185, 8.122846720228846, 1.6692335762418347, 2.696127867428835, -0.6690074162070311, 5.431853145720239, 8.516995430034266, 2.7215093040185994, 1.148835218919169, 2.727687516268719, 6.377810873418465, 5.007540838881666, 7.686601566329039, 8.9929642168377, 8.627713210120042, 0.45744518136490603, -0.7220434906419764, 3.950602846588629, 4.237264833474101, 4.523534012489794, 7.250743959573895, 5.602122597094589, 5.019069963156437, 6.460988105725795, 1.3739679340386854, 5.851733739955156, 4.182913515371311, 4.757306756186362, 4.639026984441599, 9.209401573018956, 1.0294545121451735, 5.042157968310979, 8.970754589736199, 9.69216629654185, 0.5722910050530088, 2.513616124368349, 4.710499956557334, 6.544072287592379, 2.827423044554871, 3.4137096206154163, 3.2188691187257357, 3.5610017128148943, 2.545759340173164, 5.043017690070316, -2.3404392268976633, 9.353731929172838, -0.2757177580588953, -0.35781857031855774, 5.549586288733523, 4.488556304925653, 6.268624843567216, 6.531408898036504, 2.9416725866616336, 6.055832223642143, 5.1353151648948545, 4.626702450127389, 0.3149158910696896, 3.6654275750994794, 2.20445410759471, 2.586182218598469, 4.153177759428406, 4.271952563011446, 2.7431967502015713, -3.0857887904150507, 3.087233639472675, 8.478622944807402, 3.5919753723306367, 3.1734326337626824, 3.125120106784998, 4.905248904719227, 4.005571359065834, 0.7661810286202831, 3.8938135567851466, 3.109466413964787, 4.125370320237663, 8.355969587301692, 5.210645620574775, 3.9018485523641537, 0.6616813913617012, 5.015198971818857, 6.927779875588647, 2.289680715668773, 3.6818194678276535, 5.247616919708067, 3.9088789411904266, 4.169894543986894, 5.179852933497921, 3.7255236573578325, 1.1135059199779909, 2.108031260629392, 5.736495806609189, 1.2307033357207406, 2.7823472700377985, 6.09847915766616, 5.410575146559046, -4.666391928438695, 8.090639495302305, 2.4354451265196877, 5.344538703256164, 8.423391819034903, 2.778020472319706, 1.7758214065131892, 5.241983221650532, 10.662028060497422, 4.063110885396266, 1.5635683679081436, 5.561135477176215, 0.08240474463213429, 2.197831983826996, 2.771344215406678]}, {\"name\": \"Background\", \"opacity\": 0.6, \"type\": \"histogram\", \"x\": [-5.880799871273009, -4.354337093832103, -8.215162870581526, -5.0314084459398085, -5.702791114589671, -8.64833335154305, -3.6809694678999167, -2.4884863484144866, -2.1278595135317513, -5.482301901194575, -6.508936925711259, -6.322174990792041, 5.661669430574029, -0.5555648436812075, -0.9843433811129999, -4.110157752410941, -3.7571575224727964, 5.2842476436137655, -7.322642033731663, -5.748154504938751, -8.238430924196178, -4.369007692936828, -2.0958303564338348, -3.303123813398853, -5.72309843042065, -12.243661748794148, -3.9242435955782167, 0.5069278750312092, 6.4882480849417075, -6.291167018752322, -4.515026973461676, -1.5483453644573657, -6.531869424819079, -14.545993880772674, -2.7511245279149588, -1.676424664945563, -1.8643037747121596, -0.7290359219777889, -3.4074077807930663, -5.349222914074876, -3.906414825010029, -5.903338802043461, -3.698350530175363, -1.3737413317650224, -0.6356529276371237, -4.514350416715833, -3.2990206855231703, -8.288354499248754, -4.742151561834426, -0.6811846115262712, -2.669678226911138, -5.478856500056678, -3.9284334917245696, -5.917511290245625, -2.5486837375457947, -4.934173001466123, -3.1585770910611464, -4.468309987286829, -6.682094268101763, -3.7010677674524337, -6.919253170866914, -5.387947606983682, -3.510779378375774, -2.711597217563682, -9.03181907204084, -8.426666623148, -2.932680733100502, -2.9723571130729884, -7.282240478149709, -7.471409664961906, -2.8643721743067423, -2.9794914959983614, -6.829913270216409, -6.423272227334275, -2.0384973544597638, -11.000068979442784, -3.7864447820498532, -3.455509792307365, -4.825086122305186, -3.023804264151309, -2.1677871080268707, -4.455891059771974, -0.1865671593250612, 0.6561714770769249, -3.88602436277324, -5.060458297986689, -8.822399176597916, -3.392750938790614, -5.1328881891775255, -3.562763604854604, -6.408253538035046, -6.476180157698341, -4.307850131623623, -2.498849695457962, -10.766145779472922, -3.223300221186879, -2.197022302122731, -6.950169671949294, -9.55481062946668, -5.304224994279528, -3.2364235326334647, -5.897041268455786, 8.518884463237304, -6.8211164320531905, -3.510880126509173, -2.3988488830758414, 4.564287024321529, -1.629773403908817, -8.791997656015514, 5.865114822799034, 1.350565548792846, -11.194598694573628, -4.010708184921496, -3.799379457715857, -10.410026637668198, -5.563667114287485, -5.271140516851152, -5.6507243248325585, -5.502471984891319, -3.1480180462320737, -0.8526175097451973, -2.42285731473819, -3.519843787326434, 0.8958541320628816, -6.196068000320787, -3.481917548865367, -3.1226739581566485, -6.391238152552728, -2.74690760321656, -4.9377977855037285, -5.4438517305983005, -3.8330112188650576, -9.522002355376912, -3.960007541541944, -5.475017686545079, -2.0237751192152973, -6.245851021669968, -7.084585296871072, -2.212599692977395, -0.6583570007418532, -9.889239479564043, -9.623836709760413, -4.637642433066042, -0.19404732797884025, -6.497128859543129, -2.7363750626860255, -7.453745466632508, -4.847686111229551, -0.8331330642845809, -2.020537520956037, -7.855780258220348, -1.8687779149387231, -0.24356297140173627, -4.664068688721621, -13.515936994123038, -3.3460275764471894, -2.117631067869149, -4.15138023879492, 1.0177873284505763, -3.8040286545006636, -2.5190935448324767, -7.749235273122451, -2.4908922394103437, -0.5344807315553548, 5.427615595643607, 1.8462333402054103, -1.5191035299232178, -3.2766890473764834, -1.9512730176103272, -12.511857780431368, -3.990780443331637, 2.646615960347962, -0.53175088151161, -3.2077825843556136, -1.1960079584053958, -5.629042760694335, -4.747539147036222, -5.393001013827554, -5.712381416206153, -0.7391421123795423, -3.406263770124993, -4.582906639722568, -2.600455970041344, -12.485408079711235, -6.725558912985901, -2.1844421143540513, -5.660283572934441, -5.724934183006653, -4.698429835248636, -3.715507225796256, 2.116456883902324, -3.9106830892143813, -0.6351838161344305, -3.403276822856507, -7.166678883194073, -2.8176364409465897, -0.6896908521955571, -2.691668464232054, -2.161822587689152, -5.391027959524121, -5.834692982897081, -4.147039114250348]}],\n",
       "                        {\"barmode\": \"overlay\", \"template\": {\"data\": {\"bar\": [{\"error_x\": {\"color\": \"#2a3f5f\"}, \"error_y\": {\"color\": \"#2a3f5f\"}, \"marker\": {\"line\": {\"color\": \"#E5ECF6\", \"width\": 0.5}}, \"type\": \"bar\"}], \"barpolar\": [{\"marker\": {\"line\": {\"color\": \"#E5ECF6\", \"width\": 0.5}}, \"type\": \"barpolar\"}], \"carpet\": [{\"aaxis\": {\"endlinecolor\": \"#2a3f5f\", \"gridcolor\": \"white\", \"linecolor\": \"white\", \"minorgridcolor\": \"white\", \"startlinecolor\": \"#2a3f5f\"}, \"baxis\": {\"endlinecolor\": \"#2a3f5f\", \"gridcolor\": \"white\", \"linecolor\": \"white\", \"minorgridcolor\": \"white\", \"startlinecolor\": \"#2a3f5f\"}, \"type\": \"carpet\"}], \"choropleth\": [{\"colorbar\": {\"outlinewidth\": 0, \"ticks\": \"\"}, \"type\": \"choropleth\"}], \"contour\": [{\"colorbar\": {\"outlinewidth\": 0, \"ticks\": \"\"}, \"colorscale\": [[0.0, \"#0d0887\"], [0.1111111111111111, \"#46039f\"], [0.2222222222222222, \"#7201a8\"], [0.3333333333333333, \"#9c179e\"], [0.4444444444444444, \"#bd3786\"], [0.5555555555555556, \"#d8576b\"], [0.6666666666666666, \"#ed7953\"], [0.7777777777777778, \"#fb9f3a\"], [0.8888888888888888, \"#fdca26\"], [1.0, \"#f0f921\"]], \"type\": \"contour\"}], \"contourcarpet\": [{\"colorbar\": {\"outlinewidth\": 0, \"ticks\": \"\"}, \"type\": \"contourcarpet\"}], \"heatmap\": [{\"colorbar\": {\"outlinewidth\": 0, \"ticks\": \"\"}, \"colorscale\": [[0.0, \"#0d0887\"], [0.1111111111111111, \"#46039f\"], [0.2222222222222222, \"#7201a8\"], [0.3333333333333333, \"#9c179e\"], [0.4444444444444444, \"#bd3786\"], [0.5555555555555556, \"#d8576b\"], [0.6666666666666666, \"#ed7953\"], [0.7777777777777778, \"#fb9f3a\"], [0.8888888888888888, \"#fdca26\"], [1.0, \"#f0f921\"]], \"type\": \"heatmap\"}], \"heatmapgl\": [{\"colorbar\": {\"outlinewidth\": 0, \"ticks\": \"\"}, \"colorscale\": [[0.0, \"#0d0887\"], [0.1111111111111111, \"#46039f\"], [0.2222222222222222, \"#7201a8\"], [0.3333333333333333, \"#9c179e\"], [0.4444444444444444, \"#bd3786\"], [0.5555555555555556, \"#d8576b\"], [0.6666666666666666, \"#ed7953\"], [0.7777777777777778, \"#fb9f3a\"], [0.8888888888888888, \"#fdca26\"], [1.0, \"#f0f921\"]], \"type\": \"heatmapgl\"}], \"histogram\": [{\"marker\": {\"colorbar\": {\"outlinewidth\": 0, \"ticks\": \"\"}}, \"type\": \"histogram\"}], \"histogram2d\": [{\"colorbar\": {\"outlinewidth\": 0, \"ticks\": \"\"}, \"colorscale\": [[0.0, \"#0d0887\"], [0.1111111111111111, \"#46039f\"], [0.2222222222222222, \"#7201a8\"], [0.3333333333333333, \"#9c179e\"], [0.4444444444444444, \"#bd3786\"], [0.5555555555555556, \"#d8576b\"], [0.6666666666666666, \"#ed7953\"], [0.7777777777777778, \"#fb9f3a\"], [0.8888888888888888, \"#fdca26\"], [1.0, \"#f0f921\"]], \"type\": \"histogram2d\"}], \"histogram2dcontour\": [{\"colorbar\": {\"outlinewidth\": 0, \"ticks\": \"\"}, \"colorscale\": [[0.0, \"#0d0887\"], [0.1111111111111111, \"#46039f\"], [0.2222222222222222, \"#7201a8\"], [0.3333333333333333, \"#9c179e\"], [0.4444444444444444, \"#bd3786\"], [0.5555555555555556, \"#d8576b\"], [0.6666666666666666, \"#ed7953\"], [0.7777777777777778, \"#fb9f3a\"], [0.8888888888888888, \"#fdca26\"], [1.0, \"#f0f921\"]], \"type\": \"histogram2dcontour\"}], \"mesh3d\": [{\"colorbar\": {\"outlinewidth\": 0, \"ticks\": \"\"}, \"type\": \"mesh3d\"}], \"parcoords\": [{\"line\": {\"colorbar\": {\"outlinewidth\": 0, \"ticks\": \"\"}}, \"type\": \"parcoords\"}], \"scatter\": [{\"marker\": {\"colorbar\": {\"outlinewidth\": 0, \"ticks\": \"\"}}, \"type\": \"scatter\"}], \"scatter3d\": [{\"line\": {\"colorbar\": {\"outlinewidth\": 0, \"ticks\": \"\"}}, \"marker\": {\"colorbar\": {\"outlinewidth\": 0, \"ticks\": \"\"}}, \"type\": \"scatter3d\"}], \"scattercarpet\": [{\"marker\": {\"colorbar\": {\"outlinewidth\": 0, \"ticks\": \"\"}}, \"type\": \"scattercarpet\"}], \"scattergeo\": [{\"marker\": {\"colorbar\": {\"outlinewidth\": 0, \"ticks\": \"\"}}, \"type\": \"scattergeo\"}], \"scattergl\": [{\"marker\": {\"colorbar\": {\"outlinewidth\": 0, \"ticks\": \"\"}}, \"type\": \"scattergl\"}], \"scattermapbox\": [{\"marker\": {\"colorbar\": {\"outlinewidth\": 0, \"ticks\": \"\"}}, \"type\": \"scattermapbox\"}], \"scatterpolar\": [{\"marker\": {\"colorbar\": {\"outlinewidth\": 0, \"ticks\": \"\"}}, \"type\": \"scatterpolar\"}], \"scatterpolargl\": [{\"marker\": {\"colorbar\": {\"outlinewidth\": 0, \"ticks\": \"\"}}, \"type\": \"scatterpolargl\"}], \"scatterternary\": [{\"marker\": {\"colorbar\": {\"outlinewidth\": 0, \"ticks\": \"\"}}, \"type\": \"scatterternary\"}], \"surface\": [{\"colorbar\": {\"outlinewidth\": 0, \"ticks\": \"\"}, \"colorscale\": [[0.0, \"#0d0887\"], [0.1111111111111111, \"#46039f\"], [0.2222222222222222, \"#7201a8\"], [0.3333333333333333, \"#9c179e\"], [0.4444444444444444, \"#bd3786\"], [0.5555555555555556, \"#d8576b\"], [0.6666666666666666, \"#ed7953\"], [0.7777777777777778, \"#fb9f3a\"], [0.8888888888888888, \"#fdca26\"], [1.0, \"#f0f921\"]], \"type\": \"surface\"}], \"table\": [{\"cells\": {\"fill\": {\"color\": \"#EBF0F8\"}, \"line\": {\"color\": \"white\"}}, \"header\": {\"fill\": {\"color\": \"#C8D4E3\"}, \"line\": {\"color\": \"white\"}}, \"type\": \"table\"}]}, \"layout\": {\"annotationdefaults\": {\"arrowcolor\": \"#2a3f5f\", \"arrowhead\": 0, \"arrowwidth\": 1}, \"colorscale\": {\"diverging\": [[0, \"#8e0152\"], [0.1, \"#c51b7d\"], [0.2, \"#de77ae\"], [0.3, \"#f1b6da\"], [0.4, \"#fde0ef\"], [0.5, \"#f7f7f7\"], [0.6, \"#e6f5d0\"], [0.7, \"#b8e186\"], [0.8, \"#7fbc41\"], [0.9, \"#4d9221\"], [1, \"#276419\"]], \"sequential\": [[0.0, \"#0d0887\"], [0.1111111111111111, \"#46039f\"], [0.2222222222222222, \"#7201a8\"], [0.3333333333333333, \"#9c179e\"], [0.4444444444444444, \"#bd3786\"], [0.5555555555555556, \"#d8576b\"], [0.6666666666666666, \"#ed7953\"], [0.7777777777777778, \"#fb9f3a\"], [0.8888888888888888, \"#fdca26\"], [1.0, \"#f0f921\"]], \"sequentialminus\": [[0.0, \"#0d0887\"], [0.1111111111111111, \"#46039f\"], [0.2222222222222222, \"#7201a8\"], [0.3333333333333333, \"#9c179e\"], [0.4444444444444444, \"#bd3786\"], [0.5555555555555556, \"#d8576b\"], [0.6666666666666666, \"#ed7953\"], [0.7777777777777778, \"#fb9f3a\"], [0.8888888888888888, \"#fdca26\"], [1.0, \"#f0f921\"]]}, \"colorway\": [\"#636efa\", \"#EF553B\", \"#00cc96\", \"#ab63fa\", \"#FFA15A\", \"#19d3f3\", \"#FF6692\", \"#B6E880\", \"#FF97FF\", \"#FECB52\"], \"font\": {\"color\": \"#2a3f5f\"}, \"geo\": {\"bgcolor\": \"white\", \"lakecolor\": \"white\", \"landcolor\": \"#E5ECF6\", \"showlakes\": true, \"showland\": true, \"subunitcolor\": \"white\"}, \"hoverlabel\": {\"align\": \"left\"}, \"hovermode\": \"closest\", \"mapbox\": {\"style\": \"light\"}, \"paper_bgcolor\": \"white\", \"plot_bgcolor\": \"#E5ECF6\", \"polar\": {\"angularaxis\": {\"gridcolor\": \"white\", \"linecolor\": \"white\", \"ticks\": \"\"}, \"bgcolor\": \"#E5ECF6\", \"radialaxis\": {\"gridcolor\": \"white\", \"linecolor\": \"white\", \"ticks\": \"\"}}, \"scene\": {\"xaxis\": {\"backgroundcolor\": \"#E5ECF6\", \"gridcolor\": \"white\", \"gridwidth\": 2, \"linecolor\": \"white\", \"showbackground\": true, \"ticks\": \"\", \"zerolinecolor\": \"white\"}, \"yaxis\": {\"backgroundcolor\": \"#E5ECF6\", \"gridcolor\": \"white\", \"gridwidth\": 2, \"linecolor\": \"white\", \"showbackground\": true, \"ticks\": \"\", \"zerolinecolor\": \"white\"}, \"zaxis\": {\"backgroundcolor\": \"#E5ECF6\", \"gridcolor\": \"white\", \"gridwidth\": 2, \"linecolor\": \"white\", \"showbackground\": true, \"ticks\": \"\", \"zerolinecolor\": \"white\"}}, \"shapedefaults\": {\"line\": {\"color\": \"#2a3f5f\"}}, \"ternary\": {\"aaxis\": {\"gridcolor\": \"white\", \"linecolor\": \"white\", \"ticks\": \"\"}, \"baxis\": {\"gridcolor\": \"white\", \"linecolor\": \"white\", \"ticks\": \"\"}, \"bgcolor\": \"#E5ECF6\", \"caxis\": {\"gridcolor\": \"white\", \"linecolor\": \"white\", \"ticks\": \"\"}}, \"title\": {\"x\": 0.05}, \"xaxis\": {\"automargin\": true, \"gridcolor\": \"white\", \"linecolor\": \"white\", \"ticks\": \"\", \"zerolinecolor\": \"white\", \"zerolinewidth\": 2}, \"yaxis\": {\"automargin\": true, \"gridcolor\": \"white\", \"linecolor\": \"white\", \"ticks\": \"\", \"zerolinecolor\": \"white\", \"zerolinewidth\": 2}}}},\n",
       "                        {\"responsive\": true}\n",
       "                    ).then(function(){\n",
       "                            \n",
       "var gd = document.getElementById('d9e560b3-4ed1-44eb-802b-ba8686bf716a');\n",
       "var x = new MutationObserver(function (mutations, observer) {{\n",
       "        var display = window.getComputedStyle(gd).display;\n",
       "        if (!display || display === 'none') {{\n",
       "            console.log([gd, 'removed!']);\n",
       "            Plotly.purge(gd);\n",
       "            observer.disconnect();\n",
       "        }}\n",
       "}});\n",
       "\n",
       "// Listen for the removal of the full notebook cells\n",
       "var notebookContainer = gd.closest('#notebook-container');\n",
       "if (notebookContainer) {{\n",
       "    x.observe(notebookContainer, {childList: true});\n",
       "}}\n",
       "\n",
       "// Listen for the clearing of the current output cell\n",
       "var outputEl = gd.closest('.output');\n",
       "if (outputEl) {{\n",
       "    x.observe(outputEl, {childList: true});\n",
       "}}\n",
       "\n",
       "                        })\n",
       "                };\n",
       "                });\n",
       "            </script>\n",
       "        </div>"
      ]
     },
     "metadata": {},
     "output_type": "display_data"
    }
   ],
   "source": [
    "from plotly.offline import iplot\n",
    "import chart_studio.plotly as py\n",
    "import plotly.graph_objs as go\n",
    "\n",
    "trace0 = go.Histogram(\n",
    "    x = signal_scores,\n",
    "    name = 'Signal',\n",
    "    opacity=0.6\n",
    ")\n",
    "trace1 = go.Histogram(\n",
    "    x = background_scores,\n",
    "    name = 'Background',\n",
    "    opacity=0.6\n",
    ")\n",
    "data = [trace0, trace1]\n",
    "layout = go.Layout(barmode='overlay')\n",
    "fig = go.Figure(data=data, layout=layout)\n",
    "iplot(fig, filename='overlaid histogram')"
   ]
  },
  {
   "cell_type": "markdown",
   "metadata": {},
   "source": [
    "### the ROC curve\n",
    "Receiver Operation Characteristic"
   ]
  },
  {
   "cell_type": "code",
   "execution_count": 39,
   "metadata": {},
   "outputs": [],
   "source": [
    "length_signal = float(len(background_scores))\n",
    "length_background = float(len(signal_scores))\n",
    "\n",
    "stepSize = (maxScore-minScore) / 100.0\n",
    "threshold = minScore\n",
    "fprs = []\n",
    "tprs = []\n",
    "thresholds = []\n",
    "\n",
    "for steps in range(100):\n",
    "    tn = 0.0\n",
    "    tp = 0.0\n",
    "    for score in background_scores:\n",
    "        if score <= threshold:\n",
    "            tn += 1.0\n",
    "    for score in signal_scores:\n",
    "        if score > threshold:\n",
    "            tp += 1.0\n",
    "    fn = length_signal- tp\n",
    "    fp = length_background - tn\n",
    "    tpr = tp/length_signal\n",
    "    fpr = fp/length_background\n",
    "    tprs.append(tpr)\n",
    "    fprs.append(fpr)\n",
    "    thresholds.append(\"Threshold=\"+str(threshold))\n",
    "    threshold += stepSize"
   ]
  },
  {
   "cell_type": "code",
   "execution_count": 40,
   "metadata": {},
   "outputs": [
    {
     "data": {
      "application/vnd.plotly.v1+json": {
       "config": {
        "linkText": "Export to plot.ly",
        "plotlyServerURL": "https://plot.ly",
        "showLink": false
       },
       "data": [
        {
         "mode": "markers",
         "text": [
          "Threshold=-14.545993880772674",
          "Threshold=-14.229517471589613",
          "Threshold=-13.913041062406553",
          "Threshold=-13.596564653223492",
          "Threshold=-13.280088244040432",
          "Threshold=-12.963611834857371",
          "Threshold=-12.64713542567431",
          "Threshold=-12.33065901649125",
          "Threshold=-12.01418260730819",
          "Threshold=-11.697706198125129",
          "Threshold=-11.381229788942068",
          "Threshold=-11.064753379759008",
          "Threshold=-10.748276970575947",
          "Threshold=-10.431800561392887",
          "Threshold=-10.115324152209826",
          "Threshold=-9.798847743026766",
          "Threshold=-9.482371333843705",
          "Threshold=-9.165894924660645",
          "Threshold=-8.849418515477584",
          "Threshold=-8.532942106294524",
          "Threshold=-8.216465697111463",
          "Threshold=-7.899989287928403",
          "Threshold=-7.583512878745342",
          "Threshold=-7.2670364695622816",
          "Threshold=-6.950560060379221",
          "Threshold=-6.6340836511961605",
          "Threshold=-6.3176072420131",
          "Threshold=-6.0011308328300395",
          "Threshold=-5.684654423646979",
          "Threshold=-5.368178014463918",
          "Threshold=-5.051701605280858",
          "Threshold=-4.735225196097797",
          "Threshold=-4.418748786914737",
          "Threshold=-4.102272377731676",
          "Threshold=-3.7857959685486158",
          "Threshold=-3.4693195593655552",
          "Threshold=-3.1528431501824947",
          "Threshold=-2.836366740999434",
          "Threshold=-2.5198903318163737",
          "Threshold=-2.203413922633313",
          "Threshold=-1.8869375134502528",
          "Threshold=-1.5704611042671925",
          "Threshold=-1.2539846950841322",
          "Threshold=-0.9375082859010719",
          "Threshold=-0.6210318767180116",
          "Threshold=-0.30455546753495133",
          "Threshold=0.011920941648108974",
          "Threshold=0.3283973508311693",
          "Threshold=0.6448737600142296",
          "Threshold=0.9613501691972899",
          "Threshold=1.2778265783803502",
          "Threshold=1.5943029875634105",
          "Threshold=1.9107793967464708",
          "Threshold=2.227255805929531",
          "Threshold=2.543732215112591",
          "Threshold=2.8602086242956517",
          "Threshold=3.1766850334787122",
          "Threshold=3.4931614426617728",
          "Threshold=3.8096378518448333",
          "Threshold=4.126114261027894",
          "Threshold=4.442590670210954",
          "Threshold=4.759067079394015",
          "Threshold=5.075543488577075",
          "Threshold=5.392019897760136",
          "Threshold=5.708496306943196",
          "Threshold=6.024972716126257",
          "Threshold=6.3414491253093175",
          "Threshold=6.657925534492378",
          "Threshold=6.9744019436754385",
          "Threshold=7.290878352858499",
          "Threshold=7.60735476204156",
          "Threshold=7.92383117122462",
          "Threshold=8.24030758040768",
          "Threshold=8.556783989590741",
          "Threshold=8.873260398773802",
          "Threshold=9.189736807956862",
          "Threshold=9.506213217139923",
          "Threshold=9.822689626322983",
          "Threshold=10.139166035506044",
          "Threshold=10.455642444689104",
          "Threshold=10.772118853872165",
          "Threshold=11.088595263055225",
          "Threshold=11.405071672238286",
          "Threshold=11.721548081421346",
          "Threshold=12.038024490604407",
          "Threshold=12.354500899787467",
          "Threshold=12.670977308970528",
          "Threshold=12.987453718153589",
          "Threshold=13.303930127336649",
          "Threshold=13.62040653651971",
          "Threshold=13.93688294570277",
          "Threshold=14.25335935488583",
          "Threshold=14.569835764068891",
          "Threshold=14.886312173251952",
          "Threshold=15.202788582435012",
          "Threshold=15.519264991618073",
          "Threshold=15.835741400801133",
          "Threshold=16.152217809984194",
          "Threshold=16.468694219167254",
          "Threshold=16.785170628350315"
         ],
         "type": "scatter",
         "x": [
          0.9949494949494949,
          0.9949494949494949,
          0.9949494949494949,
          0.9949494949494949,
          0.98989898989899,
          0.98989898989899,
          0.98989898989899,
          0.9797979797979798,
          0.9747474747474747,
          0.9747474747474747,
          0.9747474747474747,
          0.9696969696969697,
          0.9595959595959596,
          0.9595959595959596,
          0.9545454545454546,
          0.9494949494949495,
          0.9343434343434344,
          0.9343434343434344,
          0.9292929292929293,
          0.9141414141414141,
          0.898989898989899,
          0.8939393939393939,
          0.8838383838383839,
          0.8636363636363636,
          0.8535353535353535,
          0.8232323232323232,
          0.7828282828282829,
          0.7676767676767676,
          0.7171717171717171,
          0.6565656565656566,
          0.6313131313131313,
          0.5959595959595959,
          0.5555555555555556,
          0.5252525252525253,
          0.46464646464646464,
          0.41414141414141414,
          0.3484848484848485,
          0.31313131313131315,
          0.2676767676767677,
          0.23232323232323232,
          0.17676767676767677,
          0.15656565656565657,
          0.1414141414141414,
          0.13131313131313133,
          0.08585858585858586,
          0.0707070707070707,
          0.05555555555555555,
          0.05555555555555555,
          0.050505050505050504,
          0.04040404040404041,
          0.03535353535353535,
          0.030303030303030304,
          0.025252525252525252,
          0.020202020202020204,
          0.020202020202020204,
          0.015151515151515152,
          0.015151515151515152,
          0.015151515151515152,
          0.015151515151515152,
          0.015151515151515152,
          0.015151515151515152,
          0.010101010101010102,
          0.010101010101010102,
          0.005050505050505051,
          -0.005050505050505051,
          -0.010101010101010102,
          -0.010101010101010102,
          -0.015151515151515152,
          -0.015151515151515152,
          -0.015151515151515152,
          -0.015151515151515152,
          -0.015151515151515152,
          -0.015151515151515152,
          -0.020202020202020204,
          -0.020202020202020204,
          -0.020202020202020204,
          -0.020202020202020204,
          -0.020202020202020204,
          -0.020202020202020204,
          -0.020202020202020204,
          -0.020202020202020204,
          -0.020202020202020204,
          -0.020202020202020204,
          -0.020202020202020204,
          -0.020202020202020204,
          -0.020202020202020204,
          -0.020202020202020204,
          -0.020202020202020204,
          -0.020202020202020204,
          -0.020202020202020204,
          -0.020202020202020204,
          -0.020202020202020204,
          -0.020202020202020204,
          -0.020202020202020204,
          -0.020202020202020204,
          -0.020202020202020204,
          -0.020202020202020204,
          -0.020202020202020204,
          -0.020202020202020204,
          -0.020202020202020204
         ],
         "y": [
          0.9801980198019802,
          0.9801980198019802,
          0.9801980198019802,
          0.9801980198019802,
          0.9801980198019802,
          0.9801980198019802,
          0.9801980198019802,
          0.9801980198019802,
          0.9801980198019802,
          0.9801980198019802,
          0.9801980198019802,
          0.9801980198019802,
          0.9801980198019802,
          0.9801980198019802,
          0.9801980198019802,
          0.9801980198019802,
          0.9801980198019802,
          0.9801980198019802,
          0.9801980198019802,
          0.9801980198019802,
          0.9801980198019802,
          0.9801980198019802,
          0.9801980198019802,
          0.9801980198019802,
          0.9801980198019802,
          0.9801980198019802,
          0.9801980198019802,
          0.9801980198019802,
          0.9801980198019802,
          0.9801980198019802,
          0.9801980198019802,
          0.9801980198019802,
          0.9752475247524752,
          0.9752475247524752,
          0.9752475247524752,
          0.9702970297029703,
          0.9702970297029703,
          0.9653465346534653,
          0.9653465346534653,
          0.9603960396039604,
          0.9603960396039604,
          0.9603960396039604,
          0.9603960396039604,
          0.9603960396039604,
          0.9504950495049505,
          0.9455445544554455,
          0.9356435643564357,
          0.9158415841584159,
          0.8910891089108911,
          0.8663366336633663,
          0.8267326732673267,
          0.806930693069307,
          0.7772277227722773,
          0.7475247524752475,
          0.7128712871287128,
          0.6485148514851485,
          0.6089108910891089,
          0.5643564356435643,
          0.5148514851485149,
          0.46534653465346537,
          0.4158415841584158,
          0.3613861386138614,
          0.3118811881188119,
          0.2623762376237624,
          0.22277227722772278,
          0.19801980198019803,
          0.16336633663366337,
          0.13861386138613863,
          0.12376237623762376,
          0.11386138613861387,
          0.11386138613861387,
          0.0891089108910891,
          0.07425742574257425,
          0.054455445544554455,
          0.04950495049504951,
          0.039603960396039604,
          0.0297029702970297,
          0.024752475247524754,
          0.024752475247524754,
          0.024752475247524754,
          0.019801980198019802,
          0.019801980198019802,
          0.01485148514851485,
          0.01485148514851485,
          0.01485148514851485,
          0.01485148514851485,
          0.01485148514851485,
          0.009900990099009901,
          0.009900990099009901,
          0.009900990099009901,
          0.009900990099009901,
          0.009900990099009901,
          0.009900990099009901,
          0.0049504950495049506,
          0.0049504950495049506,
          0.0049504950495049506,
          0.0049504950495049506,
          0.0049504950495049506,
          0.0049504950495049506,
          0.0049504950495049506
         ]
        }
       ],
       "layout": {
        "template": {
         "data": {
          "bar": [
           {
            "error_x": {
             "color": "#2a3f5f"
            },
            "error_y": {
             "color": "#2a3f5f"
            },
            "marker": {
             "line": {
              "color": "#E5ECF6",
              "width": 0.5
             }
            },
            "type": "bar"
           }
          ],
          "barpolar": [
           {
            "marker": {
             "line": {
              "color": "#E5ECF6",
              "width": 0.5
             }
            },
            "type": "barpolar"
           }
          ],
          "carpet": [
           {
            "aaxis": {
             "endlinecolor": "#2a3f5f",
             "gridcolor": "white",
             "linecolor": "white",
             "minorgridcolor": "white",
             "startlinecolor": "#2a3f5f"
            },
            "baxis": {
             "endlinecolor": "#2a3f5f",
             "gridcolor": "white",
             "linecolor": "white",
             "minorgridcolor": "white",
             "startlinecolor": "#2a3f5f"
            },
            "type": "carpet"
           }
          ],
          "choropleth": [
           {
            "colorbar": {
             "outlinewidth": 0,
             "ticks": ""
            },
            "type": "choropleth"
           }
          ],
          "contour": [
           {
            "colorbar": {
             "outlinewidth": 0,
             "ticks": ""
            },
            "colorscale": [
             [
              0,
              "#0d0887"
             ],
             [
              0.1111111111111111,
              "#46039f"
             ],
             [
              0.2222222222222222,
              "#7201a8"
             ],
             [
              0.3333333333333333,
              "#9c179e"
             ],
             [
              0.4444444444444444,
              "#bd3786"
             ],
             [
              0.5555555555555556,
              "#d8576b"
             ],
             [
              0.6666666666666666,
              "#ed7953"
             ],
             [
              0.7777777777777778,
              "#fb9f3a"
             ],
             [
              0.8888888888888888,
              "#fdca26"
             ],
             [
              1,
              "#f0f921"
             ]
            ],
            "type": "contour"
           }
          ],
          "contourcarpet": [
           {
            "colorbar": {
             "outlinewidth": 0,
             "ticks": ""
            },
            "type": "contourcarpet"
           }
          ],
          "heatmap": [
           {
            "colorbar": {
             "outlinewidth": 0,
             "ticks": ""
            },
            "colorscale": [
             [
              0,
              "#0d0887"
             ],
             [
              0.1111111111111111,
              "#46039f"
             ],
             [
              0.2222222222222222,
              "#7201a8"
             ],
             [
              0.3333333333333333,
              "#9c179e"
             ],
             [
              0.4444444444444444,
              "#bd3786"
             ],
             [
              0.5555555555555556,
              "#d8576b"
             ],
             [
              0.6666666666666666,
              "#ed7953"
             ],
             [
              0.7777777777777778,
              "#fb9f3a"
             ],
             [
              0.8888888888888888,
              "#fdca26"
             ],
             [
              1,
              "#f0f921"
             ]
            ],
            "type": "heatmap"
           }
          ],
          "heatmapgl": [
           {
            "colorbar": {
             "outlinewidth": 0,
             "ticks": ""
            },
            "colorscale": [
             [
              0,
              "#0d0887"
             ],
             [
              0.1111111111111111,
              "#46039f"
             ],
             [
              0.2222222222222222,
              "#7201a8"
             ],
             [
              0.3333333333333333,
              "#9c179e"
             ],
             [
              0.4444444444444444,
              "#bd3786"
             ],
             [
              0.5555555555555556,
              "#d8576b"
             ],
             [
              0.6666666666666666,
              "#ed7953"
             ],
             [
              0.7777777777777778,
              "#fb9f3a"
             ],
             [
              0.8888888888888888,
              "#fdca26"
             ],
             [
              1,
              "#f0f921"
             ]
            ],
            "type": "heatmapgl"
           }
          ],
          "histogram": [
           {
            "marker": {
             "colorbar": {
              "outlinewidth": 0,
              "ticks": ""
             }
            },
            "type": "histogram"
           }
          ],
          "histogram2d": [
           {
            "colorbar": {
             "outlinewidth": 0,
             "ticks": ""
            },
            "colorscale": [
             [
              0,
              "#0d0887"
             ],
             [
              0.1111111111111111,
              "#46039f"
             ],
             [
              0.2222222222222222,
              "#7201a8"
             ],
             [
              0.3333333333333333,
              "#9c179e"
             ],
             [
              0.4444444444444444,
              "#bd3786"
             ],
             [
              0.5555555555555556,
              "#d8576b"
             ],
             [
              0.6666666666666666,
              "#ed7953"
             ],
             [
              0.7777777777777778,
              "#fb9f3a"
             ],
             [
              0.8888888888888888,
              "#fdca26"
             ],
             [
              1,
              "#f0f921"
             ]
            ],
            "type": "histogram2d"
           }
          ],
          "histogram2dcontour": [
           {
            "colorbar": {
             "outlinewidth": 0,
             "ticks": ""
            },
            "colorscale": [
             [
              0,
              "#0d0887"
             ],
             [
              0.1111111111111111,
              "#46039f"
             ],
             [
              0.2222222222222222,
              "#7201a8"
             ],
             [
              0.3333333333333333,
              "#9c179e"
             ],
             [
              0.4444444444444444,
              "#bd3786"
             ],
             [
              0.5555555555555556,
              "#d8576b"
             ],
             [
              0.6666666666666666,
              "#ed7953"
             ],
             [
              0.7777777777777778,
              "#fb9f3a"
             ],
             [
              0.8888888888888888,
              "#fdca26"
             ],
             [
              1,
              "#f0f921"
             ]
            ],
            "type": "histogram2dcontour"
           }
          ],
          "mesh3d": [
           {
            "colorbar": {
             "outlinewidth": 0,
             "ticks": ""
            },
            "type": "mesh3d"
           }
          ],
          "parcoords": [
           {
            "line": {
             "colorbar": {
              "outlinewidth": 0,
              "ticks": ""
             }
            },
            "type": "parcoords"
           }
          ],
          "scatter": [
           {
            "marker": {
             "colorbar": {
              "outlinewidth": 0,
              "ticks": ""
             }
            },
            "type": "scatter"
           }
          ],
          "scatter3d": [
           {
            "line": {
             "colorbar": {
              "outlinewidth": 0,
              "ticks": ""
             }
            },
            "marker": {
             "colorbar": {
              "outlinewidth": 0,
              "ticks": ""
             }
            },
            "type": "scatter3d"
           }
          ],
          "scattercarpet": [
           {
            "marker": {
             "colorbar": {
              "outlinewidth": 0,
              "ticks": ""
             }
            },
            "type": "scattercarpet"
           }
          ],
          "scattergeo": [
           {
            "marker": {
             "colorbar": {
              "outlinewidth": 0,
              "ticks": ""
             }
            },
            "type": "scattergeo"
           }
          ],
          "scattergl": [
           {
            "marker": {
             "colorbar": {
              "outlinewidth": 0,
              "ticks": ""
             }
            },
            "type": "scattergl"
           }
          ],
          "scattermapbox": [
           {
            "marker": {
             "colorbar": {
              "outlinewidth": 0,
              "ticks": ""
             }
            },
            "type": "scattermapbox"
           }
          ],
          "scatterpolar": [
           {
            "marker": {
             "colorbar": {
              "outlinewidth": 0,
              "ticks": ""
             }
            },
            "type": "scatterpolar"
           }
          ],
          "scatterpolargl": [
           {
            "marker": {
             "colorbar": {
              "outlinewidth": 0,
              "ticks": ""
             }
            },
            "type": "scatterpolargl"
           }
          ],
          "scatterternary": [
           {
            "marker": {
             "colorbar": {
              "outlinewidth": 0,
              "ticks": ""
             }
            },
            "type": "scatterternary"
           }
          ],
          "surface": [
           {
            "colorbar": {
             "outlinewidth": 0,
             "ticks": ""
            },
            "colorscale": [
             [
              0,
              "#0d0887"
             ],
             [
              0.1111111111111111,
              "#46039f"
             ],
             [
              0.2222222222222222,
              "#7201a8"
             ],
             [
              0.3333333333333333,
              "#9c179e"
             ],
             [
              0.4444444444444444,
              "#bd3786"
             ],
             [
              0.5555555555555556,
              "#d8576b"
             ],
             [
              0.6666666666666666,
              "#ed7953"
             ],
             [
              0.7777777777777778,
              "#fb9f3a"
             ],
             [
              0.8888888888888888,
              "#fdca26"
             ],
             [
              1,
              "#f0f921"
             ]
            ],
            "type": "surface"
           }
          ],
          "table": [
           {
            "cells": {
             "fill": {
              "color": "#EBF0F8"
             },
             "line": {
              "color": "white"
             }
            },
            "header": {
             "fill": {
              "color": "#C8D4E3"
             },
             "line": {
              "color": "white"
             }
            },
            "type": "table"
           }
          ]
         },
         "layout": {
          "annotationdefaults": {
           "arrowcolor": "#2a3f5f",
           "arrowhead": 0,
           "arrowwidth": 1
          },
          "colorscale": {
           "diverging": [
            [
             0,
             "#8e0152"
            ],
            [
             0.1,
             "#c51b7d"
            ],
            [
             0.2,
             "#de77ae"
            ],
            [
             0.3,
             "#f1b6da"
            ],
            [
             0.4,
             "#fde0ef"
            ],
            [
             0.5,
             "#f7f7f7"
            ],
            [
             0.6,
             "#e6f5d0"
            ],
            [
             0.7,
             "#b8e186"
            ],
            [
             0.8,
             "#7fbc41"
            ],
            [
             0.9,
             "#4d9221"
            ],
            [
             1,
             "#276419"
            ]
           ],
           "sequential": [
            [
             0,
             "#0d0887"
            ],
            [
             0.1111111111111111,
             "#46039f"
            ],
            [
             0.2222222222222222,
             "#7201a8"
            ],
            [
             0.3333333333333333,
             "#9c179e"
            ],
            [
             0.4444444444444444,
             "#bd3786"
            ],
            [
             0.5555555555555556,
             "#d8576b"
            ],
            [
             0.6666666666666666,
             "#ed7953"
            ],
            [
             0.7777777777777778,
             "#fb9f3a"
            ],
            [
             0.8888888888888888,
             "#fdca26"
            ],
            [
             1,
             "#f0f921"
            ]
           ],
           "sequentialminus": [
            [
             0,
             "#0d0887"
            ],
            [
             0.1111111111111111,
             "#46039f"
            ],
            [
             0.2222222222222222,
             "#7201a8"
            ],
            [
             0.3333333333333333,
             "#9c179e"
            ],
            [
             0.4444444444444444,
             "#bd3786"
            ],
            [
             0.5555555555555556,
             "#d8576b"
            ],
            [
             0.6666666666666666,
             "#ed7953"
            ],
            [
             0.7777777777777778,
             "#fb9f3a"
            ],
            [
             0.8888888888888888,
             "#fdca26"
            ],
            [
             1,
             "#f0f921"
            ]
           ]
          },
          "colorway": [
           "#636efa",
           "#EF553B",
           "#00cc96",
           "#ab63fa",
           "#FFA15A",
           "#19d3f3",
           "#FF6692",
           "#B6E880",
           "#FF97FF",
           "#FECB52"
          ],
          "font": {
           "color": "#2a3f5f"
          },
          "geo": {
           "bgcolor": "white",
           "lakecolor": "white",
           "landcolor": "#E5ECF6",
           "showlakes": true,
           "showland": true,
           "subunitcolor": "white"
          },
          "hoverlabel": {
           "align": "left"
          },
          "hovermode": "closest",
          "mapbox": {
           "style": "light"
          },
          "paper_bgcolor": "white",
          "plot_bgcolor": "#E5ECF6",
          "polar": {
           "angularaxis": {
            "gridcolor": "white",
            "linecolor": "white",
            "ticks": ""
           },
           "bgcolor": "#E5ECF6",
           "radialaxis": {
            "gridcolor": "white",
            "linecolor": "white",
            "ticks": ""
           }
          },
          "scene": {
           "xaxis": {
            "backgroundcolor": "#E5ECF6",
            "gridcolor": "white",
            "gridwidth": 2,
            "linecolor": "white",
            "showbackground": true,
            "ticks": "",
            "zerolinecolor": "white"
           },
           "yaxis": {
            "backgroundcolor": "#E5ECF6",
            "gridcolor": "white",
            "gridwidth": 2,
            "linecolor": "white",
            "showbackground": true,
            "ticks": "",
            "zerolinecolor": "white"
           },
           "zaxis": {
            "backgroundcolor": "#E5ECF6",
            "gridcolor": "white",
            "gridwidth": 2,
            "linecolor": "white",
            "showbackground": true,
            "ticks": "",
            "zerolinecolor": "white"
           }
          },
          "shapedefaults": {
           "line": {
            "color": "#2a3f5f"
           }
          },
          "ternary": {
           "aaxis": {
            "gridcolor": "white",
            "linecolor": "white",
            "ticks": ""
           },
           "baxis": {
            "gridcolor": "white",
            "linecolor": "white",
            "ticks": ""
           },
           "bgcolor": "#E5ECF6",
           "caxis": {
            "gridcolor": "white",
            "linecolor": "white",
            "ticks": ""
           }
          },
          "title": {
           "x": 0.05
          },
          "xaxis": {
           "automargin": true,
           "gridcolor": "white",
           "linecolor": "white",
           "ticks": "",
           "zerolinecolor": "white",
           "zerolinewidth": 2
          },
          "yaxis": {
           "automargin": true,
           "gridcolor": "white",
           "linecolor": "white",
           "ticks": "",
           "zerolinecolor": "white",
           "zerolinewidth": 2
          }
         }
        },
        "title": {
         "text": "ROC Curve"
        },
        "xaxis": {
         "title": {
          "text": "FPR"
         }
        },
        "yaxis": {
         "title": {
          "text": "TPR"
         }
        }
       }
      },
      "text/html": [
       "<div>\n",
       "        \n",
       "        \n",
       "            <div id=\"20ccfc6f-f06d-47df-b91e-4a034654c7d4\" class=\"plotly-graph-div\" style=\"height:525px; width:100%;\"></div>\n",
       "            <script type=\"text/javascript\">\n",
       "                require([\"plotly\"], function(Plotly) {\n",
       "                    window.PLOTLYENV=window.PLOTLYENV || {};\n",
       "                    \n",
       "                if (document.getElementById(\"20ccfc6f-f06d-47df-b91e-4a034654c7d4\")) {\n",
       "                    Plotly.newPlot(\n",
       "                        '20ccfc6f-f06d-47df-b91e-4a034654c7d4',\n",
       "                        [{\"mode\": \"markers\", \"text\": [\"Threshold=-14.545993880772674\", \"Threshold=-14.229517471589613\", \"Threshold=-13.913041062406553\", \"Threshold=-13.596564653223492\", \"Threshold=-13.280088244040432\", \"Threshold=-12.963611834857371\", \"Threshold=-12.64713542567431\", \"Threshold=-12.33065901649125\", \"Threshold=-12.01418260730819\", \"Threshold=-11.697706198125129\", \"Threshold=-11.381229788942068\", \"Threshold=-11.064753379759008\", \"Threshold=-10.748276970575947\", \"Threshold=-10.431800561392887\", \"Threshold=-10.115324152209826\", \"Threshold=-9.798847743026766\", \"Threshold=-9.482371333843705\", \"Threshold=-9.165894924660645\", \"Threshold=-8.849418515477584\", \"Threshold=-8.532942106294524\", \"Threshold=-8.216465697111463\", \"Threshold=-7.899989287928403\", \"Threshold=-7.583512878745342\", \"Threshold=-7.2670364695622816\", \"Threshold=-6.950560060379221\", \"Threshold=-6.6340836511961605\", \"Threshold=-6.3176072420131\", \"Threshold=-6.0011308328300395\", \"Threshold=-5.684654423646979\", \"Threshold=-5.368178014463918\", \"Threshold=-5.051701605280858\", \"Threshold=-4.735225196097797\", \"Threshold=-4.418748786914737\", \"Threshold=-4.102272377731676\", \"Threshold=-3.7857959685486158\", \"Threshold=-3.4693195593655552\", \"Threshold=-3.1528431501824947\", \"Threshold=-2.836366740999434\", \"Threshold=-2.5198903318163737\", \"Threshold=-2.203413922633313\", \"Threshold=-1.8869375134502528\", \"Threshold=-1.5704611042671925\", \"Threshold=-1.2539846950841322\", \"Threshold=-0.9375082859010719\", \"Threshold=-0.6210318767180116\", \"Threshold=-0.30455546753495133\", \"Threshold=0.011920941648108974\", \"Threshold=0.3283973508311693\", \"Threshold=0.6448737600142296\", \"Threshold=0.9613501691972899\", \"Threshold=1.2778265783803502\", \"Threshold=1.5943029875634105\", \"Threshold=1.9107793967464708\", \"Threshold=2.227255805929531\", \"Threshold=2.543732215112591\", \"Threshold=2.8602086242956517\", \"Threshold=3.1766850334787122\", \"Threshold=3.4931614426617728\", \"Threshold=3.8096378518448333\", \"Threshold=4.126114261027894\", \"Threshold=4.442590670210954\", \"Threshold=4.759067079394015\", \"Threshold=5.075543488577075\", \"Threshold=5.392019897760136\", \"Threshold=5.708496306943196\", \"Threshold=6.024972716126257\", \"Threshold=6.3414491253093175\", \"Threshold=6.657925534492378\", \"Threshold=6.9744019436754385\", \"Threshold=7.290878352858499\", \"Threshold=7.60735476204156\", \"Threshold=7.92383117122462\", \"Threshold=8.24030758040768\", \"Threshold=8.556783989590741\", \"Threshold=8.873260398773802\", \"Threshold=9.189736807956862\", \"Threshold=9.506213217139923\", \"Threshold=9.822689626322983\", \"Threshold=10.139166035506044\", \"Threshold=10.455642444689104\", \"Threshold=10.772118853872165\", \"Threshold=11.088595263055225\", \"Threshold=11.405071672238286\", \"Threshold=11.721548081421346\", \"Threshold=12.038024490604407\", \"Threshold=12.354500899787467\", \"Threshold=12.670977308970528\", \"Threshold=12.987453718153589\", \"Threshold=13.303930127336649\", \"Threshold=13.62040653651971\", \"Threshold=13.93688294570277\", \"Threshold=14.25335935488583\", \"Threshold=14.569835764068891\", \"Threshold=14.886312173251952\", \"Threshold=15.202788582435012\", \"Threshold=15.519264991618073\", \"Threshold=15.835741400801133\", \"Threshold=16.152217809984194\", \"Threshold=16.468694219167254\", \"Threshold=16.785170628350315\"], \"type\": \"scatter\", \"x\": [0.9949494949494949, 0.9949494949494949, 0.9949494949494949, 0.9949494949494949, 0.98989898989899, 0.98989898989899, 0.98989898989899, 0.9797979797979798, 0.9747474747474747, 0.9747474747474747, 0.9747474747474747, 0.9696969696969697, 0.9595959595959596, 0.9595959595959596, 0.9545454545454546, 0.9494949494949495, 0.9343434343434344, 0.9343434343434344, 0.9292929292929293, 0.9141414141414141, 0.898989898989899, 0.8939393939393939, 0.8838383838383839, 0.8636363636363636, 0.8535353535353535, 0.8232323232323232, 0.7828282828282829, 0.7676767676767676, 0.7171717171717171, 0.6565656565656566, 0.6313131313131313, 0.5959595959595959, 0.5555555555555556, 0.5252525252525253, 0.46464646464646464, 0.41414141414141414, 0.3484848484848485, 0.31313131313131315, 0.2676767676767677, 0.23232323232323232, 0.17676767676767677, 0.15656565656565657, 0.1414141414141414, 0.13131313131313133, 0.08585858585858586, 0.0707070707070707, 0.05555555555555555, 0.05555555555555555, 0.050505050505050504, 0.04040404040404041, 0.03535353535353535, 0.030303030303030304, 0.025252525252525252, 0.020202020202020204, 0.020202020202020204, 0.015151515151515152, 0.015151515151515152, 0.015151515151515152, 0.015151515151515152, 0.015151515151515152, 0.015151515151515152, 0.010101010101010102, 0.010101010101010102, 0.005050505050505051, -0.005050505050505051, -0.010101010101010102, -0.010101010101010102, -0.015151515151515152, -0.015151515151515152, -0.015151515151515152, -0.015151515151515152, -0.015151515151515152, -0.015151515151515152, -0.020202020202020204, -0.020202020202020204, -0.020202020202020204, -0.020202020202020204, -0.020202020202020204, -0.020202020202020204, -0.020202020202020204, -0.020202020202020204, -0.020202020202020204, -0.020202020202020204, -0.020202020202020204, -0.020202020202020204, -0.020202020202020204, -0.020202020202020204, -0.020202020202020204, -0.020202020202020204, -0.020202020202020204, -0.020202020202020204, -0.020202020202020204, -0.020202020202020204, -0.020202020202020204, -0.020202020202020204, -0.020202020202020204, -0.020202020202020204, -0.020202020202020204, -0.020202020202020204, -0.020202020202020204], \"y\": [0.9801980198019802, 0.9801980198019802, 0.9801980198019802, 0.9801980198019802, 0.9801980198019802, 0.9801980198019802, 0.9801980198019802, 0.9801980198019802, 0.9801980198019802, 0.9801980198019802, 0.9801980198019802, 0.9801980198019802, 0.9801980198019802, 0.9801980198019802, 0.9801980198019802, 0.9801980198019802, 0.9801980198019802, 0.9801980198019802, 0.9801980198019802, 0.9801980198019802, 0.9801980198019802, 0.9801980198019802, 0.9801980198019802, 0.9801980198019802, 0.9801980198019802, 0.9801980198019802, 0.9801980198019802, 0.9801980198019802, 0.9801980198019802, 0.9801980198019802, 0.9801980198019802, 0.9801980198019802, 0.9752475247524752, 0.9752475247524752, 0.9752475247524752, 0.9702970297029703, 0.9702970297029703, 0.9653465346534653, 0.9653465346534653, 0.9603960396039604, 0.9603960396039604, 0.9603960396039604, 0.9603960396039604, 0.9603960396039604, 0.9504950495049505, 0.9455445544554455, 0.9356435643564357, 0.9158415841584159, 0.8910891089108911, 0.8663366336633663, 0.8267326732673267, 0.806930693069307, 0.7772277227722773, 0.7475247524752475, 0.7128712871287128, 0.6485148514851485, 0.6089108910891089, 0.5643564356435643, 0.5148514851485149, 0.46534653465346537, 0.4158415841584158, 0.3613861386138614, 0.3118811881188119, 0.2623762376237624, 0.22277227722772278, 0.19801980198019803, 0.16336633663366337, 0.13861386138613863, 0.12376237623762376, 0.11386138613861387, 0.11386138613861387, 0.0891089108910891, 0.07425742574257425, 0.054455445544554455, 0.04950495049504951, 0.039603960396039604, 0.0297029702970297, 0.024752475247524754, 0.024752475247524754, 0.024752475247524754, 0.019801980198019802, 0.019801980198019802, 0.01485148514851485, 0.01485148514851485, 0.01485148514851485, 0.01485148514851485, 0.01485148514851485, 0.009900990099009901, 0.009900990099009901, 0.009900990099009901, 0.009900990099009901, 0.009900990099009901, 0.009900990099009901, 0.0049504950495049506, 0.0049504950495049506, 0.0049504950495049506, 0.0049504950495049506, 0.0049504950495049506, 0.0049504950495049506, 0.0049504950495049506]}],\n",
       "                        {\"template\": {\"data\": {\"bar\": [{\"error_x\": {\"color\": \"#2a3f5f\"}, \"error_y\": {\"color\": \"#2a3f5f\"}, \"marker\": {\"line\": {\"color\": \"#E5ECF6\", \"width\": 0.5}}, \"type\": \"bar\"}], \"barpolar\": [{\"marker\": {\"line\": {\"color\": \"#E5ECF6\", \"width\": 0.5}}, \"type\": \"barpolar\"}], \"carpet\": [{\"aaxis\": {\"endlinecolor\": \"#2a3f5f\", \"gridcolor\": \"white\", \"linecolor\": \"white\", \"minorgridcolor\": \"white\", \"startlinecolor\": \"#2a3f5f\"}, \"baxis\": {\"endlinecolor\": \"#2a3f5f\", \"gridcolor\": \"white\", \"linecolor\": \"white\", \"minorgridcolor\": \"white\", \"startlinecolor\": \"#2a3f5f\"}, \"type\": \"carpet\"}], \"choropleth\": [{\"colorbar\": {\"outlinewidth\": 0, \"ticks\": \"\"}, \"type\": \"choropleth\"}], \"contour\": [{\"colorbar\": {\"outlinewidth\": 0, \"ticks\": \"\"}, \"colorscale\": [[0.0, \"#0d0887\"], [0.1111111111111111, \"#46039f\"], [0.2222222222222222, \"#7201a8\"], [0.3333333333333333, \"#9c179e\"], [0.4444444444444444, \"#bd3786\"], [0.5555555555555556, \"#d8576b\"], [0.6666666666666666, \"#ed7953\"], [0.7777777777777778, \"#fb9f3a\"], [0.8888888888888888, \"#fdca26\"], [1.0, \"#f0f921\"]], \"type\": \"contour\"}], \"contourcarpet\": [{\"colorbar\": {\"outlinewidth\": 0, \"ticks\": \"\"}, \"type\": \"contourcarpet\"}], \"heatmap\": [{\"colorbar\": {\"outlinewidth\": 0, \"ticks\": \"\"}, \"colorscale\": [[0.0, \"#0d0887\"], [0.1111111111111111, \"#46039f\"], [0.2222222222222222, \"#7201a8\"], [0.3333333333333333, \"#9c179e\"], [0.4444444444444444, \"#bd3786\"], [0.5555555555555556, \"#d8576b\"], [0.6666666666666666, \"#ed7953\"], [0.7777777777777778, \"#fb9f3a\"], [0.8888888888888888, \"#fdca26\"], [1.0, \"#f0f921\"]], \"type\": \"heatmap\"}], \"heatmapgl\": [{\"colorbar\": {\"outlinewidth\": 0, \"ticks\": \"\"}, \"colorscale\": [[0.0, \"#0d0887\"], [0.1111111111111111, \"#46039f\"], [0.2222222222222222, \"#7201a8\"], [0.3333333333333333, \"#9c179e\"], [0.4444444444444444, \"#bd3786\"], [0.5555555555555556, \"#d8576b\"], [0.6666666666666666, \"#ed7953\"], [0.7777777777777778, \"#fb9f3a\"], [0.8888888888888888, \"#fdca26\"], [1.0, \"#f0f921\"]], \"type\": \"heatmapgl\"}], \"histogram\": [{\"marker\": {\"colorbar\": {\"outlinewidth\": 0, \"ticks\": \"\"}}, \"type\": \"histogram\"}], \"histogram2d\": [{\"colorbar\": {\"outlinewidth\": 0, \"ticks\": \"\"}, \"colorscale\": [[0.0, \"#0d0887\"], [0.1111111111111111, \"#46039f\"], [0.2222222222222222, \"#7201a8\"], [0.3333333333333333, \"#9c179e\"], [0.4444444444444444, \"#bd3786\"], [0.5555555555555556, \"#d8576b\"], [0.6666666666666666, \"#ed7953\"], [0.7777777777777778, \"#fb9f3a\"], [0.8888888888888888, \"#fdca26\"], [1.0, \"#f0f921\"]], \"type\": \"histogram2d\"}], \"histogram2dcontour\": [{\"colorbar\": {\"outlinewidth\": 0, \"ticks\": \"\"}, \"colorscale\": [[0.0, \"#0d0887\"], [0.1111111111111111, \"#46039f\"], [0.2222222222222222, \"#7201a8\"], [0.3333333333333333, \"#9c179e\"], [0.4444444444444444, \"#bd3786\"], [0.5555555555555556, \"#d8576b\"], [0.6666666666666666, \"#ed7953\"], [0.7777777777777778, \"#fb9f3a\"], [0.8888888888888888, \"#fdca26\"], [1.0, \"#f0f921\"]], \"type\": \"histogram2dcontour\"}], \"mesh3d\": [{\"colorbar\": {\"outlinewidth\": 0, \"ticks\": \"\"}, \"type\": \"mesh3d\"}], \"parcoords\": [{\"line\": {\"colorbar\": {\"outlinewidth\": 0, \"ticks\": \"\"}}, \"type\": \"parcoords\"}], \"scatter\": [{\"marker\": {\"colorbar\": {\"outlinewidth\": 0, \"ticks\": \"\"}}, \"type\": \"scatter\"}], \"scatter3d\": [{\"line\": {\"colorbar\": {\"outlinewidth\": 0, \"ticks\": \"\"}}, \"marker\": {\"colorbar\": {\"outlinewidth\": 0, \"ticks\": \"\"}}, \"type\": \"scatter3d\"}], \"scattercarpet\": [{\"marker\": {\"colorbar\": {\"outlinewidth\": 0, \"ticks\": \"\"}}, \"type\": \"scattercarpet\"}], \"scattergeo\": [{\"marker\": {\"colorbar\": {\"outlinewidth\": 0, \"ticks\": \"\"}}, \"type\": \"scattergeo\"}], \"scattergl\": [{\"marker\": {\"colorbar\": {\"outlinewidth\": 0, \"ticks\": \"\"}}, \"type\": \"scattergl\"}], \"scattermapbox\": [{\"marker\": {\"colorbar\": {\"outlinewidth\": 0, \"ticks\": \"\"}}, \"type\": \"scattermapbox\"}], \"scatterpolar\": [{\"marker\": {\"colorbar\": {\"outlinewidth\": 0, \"ticks\": \"\"}}, \"type\": \"scatterpolar\"}], \"scatterpolargl\": [{\"marker\": {\"colorbar\": {\"outlinewidth\": 0, \"ticks\": \"\"}}, \"type\": \"scatterpolargl\"}], \"scatterternary\": [{\"marker\": {\"colorbar\": {\"outlinewidth\": 0, \"ticks\": \"\"}}, \"type\": \"scatterternary\"}], \"surface\": [{\"colorbar\": {\"outlinewidth\": 0, \"ticks\": \"\"}, \"colorscale\": [[0.0, \"#0d0887\"], [0.1111111111111111, \"#46039f\"], [0.2222222222222222, \"#7201a8\"], [0.3333333333333333, \"#9c179e\"], [0.4444444444444444, \"#bd3786\"], [0.5555555555555556, \"#d8576b\"], [0.6666666666666666, \"#ed7953\"], [0.7777777777777778, \"#fb9f3a\"], [0.8888888888888888, \"#fdca26\"], [1.0, \"#f0f921\"]], \"type\": \"surface\"}], \"table\": [{\"cells\": {\"fill\": {\"color\": \"#EBF0F8\"}, \"line\": {\"color\": \"white\"}}, \"header\": {\"fill\": {\"color\": \"#C8D4E3\"}, \"line\": {\"color\": \"white\"}}, \"type\": \"table\"}]}, \"layout\": {\"annotationdefaults\": {\"arrowcolor\": \"#2a3f5f\", \"arrowhead\": 0, \"arrowwidth\": 1}, \"colorscale\": {\"diverging\": [[0, \"#8e0152\"], [0.1, \"#c51b7d\"], [0.2, \"#de77ae\"], [0.3, \"#f1b6da\"], [0.4, \"#fde0ef\"], [0.5, \"#f7f7f7\"], [0.6, \"#e6f5d0\"], [0.7, \"#b8e186\"], [0.8, \"#7fbc41\"], [0.9, \"#4d9221\"], [1, \"#276419\"]], \"sequential\": [[0.0, \"#0d0887\"], [0.1111111111111111, \"#46039f\"], [0.2222222222222222, \"#7201a8\"], [0.3333333333333333, \"#9c179e\"], [0.4444444444444444, \"#bd3786\"], [0.5555555555555556, \"#d8576b\"], [0.6666666666666666, \"#ed7953\"], [0.7777777777777778, \"#fb9f3a\"], [0.8888888888888888, \"#fdca26\"], [1.0, \"#f0f921\"]], \"sequentialminus\": [[0.0, \"#0d0887\"], [0.1111111111111111, \"#46039f\"], [0.2222222222222222, \"#7201a8\"], [0.3333333333333333, \"#9c179e\"], [0.4444444444444444, \"#bd3786\"], [0.5555555555555556, \"#d8576b\"], [0.6666666666666666, \"#ed7953\"], [0.7777777777777778, \"#fb9f3a\"], [0.8888888888888888, \"#fdca26\"], [1.0, \"#f0f921\"]]}, \"colorway\": [\"#636efa\", \"#EF553B\", \"#00cc96\", \"#ab63fa\", \"#FFA15A\", \"#19d3f3\", \"#FF6692\", \"#B6E880\", \"#FF97FF\", \"#FECB52\"], \"font\": {\"color\": \"#2a3f5f\"}, \"geo\": {\"bgcolor\": \"white\", \"lakecolor\": \"white\", \"landcolor\": \"#E5ECF6\", \"showlakes\": true, \"showland\": true, \"subunitcolor\": \"white\"}, \"hoverlabel\": {\"align\": \"left\"}, \"hovermode\": \"closest\", \"mapbox\": {\"style\": \"light\"}, \"paper_bgcolor\": \"white\", \"plot_bgcolor\": \"#E5ECF6\", \"polar\": {\"angularaxis\": {\"gridcolor\": \"white\", \"linecolor\": \"white\", \"ticks\": \"\"}, \"bgcolor\": \"#E5ECF6\", \"radialaxis\": {\"gridcolor\": \"white\", \"linecolor\": \"white\", \"ticks\": \"\"}}, \"scene\": {\"xaxis\": {\"backgroundcolor\": \"#E5ECF6\", \"gridcolor\": \"white\", \"gridwidth\": 2, \"linecolor\": \"white\", \"showbackground\": true, \"ticks\": \"\", \"zerolinecolor\": \"white\"}, \"yaxis\": {\"backgroundcolor\": \"#E5ECF6\", \"gridcolor\": \"white\", \"gridwidth\": 2, \"linecolor\": \"white\", \"showbackground\": true, \"ticks\": \"\", \"zerolinecolor\": \"white\"}, \"zaxis\": {\"backgroundcolor\": \"#E5ECF6\", \"gridcolor\": \"white\", \"gridwidth\": 2, \"linecolor\": \"white\", \"showbackground\": true, \"ticks\": \"\", \"zerolinecolor\": \"white\"}}, \"shapedefaults\": {\"line\": {\"color\": \"#2a3f5f\"}}, \"ternary\": {\"aaxis\": {\"gridcolor\": \"white\", \"linecolor\": \"white\", \"ticks\": \"\"}, \"baxis\": {\"gridcolor\": \"white\", \"linecolor\": \"white\", \"ticks\": \"\"}, \"bgcolor\": \"#E5ECF6\", \"caxis\": {\"gridcolor\": \"white\", \"linecolor\": \"white\", \"ticks\": \"\"}}, \"title\": {\"x\": 0.05}, \"xaxis\": {\"automargin\": true, \"gridcolor\": \"white\", \"linecolor\": \"white\", \"ticks\": \"\", \"zerolinecolor\": \"white\", \"zerolinewidth\": 2}, \"yaxis\": {\"automargin\": true, \"gridcolor\": \"white\", \"linecolor\": \"white\", \"ticks\": \"\", \"zerolinecolor\": \"white\", \"zerolinewidth\": 2}}}, \"title\": {\"text\": \"ROC Curve\"}, \"xaxis\": {\"title\": {\"text\": \"FPR\"}}, \"yaxis\": {\"title\": {\"text\": \"TPR\"}}},\n",
       "                        {\"responsive\": true}\n",
       "                    ).then(function(){\n",
       "                            \n",
       "var gd = document.getElementById('20ccfc6f-f06d-47df-b91e-4a034654c7d4');\n",
       "var x = new MutationObserver(function (mutations, observer) {{\n",
       "        var display = window.getComputedStyle(gd).display;\n",
       "        if (!display || display === 'none') {{\n",
       "            console.log([gd, 'removed!']);\n",
       "            Plotly.purge(gd);\n",
       "            observer.disconnect();\n",
       "        }}\n",
       "}});\n",
       "\n",
       "// Listen for the removal of the full notebook cells\n",
       "var notebookContainer = gd.closest('#notebook-container');\n",
       "if (notebookContainer) {{\n",
       "    x.observe(notebookContainer, {childList: true});\n",
       "}}\n",
       "\n",
       "// Listen for the clearing of the current output cell\n",
       "var outputEl = gd.closest('.output');\n",
       "if (outputEl) {{\n",
       "    x.observe(outputEl, {childList: true});\n",
       "}}\n",
       "\n",
       "                        })\n",
       "                };\n",
       "                });\n",
       "            </script>\n",
       "        </div>"
      ]
     },
     "metadata": {},
     "output_type": "display_data"
    }
   ],
   "source": [
    "trace0 = go.Scatter(\n",
    "    x = fprs,\n",
    "    y = tprs,\n",
    "    text = thresholds,\n",
    "    mode='markers'\n",
    ")\n",
    "layout = dict(\n",
    "    title = \"ROC Curve\",\n",
    "    xaxis = dict(title='FPR'),\n",
    "    yaxis = dict(title='TPR')\n",
    ")\n",
    "\n",
    "data = [trace0]\n",
    "iplot(dict(data=data, layout=layout))"
   ]
  },
  {
   "cell_type": "markdown",
   "metadata": {},
   "source": [
    "### AUC: area under the curve"
   ]
  },
  {
   "cell_type": "code",
   "execution_count": 41,
   "metadata": {},
   "outputs": [
    {
     "name": "stdout",
     "output_type": "stream",
     "text": [
      "AUC =  0.9544204420442044\n"
     ]
    }
   ],
   "source": [
    "from sklearn.metrics import auc\n",
    "auc_temp = auc(fprs, tprs)\n",
    "print(\"AUC = \", auc_temp)"
   ]
  },
  {
   "cell_type": "code",
   "execution_count": null,
   "metadata": {},
   "outputs": [],
   "source": []
  }
 ],
 "metadata": {
  "kernelspec": {
   "display_name": "Python 3",
   "language": "python",
   "name": "python3"
  },
  "language_info": {
   "codemirror_mode": {
    "name": "ipython",
    "version": 3
   },
   "file_extension": ".py",
   "mimetype": "text/x-python",
   "name": "python",
   "nbconvert_exporter": "python",
   "pygments_lexer": "ipython3",
   "version": "3.6.9"
  }
 },
 "nbformat": 4,
 "nbformat_minor": 2
}
