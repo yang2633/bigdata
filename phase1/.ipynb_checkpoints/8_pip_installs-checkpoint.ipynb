{
 "cells": [
  {
   "cell_type": "code",
   "execution_count": 1,
   "metadata": {},
   "outputs": [
    {
     "name": "stdout",
     "output_type": "stream",
     "text": [
      "Collecting keras\n",
      "  Downloading https://files.pythonhosted.org/packages/44/e1/dc0757b20b56c980b5553c1b5c4c32d378c7055ab7bfa92006801ad359ab/Keras-2.4.3-py2.py3-none-any.whl\n",
      "Requirement already satisfied: numpy>=1.9.1 in /usr/local/lib/python3.6/dist-packages (from keras) (1.16.0)\n",
      "Collecting h5py (from keras)\n",
      "\u001b[?25l  Downloading https://files.pythonhosted.org/packages/70/7a/e53e500335afb6b1aade11227cdf107fca54106a1dca5c9d13242a043f3b/h5py-3.1.0-cp36-cp36m-manylinux1_x86_64.whl (4.0MB)\n",
      "\u001b[K    100% |████████████████████████████████| 4.0MB 1.2MB/s ta 0:00:01\n",
      "\u001b[?25hRequirement already satisfied: pyyaml in /usr/lib/python3/dist-packages (from keras) (3.12)\n",
      "Requirement already satisfied: scipy>=0.14 in /usr/local/lib/python3.6/dist-packages (from keras) (1.2.0)\n",
      "Collecting cached-property; python_version < \"3.8\" (from h5py->keras)\n",
      "  Downloading https://files.pythonhosted.org/packages/48/19/f2090f7dad41e225c7f2326e4cfe6fff49e57dedb5b53636c9551f86b069/cached_property-1.5.2-py2.py3-none-any.whl\n",
      "Installing collected packages: cached-property, h5py, keras\n",
      "Successfully installed cached-property-1.5.2 h5py-3.1.0 keras-2.4.3\n",
      "\u001b[33mYou are using pip version 19.0.1, however version 20.3b1 is available.\n",
      "You should consider upgrading via the 'pip install --upgrade pip' command.\u001b[0m\n"
     ]
    }
   ],
   "source": [
    "!pip install --user keras"
   ]
  },
  {
   "cell_type": "code",
   "execution_count": null,
   "metadata": {
    "scrolled": true
   },
   "outputs": [
    {
     "name": "stdout",
     "output_type": "stream",
     "text": [
      "Collecting tensorflow\n",
      "\u001b[?25l  Downloading https://files.pythonhosted.org/packages/ad/ad/769c195c72ac72040635c66cd9ba7b0f4b4fc1ac67e59b99fa6988446c22/tensorflow-2.3.1-cp36-cp36m-manylinux2010_x86_64.whl (320.4MB)\n",
      "\u001b[K    83% |██████████████████████████▊     | 267.4MB 2.8MB/s eta 0:00:204  10% |███▌                            | 34.7MB 2.9MB/s eta 0:01:41    14% |████▋                           | 45.7MB 2.1MB/s eta 0:02:12    24% |███████▉                        | 77.9MB 3.2MB/s eta 0:01:17    72% |███████████████████████▎        | 232.6MB 3.1MB/s eta 0:00:29"
     ]
    }
   ],
   "source": [
    "!pip install --user tensorflow"
   ]
  },
  {
   "cell_type": "code",
   "execution_count": 4,
   "metadata": {},
   "outputs": [
    {
     "name": "stdout",
     "output_type": "stream",
     "text": [
      "Requirement already satisfied: plotly in /users/PAS1585/yang2633/.local/lib/python3.6/site-packages (3.6.1)\n",
      "Requirement already satisfied: pytz in /apps/project/ondemand/python/3.6-conda5.2/lib/python3.6/site-packages (from plotly) (2018.5)\n",
      "Requirement already satisfied: decorator>=4.0.6 in /apps/project/ondemand/python/3.6-conda5.2/lib/python3.6/site-packages (from plotly) (4.3.0)\n",
      "Requirement already satisfied: six in /apps/project/ondemand/python/3.6-conda5.2/lib/python3.6/site-packages (from plotly) (1.11.0)\n",
      "Requirement already satisfied: requests in /apps/project/ondemand/python/3.6-conda5.2/lib/python3.6/site-packages (from plotly) (2.19.1)\n",
      "Requirement already satisfied: nbformat>=4.2 in /apps/project/ondemand/python/3.6-conda5.2/lib/python3.6/site-packages (from plotly) (4.4.0)\n",
      "Requirement already satisfied: retrying>=1.3.3 in /users/PAS1585/yang2633/.local/lib/python3.6/site-packages (from plotly) (1.3.3)\n",
      "Requirement already satisfied: idna<2.8,>=2.5 in /apps/project/ondemand/python/3.6-conda5.2/lib/python3.6/site-packages (from requests->plotly) (2.7)\n",
      "Requirement already satisfied: urllib3<1.24,>=1.21.1 in /apps/project/ondemand/python/3.6-conda5.2/lib/python3.6/site-packages (from requests->plotly) (1.23)\n",
      "Requirement already satisfied: certifi>=2017.4.17 in /apps/project/ondemand/python/3.6-conda5.2/lib/python3.6/site-packages (from requests->plotly) (2018.8.24)\n",
      "Requirement already satisfied: chardet<3.1.0,>=3.0.2 in /apps/project/ondemand/python/3.6-conda5.2/lib/python3.6/site-packages (from requests->plotly) (3.0.4)\n",
      "Requirement already satisfied: jupyter-core in /apps/project/ondemand/python/3.6-conda5.2/lib/python3.6/site-packages (from nbformat>=4.2->plotly) (4.4.0)\n",
      "Requirement already satisfied: traitlets>=4.1 in /apps/project/ondemand/python/3.6-conda5.2/lib/python3.6/site-packages (from nbformat>=4.2->plotly) (4.3.2)\n",
      "Requirement already satisfied: jsonschema!=2.5.0,>=2.4 in /apps/project/ondemand/python/3.6-conda5.2/lib/python3.6/site-packages (from nbformat>=4.2->plotly) (2.6.0)\n",
      "Requirement already satisfied: ipython-genutils in /apps/project/ondemand/python/3.6-conda5.2/lib/python3.6/site-packages (from nbformat>=4.2->plotly) (0.2.0)\n",
      "\u001b[33mYou are using pip version 10.0.1, however version 19.2.3 is available.\n",
      "You should consider upgrading via the 'pip install --upgrade pip' command.\u001b[0m\n"
     ]
    }
   ],
   "source": [
    "!pip install --user plotly"
   ]
  },
  {
   "cell_type": "code",
   "execution_count": null,
   "metadata": {},
   "outputs": [],
   "source": []
  }
 ],
 "metadata": {
  "kernelspec": {
   "display_name": "Python 3",
   "language": "python",
   "name": "python3"
  },
  "language_info": {
   "codemirror_mode": {
    "name": "ipython",
    "version": 3
   },
   "file_extension": ".py",
   "mimetype": "text/x-python",
   "name": "python",
   "nbconvert_exporter": "python",
   "pygments_lexer": "ipython3",
   "version": "3.6.9"
  }
 },
 "nbformat": 4,
 "nbformat_minor": 2
}
