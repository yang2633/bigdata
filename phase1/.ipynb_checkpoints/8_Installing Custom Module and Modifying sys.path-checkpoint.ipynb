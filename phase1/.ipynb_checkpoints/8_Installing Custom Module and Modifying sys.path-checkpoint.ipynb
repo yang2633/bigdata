{
 "cells": [
  {
   "cell_type": "markdown",
   "metadata": {},
   "source": [
    "# Using Pip From Code\n",
    "\n",
    "It is possible to run Pip from code by importing it, and calling its main method. Note that the site packages may depend on a number of things including if the user has a Python startup file, their Bash startup files, and what version of Python is running in the IPython kernel to name a few."
   ]
  },
  {
   "cell_type": "code",
   "execution_count": 1,
   "metadata": {},
   "outputs": [
    {
     "name": "stdout",
     "output_type": "stream",
     "text": [
      "Requirement already satisfied: sh in ./.local/lib/python3.6/site-packages\n"
     ]
    },
    {
     "name": "stderr",
     "output_type": "stream",
     "text": [
      "You are using pip version 9.0.1, however version 19.0.2 is available.\n",
      "You should consider upgrading via the 'pip install --upgrade pip' command.\n"
     ]
    },
    {
     "data": {
      "text/plain": [
       "0"
      ]
     },
     "execution_count": 1,
     "metadata": {},
     "output_type": "execute_result"
    }
   ],
   "source": [
    "# Demonstrate using pip to install something to the user's ~/.local/lib/python{version}/site-packages\n",
    "import pip\n",
    "# Note multiple modules could be installed at the same time\n",
    "#   sh is a handy subprocess launching module, that is \n",
    "pip.main(['install', '--user', 'sh'])"
   ]
  },
  {
   "cell_type": "code",
   "execution_count": 2,
   "metadata": {},
   "outputs": [
    {
     "name": "stdout",
     "output_type": "stream",
     "text": [
      "<Command '/bin/ls -ltr'>: starting process\n",
      "<Command '/bin/ls -ltr', pid 169465>: process started\n",
      "<Command '/bin/ls -ltr', pid 169465>: process completed\n",
      "<Command '/bin/ls -ltr', pid 169465>: process completed\n",
      "<Command '/bin/ls -ltr', pid 169465>: process completed\n"
     ]
    },
    {
     "data": {
      "text/plain": [
       "total 140\n",
       "drwxr-xr-x 11 mrodgers PZS0714 4096 Jun  6  2018 go\n",
       "drwxr-xr-x  5 mrodgers PZS0714 4096 Jun 27  2018 awesim\n",
       "drwxr-xr-x  2 mrodgers PZS0714 4096 Jul  5  2018 Downloads\n",
       "drwxr-xr-x  2 mrodgers PZS0714 4096 Jul  5  2018 Templates\n",
       "drwxr-xr-x  2 mrodgers PZS0714 4096 Jul  5  2018 Public\n",
       "drwxr-xr-x  2 mrodgers PZS0714 4096 Jul  5  2018 Music\n",
       "drwxr-xr-x  2 mrodgers PZS0714 4096 Jul  5  2018 Pictures\n",
       "drwxr-xr-x  2 mrodgers PZS0714 4096 Jul  5  2018 Videos\n",
       "drwxr-xr-x  3 mrodgers PZS0714 4096 Jul 17  2018 R\n",
       "drwxr-xr-x  2 mrodgers PZS0714 4096 Jul 24  2018 FluentTest\n",
       "drwxr-xr-x  3 mrodgers PZS0714 4096 Aug 13  2018 cronjobs\n",
       "drwxr-xr-x  3 mrodgers PZS0714 4096 Sep 17 11:01 GatewaysJupyterDemo\n",
       "drwxr-xr-x  3 mrodgers PZS0714 4096 Nov 16 10:47 Documents\n",
       "drwxr-xr-x  2 mrodgers PZS0714 4096 Nov 28 10:42 Archives\n",
       "-rw-r--r--  1 mrodgers PZS0714 2744 Dec  5 14:35 owens_config.yaml\n",
       "lrwxrwxrwx  1 mrodgers PZS0714    5 Dec 18 12:55 etc -> /etc/\n",
       "-rw-r--r--  1 mrodgers PZS0714 5386 Jan  4 10:37 custom_py3k.tgz\n",
       "drwxr-xr-x  4 mrodgers PZS0714 8192 Jan  9 15:38 job_array_tests\n",
       "drwxr-xr-x  2 mrodgers PZS0714 4096 Jan 11 14:21 foo\n",
       "drwxr-xr-x  2 mrodgers PZS0714 4096 Jan 16 14:57 Render\n",
       "drwxr-xr-x  3 mrodgers PZS0714 4096 Jan 22 09:28 opt\n",
       "drwxr-xr-x  2 mrodgers PZS0714 4096 Jan 23 12:06 Desktop\n",
       "drwxr-xr-x  2 mrodgers PZS0714 4096 Jan 25 13:23 bin\n",
       "drwxr-xr-x  2 mrodgers PZS0714 4096 Jan 31 14:18 singularity\n",
       "drwxr-xr-x  2 mrodgers PZS0714 4096 Feb  4 16:02 blender-benchmark\n",
       "drwxr-xr-x  6 mrodgers PZS0714 4096 Feb  5 17:29 maya\n",
       "drwxr-x---  2 mrodgers PZS0714 4096 Feb  5 17:29 Adlm\n",
       "drwxr-xr-x  2 mrodgers PZS0714 4096 Feb  8 16:51 tmp\n",
       "drwxr-xr-x  5 mrodgers PZS0714 4096 Feb 12 11:03 TestData\n",
       "drwxr-xr-x  5 mrodgers PZS0714 4096 Feb 13 11:39 ondemand\n",
       "drwxr-xr-x 57 mrodgers PZS0714 8192 Feb 13 13:54 dev\n",
       "drwxr-xr-x  3 mrodgers PZS0714 4096 Feb 18 12:08 my_mod\n",
       "-rw-r--r--  1 mrodgers PZS0714 2573 Feb 18 12:11 Untitled.ipynb"
      ]
     },
     "execution_count": 2,
     "metadata": {},
     "output_type": "execute_result"
    }
   ],
   "source": [
    "# ...and import and do something with that library\n",
    "from sh import ls\n",
    "ls('-ltr')"
   ]
  },
  {
   "cell_type": "markdown",
   "metadata": {},
   "source": [
    "# An Alternative: Use sys.path\n",
    "\n",
    "Let's say that instead of requiring users to install their own modules, and potentially having problems with that process, we wanted to present them with already installed modules? Without admin access to the machine it is impossible to add those modules to the default search path, but it is possible to add new locations to the search path.\n",
    "\n",
    "For example I might have a useful Python module named `my_mod` in the root of my `$HOME` containing a function named `do_something_useful`."
   ]
  },
  {
   "cell_type": "code",
   "execution_count": 3,
   "metadata": {},
   "outputs": [
    {
     "name": "stdout",
     "output_type": "stream",
     "text": [
      "Before altering sys.path ['', '/usr/local/anaconda5/lib/python36.zip', '/usr/local/anaconda5/lib/python3.6', '/usr/local/anaconda5/lib/python3.6/lib-dynload', '/users/PZS0002/mrodgers/.local/lib/python3.6/site-packages', '/usr/local/anaconda5/lib/python3.6/site-packages', '/users/PZS0002/mrodgers/.local/lib/python3.6/site-packages/IPython/extensions', '/users/PZS0002/mrodgers/.ipython']\n",
      "After altering sys.path ['', '/usr/local/anaconda5/lib/python36.zip', '/usr/local/anaconda5/lib/python3.6', '/usr/local/anaconda5/lib/python3.6/lib-dynload', '/users/PZS0002/mrodgers/.local/lib/python3.6/site-packages', '/usr/local/anaconda5/lib/python3.6/site-packages', '/users/PZS0002/mrodgers/.local/lib/python3.6/site-packages/IPython/extensions', '/users/PZS0002/mrodgers/.ipython', '/users/PZS0002/mrodgers']\n"
     ]
    }
   ],
   "source": [
    "import sys\n",
    "print('Before altering sys.path', sys.path)\n",
    "sys.path.append('/users/PZS0002/mrodgers')\n",
    "print('After altering sys.path', sys.path)"
   ]
  },
  {
   "cell_type": "markdown",
   "metadata": {},
   "source": [
    "## Warning\n",
    "\n",
    "Do not forget that sharing modules requires changes to file and directory permissions."
   ]
  },
  {
   "cell_type": "code",
   "execution_count": 4,
   "metadata": {},
   "outputs": [
    {
     "name": "stdout",
     "output_type": "stream",
     "text": [
      "Profit!\n"
     ]
    }
   ],
   "source": [
    "from my_mod import do_something_useful\n",
    "do_something_useful()\n"
   ]
  },
  {
   "cell_type": "code",
   "execution_count": null,
   "metadata": {},
   "outputs": [],
   "source": []
  }
 ],
 "metadata": {
  "kernelspec": {
   "display_name": "Python 3",
   "language": "python",
   "name": "python3"
  },
  "language_info": {
   "codemirror_mode": {
    "name": "ipython",
    "version": 3
   },
   "file_extension": ".py",
   "mimetype": "text/x-python",
   "name": "python",
   "nbconvert_exporter": "python",
   "pygments_lexer": "ipython3",
   "version": "3.6.9"
  }
 },
 "nbformat": 4,
 "nbformat_minor": 2
}
